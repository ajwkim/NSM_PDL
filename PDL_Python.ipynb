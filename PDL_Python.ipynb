{
  "nbformat": 4,
  "nbformat_minor": 0,
  "metadata": {
    "colab": {
      "provenance": [],
      "toc_visible": true
    },
    "kernelspec": {
      "name": "python3",
      "display_name": "Python 3"
    },
    "language_info": {
      "name": "python"
    }
  },
  "cells": [
    {
      "cell_type": "markdown",
      "source": [
        "# Python 인공지능 연구 동호회\n",
        "## 배경 및 필요성\n",
        "- Python은 Guido van Rossum(네덜란드 소프트웨어 엔지니어)이 개발, 1991년 공개, 이후 2008년 Python3로 발전\n",
        "- 간결하고 쉽고 일관된(consistent: Pythonic) 문법의 객체(object) 지향, 인터프리터 언어\n",
        "- open source 정신으로 방대한 외부 패키지가 구축되어 있으며, 활용 용이: Deep Learning(DL) 관련 패키지들(구글의 Tensorflow, Meta의 Pytorch 등)이 잘 갖춰져 있음 -> DL 시작에 이상적 언어\n",
        "- 프로그램 개발자의 코딩 시간 비용(고급인력 인건비) 문제가 점점 중요해지고, 개발자는 3:7의 비율로 쓰기:읽기에 시간을 보낸다는 조사 결과 -> 읽기 쉬운 코드 짜기!\n",
        "- DL 기법은 ImageNet의 이미지 인식 대회에서 2012년 압도적으로 우승(Geoffrey Hinton, AlexNet)한 이후 ML계의 주류로 각광 받기 시작한 이래, 최근 chatGPT 등을 통해 대중의 폭발적 관심을 얻고 있음\n",
        "- 딥러닝을 활용한 강화학습(RL: Reinforcement Learning)은 이세돌과 AlphaGo 바둑 대결(2016년)을 통해 그간 불가능하게 여겨졌던 바둑 분야에서 인공지능이 인간 능력을 압도할 수 있음을 입증했으며, 비록 훈련과 실제 적용에 까다로움이 있으나 rule 학습을 할 수 있는 인공지능으로 각광받고 있음\n",
        "- 패턴 학습을 위한 딥러닝(DL)과 rule 학습을 위한 강화학습(DRL)의 원리 이해와 실제 구현을 위해, 가장 쉽고 접근성이 뛰어난 Python 언어의 기초부터 필요한 부분만 shortcut 학습/경험 공유하고, 점진적으로 지식/경험의 폭을 넓힘\n",
        "\n",
        "## 연구 환경 및 목표\n",
        "### 연구 환경\n",
        "- wifi 등 인터넷 환경, 개인 노트북(인터넷 접속 가능, 고사양 필요 없음), 구글 계정(colab 사용), Python 입문서(제공)\n",
        "\n",
        "### 동호회 가입 자격\n",
        "- Python 코딩과 AI에 관심있는 누구나\n",
        "\n",
        "### 연구 목표\n",
        "1. DL(패턴 학습: 이미지, 문장 등)과 RL(rule 학습) 이해에서 직접 구현/응용까지를 목표로, 필요한 Python 언어와 패키지(Pytorch 등)의 최소 깊이 학습 -> 정확한 개념 -> 향후 확장 가능성\n",
        "2. 추가적으로 가능하다면, 보다 깊이있는 이해와 구현을 위해\n",
        "    - Python 고급 과정: 당장 필요하지는 않으나, 보다 효율적이고 깊이있는 구현\n",
        "    - 딥러닝의 한계 극복: 설명 가능 AI 등\n",
        "    - 일반 인공지능(AGI) 연구\n",
        "    - Quantum computing 등에 대한 고민 : 근본적 병렬 컴퓨팅\n",
        "\n",
        "### 진행 방식\n",
        "- 격주 화요일 점심(12:00~13:00) 모임, 필요시 심도있는 토론을 위해 만찬 모임\n",
        "- 제공되는 전체 학습 목차에 따라 개별 입문서 예습 후 점심 모임에서 주요사항 짚기, 또는 점심 모임의 주요사항을 개별적으로 입문서를 보며 복습 : 동호회 의견에 띠리 유동적으로 조정"
      ],
      "metadata": {
        "id": "nvuWL6cXkkaX"
      }
    },
    {
      "cell_type": "code",
      "source": [],
      "metadata": {
        "id": "dsBXVuNlnzXZ"
      },
      "execution_count": null,
      "outputs": []
    },
    {
      "cell_type": "markdown",
      "source": [
        "# Python 환경 설정\n",
        "- Google colab: 무료, 파이썬 환경과 CPU/GPU/TPU 등 사용 가능. 그러나 중요한 파일은 별도 저장해야 하고, 세션 연결이 불안정할 수 있음\n",
        "    - colab.research.google.com 접속(또는 구글에서 colab 검색)\n",
        "        - shift enter: 셀 실행\n",
        "        - alt/option enter: 셀 실행 + 아래 빈 셀 만들기\n",
        "- 또는 local 가상환경을 만들어 내 컴에서 실행: Anaconda 등 가상환경 관리자 설치, vscode 등 편집기(IDE) 설치, 개인 컴퓨터 사양에 따라 DL 속도 좌우\n",
        "    - 가상환경 관리자는 Anaconda, venv 등 몇 가지 종류가 있으며 초보자의 경우 Anaconda 사용(anaconda.org)\n",
        "    - 최근 poetry라는 가상환경 관리자가 각광받고 있음(python-poetry.org)"
      ],
      "metadata": {
        "id": "piMQN-1nm8sv"
      }
    },
    {
      "cell_type": "code",
      "source": [],
      "metadata": {
        "id": "vgQMcsGHn1N6"
      },
      "execution_count": null,
      "outputs": []
    },
    {
      "cell_type": "markdown",
      "source": [
        "# Python 기초 프로그래밍"
      ],
      "metadata": {
        "id": "cLJ1lVTwJc4D"
      }
    },
    {
      "cell_type": "markdown",
      "source": [
        "- 파일명.py    : 파이썬 스크립트 파일, 실행 가능: >python 파일명.py\n",
        "- 파일명.ipynb : Jupyter notebook 파일. 코드와 실행 결과를 하나의 노트북에서 확인"
      ],
      "metadata": {
        "id": "nmvVFICMoKPV"
      }
    },
    {
      "cell_type": "code",
      "source": [
        "from IPython.core.interactiveshell import InteractiveShell\n",
        "InteractiveShell.ast_node_interactivity = 'all'             # 셀 내 모든 값 프린트, 기본은 'last_expr'"
      ],
      "metadata": {
        "id": "lYeo-cO3ztQU"
      },
      "execution_count": null,
      "outputs": []
    },
    {
      "cell_type": "code",
      "source": [
        "# python version 확인: python3(2008년, 하위 호환X)\n",
        "\n",
        "import sys          # 표준 라이브러리 sys\n",
        "sys.version         # sys의 version 속성"
      ],
      "metadata": {
        "id": "qfwq7TXW2Tzp"
      },
      "execution_count": null,
      "outputs": []
    },
    {
      "cell_type": "code",
      "source": [
        "# python reference\n",
        "\n",
        "# 공식 홈: docs.python.org/3/search.html\n",
        "# google/naver 검색: python ~\n",
        "# help(~), ~?, ?~\n",
        "\n",
        "# help(sum)\n",
        "# ?sum\n",
        "sum?"
      ],
      "metadata": {
        "id": "vf9Y4t122YwW"
      },
      "execution_count": null,
      "outputs": []
    },
    {
      "cell_type": "code",
      "source": [
        "# 외부 패키지(라이브러리) 검색: pypi.org 또는 anaconda.org\n",
        "\n",
        "# 유용한 사이트:\n",
        "# - codingdojang.com: 난이도순, 직접 풀어본 후 python 풀이 참고\n",
        "# - wikidocs.net: 무료 ebook\n",
        "# - kaggle.com/competitions"
      ],
      "metadata": {
        "id": "2hVjW_tB23sC"
      },
      "execution_count": null,
      "outputs": []
    },
    {
      "cell_type": "markdown",
      "source": [
        "## 기초 문법"
      ],
      "metadata": {
        "id": "9ly9T-Oi0Bip"
      }
    },
    {
      "cell_type": "code",
      "source": [
        "# 대소문자 구분\n",
        "\n",
        "a = 1\n",
        "A = 2\n",
        "a\n",
        "A"
      ],
      "metadata": {
        "id": "o6QLGuLNz_Rq"
      },
      "execution_count": null,
      "outputs": []
    },
    {
      "cell_type": "code",
      "source": [
        "# (블록은 4칸 indentation(엄격))\n",
        "# 세미콜론 안씀. 두 줄 이상을 한 줄에 쓰는 이상한 경우에만\n",
        "\n",
        "a = 1; A = 2\n",
        "a\n",
        "A"
      ],
      "metadata": {
        "id": "mYMH7UbS0Ksl"
      },
      "execution_count": null,
      "outputs": []
    },
    {
      "cell_type": "code",
      "source": [
        "# 주석(comment) : #, ctrl/command /\n",
        "\n",
        "# a = 1"
      ],
      "metadata": {
        "id": "dE7OJpS30Vav"
      },
      "execution_count": null,
      "outputs": []
    },
    {
      "cell_type": "code",
      "source": [
        "# 변수(객체)명\n",
        "#   문자(_ 포함)부터 시작, 문자와 숫자 사용 가능, 대소문자 구분\n",
        "#   사용불가 : 특수문자(+-/$@&% 등), 파이썬 키워드(if for while and or 등)\n",
        "\n",
        "# a, a2, a2c, _a, __a, a_, _a_"
      ],
      "metadata": {
        "id": "qHJoEEVw0v-8"
      },
      "execution_count": null,
      "outputs": []
    },
    {
      "cell_type": "code",
      "source": [
        "# 변수에 객체(object) 할당(assignment operator =)\n",
        "\n",
        "a = 1       # type 지정 필요 없음\n",
        "            # object(RHS) is evaluated & created before the assignment operation\n",
        "            # label 'a' is attached(bound) to the object\n",
        "b = a       # attaches label 'b' to the object that already has the label 'a'\n",
        "            # object 1 is copied\n",
        "\n",
        "x = y = z = 1_0000      # 10000, 1_0000\n",
        "\n",
        "x = 10\n",
        "y = 20\n",
        "# tmp = x\n",
        "# x = y\n",
        "# y = tmp\n",
        "\n",
        "x, y = y, x         # 두 변수의 값 서로 바꾸기 : tuple/iterable unpacking\n",
        "\n",
        "a\n",
        "b\n",
        "x\n",
        "y"
      ],
      "metadata": {
        "id": "ozN_a9YF07zy"
      },
      "execution_count": null,
      "outputs": []
    },
    {
      "cell_type": "code",
      "source": [
        "# 변수 지우기\n",
        "\n",
        "del a\n",
        "del b, x, y, z\n",
        "\n",
        "# 변수를 지우면 객체에 대한 reference가 사라짐 ->\n",
        "# garbage collector : reference가 하나도 없는 객체는 삭제됨"
      ],
      "metadata": {
        "id": "4IMF8nWE1g_L"
      },
      "execution_count": null,
      "outputs": []
    },
    {
      "cell_type": "code",
      "source": [
        "a"
      ],
      "metadata": {
        "id": "BFjdeBkGjImU"
      },
      "execution_count": null,
      "outputs": []
    },
    {
      "cell_type": "code",
      "source": [
        "# Hello, world!\n",
        "\n",
        "print('Hello, world!')      # print(객체)\n",
        "                            # print(객체1, 객체2, ...)\n",
        "                            # print(객체1[, ...], sep=' ', end='\\n')"
      ],
      "metadata": {
        "id": "HQA-CQll1b2K"
      },
      "execution_count": null,
      "outputs": []
    },
    {
      "cell_type": "code",
      "source": [
        "a = 'Hello, '\n",
        "b = 'World'\n",
        "a + b\n",
        "\n",
        "a = 1\n",
        "b = 2\n",
        "a + b"
      ],
      "metadata": {
        "id": "An6H1kXxnqJy"
      },
      "execution_count": null,
      "outputs": []
    },
    {
      "cell_type": "code",
      "source": [
        "help(print)\n",
        "print?"
      ],
      "metadata": {
        "id": "YLEB-ugT3iqc"
      },
      "execution_count": null,
      "outputs": []
    },
    {
      "cell_type": "code",
      "source": [
        "a, b, c = 1, 2, 3\n",
        "\n",
        "print(a, b, sep='_', end='')\n",
        "print(b, c)"
      ],
      "metadata": {
        "id": "n-JuuaRiw0oN"
      },
      "execution_count": null,
      "outputs": []
    },
    {
      "cell_type": "markdown",
      "source": [
        "## 기초 자료형: int, float, str, bool"
      ],
      "metadata": {
        "id": "Oto5l_-GJ2zT"
      }
    },
    {
      "cell_type": "markdown",
      "source": [
        "### int\n",
        "- 숫자에 '.'이 없음"
      ],
      "metadata": {
        "id": "wrI3N_Fd4VKi"
      }
    },
    {
      "cell_type": "code",
      "source": [
        "x = 1\n",
        "\n",
        "type(x)"
      ],
      "metadata": {
        "id": "gYWTMMIdMUHC"
      },
      "execution_count": null,
      "outputs": []
    },
    {
      "cell_type": "code",
      "source": [
        "x = 123456789123456789      # 아무리 큰 수라도 가능: long type, unsigned 등 구분 없음\n",
        "x"
      ],
      "metadata": {
        "id": "aqeNYpxQzAIa"
      },
      "execution_count": null,
      "outputs": []
    },
    {
      "cell_type": "markdown",
      "source": [
        "### float\n",
        "- 숫자에 '.'이 있음"
      ],
      "metadata": {
        "id": "l9Ehr5PQ4aaI"
      }
    },
    {
      "cell_type": "code",
      "source": [
        "x = 1.\n",
        "type(x)"
      ],
      "metadata": {
        "id": "vISGUx02NPz-"
      },
      "execution_count": null,
      "outputs": []
    },
    {
      "cell_type": "code",
      "source": [
        "type(0.0)\n",
        "type(0.)\n",
        "type(.0)"
      ],
      "metadata": {
        "id": "sarER1Co4eda"
      },
      "execution_count": null,
      "outputs": []
    },
    {
      "cell_type": "code",
      "source": [
        ".335 + .1           # 64-bit double precision\n",
        "                    # 금융 등 소수점 정확도가 중요한 분야에서는 decimal.Decimal 사용(고급)"
      ],
      "metadata": {
        "id": "KFA-nsQQ4jYG"
      },
      "execution_count": null,
      "outputs": []
    },
    {
      "cell_type": "markdown",
      "source": [
        "### str : Immutable Sequence"
      ],
      "metadata": {
        "id": "9OUWz-yJ48Wi"
      }
    },
    {
      "cell_type": "code",
      "source": [
        "\"zzzz\""
      ],
      "metadata": {
        "id": "-59ida_QlVlN"
      },
      "execution_count": null,
      "outputs": []
    },
    {
      "cell_type": "code",
      "source": [
        "x = '123abc'         # \"\", '''~''', \\'\n",
        "type(x)"
      ],
      "metadata": {
        "id": "_ISjEE_APV0F"
      },
      "execution_count": null,
      "outputs": []
    },
    {
      "cell_type": "code",
      "source": [
        "\"abc\"\n",
        "'a\"b\"c'\n",
        "\"a'b'c\"\n",
        "# 'a\\'b\\'c'"
      ],
      "metadata": {
        "id": "6Km5sTQo5C4R"
      },
      "execution_count": null,
      "outputs": []
    },
    {
      "cell_type": "code",
      "source": [
        "'''여러 줄\n",
        "str'''\n",
        "\n",
        "\"\"\"여러 줄\n",
        "'str'\"\"\""
      ],
      "metadata": {
        "id": "R5N7v26u5UNL"
      },
      "execution_count": null,
      "outputs": []
    },
    {
      "cell_type": "code",
      "source": [
        "'파이선' * 3\n",
        "3 * '파이선'"
      ],
      "metadata": {
        "id": "4r79U50ElqU8"
      },
      "execution_count": null,
      "outputs": []
    },
    {
      "cell_type": "code",
      "source": [
        "'ABC' + 'ABC'\n",
        "'ABC' * 2"
      ],
      "metadata": {
        "id": "0wBxUh35l7QA"
      },
      "execution_count": null,
      "outputs": []
    },
    {
      "cell_type": "markdown",
      "source": [
        "### bool"
      ],
      "metadata": {
        "id": "W97G7fgl5fX4"
      }
    },
    {
      "cell_type": "code",
      "source": [
        "True\n",
        "False\n",
        "\n",
        "x = True\n",
        "type(x)"
      ],
      "metadata": {
        "id": "yG1FUtvmWmMi"
      },
      "execution_count": null,
      "outputs": []
    },
    {
      "cell_type": "code",
      "source": [
        "5 >= 10  # OPERATOR"
      ],
      "metadata": {
        "id": "dsSnTEQumWBT"
      },
      "execution_count": null,
      "outputs": []
    },
    {
      "cell_type": "code",
      "source": [
        "5 <= 10"
      ],
      "metadata": {
        "id": "a3FC9w0xmerx"
      },
      "execution_count": null,
      "outputs": []
    },
    {
      "cell_type": "code",
      "source": [
        "# not, and, or\n",
        "\n",
        "not True\n",
        "not False"
      ],
      "metadata": {
        "id": "by5Nv8R0mo3S"
      },
      "execution_count": null,
      "outputs": []
    },
    {
      "cell_type": "code",
      "source": [
        "True and False"
      ],
      "metadata": {
        "id": "drCEyW4Wmy7L"
      },
      "execution_count": null,
      "outputs": []
    },
    {
      "cell_type": "code",
      "source": [
        "True or False"
      ],
      "metadata": {
        "id": "Zi8kad3mm3Ix"
      },
      "execution_count": null,
      "outputs": []
    },
    {
      "cell_type": "code",
      "source": [
        "not ( 5 > 10)"
      ],
      "metadata": {
        "id": "0nY_QJqnnAY5"
      },
      "execution_count": null,
      "outputs": []
    },
    {
      "cell_type": "code",
      "source": [],
      "metadata": {
        "id": "Rf9OHyc2nOap"
      },
      "execution_count": null,
      "outputs": []
    },
    {
      "cell_type": "markdown",
      "source": [
        "### type casting"
      ],
      "metadata": {
        "id": "BzUZP78w5y82"
      }
    },
    {
      "cell_type": "code",
      "source": [
        "int('10')\n",
        "int(1.9)    # 버림\n",
        "int(-1.9)"
      ],
      "metadata": {
        "id": "KK7qeICa5rBC"
      },
      "execution_count": null,
      "outputs": []
    },
    {
      "cell_type": "code",
      "source": [
        "float(1)\n",
        "float('10.2')\n",
        "int(float('10.2'))"
      ],
      "metadata": {
        "id": "N5qf8abD56BH"
      },
      "execution_count": null,
      "outputs": []
    },
    {
      "cell_type": "code",
      "source": [
        "str(2)\n",
        "str(2.0)"
      ],
      "metadata": {
        "id": "kH7ph1MM61nD"
      },
      "execution_count": null,
      "outputs": []
    },
    {
      "cell_type": "code",
      "source": [
        "int(True)\n",
        "float(True)\n",
        "int(False)\n",
        "float(False)"
      ],
      "metadata": {
        "id": "YPO4yhlI6AY5"
      },
      "execution_count": null,
      "outputs": []
    },
    {
      "cell_type": "code",
      "source": [
        "bool(0)         # 0, 0., '' -> False\n",
        "bool(-2)        # 나머지 다   -> True"
      ],
      "metadata": {
        "id": "FUt-9uA06Nk5"
      },
      "execution_count": null,
      "outputs": []
    },
    {
      "cell_type": "markdown",
      "source": [
        "### None"
      ],
      "metadata": {
        "id": "RT6Oy6ox_sWS"
      }
    },
    {
      "cell_type": "code",
      "source": [
        "x = None\n",
        "x\n",
        "type(x)\n",
        "bool(x)         # 0, 0., '', None -> False"
      ],
      "metadata": {
        "id": "_nLqZEDD_txi"
      },
      "execution_count": null,
      "outputs": []
    },
    {
      "cell_type": "markdown",
      "source": [
        "### isinstance"
      ],
      "metadata": {
        "id": "Uikxd-TA6i2O"
      }
    },
    {
      "cell_type": "code",
      "source": [
        "int()"
      ],
      "metadata": {
        "id": "uwGFiZ6z7CsA"
      },
      "execution_count": null,
      "outputs": []
    },
    {
      "cell_type": "code",
      "source": [
        "float()"
      ],
      "metadata": {
        "id": "pltsTYCQ7EUU"
      },
      "execution_count": null,
      "outputs": []
    },
    {
      "cell_type": "code",
      "source": [
        "str()"
      ],
      "metadata": {
        "id": "oPiHj15z7E4X"
      },
      "execution_count": null,
      "outputs": []
    },
    {
      "cell_type": "code",
      "source": [
        "bool()"
      ],
      "metadata": {
        "id": "RQuLXC6v7Fk6"
      },
      "execution_count": null,
      "outputs": []
    },
    {
      "cell_type": "code",
      "source": [
        "# int, float, str, bool 등은 실제로는 class\n",
        "\n",
        "# class ~ 규격화된 객체(정수, 부동소수점, 문자열, 불리언 등)를 만들어내는 factory : 속성과 메서드를 가짐"
      ],
      "metadata": {
        "id": "weO3YwzU7GQG"
      },
      "execution_count": null,
      "outputs": []
    },
    {
      "cell_type": "code",
      "source": [
        "# isinstance(객체, 클래스)\n",
        "\n",
        "isinstance(1, int)"
      ],
      "metadata": {
        "id": "_Slc0kWv6Urg"
      },
      "execution_count": null,
      "outputs": []
    },
    {
      "cell_type": "code",
      "source": [
        "isinstance(1, bool)"
      ],
      "metadata": {
        "id": "hOr9VXAv6koN"
      },
      "execution_count": null,
      "outputs": []
    },
    {
      "cell_type": "code",
      "source": [
        "# Almost everything in Python is an object\n",
        "\n",
        "dir(1)          # dir(객체) -> 속성, 메서드"
      ],
      "metadata": {
        "id": "Gp7vTOFb6nbd"
      },
      "execution_count": null,
      "outputs": []
    },
    {
      "cell_type": "code",
      "source": [],
      "metadata": {
        "id": "rrptEM0O6rZA"
      },
      "execution_count": null,
      "outputs": []
    },
    {
      "cell_type": "markdown",
      "source": [
        "## 기초 자료형 연산, assign 연산, method/함수, 연산 순서"
      ],
      "metadata": {
        "id": "zWCOIzdb7p8g"
      }
    },
    {
      "cell_type": "markdown",
      "source": [
        "### 숫자형(int & float)"
      ],
      "metadata": {
        "id": "UfjMbZUQ7w7h"
      }
    },
    {
      "cell_type": "code",
      "source": [
        "5 + 3\n",
        "2 - 10\n",
        "2 * 4"
      ],
      "metadata": {
        "id": "J3eMo33Zk1xH"
      },
      "execution_count": null,
      "outputs": []
    },
    {
      "cell_type": "code",
      "source": [
        "6 / 3 # float"
      ],
      "metadata": {
        "id": "Cikd06fglEpq"
      },
      "execution_count": null,
      "outputs": []
    },
    {
      "cell_type": "code",
      "source": [
        "# + - * ** / // % divmod\n",
        "\n",
        "2 ** 3"
      ],
      "metadata": {
        "id": "ROlINAdb7wrB"
      },
      "execution_count": null,
      "outputs": []
    },
    {
      "cell_type": "code",
      "source": [],
      "metadata": {
        "id": "-ILU7wngrvPD"
      },
      "execution_count": null,
      "outputs": []
    },
    {
      "cell_type": "code",
      "source": [
        "5 // 2"
      ],
      "metadata": {
        "id": "BYgCUaoU79k5"
      },
      "execution_count": null,
      "outputs": []
    },
    {
      "cell_type": "code",
      "source": [
        "5 % 2"
      ],
      "metadata": {
        "id": "2etusxl87_ij"
      },
      "execution_count": null,
      "outputs": []
    },
    {
      "cell_type": "code",
      "source": [
        "divmod(5, 2)    # -> (몫, 나머지)"
      ],
      "metadata": {
        "id": "8kjZCU0-8DFq"
      },
      "execution_count": null,
      "outputs": []
    },
    {
      "cell_type": "code",
      "source": [
        "# += -= *= **= /= //= %=\n",
        "\n",
        "x = 1\n",
        "x += 2      # x = x + 2\n",
        "x"
      ],
      "metadata": {
        "id": "JhmbK-Av8KV0"
      },
      "execution_count": null,
      "outputs": []
    },
    {
      "cell_type": "code",
      "source": [
        "x = 1\n",
        "x + 2\n",
        "x"
      ],
      "metadata": {
        "id": "R1GcRXoNtxE8"
      },
      "execution_count": null,
      "outputs": []
    },
    {
      "cell_type": "code",
      "source": [
        "x = 11\n",
        "x %= 3  # x = x % 3\n",
        "x"
      ],
      "metadata": {
        "id": "Du5OQyPauVwj"
      },
      "execution_count": null,
      "outputs": []
    },
    {
      "cell_type": "code",
      "source": [
        "# x++ == x += 1"
      ],
      "metadata": {
        "id": "kqNGCh9ouNkd"
      },
      "execution_count": null,
      "outputs": []
    },
    {
      "cell_type": "code",
      "source": [
        "x **= 2\n",
        "x"
      ],
      "metadata": {
        "id": "VJ_5nzhM8SXz"
      },
      "execution_count": null,
      "outputs": []
    },
    {
      "cell_type": "code",
      "source": [
        "x //= 4\n",
        "x"
      ],
      "metadata": {
        "id": "4rlDRPMT8ZE2"
      },
      "execution_count": null,
      "outputs": []
    },
    {
      "cell_type": "code",
      "source": [
        "x %= 5\n",
        "x"
      ],
      "metadata": {
        "id": "MxwkPuOh8baQ"
      },
      "execution_count": null,
      "outputs": []
    },
    {
      "cell_type": "code",
      "source": [
        "# 정수 / 정수 및 int와 float간 연산 -> float\n",
        "\n",
        "4 / 2"
      ],
      "metadata": {
        "id": "qLLUI3-B8FcV"
      },
      "execution_count": null,
      "outputs": []
    },
    {
      "cell_type": "code",
      "source": [
        "1 + 1."
      ],
      "metadata": {
        "id": "FwT8MbxQ8pN8"
      },
      "execution_count": null,
      "outputs": []
    },
    {
      "cell_type": "markdown",
      "source": [
        "#### 함수로 연산하기"
      ],
      "metadata": {
        "id": "qaBwXAOwh5QZ"
      }
    },
    {
      "cell_type": "code",
      "source": [
        "# abs, round, max, min, ...  기본함수\n",
        "# 함수명(인수...)\n",
        "\n",
        "abs(-3.2)\n",
        "\n",
        "round(2.546, 1)\n",
        "round(2.546)        # int(2.546)"
      ],
      "metadata": {
        "id": "USpbw2GV8qPL",
        "colab": {
          "base_uri": "https://localhost:8080/"
        },
        "outputId": "6cb00f57-77b6-4724-983f-2afe6fe3f702"
      },
      "execution_count": null,
      "outputs": [
        {
          "output_type": "execute_result",
          "data": {
            "text/plain": [
              "3.2"
            ]
          },
          "metadata": {},
          "execution_count": 3
        },
        {
          "output_type": "execute_result",
          "data": {
            "text/plain": [
              "2.5"
            ]
          },
          "metadata": {},
          "execution_count": 3
        },
        {
          "output_type": "execute_result",
          "data": {
            "text/plain": [
              "3"
            ]
          },
          "metadata": {},
          "execution_count": 3
        }
      ]
    },
    {
      "cell_type": "code",
      "source": [
        "int(2.9)"
      ],
      "metadata": {
        "colab": {
          "base_uri": "https://localhost:8080/"
        },
        "id": "ftt2oZo1ra72",
        "outputId": "d4f74057-592e-45eb-cb17-6a2c525d084f"
      },
      "execution_count": null,
      "outputs": [
        {
          "output_type": "execute_result",
          "data": {
            "text/plain": [
              "2"
            ]
          },
          "metadata": {},
          "execution_count": 4
        }
      ]
    },
    {
      "cell_type": "code",
      "source": [
        "max(5, 12, 13.0, 15)\n",
        "min(5, 12, 13.0)"
      ],
      "metadata": {
        "colab": {
          "base_uri": "https://localhost:8080/"
        },
        "id": "CLDrdcpOiM04",
        "outputId": "983b0d21-e579-48c6-ffcb-9013951f6090"
      },
      "execution_count": null,
      "outputs": [
        {
          "output_type": "execute_result",
          "data": {
            "text/plain": [
              "15"
            ]
          },
          "metadata": {},
          "execution_count": 5
        },
        {
          "output_type": "execute_result",
          "data": {
            "text/plain": [
              "5"
            ]
          },
          "metadata": {},
          "execution_count": 5
        }
      ]
    },
    {
      "cell_type": "code",
      "source": [
        "pow(2, 3)\n",
        "2 ** 3"
      ],
      "metadata": {
        "colab": {
          "base_uri": "https://localhost:8080/"
        },
        "id": "9UYnAH4Qrvhj",
        "outputId": "3457c5d9-ecc4-47c1-d9ff-64f59063ce03"
      },
      "execution_count": null,
      "outputs": [
        {
          "output_type": "execute_result",
          "data": {
            "text/plain": [
              "8"
            ]
          },
          "metadata": {},
          "execution_count": 7
        },
        {
          "output_type": "execute_result",
          "data": {
            "text/plain": [
              "8"
            ]
          },
          "metadata": {},
          "execution_count": 7
        }
      ]
    },
    {
      "cell_type": "markdown",
      "source": [
        "#### math"
      ],
      "metadata": {
        "id": "0mxOmdeKjKu-"
      }
    },
    {
      "cell_type": "code",
      "source": [
        "# 기본함수 vs. 표준모듈 vs. 외부모듈(numpy, pytorch)\n",
        "# 자주씀   vs. import  vs. 별도로 설치해야\n",
        "# abs, round\n",
        "\n",
        "import math    # 모듈명\n",
        "\n",
        "math.floor(4.99)    # 내림\n",
        "math.ceil(3.14)     # 올림\n",
        "math.sqrt(2)        # 제곱근"
      ],
      "metadata": {
        "colab": {
          "base_uri": "https://localhost:8080/"
        },
        "id": "ROxLAemRiL5R",
        "outputId": "66f2916c-c31e-4b5f-aa2d-03b56fee88c3"
      },
      "execution_count": null,
      "outputs": [
        {
          "output_type": "execute_result",
          "data": {
            "text/plain": [
              "4"
            ]
          },
          "metadata": {},
          "execution_count": 8
        },
        {
          "output_type": "execute_result",
          "data": {
            "text/plain": [
              "4"
            ]
          },
          "metadata": {},
          "execution_count": 8
        },
        {
          "output_type": "execute_result",
          "data": {
            "text/plain": [
              "1.4142135623730951"
            ]
          },
          "metadata": {},
          "execution_count": 8
        }
      ]
    },
    {
      "cell_type": "code",
      "source": [
        "2 ** (1/2)"
      ],
      "metadata": {
        "colab": {
          "base_uri": "https://localhost:8080/"
        },
        "id": "L6xgYHjlkC7e",
        "outputId": "76bf2841-5fc0-4a71-eed4-259e3705f0c3"
      },
      "execution_count": null,
      "outputs": [
        {
          "output_type": "execute_result",
          "data": {
            "text/plain": [
              "1.4142135623730951"
            ]
          },
          "metadata": {},
          "execution_count": 8
        }
      ]
    },
    {
      "cell_type": "code",
      "source": [
        "from math import floor, ceil, sqrt    # from 패키지명 import 객체/변수/함수/클라스...\n",
        "\n",
        "floor\n",
        "floor(4.99)"
      ],
      "metadata": {
        "colab": {
          "base_uri": "https://localhost:8080/"
        },
        "id": "GmvLADyYkLna",
        "outputId": "66ac7b09-efee-4e1d-c253-b1d608b28a88"
      },
      "execution_count": null,
      "outputs": [
        {
          "output_type": "execute_result",
          "data": {
            "text/plain": [
              "<function math.floor(x, /)>"
            ]
          },
          "metadata": {},
          "execution_count": 9
        },
        {
          "output_type": "execute_result",
          "data": {
            "text/plain": [
              "4"
            ]
          },
          "metadata": {},
          "execution_count": 9
        }
      ]
    },
    {
      "cell_type": "code",
      "source": [
        "floor = 3\n",
        "floor(4.99)"
      ],
      "metadata": {
        "colab": {
          "base_uri": "https://localhost:8080/",
          "height": 158
        },
        "id": "CG3Wd2IGkakx",
        "outputId": "627c9c8a-8cd5-46f7-8495-75affd786439"
      },
      "execution_count": null,
      "outputs": [
        {
          "output_type": "error",
          "ename": "TypeError",
          "evalue": "'int' object is not callable",
          "traceback": [
            "\u001b[0;31m---------------------------------------------------------------------------\u001b[0m",
            "\u001b[0;31mTypeError\u001b[0m                                 Traceback (most recent call last)",
            "\u001b[0;32m<ipython-input-11-68691ca493c4>\u001b[0m in \u001b[0;36m<cell line: 2>\u001b[0;34m()\u001b[0m\n\u001b[1;32m      1\u001b[0m \u001b[0mfloor\u001b[0m \u001b[0;34m=\u001b[0m \u001b[0;36m3\u001b[0m\u001b[0;34m\u001b[0m\u001b[0;34m\u001b[0m\u001b[0m\n\u001b[0;32m----> 2\u001b[0;31m \u001b[0mfloor\u001b[0m\u001b[0;34m(\u001b[0m\u001b[0;36m4.99\u001b[0m\u001b[0;34m)\u001b[0m\u001b[0;34m\u001b[0m\u001b[0;34m\u001b[0m\u001b[0m\n\u001b[0m",
            "\u001b[0;31mTypeError\u001b[0m: 'int' object is not callable"
          ]
        }
      ]
    },
    {
      "cell_type": "markdown",
      "source": [
        "#### random"
      ],
      "metadata": {
        "id": "txvqG8oIkinP"
      }
    },
    {
      "cell_type": "code",
      "source": [
        "import random\n",
        "\n",
        "random.random()             # [0, 1)\n",
        "random.randrange(1, 46)     # [시작, 끝)    random.randint(시작, 끝) -> [시작, 끝]"
      ],
      "metadata": {
        "colab": {
          "base_uri": "https://localhost:8080/"
        },
        "id": "39f6TQAPkk0R",
        "outputId": "f2223400-d3e6-4177-c3c8-6cd1c471fcfd"
      },
      "execution_count": null,
      "outputs": [
        {
          "output_type": "execute_result",
          "data": {
            "text/plain": [
              "0.9310390415123089"
            ]
          },
          "metadata": {},
          "execution_count": 15
        },
        {
          "output_type": "execute_result",
          "data": {
            "text/plain": [
              "35"
            ]
          },
          "metadata": {},
          "execution_count": 15
        }
      ]
    },
    {
      "cell_type": "code",
      "source": [
        "from random import random, randrange\n",
        "\n",
        "random()\n",
        "randrange(1, 46)"
      ],
      "metadata": {
        "colab": {
          "base_uri": "https://localhost:8080/"
        },
        "id": "uDT9XjkXuM9S",
        "outputId": "a52a6048-d4dc-46bd-e569-dc7f6124e666"
      },
      "execution_count": null,
      "outputs": [
        {
          "output_type": "execute_result",
          "data": {
            "text/plain": [
              "0.14347225093406535"
            ]
          },
          "metadata": {},
          "execution_count": 19
        },
        {
          "output_type": "execute_result",
          "data": {
            "text/plain": [
              "10"
            ]
          },
          "metadata": {},
          "execution_count": 19
        }
      ]
    },
    {
      "cell_type": "code",
      "source": [
        "# random.sample(시퀀스, k: int, counts: Iterable[int])\n",
        "# random.choice(시퀀스)\n",
        "# random.shuffle(mutable 시퀀스)"
      ],
      "metadata": {
        "id": "FJQoZ9QekChJ"
      },
      "execution_count": null,
      "outputs": []
    },
    {
      "cell_type": "code",
      "source": [
        "1 == '1'"
      ],
      "metadata": {
        "id": "U_CkGx3GsMn1"
      },
      "execution_count": null,
      "outputs": []
    },
    {
      "cell_type": "code",
      "source": [
        "1 != 2"
      ],
      "metadata": {
        "id": "Te13YZPisMfh"
      },
      "execution_count": null,
      "outputs": []
    },
    {
      "cell_type": "code",
      "source": [
        "5 > 4 and 4 > 3"
      ],
      "metadata": {
        "id": "_KXUfa76saWg"
      },
      "execution_count": null,
      "outputs": []
    },
    {
      "cell_type": "code",
      "source": [
        "5 > 4 > 3"
      ],
      "metadata": {
        "id": "gkpEstwgsZ6V"
      },
      "execution_count": null,
      "outputs": []
    },
    {
      "cell_type": "code",
      "source": [
        "a = 'hello'\n",
        "\n",
        "True and a"
      ],
      "metadata": {
        "id": "kFwMgNP8sqDt"
      },
      "execution_count": null,
      "outputs": []
    },
    {
      "cell_type": "code",
      "source": [
        "False and a"
      ],
      "metadata": {
        "id": "far4XPWOs8yM"
      },
      "execution_count": null,
      "outputs": []
    },
    {
      "cell_type": "code",
      "source": [],
      "metadata": {
        "id": "gG5ELln0hblO"
      },
      "execution_count": null,
      "outputs": []
    },
    {
      "cell_type": "code",
      "source": [],
      "metadata": {
        "id": "8pizjr92hbYq"
      },
      "execution_count": null,
      "outputs": []
    },
    {
      "cell_type": "code",
      "source": [],
      "metadata": {
        "id": "MweLAQJSha6y"
      },
      "execution_count": null,
      "outputs": []
    },
    {
      "cell_type": "markdown",
      "source": [
        "### str"
      ],
      "metadata": {
        "id": "rNw86JYF83kL"
      }
    },
    {
      "cell_type": "code",
      "source": [
        "a = 'hello'     # 0,1,2,3,4 : 시퀀스\n",
        "a[4]"
      ],
      "metadata": {
        "colab": {
          "base_uri": "https://localhost:8080/",
          "height": 35
        },
        "id": "ujnZW3yhvhCH",
        "outputId": "39227fa8-21d0-474b-ac3c-6f44f629ed6e"
      },
      "execution_count": null,
      "outputs": [
        {
          "output_type": "execute_result",
          "data": {
            "text/plain": [
              "'o'"
            ],
            "application/vnd.google.colaboratory.intrinsic+json": {
              "type": "string"
            }
          },
          "metadata": {},
          "execution_count": 22
        }
      ]
    },
    {
      "cell_type": "code",
      "source": [
        "a[1:3]  # 1, 2*"
      ],
      "metadata": {
        "colab": {
          "base_uri": "https://localhost:8080/",
          "height": 35
        },
        "id": "uVuvvSwVv_Ft",
        "outputId": "5934a46b-67f3-4a03-d8dc-b96bb4ca1710"
      },
      "execution_count": null,
      "outputs": [
        {
          "output_type": "execute_result",
          "data": {
            "text/plain": [
              "'el'"
            ],
            "application/vnd.google.colaboratory.intrinsic+json": {
              "type": "string"
            }
          },
          "metadata": {},
          "execution_count": 23
        }
      ]
    },
    {
      "cell_type": "code",
      "source": [
        "a[1:]"
      ],
      "metadata": {
        "colab": {
          "base_uri": "https://localhost:8080/",
          "height": 35
        },
        "id": "tAa78KuhwSb9",
        "outputId": "b16c5141-69f0-4c42-dd4a-4b647d9aa6c8"
      },
      "execution_count": null,
      "outputs": [
        {
          "output_type": "execute_result",
          "data": {
            "text/plain": [
              "'ello'"
            ],
            "application/vnd.google.colaboratory.intrinsic+json": {
              "type": "string"
            }
          },
          "metadata": {},
          "execution_count": 24
        }
      ]
    },
    {
      "cell_type": "code",
      "source": [
        "a[:3]"
      ],
      "metadata": {
        "colab": {
          "base_uri": "https://localhost:8080/",
          "height": 35
        },
        "id": "q2HB-EIhwWse",
        "outputId": "d50e65be-ef48-4f5a-dd5c-4bf4608bfa1c"
      },
      "execution_count": null,
      "outputs": [
        {
          "output_type": "execute_result",
          "data": {
            "text/plain": [
              "'hel'"
            ],
            "application/vnd.google.colaboratory.intrinsic+json": {
              "type": "string"
            }
          },
          "metadata": {},
          "execution_count": 25
        }
      ]
    },
    {
      "cell_type": "code",
      "source": [
        "a[:]"
      ],
      "metadata": {
        "colab": {
          "base_uri": "https://localhost:8080/",
          "height": 35
        },
        "id": "jKfNPhVTwbmN",
        "outputId": "2005026d-170c-49b8-9020-8a223b27fe04"
      },
      "execution_count": null,
      "outputs": [
        {
          "output_type": "execute_result",
          "data": {
            "text/plain": [
              "'hello'"
            ],
            "application/vnd.google.colaboratory.intrinsic+json": {
              "type": "string"
            }
          },
          "metadata": {},
          "execution_count": 26
        }
      ]
    },
    {
      "cell_type": "code",
      "source": [
        "a[-1]"
      ],
      "metadata": {
        "colab": {
          "base_uri": "https://localhost:8080/",
          "height": 35
        },
        "id": "4N114Ml0wf1B",
        "outputId": "db54e03f-1f22-4bd0-d30c-44cfff359fc0"
      },
      "execution_count": null,
      "outputs": [
        {
          "output_type": "execute_result",
          "data": {
            "text/plain": [
              "'o'"
            ],
            "application/vnd.google.colaboratory.intrinsic+json": {
              "type": "string"
            }
          },
          "metadata": {},
          "execution_count": 27
        }
      ]
    },
    {
      "cell_type": "code",
      "source": [
        "a[-2]"
      ],
      "metadata": {
        "colab": {
          "base_uri": "https://localhost:8080/",
          "height": 35
        },
        "id": "pK5uPXPjwlEU",
        "outputId": "ebe3e23d-ec3e-4f1c-9949-ce7054b5d381"
      },
      "execution_count": null,
      "outputs": [
        {
          "output_type": "execute_result",
          "data": {
            "text/plain": [
              "'l'"
            ],
            "application/vnd.google.colaboratory.intrinsic+json": {
              "type": "string"
            }
          },
          "metadata": {},
          "execution_count": 28
        }
      ]
    },
    {
      "cell_type": "code",
      "source": [
        "a[:-1]"
      ],
      "metadata": {
        "colab": {
          "base_uri": "https://localhost:8080/",
          "height": 35
        },
        "id": "VX-IhrDPwr3k",
        "outputId": "6df92e1b-0490-494e-b729-c5ab4ab32d14"
      },
      "execution_count": null,
      "outputs": [
        {
          "output_type": "execute_result",
          "data": {
            "text/plain": [
              "'hell'"
            ],
            "application/vnd.google.colaboratory.intrinsic+json": {
              "type": "string"
            }
          },
          "metadata": {},
          "execution_count": 29
        }
      ]
    },
    {
      "cell_type": "code",
      "source": [
        "a[:]"
      ],
      "metadata": {
        "colab": {
          "base_uri": "https://localhost:8080/",
          "height": 35
        },
        "id": "zSr88Fglw28E",
        "outputId": "774c1eb5-0ac8-486f-ffbc-ee5f46fa8a6a"
      },
      "execution_count": null,
      "outputs": [
        {
          "output_type": "execute_result",
          "data": {
            "text/plain": [
              "'hello'"
            ],
            "application/vnd.google.colaboratory.intrinsic+json": {
              "type": "string"
            }
          },
          "metadata": {},
          "execution_count": 30
        }
      ]
    },
    {
      "cell_type": "code",
      "source": [
        "s = 'abcdefghijkl'\n",
        "start = 3\n",
        "end = -3\n",
        "\n",
        "s[start:end]  # step=1"
      ],
      "metadata": {
        "colab": {
          "base_uri": "https://localhost:8080/",
          "height": 35
        },
        "id": "y2SJQ8Sow9kc",
        "outputId": "9770d908-abdc-44d3-f306-1373258811c6"
      },
      "execution_count": null,
      "outputs": [
        {
          "output_type": "execute_result",
          "data": {
            "text/plain": [
              "'defghi'"
            ],
            "application/vnd.google.colaboratory.intrinsic+json": {
              "type": "string"
            }
          },
          "metadata": {},
          "execution_count": 32
        }
      ]
    },
    {
      "cell_type": "code",
      "source": [
        "step = 2\n",
        "\n",
        "s[start:end:step]"
      ],
      "metadata": {
        "colab": {
          "base_uri": "https://localhost:8080/",
          "height": 35
        },
        "id": "WAiXU9nUxSCU",
        "outputId": "53f7fe54-1dd2-48be-d03a-d0cf505031cc"
      },
      "execution_count": null,
      "outputs": [
        {
          "output_type": "execute_result",
          "data": {
            "text/plain": [
              "'dfh'"
            ],
            "application/vnd.google.colaboratory.intrinsic+json": {
              "type": "string"
            }
          },
          "metadata": {},
          "execution_count": 34
        }
      ]
    },
    {
      "cell_type": "code",
      "source": [
        "s[::2]"
      ],
      "metadata": {
        "colab": {
          "base_uri": "https://localhost:8080/",
          "height": 35
        },
        "id": "n2b8CCasyJrM",
        "outputId": "20b557e9-f1a8-4d0b-c78c-eaa34ac8aa5a"
      },
      "execution_count": null,
      "outputs": [
        {
          "output_type": "execute_result",
          "data": {
            "text/plain": [
              "'acegik'"
            ],
            "application/vnd.google.colaboratory.intrinsic+json": {
              "type": "string"
            }
          },
          "metadata": {},
          "execution_count": 37
        }
      ]
    },
    {
      "cell_type": "code",
      "source": [
        "end = 5\n",
        "step = -1\n",
        "s[5:3:-1]"
      ],
      "metadata": {
        "colab": {
          "base_uri": "https://localhost:8080/",
          "height": 35
        },
        "id": "8r8hO8hixob8",
        "outputId": "cada1819-c385-4bd1-a972-bee78dde3910"
      },
      "execution_count": null,
      "outputs": [
        {
          "output_type": "execute_result",
          "data": {
            "text/plain": [
              "'fe'"
            ],
            "application/vnd.google.colaboratory.intrinsic+json": {
              "type": "string"
            }
          },
          "metadata": {},
          "execution_count": 36
        }
      ]
    },
    {
      "cell_type": "code",
      "source": [],
      "metadata": {
        "id": "JcyoX2CYw68c"
      },
      "execution_count": null,
      "outputs": []
    },
    {
      "cell_type": "code",
      "source": [
        "# + *\n",
        "\n",
        "x = 'ab'\n",
        "x + 'cd'\n",
        "'zy' + x"
      ],
      "metadata": {
        "id": "BuHk0o_o8uyx"
      },
      "execution_count": null,
      "outputs": []
    },
    {
      "cell_type": "code",
      "source": [
        "x * 3\n",
        "3 * x"
      ],
      "metadata": {
        "id": "_EqTqfxq8-TC"
      },
      "execution_count": null,
      "outputs": []
    },
    {
      "cell_type": "code",
      "source": [
        "# .strip, .rstrip, .lstrip\n",
        "\n",
        "x = 'http://www.python.org  '\n",
        "x.strip()"
      ],
      "metadata": {
        "id": "pw5G9_Zy9AeK"
      },
      "execution_count": null,
      "outputs": []
    },
    {
      "cell_type": "code",
      "source": [
        "x.strip('htp:/')"
      ],
      "metadata": {
        "id": "hAQd3rWY9R__"
      },
      "execution_count": null,
      "outputs": []
    },
    {
      "cell_type": "code",
      "source": [],
      "metadata": {
        "id": "hWxDXGtyC7dG"
      },
      "execution_count": null,
      "outputs": []
    },
    {
      "cell_type": "code",
      "source": [
        "# .split, .join\n",
        "\n",
        "suits = 'spades diamonds clubs hearts'.split()\n",
        "suits\n",
        "\n",
        "' '.join(suits)\n",
        "'_*^'.join(suits)"
      ],
      "metadata": {
        "id": "YlE-p1uM9VHp"
      },
      "execution_count": null,
      "outputs": []
    },
    {
      "cell_type": "code",
      "source": [
        "cities = 'Seoul New York London'.split()        # ???\n",
        "cities"
      ],
      "metadata": {
        "id": "164LfQYS9gWe"
      },
      "execution_count": null,
      "outputs": []
    },
    {
      "cell_type": "code",
      "source": [
        "# .upper, lower, capitalize, title, find, replace, ...\n",
        "abs(-1)   # 기본함수\n",
        "\n",
        "x = 'I am a girl.'\n",
        "x.upper()           # strClass.method()\n",
        "x.lower()"
      ],
      "metadata": {
        "id": "k7YrcfQX9qEd",
        "colab": {
          "base_uri": "https://localhost:8080/",
          "height": 70
        },
        "outputId": "1bddeb1b-5a6f-4525-aab3-8ad8a6a7b4ae"
      },
      "execution_count": null,
      "outputs": [
        {
          "output_type": "execute_result",
          "data": {
            "text/plain": [
              "1"
            ]
          },
          "metadata": {},
          "execution_count": 40
        },
        {
          "output_type": "execute_result",
          "data": {
            "text/plain": [
              "'I AM A GIRL.'"
            ],
            "application/vnd.google.colaboratory.intrinsic+json": {
              "type": "string"
            }
          },
          "metadata": {},
          "execution_count": 40
        },
        {
          "output_type": "execute_result",
          "data": {
            "text/plain": [
              "'i am a girl.'"
            ],
            "application/vnd.google.colaboratory.intrinsic+json": {
              "type": "string"
            }
          },
          "metadata": {},
          "execution_count": 40
        }
      ]
    },
    {
      "cell_type": "code",
      "source": [
        "x.capitalize()\n",
        "x.title()"
      ],
      "metadata": {
        "id": "s5r7pHhi92SJ",
        "colab": {
          "base_uri": "https://localhost:8080/",
          "height": 53
        },
        "outputId": "8458efd3-719a-40c7-e835-3f056c062a0e"
      },
      "execution_count": null,
      "outputs": [
        {
          "output_type": "execute_result",
          "data": {
            "text/plain": [
              "'I am a girl.'"
            ],
            "application/vnd.google.colaboratory.intrinsic+json": {
              "type": "string"
            }
          },
          "metadata": {},
          "execution_count": 41
        },
        {
          "output_type": "execute_result",
          "data": {
            "text/plain": [
              "'I Am A Girl.'"
            ],
            "application/vnd.google.colaboratory.intrinsic+json": {
              "type": "string"
            }
          },
          "metadata": {},
          "execution_count": 41
        }
      ]
    },
    {
      "cell_type": "code",
      "source": [
        "x.count('a')"
      ],
      "metadata": {
        "colab": {
          "base_uri": "https://localhost:8080/"
        },
        "id": "sLIPM9gL0Iht",
        "outputId": "1229b9ea-bd15-4d6f-94f6-a1c0fa73338b"
      },
      "execution_count": null,
      "outputs": [
        {
          "output_type": "execute_result",
          "data": {
            "text/plain": [
              "2"
            ]
          },
          "metadata": {},
          "execution_count": 48
        }
      ]
    },
    {
      "cell_type": "code",
      "source": [
        "x.find('z')\n",
        "x.index('z')"
      ],
      "metadata": {
        "colab": {
          "base_uri": "https://localhost:8080/",
          "height": 176
        },
        "id": "DkUsbd8ozppO",
        "outputId": "0c6cc036-d8b3-4e8f-868b-cddd0eb4b6c5"
      },
      "execution_count": null,
      "outputs": [
        {
          "output_type": "execute_result",
          "data": {
            "text/plain": [
              "-1"
            ]
          },
          "metadata": {},
          "execution_count": 46
        },
        {
          "output_type": "error",
          "ename": "ValueError",
          "evalue": "substring not found",
          "traceback": [
            "\u001b[0;31m---------------------------------------------------------------------------\u001b[0m",
            "\u001b[0;31mValueError\u001b[0m                                Traceback (most recent call last)",
            "\u001b[0;32m<ipython-input-46-de3f64fd43fb>\u001b[0m in \u001b[0;36m<cell line: 2>\u001b[0;34m()\u001b[0m\n\u001b[1;32m      1\u001b[0m \u001b[0mx\u001b[0m\u001b[0;34m.\u001b[0m\u001b[0mfind\u001b[0m\u001b[0;34m(\u001b[0m\u001b[0;34m'z'\u001b[0m\u001b[0;34m)\u001b[0m\u001b[0;34m\u001b[0m\u001b[0;34m\u001b[0m\u001b[0m\n\u001b[0;32m----> 2\u001b[0;31m \u001b[0mx\u001b[0m\u001b[0;34m.\u001b[0m\u001b[0mindex\u001b[0m\u001b[0;34m(\u001b[0m\u001b[0;34m'z'\u001b[0m\u001b[0;34m)\u001b[0m\u001b[0;34m\u001b[0m\u001b[0;34m\u001b[0m\u001b[0m\n\u001b[0m",
            "\u001b[0;31mValueError\u001b[0m: substring not found"
          ]
        }
      ]
    },
    {
      "cell_type": "code",
      "source": [
        "x.find('ir')            # 첫 번째 매치 인덱스, 없으면 -1\n",
        "x.find('a')\n",
        "x.find('z')\n",
        "x.replace(' ', '**')"
      ],
      "metadata": {
        "id": "LZeyYQp198H1",
        "colab": {
          "base_uri": "https://localhost:8080/",
          "height": 87
        },
        "outputId": "1b49281a-9f16-4b57-a375-a67ffeb24799"
      },
      "execution_count": null,
      "outputs": [
        {
          "output_type": "execute_result",
          "data": {
            "text/plain": [
              "8"
            ]
          },
          "metadata": {},
          "execution_count": 50
        },
        {
          "output_type": "execute_result",
          "data": {
            "text/plain": [
              "2"
            ]
          },
          "metadata": {},
          "execution_count": 50
        },
        {
          "output_type": "execute_result",
          "data": {
            "text/plain": [
              "-1"
            ]
          },
          "metadata": {},
          "execution_count": 50
        },
        {
          "output_type": "execute_result",
          "data": {
            "text/plain": [
              "'I**am**a**girl.'"
            ],
            "application/vnd.google.colaboratory.intrinsic+json": {
              "type": "string"
            }
          },
          "metadata": {},
          "execution_count": 50
        }
      ]
    },
    {
      "cell_type": "code",
      "source": [
        "len(x)   # 시퀀스 < Iterable : 길이"
      ],
      "metadata": {
        "colab": {
          "base_uri": "https://localhost:8080/"
        },
        "id": "zMrUE-Pu0fI9",
        "outputId": "6bfaacd5-69b4-4aad-b469-0e0dc96f51e7"
      },
      "execution_count": null,
      "outputs": [
        {
          "output_type": "execute_result",
          "data": {
            "text/plain": [
              "12"
            ]
          },
          "metadata": {},
          "execution_count": 52
        }
      ]
    },
    {
      "cell_type": "code",
      "source": [
        "# text 패턴 써치, 치환 등 전문 작업(regex: regular expression)을 위한 표준 패키지: re(고급)"
      ],
      "metadata": {
        "id": "Dg1FOFy2-ARa"
      },
      "execution_count": null,
      "outputs": []
    },
    {
      "cell_type": "markdown",
      "source": [
        "#### format, f-string"
      ],
      "metadata": {
        "id": "rMwdGffXDHRg"
      }
    },
    {
      "cell_type": "code",
      "source": [
        "# format(객체, 포맷스트링)\n",
        "# '~{}~{}~'.format('aaa', 'bbb')\n",
        "# f'~{변수1} ~{변수2}'"
      ],
      "metadata": {
        "id": "Y06SkMDRybR8"
      },
      "execution_count": null,
      "outputs": []
    },
    {
      "cell_type": "code",
      "source": [
        "template = '{who}은(는) {first}색과 {second}색을 좋아해~'\n",
        "\n",
        "template.format(who='나', first='빨간', second='파란')\n",
        "template.format(who='너', first='뻘건', second='퍼런')\n",
        "template.format(who='you', first='red', second='blue')"
      ],
      "metadata": {
        "colab": {
          "base_uri": "https://localhost:8080/",
          "height": 72
        },
        "id": "8Wcy0d8LnbZW",
        "outputId": "a7558367-a54a-4273-81b9-aac33ebb7484"
      },
      "execution_count": null,
      "outputs": [
        {
          "output_type": "execute_result",
          "data": {
            "text/plain": [
              "'나은(는) 빨간색과 파란색을 좋아해~'"
            ],
            "application/vnd.google.colaboratory.intrinsic+json": {
              "type": "string"
            }
          },
          "metadata": {},
          "execution_count": 2
        },
        {
          "output_type": "execute_result",
          "data": {
            "text/plain": [
              "'너은(는) 뻘건색과 퍼런색을 좋아해~'"
            ],
            "application/vnd.google.colaboratory.intrinsic+json": {
              "type": "string"
            }
          },
          "metadata": {},
          "execution_count": 2
        },
        {
          "output_type": "execute_result",
          "data": {
            "text/plain": [
              "'you은(는) red색과 blue색을 좋아해~'"
            ],
            "application/vnd.google.colaboratory.intrinsic+json": {
              "type": "string"
            }
          },
          "metadata": {},
          "execution_count": 2
        }
      ]
    },
    {
      "cell_type": "code",
      "source": [
        "first, second"
      ],
      "metadata": {
        "colab": {
          "base_uri": "https://localhost:8080/",
          "height": 147
        },
        "id": "pL6XwwxExfqM",
        "outputId": "1076520f-0997-435e-eb27-219e20cf4da9"
      },
      "execution_count": null,
      "outputs": [
        {
          "output_type": "error",
          "ename": "NameError",
          "evalue": "name 'first' is not defined",
          "traceback": [
            "\u001b[0;31m---------------------------------------------------------------------------\u001b[0m",
            "\u001b[0;31mNameError\u001b[0m                                 Traceback (most recent call last)",
            "\u001b[0;32m<ipython-input-3-9a3831cacd0d>\u001b[0m in \u001b[0;36m<cell line: 1>\u001b[0;34m()\u001b[0m\n\u001b[0;32m----> 1\u001b[0;31m \u001b[0mfirst\u001b[0m\u001b[0;34m,\u001b[0m \u001b[0msecond\u001b[0m\u001b[0;34m\u001b[0m\u001b[0;34m\u001b[0m\u001b[0m\n\u001b[0m",
            "\u001b[0;31mNameError\u001b[0m: name 'first' is not defined"
          ]
        }
      ]
    },
    {
      "cell_type": "code",
      "source": [
        "first, second = '빨간', '파란'\n",
        "\n",
        "f'나는 {first}색과 {second}색을 좋아해~'"
      ],
      "metadata": {
        "colab": {
          "base_uri": "https://localhost:8080/",
          "height": 35
        },
        "id": "dvTg52f0nbJM",
        "outputId": "e3d50194-34cf-4bc1-8cad-70a1bfca8d1b"
      },
      "execution_count": null,
      "outputs": [
        {
          "output_type": "execute_result",
          "data": {
            "text/plain": [
              "'나는 빨간색과 파란색을 좋아해~'"
            ],
            "application/vnd.google.colaboratory.intrinsic+json": {
              "type": "string"
            }
          },
          "metadata": {},
          "execution_count": 4
        }
      ]
    },
    {
      "cell_type": "code",
      "source": [
        "first, second"
      ],
      "metadata": {
        "id": "QN3yQnd_oAgB",
        "colab": {
          "base_uri": "https://localhost:8080/"
        },
        "outputId": "a3c2c978-76eb-49c3-a0f0-ac22ead5f912"
      },
      "execution_count": null,
      "outputs": [
        {
          "output_type": "execute_result",
          "data": {
            "text/plain": [
              "('빨간', '파란')"
            ]
          },
          "metadata": {},
          "execution_count": 5
        }
      ]
    },
    {
      "cell_type": "code",
      "source": [
        "age= 1/3\n",
        "\n",
        "f'{age:.3f}살'"
      ],
      "metadata": {
        "colab": {
          "base_uri": "https://localhost:8080/",
          "height": 35
        },
        "id": "OboTpRTC2Gjz",
        "outputId": "3f539b4c-7714-4dbc-c301-3f6fe0a9d077"
      },
      "execution_count": null,
      "outputs": [
        {
          "output_type": "execute_result",
          "data": {
            "text/plain": [
              "'0.333살'"
            ],
            "application/vnd.google.colaboratory.intrinsic+json": {
              "type": "string"
            }
          },
          "metadata": {},
          "execution_count": 7
        }
      ]
    },
    {
      "cell_type": "code",
      "source": [
        "print('나도\\n \\'코딩\\'입니다')"
      ],
      "metadata": {
        "colab": {
          "base_uri": "https://localhost:8080/"
        },
        "id": "6ccbziZ12pUK",
        "outputId": "61628959-033a-4ce5-ec71-3a453983e4a2"
      },
      "execution_count": null,
      "outputs": [
        {
          "output_type": "stream",
          "name": "stdout",
          "text": [
            "나도\n",
            " '코딩'입니다\n"
          ]
        }
      ]
    },
    {
      "cell_type": "code",
      "source": [
        "print('c:\\\\users')"
      ],
      "metadata": {
        "colab": {
          "base_uri": "https://localhost:8080/"
        },
        "id": "MSbV-jeo2oyD",
        "outputId": "7c854223-3791-41ce-c7e1-1d984bb24d33"
      },
      "execution_count": null,
      "outputs": [
        {
          "output_type": "stream",
          "name": "stdout",
          "text": [
            "c:\\users\n"
          ]
        }
      ]
    },
    {
      "cell_type": "code",
      "source": [
        "print(r'c:\\users')"
      ],
      "metadata": {
        "colab": {
          "base_uri": "https://localhost:8080/"
        },
        "id": "mwiuL4kN3F79",
        "outputId": "089bad85-660e-43ea-e446-8090d81a9a4d"
      },
      "execution_count": null,
      "outputs": [
        {
          "output_type": "stream",
          "name": "stdout",
          "text": [
            "c:\\users\n"
          ]
        }
      ]
    },
    {
      "cell_type": "markdown",
      "source": [
        "### bool"
      ],
      "metadata": {
        "id": "zeDyhytwYX2E"
      }
    },
    {
      "cell_type": "code",
      "source": [
        "# not and or : 논리연산자 순서\n",
        "\n",
        "not True and False or not False\n",
        "(not True) and False or (not False)\n",
        "False and False or True\n",
        "(False and False) or True\n",
        "False or True"
      ],
      "metadata": {
        "id": "VuzdqVqy-p2E"
      },
      "execution_count": null,
      "outputs": []
    },
    {
      "cell_type": "code",
      "source": [
        "# 값 비교연산자  : >, >=, <, <=, ==, !=\n",
        "\n",
        "x = 1\n",
        "y = 2\n",
        "\n",
        "x > y\n",
        "x == y\n",
        "x != y"
      ],
      "metadata": {
        "id": "F__U-e8JXzCE"
      },
      "execution_count": null,
      "outputs": []
    },
    {
      "cell_type": "code",
      "source": [
        "# 객체 비교 : is\n",
        "\n",
        "x = y = 10\n",
        "z = None\n",
        "\n",
        "x is y\n",
        "x is not y\n",
        "z is None\n",
        "id(x)               # id(객체) -> 메모리 주소\n",
        "id(y)\n",
        "id(z)\n",
        "id(None)"
      ],
      "metadata": {
        "id": "IBTlIsIp_aZd"
      },
      "execution_count": null,
      "outputs": []
    },
    {
      "cell_type": "code",
      "source": [
        "# all(), any()\n",
        "\n",
        "x = (1, 2, 3, 0)        # [1, 2, 3, 0]\n",
        "\n",
        "all(x)\n",
        "any(x)"
      ],
      "metadata": {
        "id": "_tKf0j94_fxM"
      },
      "execution_count": null,
      "outputs": []
    },
    {
      "cell_type": "markdown",
      "source": [
        "### 연산 순서, (), 줄넘김"
      ],
      "metadata": {
        "id": "JsP64nhpAs7O"
      }
    },
    {
      "cell_type": "code",
      "source": [
        "# 연산 순서\n",
        "    # () [] {}\n",
        "    # **\n",
        "    # 단항 + - ~\n",
        "    # * / // %\n",
        "    # + -\n",
        "    # <, <=, >, >=, !=, ==, is, is not, in, not in\n",
        "    # not 객체\n",
        "    # and\n",
        "    # or\n",
        "    # if else\n",
        "    # lambda"
      ],
      "metadata": {
        "id": "Vd6FGpl1AmOt"
      },
      "execution_count": null,
      "outputs": []
    },
    {
      "cell_type": "code",
      "source": [
        "x = 1 +\\\n",
        "    2\n",
        "y = (1 +\n",
        "     2)             # preferred\n",
        "x\n",
        "y"
      ],
      "metadata": {
        "id": "vHUnKpmpB1Vq"
      },
      "execution_count": null,
      "outputs": []
    },
    {
      "cell_type": "code",
      "source": [
        "name = '연탄이'\n",
        "age = 4\n",
        "hobby = '산책'\n",
        "\n",
        "print(name, str(age) + '살', hobby)"
      ],
      "metadata": {
        "id": "rt2ZFN87ouMt"
      },
      "execution_count": null,
      "outputs": []
    },
    {
      "cell_type": "code",
      "source": [
        "# int, float, str, bool : 형변환\n",
        "\n",
        "int('3')"
      ],
      "metadata": {
        "id": "-o5xeqxoouJv"
      },
      "execution_count": null,
      "outputs": []
    },
    {
      "cell_type": "code",
      "source": [
        "# =, ==\n",
        "# indexing: from 0, -1, -0\n",
        "# slicing: 끝 미포함"
      ],
      "metadata": {
        "id": "cgl56HRkP6qF"
      },
      "execution_count": null,
      "outputs": []
    },
    {
      "cell_type": "markdown",
      "source": [
        "## 기본 자료형: list, tuple, set, dict"
      ],
      "metadata": {
        "id": "zBaZfprEKIZx"
      }
    },
    {
      "cell_type": "code",
      "source": [
        "# list, str, tuple : Sequence : indexing, slicing\n"
      ],
      "metadata": {
        "id": "hpWxwQhV3z6Q"
      },
      "execution_count": null,
      "outputs": []
    },
    {
      "cell_type": "markdown",
      "source": [
        "### list : Mutable Sequence"
      ],
      "metadata": {
        "id": "qLoqJ2csE0HX"
      }
    },
    {
      "cell_type": "code",
      "source": [
        "'abc'.index('b')"
      ],
      "metadata": {
        "colab": {
          "base_uri": "https://localhost:8080/"
        },
        "id": "eVJ1sGZm4f-8",
        "outputId": "8b698ca7-d57a-4693-cf87-9deec581cad5"
      },
      "execution_count": null,
      "outputs": [
        {
          "output_type": "execute_result",
          "data": {
            "text/plain": [
              "1"
            ]
          },
          "metadata": {},
          "execution_count": 18
        }
      ]
    },
    {
      "cell_type": "code",
      "source": [
        "x = [1, 'a', 3., True]          # 가장 편리한 자료 구조 : 원소 삽입/삭제/변경 자유, but 메모리 효율x\n",
        "type(x)"
      ],
      "metadata": {
        "id": "ZciUfD5_Rlqb",
        "colab": {
          "base_uri": "https://localhost:8080/"
        },
        "outputId": "5a698c6f-6aec-40d2-a1e0-80079789dec7"
      },
      "execution_count": null,
      "outputs": [
        {
          "output_type": "execute_result",
          "data": {
            "text/plain": [
              "list"
            ]
          },
          "metadata": {},
          "execution_count": 7
        }
      ]
    },
    {
      "cell_type": "code",
      "source": [
        "sorted()"
      ],
      "metadata": {
        "id": "C6tjYlVqGsRm"
      },
      "execution_count": null,
      "outputs": []
    },
    {
      "cell_type": "markdown",
      "source": [
        "### tuple : Immutable Sequence"
      ],
      "metadata": {
        "id": "OfJcK3pvE5bR"
      }
    },
    {
      "cell_type": "code",
      "source": [
        "x = (1, 'a', 3., True)          # 한 번 만들어진 객체를 바꾸지 않겠다는 의도(메모리 효율)\n",
        "x = 1, 'a', 3., True            # identical\n",
        "x\n",
        "\n",
        "x = 1,                          # 원소 하나인 tuple\n",
        "type(x)"
      ],
      "metadata": {
        "id": "beamZ7fORpml",
        "colab": {
          "base_uri": "https://localhost:8080/"
        },
        "outputId": "18a00ca0-f722-4f5b-aac7-53efae1e155f"
      },
      "execution_count": null,
      "outputs": [
        {
          "output_type": "execute_result",
          "data": {
            "text/plain": [
              "(1, 'a', 3.0, True)"
            ]
          },
          "metadata": {},
          "execution_count": 40
        },
        {
          "output_type": "execute_result",
          "data": {
            "text/plain": [
              "tuple"
            ]
          },
          "metadata": {},
          "execution_count": 40
        }
      ]
    },
    {
      "cell_type": "code",
      "source": [
        "name, age = 'James', 30    # tuple / iterable unpacking\n",
        "\n",
        "name = 'James'\n",
        "age = 30"
      ],
      "metadata": {
        "id": "ydzYJZu_93tN"
      },
      "execution_count": null,
      "outputs": []
    },
    {
      "cell_type": "code",
      "source": [
        "a, b = 1, 2\n",
        "\n",
        "tmp = b\n",
        "b = a\n",
        "a = tmp\n",
        "a, b"
      ],
      "metadata": {
        "colab": {
          "base_uri": "https://localhost:8080/"
        },
        "id": "Y96udFWh-JeT",
        "outputId": "ba0ba58b-ae73-41f9-a7c9-d7ad0b72af88"
      },
      "execution_count": null,
      "outputs": [
        {
          "output_type": "execute_result",
          "data": {
            "text/plain": [
              "(2, 1)"
            ]
          },
          "metadata": {},
          "execution_count": 42
        }
      ]
    },
    {
      "cell_type": "code",
      "source": [
        "a, b = 1, 2\n",
        "\n",
        "a, b = b, a\n",
        "a, b"
      ],
      "metadata": {
        "colab": {
          "base_uri": "https://localhost:8080/"
        },
        "id": "Z_o3ksq--ECS",
        "outputId": "64ad52ce-8c5d-4466-a5a9-a3c50d1127fa"
      },
      "execution_count": null,
      "outputs": [
        {
          "output_type": "execute_result",
          "data": {
            "text/plain": [
              "(2, 1)"
            ]
          },
          "metadata": {},
          "execution_count": 43
        }
      ]
    },
    {
      "cell_type": "markdown",
      "source": [
        "### set"
      ],
      "metadata": {
        "id": "Dhz6svQeFWXH"
      }
    },
    {
      "cell_type": "code",
      "source": [
        "x = {1, 'a', 3., True}          # unique elements, 순서 보장X : not sequence!\n",
        "x\n",
        "type(x)"
      ],
      "metadata": {
        "id": "9H-4fAhlRsNI"
      },
      "execution_count": null,
      "outputs": []
    },
    {
      "cell_type": "markdown",
      "source": [
        "### dict : Mapping : Python의 핵심 자료형"
      ],
      "metadata": {
        "id": "163AdOX5F2uK"
      }
    },
    {
      "cell_type": "code",
      "source": [
        "x = {'a': 1, 'b': 2}            # {key1: value1, ...}\n",
        "x = dict(a=1, b=2)              # key가 변수명이 될 수 있다면(문자 및 _으로 시작, 문자, _, 숫자로 이루어짐, 특수문자/키워드X)\n",
        "\n",
        "x\n",
        "type(x)"
      ],
      "metadata": {
        "id": "eFQLv7sBRu6w"
      },
      "execution_count": null,
      "outputs": []
    },
    {
      "cell_type": "markdown",
      "source": [
        "### 생성, 조회(인덱싱, slice), 추가, 삭제, 변경"
      ],
      "metadata": {
        "id": "JUj2stozSZxz"
      }
    },
    {
      "cell_type": "code",
      "source": [
        "# 빈 객체 생성\n",
        "\n",
        "list(), []\n",
        "tuple()             # 못바꾸는데 빈 객체 생성?\n",
        "set()\n",
        "dict(), {}          # {}는 빈 딕트, 빈 세트X"
      ],
      "metadata": {
        "id": "n2EcjmRhGVch"
      },
      "execution_count": null,
      "outputs": []
    },
    {
      "cell_type": "code",
      "source": [
        "# type casting\n",
        "\n",
        "list((1, 2, 1))\n",
        "tuple([1, 2, 1])\n",
        "set([1, 2, 1])\n",
        "list('abcba')           # list(str객체)\n",
        "tuple('abcba')          # tuple(str객체)\n",
        "set('abcba')            # set(str객체)"
      ],
      "metadata": {
        "id": "rwqsSUdOGea9"
      },
      "execution_count": null,
      "outputs": []
    },
    {
      "cell_type": "code",
      "source": [
        "# list 조회(indexing/slicing), 변경\n",
        "\n",
        "l = [1, 2, 'a', True, 5]\n",
        "\n",
        "l[0], l[3]\n",
        "l[1:4]\n",
        "l[1:4:2]\n",
        "l[1:-1:2]\n",
        "l[::2]\n",
        "l[::-1]\n",
        "l[:]"
      ],
      "metadata": {
        "id": "LKUgPZMQG092"
      },
      "execution_count": null,
      "outputs": []
    },
    {
      "cell_type": "code",
      "source": [
        "# list 추가, 삭제\n",
        "\n",
        "l.insert(2, 3)\n",
        "l\n",
        "\n",
        "l.append(0)\n",
        "l\n",
        "\n",
        "l.extend([1, 2, 3])\n",
        "l\n",
        "\n",
        "l.pop()             # returns & deletes the final element\n",
        "l\n",
        "\n",
        "del l[0]\n",
        "l"
      ],
      "metadata": {
        "id": "tmsAgk2dHXoz"
      },
      "execution_count": null,
      "outputs": []
    },
    {
      "cell_type": "code",
      "source": [
        "l.index(3)      # 첫 번째 match index, 없으면 error"
      ],
      "metadata": {
        "id": "QoF5WkQpI2oU"
      },
      "execution_count": null,
      "outputs": []
    },
    {
      "cell_type": "code",
      "source": [
        "subway = [1, 2, 3]\n",
        "\n",
        "subway.append(100)\n",
        "subway"
      ],
      "metadata": {
        "colab": {
          "base_uri": "https://localhost:8080/"
        },
        "id": "sOxQ-oJI4yB1",
        "outputId": "972bb17f-4474-4d8c-e55a-66e48a4f6063"
      },
      "execution_count": null,
      "outputs": [
        {
          "output_type": "execute_result",
          "data": {
            "text/plain": [
              "[1, 2, 3, 100]"
            ]
          },
          "metadata": {},
          "execution_count": 20
        }
      ]
    },
    {
      "cell_type": "code",
      "source": [
        "subway.extend( [1000, 2000])\n",
        "subway"
      ],
      "metadata": {
        "colab": {
          "base_uri": "https://localhost:8080/"
        },
        "id": "ur_Mwn5E46rP",
        "outputId": "49ee09a2-1f3c-4d15-efc3-54f480e868cc"
      },
      "execution_count": null,
      "outputs": [
        {
          "output_type": "execute_result",
          "data": {
            "text/plain": [
              "[1, 2, 3, 100, 1000, 2000]"
            ]
          },
          "metadata": {},
          "execution_count": 21
        }
      ]
    },
    {
      "cell_type": "code",
      "source": [
        "subway.append( [1000, 2000])\n",
        "subway"
      ],
      "metadata": {
        "colab": {
          "base_uri": "https://localhost:8080/"
        },
        "id": "o9vmmddg5RD-",
        "outputId": "07eb3fa4-9757-47fc-d6ab-149a086265de"
      },
      "execution_count": null,
      "outputs": [
        {
          "output_type": "execute_result",
          "data": {
            "text/plain": [
              "[1, 2, 3, 100, 1000, 2000, [1000, 2000]]"
            ]
          },
          "metadata": {},
          "execution_count": 22
        }
      ]
    },
    {
      "cell_type": "code",
      "source": [
        "subway.insert(2, '*')\n",
        "subway"
      ],
      "metadata": {
        "colab": {
          "base_uri": "https://localhost:8080/"
        },
        "id": "41PNFRTI5MXZ",
        "outputId": "8972df23-3964-47e8-ffbc-97ac5aa58c68"
      },
      "execution_count": null,
      "outputs": [
        {
          "output_type": "execute_result",
          "data": {
            "text/plain": [
              "[1, 2, '*', 3, 100, 1000, 2000, [1000, 2000]]"
            ]
          },
          "metadata": {},
          "execution_count": 23
        }
      ]
    },
    {
      "cell_type": "code",
      "source": [
        "subway[2] = '****'\n",
        "subway"
      ],
      "metadata": {
        "colab": {
          "base_uri": "https://localhost:8080/"
        },
        "id": "wB3lxpJ55zrN",
        "outputId": "bcc83d16-fcd0-4ec0-c45e-05afc84120e6"
      },
      "execution_count": null,
      "outputs": [
        {
          "output_type": "execute_result",
          "data": {
            "text/plain": [
              "[1, 2, '****', 3, 100, 1000, 2000, [1000, 2000]]"
            ]
          },
          "metadata": {},
          "execution_count": 25
        }
      ]
    },
    {
      "cell_type": "code",
      "source": [
        "a = subway.pop()\n",
        "a\n",
        "subway"
      ],
      "metadata": {
        "colab": {
          "base_uri": "https://localhost:8080/"
        },
        "id": "F16Epte46Amx",
        "outputId": "2dbd12e2-14fd-438b-edf3-62fcdbbaf112"
      },
      "execution_count": null,
      "outputs": [
        {
          "output_type": "execute_result",
          "data": {
            "text/plain": [
              "[1000, 2000]"
            ]
          },
          "metadata": {},
          "execution_count": 26
        },
        {
          "output_type": "execute_result",
          "data": {
            "text/plain": [
              "[1, 2, '****', 3, 100, 1000, 2000]"
            ]
          },
          "metadata": {},
          "execution_count": 26
        }
      ]
    },
    {
      "cell_type": "code",
      "source": [
        "'I am a girl.'.count('a')"
      ],
      "metadata": {
        "colab": {
          "base_uri": "https://localhost:8080/"
        },
        "id": "Tbwb2zlU5zA2",
        "outputId": "7ca5775a-b983-4f0a-f4df-3584a4185dab"
      },
      "execution_count": null,
      "outputs": [
        {
          "output_type": "execute_result",
          "data": {
            "text/plain": [
              "2"
            ]
          },
          "metadata": {},
          "execution_count": 27
        }
      ]
    },
    {
      "cell_type": "code",
      "source": [
        "subway.clear()\n",
        "subway"
      ],
      "metadata": {
        "colab": {
          "base_uri": "https://localhost:8080/"
        },
        "id": "75xjsG9b6jt1",
        "outputId": "2a5f81d4-028a-4f15-c6ef-448f257401fa"
      },
      "execution_count": null,
      "outputs": [
        {
          "output_type": "execute_result",
          "data": {
            "text/plain": [
              "[]"
            ]
          },
          "metadata": {},
          "execution_count": 28
        }
      ]
    },
    {
      "cell_type": "code",
      "source": [
        "nums = [5, 2, 4, 3, 1]\n",
        "\n",
        "nums.sort(reverse=True)  # in-place\n",
        "nums"
      ],
      "metadata": {
        "colab": {
          "base_uri": "https://localhost:8080/"
        },
        "id": "o04HU7k96qTW",
        "outputId": "09ea34dc-4725-4ba3-d75d-b927af73a040"
      },
      "execution_count": null,
      "outputs": [
        {
          "output_type": "execute_result",
          "data": {
            "text/plain": [
              "[5, 4, 3, 2, 1]"
            ]
          },
          "metadata": {},
          "execution_count": 30
        }
      ]
    },
    {
      "cell_type": "code",
      "source": [
        "nums = [5, 2, 4, 3, 1]\n",
        "\n",
        "nums_ = nums.sort()  # -> None\n",
        "nums_\n",
        "nums"
      ],
      "metadata": {
        "colab": {
          "base_uri": "https://localhost:8080/"
        },
        "id": "36Yy-5097Irj",
        "outputId": "35287ec6-1665-4fa3-c9b4-c641637f821e"
      },
      "execution_count": null,
      "outputs": [
        {
          "output_type": "execute_result",
          "data": {
            "text/plain": [
              "[1, 2, 3, 4, 5]"
            ]
          },
          "metadata": {},
          "execution_count": 32
        }
      ]
    },
    {
      "cell_type": "code",
      "source": [
        "nums = [5, 2, 4, 3, 1]\n",
        "nums_ = nums.sort() # sorted(nums)\n",
        "nums_\n",
        "nums"
      ],
      "metadata": {
        "colab": {
          "base_uri": "https://localhost:8080/"
        },
        "id": "jb74V-Nm7G9N",
        "outputId": "309a9710-c841-4f17-b0a6-48cf4f209b67"
      },
      "execution_count": null,
      "outputs": [
        {
          "output_type": "execute_result",
          "data": {
            "text/plain": [
              "[1, 2, 3, 4, 5]"
            ]
          },
          "metadata": {},
          "execution_count": 37
        }
      ]
    },
    {
      "cell_type": "code",
      "source": [
        "nums = [5, 2, 4, 3, 1]\n",
        "\n",
        "nums[::-1]"
      ],
      "metadata": {
        "colab": {
          "base_uri": "https://localhost:8080/"
        },
        "id": "G9zWKyrb8zqI",
        "outputId": "2ec4ee33-79c0-4671-f6c5-20268478cc69"
      },
      "execution_count": null,
      "outputs": [
        {
          "output_type": "execute_result",
          "data": {
            "text/plain": [
              "[1, 3, 4, 2, 5]"
            ]
          },
          "metadata": {},
          "execution_count": 38
        }
      ]
    },
    {
      "cell_type": "code",
      "source": [
        "'abcdefg~z'[::-1]"
      ],
      "metadata": {
        "colab": {
          "base_uri": "https://localhost:8080/",
          "height": 35
        },
        "id": "WrfV1nXU8-Gz",
        "outputId": "4dc57d8b-e4fd-4744-f8f5-d7a0d4b31b44"
      },
      "execution_count": null,
      "outputs": [
        {
          "output_type": "execute_result",
          "data": {
            "text/plain": [
              "'z~gfedcba'"
            ],
            "application/vnd.google.colaboratory.intrinsic+json": {
              "type": "string"
            }
          },
          "metadata": {},
          "execution_count": 39
        }
      ]
    },
    {
      "cell_type": "code",
      "source": [],
      "metadata": {
        "id": "xYdm8VOK8lm9"
      },
      "execution_count": null,
      "outputs": []
    },
    {
      "cell_type": "code",
      "source": [
        "l = []\n",
        "l.append([1, 2, 3])\n",
        "l.append([4, 5, 6])\n",
        "l.append([7, 8, 9])\n",
        "l\n",
        "l[1]\n",
        "l[1][1]\n",
        "\n",
        "l.pop()\n",
        "l"
      ],
      "metadata": {
        "id": "sf95NSGPHxrp"
      },
      "execution_count": null,
      "outputs": []
    },
    {
      "cell_type": "code",
      "source": [
        "# tuple 조회 : 인덱스, slice\n",
        "\n",
        "t = (1, 0, 'a', True, 5)\n",
        "t\n",
        "\n",
        "t.index('a')\n",
        "t.index(True)"
      ],
      "metadata": {
        "id": "mHm7X_ZNJdRP"
      },
      "execution_count": null,
      "outputs": []
    },
    {
      "cell_type": "code",
      "source": [
        "# list, tuple : + * += *=\n",
        "\n",
        "[1, 2] + [3, 4]\n",
        "[1, 2] * 3\n",
        "3 * [1, 2]\n",
        "\n",
        "(1,) + (2, 3)\n",
        "3 * (1,)"
      ],
      "metadata": {
        "id": "E3rhuiDNJxPl"
      },
      "execution_count": null,
      "outputs": []
    },
    {
      "cell_type": "code",
      "source": [
        "l = [1, 2]\n",
        "t = tuple(l)\n",
        "\n",
        "l *= 3\n",
        "l\n",
        "t *= 3\n",
        "t"
      ],
      "metadata": {
        "id": "8E0DzncdLMo_"
      },
      "execution_count": null,
      "outputs": []
    },
    {
      "cell_type": "code",
      "source": [
        "# set\n",
        "\n",
        "# a.add(원소)\n",
        "# a.remove(원소)        # 원소가 없으면 에러 발생\n",
        "# a.discard(원소)       # 원소가 없으면 그냥 넘어감\n",
        "# a.pop()              # 임의의 원소 반환 및 삭제\n",
        "# a.clear()"
      ],
      "metadata": {
        "id": "lQANV4cAObOr"
      },
      "execution_count": null,
      "outputs": []
    },
    {
      "cell_type": "code",
      "source": [
        "# a | b, set.union(a, b)                    # a |= b\n",
        "# a & b, set.intersection(a, b)             # a &= b\n",
        "# a - b, set.difference(a, b)               # a -= b\n",
        "# a ^ b, set.symmetric_difference(a, b)     # a ^= b"
      ],
      "metadata": {
        "id": "ewK8fJzZL2ML"
      },
      "execution_count": null,
      "outputs": []
    },
    {
      "cell_type": "code",
      "source": [
        "# a <= b, a.issubset(b)\n",
        "# a < b\n",
        "# a >= b, a.issuperset(b)\n",
        "# a > b\n",
        "# a == b\n",
        "# a.isdisjoint(b)"
      ],
      "metadata": {
        "id": "qfYbRn9-NzN9"
      },
      "execution_count": null,
      "outputs": []
    },
    {
      "cell_type": "code",
      "source": [
        "# dict\n",
        "\n",
        "d = dict(a=1, b=2, c=3)         # {'a': 1, 'b': 2, 'c': 3}\n",
        "d\n",
        "\n",
        "d.keys()\n",
        "d.values()\n",
        "d.items()"
      ],
      "metadata": {
        "id": "1EbnsxK8L7Y0"
      },
      "execution_count": null,
      "outputs": []
    },
    {
      "cell_type": "code",
      "source": [
        "# 조회\n",
        "\n",
        "d['a']                      # 없으면 KeyError\n",
        "d.get('c')                  # default=None\n",
        "d.get('z', 'not found')"
      ],
      "metadata": {
        "id": "V1xL1icvO_Tj"
      },
      "execution_count": null,
      "outputs": []
    },
    {
      "cell_type": "code",
      "source": [
        "# 변경, 추가\n",
        "\n",
        "d['a'] = 0\n",
        "d['z'] = 'z'\n",
        "d"
      ],
      "metadata": {
        "id": "fcjpIwyvPpE9"
      },
      "execution_count": null,
      "outputs": []
    },
    {
      "cell_type": "code",
      "source": [
        "# 삭제\n",
        "\n",
        "d.pop('z')\n",
        "d\n",
        "\n",
        "del d['c']\n",
        "d"
      ],
      "metadata": {
        "id": "xu6a3vE6Psv8"
      },
      "execution_count": null,
      "outputs": []
    },
    {
      "cell_type": "code",
      "source": [
        "# 업데이트 : 변경 + 추가\n",
        "\n",
        "d.update({'b': 100, 'x': 'a'})          # d |= ...\n",
        "d"
      ],
      "metadata": {
        "id": "Xd9xlClQPbGh"
      },
      "execution_count": null,
      "outputs": []
    },
    {
      "cell_type": "code",
      "source": [
        "# collection type : sequence(list, tuple, str) + set + mapping\n",
        "# -> len(객체), 원소 in 객체, iterable\n",
        "# sequence는 reversed() : from 3.6"
      ],
      "metadata": {
        "id": "CfLl3be2L7xu"
      },
      "execution_count": null,
      "outputs": []
    },
    {
      "cell_type": "code",
      "source": [
        "len(d)\n",
        "'a' in d\n",
        "'z' in d\n",
        "'x' not in d"
      ],
      "metadata": {
        "id": "FkCHQoc1Qie-"
      },
      "execution_count": null,
      "outputs": []
    },
    {
      "cell_type": "markdown",
      "source": [
        "### sequence comparison"
      ],
      "metadata": {
        "id": "_LMCKc4VSoKB"
      }
    },
    {
      "cell_type": "code",
      "source": [
        "(1, 2, 3) > (1, 1, 100)         # tuple comparison"
      ],
      "metadata": {
        "id": "DnnBEranSnWd"
      },
      "execution_count": null,
      "outputs": []
    },
    {
      "cell_type": "code",
      "source": [
        "'abc' > 'abC'                   # ord('c'), ord('C')"
      ],
      "metadata": {
        "id": "i5IClKbcS0Cf"
      },
      "execution_count": null,
      "outputs": []
    },
    {
      "cell_type": "markdown",
      "source": [
        "## 제어: if, for/while, range, enumerate"
      ],
      "metadata": {
        "id": "-hX0CsysKYSA"
      }
    },
    {
      "cell_type": "code",
      "source": [
        "# if 객체/expression->bool:       # False, falsy: 0, 0., '', None, length 0\n",
        "#     만족하면 실행\n",
        "# elif 객체/expression:\n",
        "#     앞에 다 아니고 이 경우이면 실행   # mutual exclusion\n",
        "# else:\n",
        "#     다 아니면 실행"
      ],
      "metadata": {
        "id": "5TwdvsmIXKCP"
      },
      "execution_count": null,
      "outputs": []
    },
    {
      "cell_type": "code",
      "source": [
        "# while 객체/expression:\n",
        "#     pass\n",
        "#     continue              # 아래 실행X, 바로 while문 조건으로\n",
        "#     break                 # 한 단계 loop만 빠져나감"
      ],
      "metadata": {
        "id": "zpXPZGZfzISg"
      },
      "execution_count": null,
      "outputs": []
    },
    {
      "cell_type": "code",
      "source": [
        "# for 변수 in iterable:     # Sequence(리스트/튜플/str), set, dict, range\n",
        "#     pass\n",
        "#     continue/break"
      ],
      "metadata": {
        "id": "SzsUwVXgzS1h"
      },
      "execution_count": null,
      "outputs": []
    },
    {
      "cell_type": "code",
      "source": [
        "# range(stop)               # (0, 1, ..., stop-1)\n",
        "# range(start, stop)        # (start, start + 1, ..., stop-1)\n",
        "# range(start, stop, step)  # (start, start + step, ..., start + _ * step < stop)"
      ],
      "metadata": {
        "id": "V4Eb62Y8zZhZ"
      },
      "execution_count": null,
      "outputs": []
    },
    {
      "cell_type": "code",
      "source": [
        "# enumerate(iterable)          -> (0, iterable[0]), (1, iterable[1]), ...\n",
        "# enumerate(iterable, start=0) -> (start, iterable[0]), (start+1, iterable[1])"
      ],
      "metadata": {
        "id": "sojteLCtzjej"
      },
      "execution_count": null,
      "outputs": []
    },
    {
      "cell_type": "markdown",
      "source": [
        "## comprehension : list/set/dict, gen-exp"
      ],
      "metadata": {
        "id": "M0VqvBJJ5PQp"
      }
    },
    {
      "cell_type": "code",
      "source": [
        "# list-comp\n",
        "\n",
        "# [변수expression for 변수 in iterable if 조건]\n",
        "\n",
        "# 1~10 중 홀수만 구해서 제곱하기\n",
        "[i ** 2 for i in range(1, 11) if i % 2]"
      ],
      "metadata": {
        "id": "09SAF1NO0Sfc"
      },
      "execution_count": null,
      "outputs": []
    },
    {
      "cell_type": "code",
      "source": [
        "# [expression for 변수1 in iterable1 for 변수2 in itetable2 if 조건2]\n",
        "\n",
        "# result = []\n",
        "# for 변수1 in iterable1:\n",
        "#     for 변수2 in iterable2:\n",
        "#         if 조건2:\n",
        "#             result.append(expression)"
      ],
      "metadata": {
        "id": "jbyjcQ_1D7RY"
      },
      "execution_count": null,
      "outputs": []
    },
    {
      "cell_type": "markdown",
      "source": [
        "### quiz"
      ],
      "metadata": {
        "id": "f24goQ3NsvYB"
      }
    },
    {
      "cell_type": "code",
      "source": [
        "# 임의의 숫자에 대해 만단위, 억단위 등 4자리수 단위로 '_'로 구분해보세요~\n",
        "\n",
        "numbers = [200, 10000, 2220000, 33331111, 555556666]\n",
        "\n",
        "# 답 : '200', '1_0000', '222_0000', '3333_1111', '5_5555_6666'"
      ],
      "metadata": {
        "id": "zLNkjzCasuP6"
      },
      "execution_count": null,
      "outputs": []
    },
    {
      "cell_type": "code",
      "source": [
        "for num in numbers:\n",
        "    num = str(num)\n",
        "    num_ = num[::-1]\n",
        "    # num_[0:4], num_[4:8], ...\n",
        "    nums_backlist = [num_[i: i+4] for i in range(0, len(num_), 4)]\n",
        "    # print(nums_backlist)\n",
        "    nums_back = '_'.join(nums_backlist)\n",
        "    nums_res = nums_back[::-1]\n",
        "    print(num, nums_res)\n"
      ],
      "metadata": {
        "id": "wj9zdF86tO9C"
      },
      "execution_count": null,
      "outputs": []
    },
    {
      "cell_type": "code",
      "source": [
        "# quiz: 4자리수 단위마다 '_'로 구분된 정수 str을 int 형으로 바꿔보세요~\n",
        "# quiz: 3자리수 단위마다 ','로 구분된 정수 str을 int 형으로 바꿔보세요~"
      ],
      "metadata": {
        "id": "GMENbXyUum4-"
      },
      "execution_count": null,
      "outputs": []
    },
    {
      "cell_type": "markdown",
      "source": [
        "## iterable unpacking"
      ],
      "metadata": {
        "id": "Q5znr9-zRNTu"
      }
    },
    {
      "cell_type": "code",
      "source": [
        "x, y = 1, 2             # tuple unpacking\n",
        "\n",
        "x, y = y, x"
      ],
      "metadata": {
        "id": "NSmNyBGZ2ycG"
      },
      "execution_count": null,
      "outputs": []
    },
    {
      "cell_type": "code",
      "source": [
        "a = {2, 1}      # set([2, 1])\n",
        "a0, a1 = a\n",
        "a0, a1"
      ],
      "metadata": {
        "id": "EhoqnCkZ0J4l",
        "colab": {
          "base_uri": "https://localhost:8080/"
        },
        "outputId": "72e78c09-c444-4097-eb19-ea63ed0bbb52"
      },
      "execution_count": null,
      "outputs": [
        {
          "output_type": "execute_result",
          "data": {
            "text/plain": [
              "(1, 2)"
            ]
          },
          "metadata": {},
          "execution_count": 1
        }
      ]
    },
    {
      "cell_type": "markdown",
      "source": [
        "## 함수: def, return, yield, parameters"
      ],
      "metadata": {
        "id": "w8OO4cFqKic8"
      }
    },
    {
      "cell_type": "code",
      "source": [
        "# def 함수명(인수):\n",
        "#     pass\n",
        "#     return 결과값/객체"
      ],
      "metadata": {
        "id": "Ghh83vwg0Rzq"
      },
      "execution_count": null,
      "outputs": []
    },
    {
      "cell_type": "code",
      "source": [
        "# positional parameter\n",
        "# keyword parameter\n",
        "\n",
        "# def 함수명(*args, **kwargs):\n",
        "#     print(args)\n",
        "#     print(kwargs)"
      ],
      "metadata": {
        "id": "MAwJr6Yw1vRi"
      },
      "execution_count": null,
      "outputs": []
    },
    {
      "cell_type": "markdown",
      "source": [
        "### quiz"
      ],
      "metadata": {
        "id": "jtjSDedxvXmO"
      }
    },
    {
      "cell_type": "code",
      "source": [
        "# 임의의 객체에 대해 hash값을 주는 함수가 있을때, 처음 5자리가 '0'이 될 때까지 nonce값을 구하시오 : ~ 비트코인 PoW\n",
        "\n",
        "import json\n",
        "from hashlib import hash\n",
        "\n",
        "def get_hash(obj, nonce):\n",
        "    obj_ = json.dumps(obj).encode()\n",
        "    nonce = str(nonce).encode()\n",
        "    return hash(obj + nonce).hexdigest()\n",
        "\n",
        "obj, nonce = dict(), 0\n",
        "while get_hash(obj, nonce)[:5] != '0' * 5:\n",
        "    nonce += 1"
      ],
      "metadata": {
        "id": "R9ND4w1IvXMh"
      },
      "execution_count": null,
      "outputs": []
    },
    {
      "cell_type": "markdown",
      "source": [
        "## .sort, sorted()"
      ],
      "metadata": {
        "id": "MLx1Y5r_RSOo"
      }
    },
    {
      "cell_type": "code",
      "source": [
        "# 리스트.sort()     # in-place, -> None\n",
        "# sorted(이터러블) -> 리스트"
      ],
      "metadata": {
        "id": "kMYQLu5LkR1s"
      },
      "execution_count": null,
      "outputs": []
    },
    {
      "cell_type": "code",
      "source": [
        "# 리스트.sort(key=None, reverse=False)\n",
        "# sorted(이터러블, key=None, reverse=False)\n",
        "\n",
        "# key: one-arg 함수/메서드/callable -> 비교가능한 값(int, float, str, tuple/sequence, ...)"
      ],
      "metadata": {
        "id": "kYZ9iZqZkgnY"
      },
      "execution_count": null,
      "outputs": []
    },
    {
      "cell_type": "markdown",
      "source": [
        "## zip"
      ],
      "metadata": {
        "id": "AzCcRNWaRWAM"
      }
    },
    {
      "cell_type": "code",
      "source": [
        "a = 'abcdef'\n",
        "b = range(3)\n",
        "c = range(5)\n",
        "\n",
        "result = zip(a, b, c)           # zip(*iterables, strict=False)\n",
        "list(result)"
      ],
      "metadata": {
        "id": "8p17-_AR0_km",
        "colab": {
          "base_uri": "https://localhost:8080/"
        },
        "outputId": "6f91c831-ea52-492d-b410-f3b375329a7a"
      },
      "execution_count": 1,
      "outputs": [
        {
          "output_type": "execute_result",
          "data": {
            "text/plain": [
              "[('a', 0, 0), ('b', 1, 1), ('c', 2, 2)]"
            ]
          },
          "metadata": {},
          "execution_count": 1
        }
      ]
    },
    {
      "cell_type": "code",
      "source": [
        "result = zip(a, b, c)\n",
        "\n",
        "list(zip(*result))"
      ],
      "metadata": {
        "colab": {
          "base_uri": "https://localhost:8080/"
        },
        "id": "Kreg5dKX3Q8T",
        "outputId": "41b87012-7220-4a8b-e1ab-e3a041a9c5d7"
      },
      "execution_count": 2,
      "outputs": [
        {
          "output_type": "execute_result",
          "data": {
            "text/plain": [
              "[('a', 'b', 'c'), (0, 1, 2), (0, 1, 2)]"
            ]
          },
          "metadata": {},
          "execution_count": 2
        }
      ]
    },
    {
      "cell_type": "markdown",
      "source": [
        "## 표준 패키지: copy, random, math, time, datetime, collections(namedtuple, DefaultDict), ..."
      ],
      "metadata": {
        "id": "sEb7B6aLL9ei"
      }
    },
    {
      "cell_type": "code",
      "source": [
        "# random\n",
        "\n",
        "import random\n",
        "\n",
        "random.sample(range(1, 46), 6)"
      ],
      "metadata": {
        "id": "TiaYb3ihh6d2"
      },
      "execution_count": null,
      "outputs": []
    },
    {
      "cell_type": "markdown",
      "source": [
        "## 예외 처리: assert, raise, try/except/else/finally"
      ],
      "metadata": {
        "id": "dLI6TKX2XLUi"
      }
    },
    {
      "cell_type": "markdown",
      "source": [
        "## 클래스: class, 속성(클래스/인스턴스), 메서드(클래스/인스턴스/스태틱)"
      ],
      "metadata": {
        "id": "hpYtMYMTKnnB"
      }
    },
    {
      "cell_type": "code",
      "source": [
        "# class 클라스명(상속할클라스):\n",
        "#     클라스속성\n",
        "#     def 인스턴스메서드(인수):\n",
        "#         pass"
      ],
      "metadata": {
        "id": "G1FCjs9IJPpW"
      },
      "execution_count": null,
      "outputs": []
    },
    {
      "cell_type": "code",
      "source": [
        "class SampleClass:          # (object)\n",
        "    def __init__(self, num):\n",
        "        self.number = num\n",
        "\n",
        "    def get_number(self):\n",
        "        return self.number\n",
        "\n",
        "sample = SampleClass(6)\n",
        "sample"
      ],
      "metadata": {
        "id": "JHm0Wm8X2Z7o"
      },
      "execution_count": null,
      "outputs": []
    },
    {
      "cell_type": "code",
      "source": [
        "print(sample.number)\n",
        "\n",
        "sample.get_number()"
      ],
      "metadata": {
        "id": "qlprjJzD2rD6"
      },
      "execution_count": null,
      "outputs": []
    },
    {
      "cell_type": "code",
      "source": [],
      "metadata": {
        "id": "lI7HkBJt2xj6"
      },
      "execution_count": null,
      "outputs": []
    },
    {
      "cell_type": "markdown",
      "source": [
        "## 외부 패키지: numpy, matplotlib, pandas"
      ],
      "metadata": {
        "id": "VnlzaCdgKuEK"
      }
    },
    {
      "cell_type": "code",
      "source": [],
      "metadata": {
        "id": "Ft2JyKrx4oAi"
      },
      "execution_count": null,
      "outputs": []
    },
    {
      "cell_type": "markdown",
      "source": [
        "# Deep Learning (DL)\n",
        "- 1989: neural networks (nn) and DL as a way of replacing any mathematical function in an approximate way(George Cybenko, Approximation by Superpositions of Sigmoidal Functions)\n",
        "- GPU for gaming : performance & affordability\n",
        "- 2009: training nn is based on performing lots of matrix operations and these GPUs can speed up training as well as make larger, deeper architectures(Rajat Raina et al., Large-Scale Deep Unsupervised Learning Using Graphics Processors)\n",
        "- 2010s: Dropout 등 DL technic 발전 -> TPU\n",
        "- 2012년까지 ImageNet competition (14 million+ pictures, manually labeled into 20000 categories) error rate 25% -> DL(AlexNet w/ MaxPool, Dropout, ReLU) 16%로 우승\n",
        "- 2015, ResNet(Microsoft) 3.6% (사람 평균 5%)"
      ],
      "metadata": {
        "id": "4-I7dPr114Xa"
      }
    },
    {
      "cell_type": "code",
      "source": [],
      "metadata": {
        "id": "QeOTFk4214D6"
      },
      "execution_count": null,
      "outputs": []
    },
    {
      "cell_type": "markdown",
      "source": [
        "# pytorch\n",
        "- open source library released by Facebook in 2017"
      ],
      "metadata": {
        "id": "ZIPhHXTA1epQ"
      }
    },
    {
      "cell_type": "code",
      "source": [],
      "metadata": {
        "id": "rsh2xpqW1eS7"
      },
      "execution_count": null,
      "outputs": []
    }
  ]
}