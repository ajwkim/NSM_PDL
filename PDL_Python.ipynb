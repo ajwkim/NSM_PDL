{
  "cells": [
    {
      "cell_type": "markdown",
      "metadata": {
        "id": "nvuWL6cXkkaX"
      },
      "source": [
        "# Python 인공지능 연구 동호회\n",
        "## 배경 및 필요성\n",
        "- Python은 Guido van Rossum(네덜란드 소프트웨어 엔지니어)이 개발, 1991년 공개, 이후 2008년 Python3로 발전\n",
        "- 간결하고 쉽고 일관된(consistent: Pythonic) 문법의 객체(object) 지향, 인터프리터 언어\n",
        "- open source 정신으로 방대한 외부 패키지가 구축되어 있으며, 활용 용이: Deep Learning(DL) 관련 패키지들(구글의 Tensorflow, Meta의 Pytorch 등)이 잘 갖춰져 있음 -> DL 시작에 이상적 언어\n",
        "- 프로그램 개발자의 코딩 시간 비용(고급인력 인건비) 문제가 점점 중요해지고, 개발자는 3:7의 비율로 쓰기:읽기에 시간을 보낸다는 조사 결과 -> 읽기 쉬운 코드 짜기!\n",
        "- DL 기법은 ImageNet의 이미지 인식 대회에서 2012년 압도적으로 우승(Geoffrey Hinton, AlexNet)한 이후 ML계의 주류로 각광 받기 시작한 이래, 최근 chatGPT 등을 통해 대중의 폭발적 관심을 얻고 있음\n",
        "- 딥러닝을 활용한 강화학습(RL: Reinforcement Learning)은 이세돌과 AlphaGo 바둑 대결(2016년)을 통해 그간 불가능하게 여겨졌던 바둑 분야에서 인공지능이 인간 능력을 압도할 수 있음을 입증했으며, 비록 훈련과 실제 적용에 까다로움이 있으나 rule 학습을 할 수 있는 인공지능으로 각광받고 있음\n",
        "- 패턴 학습을 위한 딥러닝(DL)과 rule 학습을 위한 강화학습(DRL)의 원리 이해와 실제 구현을 위해, 가장 쉽고 접근성이 뛰어난 Python 언어의 기초부터 필요한 부분만 shortcut 학습/경험 공유하고, 점진적으로 지식/경험의 폭을 넓힘\n",
        "\n",
        "## 연구 환경 및 목표\n",
        "### 연구 환경\n",
        "- wifi 등 인터넷 환경, 개인 노트북(인터넷 접속 가능, 고사양 필요 없음), 구글 계정(colab 사용), Python 입문서(제공)\n",
        "\n",
        "### 동호회 가입 자격\n",
        "- Python 코딩과 AI에 관심있는 누구나\n",
        "\n",
        "### 연구 목표\n",
        "1. DL(패턴 학습: 이미지, 문장 등)과 RL(rule 학습) 이해에서 직접 구현/응용까지를 목표로, 필요한 Python 언어와 패키지(Pytorch 등)의 최소 깊이 학습 -> 정확한 개념 -> 향후 확장 가능성\n",
        "2. 추가적으로 가능하다면, 보다 깊이있는 이해와 구현을 위해\n",
        "    - Python 고급 과정: 당장 필요하지는 않으나, 보다 효율적이고 깊이있는 구현\n",
        "    - 딥러닝의 한계 극복: 설명 가능 AI 등\n",
        "    - 일반 인공지능(AGI) 연구\n",
        "    - Quantum computing 등에 대한 고민 : 근본적 병렬 컴퓨팅\n",
        "\n",
        "### 진행 방식\n",
        "- 격주 화요일 점심(12:00~13:00) 모임, 필요시 심도있는 토론을 위해 만찬 모임\n",
        "- 제공되는 전체 학습 목차에 따라 개별 입문서 예습 후 점심 모임에서 주요사항 짚기, 또는 점심 모임의 주요사항을 개별적으로 입문서를 보며 복습 : 동호회 의견에 띠리 유동적으로 조정"
      ]
    },
    {
      "cell_type": "code",
      "execution_count": null,
      "metadata": {
        "id": "dsBXVuNlnzXZ"
      },
      "outputs": [],
      "source": []
    },
    {
      "cell_type": "markdown",
      "metadata": {
        "id": "piMQN-1nm8sv"
      },
      "source": [
        "# Python 환경 설정\n",
        "- Google colab: 무료, 파이썬 환경과 CPU/GPU/TPU 등 사용 가능. 그러나 중요한 파일은 Google Drive 등에 별도 저장해야 하고, 세션 연결이 불안정할 수 있음\n",
        "    - colab.research.google.com 접속(또는 구글에서 colab 검색)\n",
        "        - shift enter: 셀 실행\n",
        "        - alt/option enter: 셀 실행 + 아래 빈 셀 만들기\n",
        "- 또는 local 가상환경을 만들어 개인 컴퓨터에서 실행: Anaconda 등 가상환경 관리자 설치, vscode 등 편집기(IDE) 설치, 개인 컴퓨터 사양에 따라 DL 속도 좌우\n",
        "    - 가상환경 관리자는 Anaconda, venv, poetry 등 몇 가지 종류가 있으며 pyTorch 사용을 염두에 둘 경우 Anaconda 사용(anaconda.org)\n",
        "    - 최근 poetry라는 가상환경 관리자가 각광받고 있음(python-poetry.org)\n",
        "    - 초보자는 그냥 Anaconda 사용이 편리함"
      ]
    },
    {
      "cell_type": "code",
      "execution_count": null,
      "metadata": {
        "id": "vgQMcsGHn1N6"
      },
      "outputs": [],
      "source": []
    },
    {
      "cell_type": "markdown",
      "metadata": {
        "id": "cLJ1lVTwJc4D"
      },
      "source": [
        "# Python 기초 프로그래밍"
      ]
    },
    {
      "cell_type": "markdown",
      "metadata": {
        "id": "nmvVFICMoKPV"
      },
      "source": [
        "- 파일명.py    : 파이썬 스크립트 파일, 실행 가능: >python 파일명.py\n",
        "- 파일명.ipynb : Jupyter notebook 파일. 코드와 실행 결과를 하나의 노트북에서 확인"
      ]
    },
    {
      "cell_type": "code",
      "execution_count": 1,
      "metadata": {
        "id": "lYeo-cO3ztQU"
      },
      "outputs": [],
      "source": [
        "from IPython.core.interactiveshell import InteractiveShell\n",
        "InteractiveShell.ast_node_interactivity = 'all'             # 셀 내 모든 값 프린트, 기본은 'last_expr'"
      ]
    },
    {
      "cell_type": "code",
      "execution_count": null,
      "metadata": {
        "id": "qfwq7TXW2Tzp"
      },
      "outputs": [],
      "source": [
        "# python version 확인: python3(2008년~, 하위 호환X)\n",
        "\n",
        "import sys          # 표준 라이브러리 sys\n",
        "sys.version         # sys의 version 속성"
      ]
    },
    {
      "cell_type": "code",
      "execution_count": null,
      "metadata": {
        "id": "vf9Y4t122YwW"
      },
      "outputs": [],
      "source": [
        "# python reference\n",
        "\n",
        "# 공식 홈: docs.python.org/3/search.html\n",
        "# google/naver 검색: python ~\n",
        "# help(~), ~?, ?~\n",
        "\n",
        "# help(sum)\n",
        "# ?sum\n",
        "sum?"
      ]
    },
    {
      "cell_type": "code",
      "execution_count": null,
      "metadata": {
        "id": "2hVjW_tB23sC"
      },
      "outputs": [],
      "source": [
        "# 외부 패키지(라이브러리) 검색: pypi.org 또는 anaconda.org\n",
        "\n",
        "# 유용한 사이트:\n",
        "# - codingdojang.com: 난이도순, 직접 풀어본 후 python 풀이 참고\n",
        "# - wikidocs.net: 무료 ebook\n",
        "# - kaggle.com/competitions"
      ]
    },
    {
      "cell_type": "markdown",
      "metadata": {
        "id": "9ly9T-Oi0Bip"
      },
      "source": [
        "## 기초 문법"
      ]
    },
    {
      "cell_type": "code",
      "execution_count": null,
      "metadata": {
        "id": "o6QLGuLNz_Rq"
      },
      "outputs": [],
      "source": [
        "# 대소문자 구분\n",
        "\n",
        "a = 1\n",
        "A = 2\n",
        "a\n",
        "A"
      ]
    },
    {
      "cell_type": "code",
      "execution_count": null,
      "metadata": {
        "id": "mYMH7UbS0Ksl"
      },
      "outputs": [],
      "source": [
        "# block은 4칸 띄움(indentation) : 엄격 : if, for, while, 함수, class 등\n",
        "# 세미콜론 안씀. 두 줄 이상을 한 줄에 쓰는 이상한 경우에만\n",
        "\n",
        "a = 1; A = 2\n",
        "a\n",
        "A"
      ]
    },
    {
      "cell_type": "code",
      "execution_count": null,
      "metadata": {
        "id": "dE7OJpS30Vav"
      },
      "outputs": [],
      "source": [
        "# 주석(comment) : #, ctrl/command /\n",
        "\n",
        "# a = 1"
      ]
    },
    {
      "cell_type": "code",
      "execution_count": null,
      "metadata": {
        "id": "qHJoEEVw0v-8"
      },
      "outputs": [],
      "source": [
        "# 변수(객체)명\n",
        "#   문자(_ 포함)부터 시작, 문자와 숫자 사용 가능, 대소문자 구분\n",
        "#   사용불가 : 특수문자(+-/$@&% 등), 파이썬 키워드(if for while and or 등)\n",
        "\n",
        "# a, a2, a2c, _a, __a, a_, _a_"
      ]
    },
    {
      "cell_type": "code",
      "execution_count": null,
      "metadata": {
        "id": "ozN_a9YF07zy"
      },
      "outputs": [],
      "source": [
        "# 변수에 객체(object) 할당(assignment operator =)\n",
        "\n",
        "a = 1       # type 지정 필요 없음\n",
        "            # object(RHS) is evaluated & created before the assignment operation\n",
        "            # label 'a' is attached(bound) to the object\n",
        "b = a       # attaches label 'b' to the object that already has the label 'a'\n",
        "            # object 1 is copied\n",
        "\n",
        "x = y = z = 1_0000      # 10000, 10_000\n",
        "\n",
        "x = 10\n",
        "y = 20\n",
        "# tmp = x\n",
        "# x = y\n",
        "# y = tmp\n",
        "\n",
        "x, y = y, x         # 두 변수의 값 서로 바꾸기 : tuple/iterable unpacking\n",
        "\n",
        "a\n",
        "b\n",
        "x\n",
        "y"
      ]
    },
    {
      "cell_type": "code",
      "execution_count": null,
      "metadata": {
        "id": "4IMF8nWE1g_L"
      },
      "outputs": [],
      "source": [
        "# 변수 지우기\n",
        "\n",
        "del a\n",
        "del b, x, y, z\n",
        "\n",
        "# 변수를 지우면 객체에 대한 reference가 사라짐 ->\n",
        "# garbage collector : reference가 하나도 없는 객체는 삭제됨"
      ]
    },
    {
      "cell_type": "code",
      "execution_count": null,
      "metadata": {
        "id": "BFjdeBkGjImU"
      },
      "outputs": [],
      "source": [
        "a"
      ]
    },
    {
      "cell_type": "code",
      "execution_count": null,
      "metadata": {
        "id": "HQA-CQll1b2K"
      },
      "outputs": [],
      "source": [
        "# Hello, world!\n",
        "\n",
        "print('Hello, world!')      # print(객체)\n",
        "                            # print(객체1, 객체2, ...)\n",
        "                            # print(객체1[, ...], sep=' ', end='\\n')"
      ]
    },
    {
      "cell_type": "code",
      "execution_count": null,
      "metadata": {
        "id": "An6H1kXxnqJy"
      },
      "outputs": [],
      "source": [
        "a = 'Hello, '\n",
        "b = 'World'\n",
        "a + b           # string concatenation\n",
        "\n",
        "a = 1\n",
        "b = 2\n",
        "a + b           # int/float addition"
      ]
    },
    {
      "cell_type": "code",
      "execution_count": null,
      "metadata": {
        "id": "YLEB-ugT3iqc"
      },
      "outputs": [],
      "source": [
        "help(print)\n",
        "print?"
      ]
    },
    {
      "cell_type": "code",
      "execution_count": null,
      "metadata": {
        "id": "n-JuuaRiw0oN"
      },
      "outputs": [],
      "source": [
        "a, b, c = 1, 2, 3\n",
        "\n",
        "print(a, b, sep='_', end='')\n",
        "print(b, c)"
      ]
    },
    {
      "cell_type": "markdown",
      "metadata": {
        "id": "Oto5l_-GJ2zT"
      },
      "source": [
        "## 기초 자료형: int, float, str, bool"
      ]
    },
    {
      "cell_type": "markdown",
      "metadata": {
        "id": "wrI3N_Fd4VKi"
      },
      "source": [
        "### int\n",
        "- 숫자에 '.'이 없음"
      ]
    },
    {
      "cell_type": "code",
      "execution_count": null,
      "metadata": {
        "id": "gYWTMMIdMUHC"
      },
      "outputs": [],
      "source": [
        "x = 1\n",
        "\n",
        "type(x)"
      ]
    },
    {
      "cell_type": "code",
      "execution_count": null,
      "metadata": {
        "id": "aqeNYpxQzAIa"
      },
      "outputs": [],
      "source": [
        "x = 123456789123456789      # 아무리 큰 수라도 가능: long type, unsigned 등 구분 없음\n",
        "x"
      ]
    },
    {
      "cell_type": "markdown",
      "metadata": {
        "id": "l9Ehr5PQ4aaI"
      },
      "source": [
        "### float\n",
        "- 숫자에 '.'이 있음"
      ]
    },
    {
      "cell_type": "code",
      "execution_count": null,
      "metadata": {
        "id": "vISGUx02NPz-"
      },
      "outputs": [],
      "source": [
        "x = 1.\n",
        "type(x)"
      ]
    },
    {
      "cell_type": "code",
      "execution_count": 14,
      "metadata": {
        "id": "sarER1Co4eda"
      },
      "outputs": [
        {
          "data": {
            "text/plain": [
              "0.0"
            ]
          },
          "execution_count": 14,
          "metadata": {},
          "output_type": "execute_result"
        },
        {
          "data": {
            "text/plain": [
              "0.0"
            ]
          },
          "execution_count": 14,
          "metadata": {},
          "output_type": "execute_result"
        },
        {
          "data": {
            "text/plain": [
              "0.0"
            ]
          },
          "execution_count": 14,
          "metadata": {},
          "output_type": "execute_result"
        }
      ],
      "source": [
        "0.0\n",
        "0.      # identical\n",
        ".0      # identical"
      ]
    },
    {
      "cell_type": "code",
      "execution_count": 2,
      "metadata": {
        "id": "KFA-nsQQ4jYG"
      },
      "outputs": [
        {
          "data": {
            "text/plain": [
              "0.43500000000000005"
            ]
          },
          "execution_count": 2,
          "metadata": {},
          "output_type": "execute_result"
        },
        {
          "data": {
            "text/plain": [
              "Decimal('0.435')"
            ]
          },
          "execution_count": 2,
          "metadata": {},
          "output_type": "execute_result"
        }
      ],
      "source": [
        ".335 + .1           # 64-bit double precision\n",
        "\n",
        "\n",
        "# 금융 등 소수점 정확도가 중요한 분야에서는 decimal.Decimal 사용(고급)\n",
        "from decimal import Decimal\n",
        "\n",
        "Decimal('.335') + Decimal('.1')"
      ]
    },
    {
      "cell_type": "markdown",
      "metadata": {
        "id": "9OUWz-yJ48Wi"
      },
      "source": [
        "### str : Immutable Sequence"
      ]
    },
    {
      "cell_type": "code",
      "execution_count": null,
      "metadata": {
        "id": "_ISjEE_APV0F"
      },
      "outputs": [],
      "source": [
        "x = '123abc'        # \"\"\n",
        "x = \"123abc\"        # identical\n",
        "type(x)"
      ]
    },
    {
      "cell_type": "code",
      "execution_count": null,
      "metadata": {
        "id": "6Km5sTQo5C4R"
      },
      "outputs": [],
      "source": [
        "\"abc\"\n",
        "'a\"b\"c'\n",
        "\"a'b'c\"\n",
        "'a\\'b\\'c'       # escape character \\"
      ]
    },
    {
      "cell_type": "code",
      "execution_count": null,
      "metadata": {
        "id": "R5N7v26u5UNL"
      },
      "outputs": [],
      "source": [
        "'''여러 줄\n",
        "str'''\n",
        "\n",
        "\"\"\"여러 줄\n",
        "'str'\"\"\""
      ]
    },
    {
      "cell_type": "code",
      "execution_count": 19,
      "metadata": {
        "id": "4r79U50ElqU8"
      },
      "outputs": [
        {
          "data": {
            "text/plain": [
              "'파이썬Python'"
            ]
          },
          "execution_count": 19,
          "metadata": {},
          "output_type": "execute_result"
        },
        {
          "data": {
            "text/plain": [
              "'파이썬파이썬파이썬'"
            ]
          },
          "execution_count": 19,
          "metadata": {},
          "output_type": "execute_result"
        },
        {
          "data": {
            "text/plain": [
              "'PythonPythonPython'"
            ]
          },
          "execution_count": 19,
          "metadata": {},
          "output_type": "execute_result"
        }
      ],
      "source": [
        "'파이썬' + 'Python'     # str + str: concat\n",
        "\n",
        "'파이썬' * 3            # str * int: concat\n",
        "3 * 'Python'          # int * str: concat"
      ]
    },
    {
      "cell_type": "code",
      "execution_count": null,
      "metadata": {
        "id": "0wBxUh35l7QA"
      },
      "outputs": [],
      "source": [
        "'ABC' + 'ABC'\n",
        "'ABC' * 2"
      ]
    },
    {
      "cell_type": "markdown",
      "metadata": {
        "id": "W97G7fgl5fX4"
      },
      "source": [
        "### bool"
      ]
    },
    {
      "cell_type": "code",
      "execution_count": null,
      "metadata": {
        "id": "yG1FUtvmWmMi"
      },
      "outputs": [],
      "source": [
        "True\n",
        "False\n",
        "\n",
        "x = True\n",
        "type(x)"
      ]
    },
    {
      "cell_type": "code",
      "execution_count": null,
      "metadata": {
        "id": "dsSnTEQumWBT"
      },
      "outputs": [],
      "source": [
        "5 >= 10     # 비교 OPERATOR"
      ]
    },
    {
      "cell_type": "code",
      "execution_count": null,
      "metadata": {
        "id": "a3FC9w0xmerx"
      },
      "outputs": [],
      "source": [
        "5 <= 10"
      ]
    },
    {
      "cell_type": "code",
      "execution_count": null,
      "metadata": {
        "id": "by5Nv8R0mo3S"
      },
      "outputs": [],
      "source": [
        "# not, and, or\n",
        "\n",
        "not True\n",
        "not False"
      ]
    },
    {
      "cell_type": "code",
      "execution_count": null,
      "metadata": {
        "id": "drCEyW4Wmy7L"
      },
      "outputs": [],
      "source": [
        "True and False"
      ]
    },
    {
      "cell_type": "code",
      "execution_count": null,
      "metadata": {
        "id": "Zi8kad3mm3Ix"
      },
      "outputs": [],
      "source": [
        "True or False"
      ]
    },
    {
      "cell_type": "code",
      "execution_count": null,
      "metadata": {
        "id": "0nY_QJqnnAY5"
      },
      "outputs": [],
      "source": [
        "not (5 > 10)"
      ]
    },
    {
      "cell_type": "code",
      "execution_count": null,
      "metadata": {
        "id": "Rf9OHyc2nOap"
      },
      "outputs": [],
      "source": []
    },
    {
      "cell_type": "markdown",
      "metadata": {
        "id": "BzUZP78w5y82"
      },
      "source": [
        "### type casting"
      ]
    },
    {
      "cell_type": "code",
      "execution_count": null,
      "metadata": {
        "id": "KK7qeICa5rBC"
      },
      "outputs": [],
      "source": [
        "int('10')\n",
        "int(1.9)    # 버림\n",
        "int(-1.9)"
      ]
    },
    {
      "cell_type": "code",
      "execution_count": null,
      "metadata": {
        "id": "N5qf8abD56BH"
      },
      "outputs": [],
      "source": [
        "float(1)\n",
        "float('10.2')\n",
        "int(float('10.2'))"
      ]
    },
    {
      "cell_type": "code",
      "execution_count": null,
      "metadata": {
        "id": "kH7ph1MM61nD"
      },
      "outputs": [],
      "source": [
        "str(2)\n",
        "str(2.0)"
      ]
    },
    {
      "cell_type": "code",
      "execution_count": null,
      "metadata": {
        "id": "YPO4yhlI6AY5"
      },
      "outputs": [],
      "source": [
        "int(True)\n",
        "float(True)\n",
        "int(False)\n",
        "float(False)"
      ]
    },
    {
      "cell_type": "code",
      "execution_count": null,
      "metadata": {
        "id": "FUt-9uA06Nk5"
      },
      "outputs": [],
      "source": [
        "bool(0)         # 0, 0., '' -> False\n",
        "bool(-2)        # 나머지 다   -> True"
      ]
    },
    {
      "cell_type": "markdown",
      "metadata": {
        "id": "RT6Oy6ox_sWS"
      },
      "source": [
        "### None"
      ]
    },
    {
      "cell_type": "code",
      "execution_count": null,
      "metadata": {
        "id": "_nLqZEDD_txi"
      },
      "outputs": [],
      "source": [
        "x = None\n",
        "x\n",
        "type(x)\n",
        "bool(x)         # 0, 0., '', None -> False"
      ]
    },
    {
      "cell_type": "markdown",
      "metadata": {
        "id": "Uikxd-TA6i2O"
      },
      "source": [
        "### isinstance"
      ]
    },
    {
      "cell_type": "code",
      "execution_count": null,
      "metadata": {
        "id": "uwGFiZ6z7CsA"
      },
      "outputs": [],
      "source": [
        "int()"
      ]
    },
    {
      "cell_type": "code",
      "execution_count": null,
      "metadata": {
        "id": "pltsTYCQ7EUU"
      },
      "outputs": [],
      "source": [
        "float()"
      ]
    },
    {
      "cell_type": "code",
      "execution_count": null,
      "metadata": {
        "id": "oPiHj15z7E4X"
      },
      "outputs": [],
      "source": [
        "str()"
      ]
    },
    {
      "cell_type": "code",
      "execution_count": null,
      "metadata": {
        "id": "RQuLXC6v7Fk6"
      },
      "outputs": [],
      "source": [
        "bool()"
      ]
    },
    {
      "cell_type": "code",
      "execution_count": null,
      "metadata": {
        "id": "weO3YwzU7GQG"
      },
      "outputs": [],
      "source": [
        "# int, float, str, bool 등은 실제로는 class\n",
        "\n",
        "# class ~ 규격화된 객체(정수, 부동소수점, 문자열, 불리언 등)를 만들어내는 factory : 속성과 메서드를 가짐"
      ]
    },
    {
      "cell_type": "code",
      "execution_count": null,
      "metadata": {
        "id": "_Slc0kWv6Urg"
      },
      "outputs": [],
      "source": [
        "# isinstance(객체, 클래스)\n",
        "\n",
        "isinstance(1, int)"
      ]
    },
    {
      "cell_type": "code",
      "execution_count": 20,
      "metadata": {
        "id": "hOr9VXAv6koN"
      },
      "outputs": [
        {
          "data": {
            "text/plain": [
              "False"
            ]
          },
          "execution_count": 20,
          "metadata": {},
          "output_type": "execute_result"
        }
      ],
      "source": [
        "isinstance(1, bool)"
      ]
    },
    {
      "cell_type": "code",
      "execution_count": null,
      "metadata": {
        "id": "Gp7vTOFb6nbd"
      },
      "outputs": [],
      "source": [
        "# Almost everything in Python is an object\n",
        "\n",
        "dir(1)          # dir(객체) -> 객체의 속성, 메서드"
      ]
    },
    {
      "cell_type": "code",
      "execution_count": null,
      "metadata": {
        "id": "rrptEM0O6rZA"
      },
      "outputs": [],
      "source": []
    },
    {
      "cell_type": "markdown",
      "metadata": {
        "id": "zWCOIzdb7p8g"
      },
      "source": [
        "## 기초 자료형 연산, assign 연산, method/함수, 연산 순서"
      ]
    },
    {
      "cell_type": "markdown",
      "metadata": {
        "id": "UfjMbZUQ7w7h"
      },
      "source": [
        "### 숫자형(int & float)"
      ]
    },
    {
      "cell_type": "code",
      "execution_count": null,
      "metadata": {
        "id": "J3eMo33Zk1xH"
      },
      "outputs": [],
      "source": [
        "5 + 3\n",
        "2 - 10\n",
        "2 * 4"
      ]
    },
    {
      "cell_type": "code",
      "execution_count": null,
      "metadata": {
        "id": "Cikd06fglEpq"
      },
      "outputs": [],
      "source": [
        "6 / 3   # 정수 / 정수 -> float"
      ]
    },
    {
      "cell_type": "code",
      "execution_count": null,
      "metadata": {
        "id": "ROlINAdb7wrB"
      },
      "outputs": [],
      "source": [
        "# + - * / **\n",
        "\n",
        "2 ** 3"
      ]
    },
    {
      "cell_type": "code",
      "execution_count": null,
      "metadata": {
        "id": "-ILU7wngrvPD"
      },
      "outputs": [],
      "source": [
        "# // %\n",
        "\n",
        "9 // 2      # 몫\n",
        "9 % 2       # 나머지"
      ]
    },
    {
      "cell_type": "code",
      "execution_count": null,
      "metadata": {
        "id": "BYgCUaoU79k5"
      },
      "outputs": [],
      "source": [
        "divmod(9, 2)    # -> (몫, 나머지)"
      ]
    },
    {
      "cell_type": "code",
      "execution_count": null,
      "metadata": {
        "id": "JhmbK-Av8KV0"
      },
      "outputs": [],
      "source": [
        "# += -= *= /= **= //= %=\n",
        "\n",
        "x = 1\n",
        "x += 2      # x = x + 2\n",
        "x"
      ]
    },
    {
      "cell_type": "code",
      "execution_count": null,
      "metadata": {
        "id": "R1GcRXoNtxE8"
      },
      "outputs": [],
      "source": [
        "x = 1\n",
        "x + 2\n",
        "x"
      ]
    },
    {
      "cell_type": "code",
      "execution_count": null,
      "metadata": {
        "id": "Du5OQyPauVwj"
      },
      "outputs": [],
      "source": [
        "x = 11\n",
        "x %= 3  # x = x % 3\n",
        "x"
      ]
    },
    {
      "cell_type": "code",
      "execution_count": null,
      "metadata": {
        "id": "VJ_5nzhM8SXz"
      },
      "outputs": [],
      "source": [
        "x **= 2\n",
        "x"
      ]
    },
    {
      "cell_type": "code",
      "execution_count": null,
      "metadata": {
        "id": "4rlDRPMT8ZE2"
      },
      "outputs": [],
      "source": [
        "x //= 4\n",
        "x"
      ]
    },
    {
      "cell_type": "code",
      "execution_count": null,
      "metadata": {
        "id": "MxwkPuOh8baQ"
      },
      "outputs": [],
      "source": [
        "x %= 5\n",
        "x"
      ]
    },
    {
      "cell_type": "code",
      "execution_count": null,
      "metadata": {
        "id": "qLLUI3-B8FcV"
      },
      "outputs": [],
      "source": [
        "# int / int 및 int와 float간 연산 -> float\n",
        "\n",
        "4 / 2"
      ]
    },
    {
      "cell_type": "code",
      "execution_count": null,
      "metadata": {
        "id": "FwT8MbxQ8pN8"
      },
      "outputs": [],
      "source": [
        "1 + 1."
      ]
    },
    {
      "cell_type": "markdown",
      "metadata": {
        "id": "qaBwXAOwh5QZ"
      },
      "source": [
        "#### 함수로 연산하기"
      ]
    },
    {
      "cell_type": "code",
      "execution_count": null,
      "metadata": {
        "colab": {
          "base_uri": "https://localhost:8080/"
        },
        "id": "USpbw2GV8qPL",
        "outputId": "6cb00f57-77b6-4724-983f-2afe6fe3f702"
      },
      "outputs": [
        {
          "data": {
            "text/plain": [
              "3.2"
            ]
          },
          "execution_count": 3,
          "metadata": {},
          "output_type": "execute_result"
        },
        {
          "data": {
            "text/plain": [
              "2.5"
            ]
          },
          "execution_count": 3,
          "metadata": {},
          "output_type": "execute_result"
        },
        {
          "data": {
            "text/plain": [
              "3"
            ]
          },
          "execution_count": 3,
          "metadata": {},
          "output_type": "execute_result"
        }
      ],
      "source": [
        "# abs, round, max, min, ...  : built-in 함수 (import 안해도 됨)\n",
        "# 함수명(인수...)\n",
        "\n",
        "abs(-3.2)\n",
        "\n",
        "round(2.546, 1)\n",
        "round(2.546)        # int(2.546)"
      ]
    },
    {
      "cell_type": "code",
      "execution_count": null,
      "metadata": {
        "colab": {
          "base_uri": "https://localhost:8080/"
        },
        "id": "ftt2oZo1ra72",
        "outputId": "d4f74057-592e-45eb-cb17-6a2c525d084f"
      },
      "outputs": [
        {
          "data": {
            "text/plain": [
              "2"
            ]
          },
          "execution_count": 4,
          "metadata": {},
          "output_type": "execute_result"
        }
      ],
      "source": [
        "int(2.9)"
      ]
    },
    {
      "cell_type": "code",
      "execution_count": null,
      "metadata": {
        "colab": {
          "base_uri": "https://localhost:8080/"
        },
        "id": "CLDrdcpOiM04",
        "outputId": "983b0d21-e579-48c6-ffcb-9013951f6090"
      },
      "outputs": [
        {
          "data": {
            "text/plain": [
              "15"
            ]
          },
          "execution_count": 5,
          "metadata": {},
          "output_type": "execute_result"
        },
        {
          "data": {
            "text/plain": [
              "5"
            ]
          },
          "execution_count": 5,
          "metadata": {},
          "output_type": "execute_result"
        }
      ],
      "source": [
        "max(5, 12, 13.0, 15)\n",
        "min(5, 12, 13.0)"
      ]
    },
    {
      "cell_type": "code",
      "execution_count": null,
      "metadata": {
        "colab": {
          "base_uri": "https://localhost:8080/"
        },
        "id": "9UYnAH4Qrvhj",
        "outputId": "3457c5d9-ecc4-47c1-d9ff-64f59063ce03"
      },
      "outputs": [
        {
          "data": {
            "text/plain": [
              "8"
            ]
          },
          "execution_count": 7,
          "metadata": {},
          "output_type": "execute_result"
        },
        {
          "data": {
            "text/plain": [
              "8"
            ]
          },
          "execution_count": 7,
          "metadata": {},
          "output_type": "execute_result"
        }
      ],
      "source": [
        "pow(2, 3)\n",
        "2 ** 3"
      ]
    },
    {
      "cell_type": "markdown",
      "metadata": {
        "id": "0mxOmdeKjKu-"
      },
      "source": [
        "#### math"
      ]
    },
    {
      "cell_type": "code",
      "execution_count": null,
      "metadata": {
        "colab": {
          "base_uri": "https://localhost:8080/"
        },
        "id": "ROxLAemRiL5R",
        "outputId": "66f2916c-c31e-4b5f-aa2d-03b56fee88c3"
      },
      "outputs": [
        {
          "data": {
            "text/plain": [
              "4"
            ]
          },
          "execution_count": 8,
          "metadata": {},
          "output_type": "execute_result"
        },
        {
          "data": {
            "text/plain": [
              "4"
            ]
          },
          "execution_count": 8,
          "metadata": {},
          "output_type": "execute_result"
        },
        {
          "data": {
            "text/plain": [
              "1.4142135623730951"
            ]
          },
          "execution_count": 8,
          "metadata": {},
          "output_type": "execute_result"
        }
      ],
      "source": [
        "# 기본함수 vs. 표준모듈 vs. 외부모듈(numpy, pytorch)\n",
        "# 자주씀   vs. import  vs. 별도로 설치(한 번만) 후 import\n",
        "# abs, round\n",
        "\n",
        "import math    # 모듈명\n",
        "\n",
        "math.floor(4.99)    # 내림\n",
        "math.ceil(3.14)     # 올림\n",
        "math.sqrt(2)        # 제곱근"
      ]
    },
    {
      "cell_type": "code",
      "execution_count": null,
      "metadata": {
        "colab": {
          "base_uri": "https://localhost:8080/"
        },
        "id": "L6xgYHjlkC7e",
        "outputId": "76bf2841-5fc0-4a71-eed4-259e3705f0c3"
      },
      "outputs": [
        {
          "data": {
            "text/plain": [
              "1.4142135623730951"
            ]
          },
          "execution_count": 8,
          "metadata": {},
          "output_type": "execute_result"
        }
      ],
      "source": [
        "2 ** (1/2)"
      ]
    },
    {
      "cell_type": "code",
      "execution_count": null,
      "metadata": {
        "colab": {
          "base_uri": "https://localhost:8080/"
        },
        "id": "GmvLADyYkLna",
        "outputId": "66ac7b09-efee-4e1d-c253-b1d608b28a88"
      },
      "outputs": [
        {
          "data": {
            "text/plain": [
              "<function math.floor(x, /)>"
            ]
          },
          "execution_count": 9,
          "metadata": {},
          "output_type": "execute_result"
        },
        {
          "data": {
            "text/plain": [
              "4"
            ]
          },
          "execution_count": 9,
          "metadata": {},
          "output_type": "execute_result"
        }
      ],
      "source": [
        "from math import floor, ceil, sqrt    # from 패키지명 import 객체/변수/함수/클라스...\n",
        "\n",
        "floor\n",
        "floor(4.99)"
      ]
    },
    {
      "cell_type": "code",
      "execution_count": null,
      "metadata": {
        "colab": {
          "base_uri": "https://localhost:8080/",
          "height": 158
        },
        "id": "CG3Wd2IGkakx",
        "outputId": "627c9c8a-8cd5-46f7-8495-75affd786439"
      },
      "outputs": [
        {
          "ename": "TypeError",
          "evalue": "'int' object is not callable",
          "output_type": "error",
          "traceback": [
            "\u001b[0;31m---------------------------------------------------------------------------\u001b[0m",
            "\u001b[0;31mTypeError\u001b[0m                                 Traceback (most recent call last)",
            "\u001b[0;32m<ipython-input-11-68691ca493c4>\u001b[0m in \u001b[0;36m<cell line: 2>\u001b[0;34m()\u001b[0m\n\u001b[1;32m      1\u001b[0m \u001b[0mfloor\u001b[0m \u001b[0;34m=\u001b[0m \u001b[0;36m3\u001b[0m\u001b[0;34m\u001b[0m\u001b[0;34m\u001b[0m\u001b[0m\n\u001b[0;32m----> 2\u001b[0;31m \u001b[0mfloor\u001b[0m\u001b[0;34m(\u001b[0m\u001b[0;36m4.99\u001b[0m\u001b[0;34m)\u001b[0m\u001b[0;34m\u001b[0m\u001b[0;34m\u001b[0m\u001b[0m\n\u001b[0m",
            "\u001b[0;31mTypeError\u001b[0m: 'int' object is not callable"
          ]
        }
      ],
      "source": [
        "floor = 3\n",
        "floor(4.99)"
      ]
    },
    {
      "cell_type": "markdown",
      "metadata": {
        "id": "txvqG8oIkinP"
      },
      "source": [
        "#### random"
      ]
    },
    {
      "cell_type": "code",
      "execution_count": null,
      "metadata": {
        "colab": {
          "base_uri": "https://localhost:8080/"
        },
        "id": "39f6TQAPkk0R",
        "outputId": "f2223400-d3e6-4177-c3c8-6cd1c471fcfd"
      },
      "outputs": [
        {
          "data": {
            "text/plain": [
              "0.9310390415123089"
            ]
          },
          "execution_count": 15,
          "metadata": {},
          "output_type": "execute_result"
        },
        {
          "data": {
            "text/plain": [
              "35"
            ]
          },
          "execution_count": 15,
          "metadata": {},
          "output_type": "execute_result"
        }
      ],
      "source": [
        "import random\n",
        "\n",
        "random.random()             # [0, 1)\n",
        "random.randrange(1, 46)     # [시작, 끝)    random.randint(시작, 끝) -> [시작, 끝]"
      ]
    },
    {
      "cell_type": "code",
      "execution_count": null,
      "metadata": {
        "colab": {
          "base_uri": "https://localhost:8080/"
        },
        "id": "uDT9XjkXuM9S",
        "outputId": "a52a6048-d4dc-46bd-e569-dc7f6124e666"
      },
      "outputs": [
        {
          "data": {
            "text/plain": [
              "0.14347225093406535"
            ]
          },
          "execution_count": 19,
          "metadata": {},
          "output_type": "execute_result"
        },
        {
          "data": {
            "text/plain": [
              "10"
            ]
          },
          "execution_count": 19,
          "metadata": {},
          "output_type": "execute_result"
        }
      ],
      "source": [
        "from random import random, randrange\n",
        "\n",
        "random()\n",
        "randrange(1, 46)"
      ]
    },
    {
      "cell_type": "code",
      "execution_count": null,
      "metadata": {
        "id": "FJQoZ9QekChJ"
      },
      "outputs": [],
      "source": [
        "# random.sample(시퀀스, k: int, counts: Iterable[int])\n",
        "# random.choice(시퀀스)\n",
        "# random.shuffle(mutable 시퀀스)"
      ]
    },
    {
      "cell_type": "code",
      "execution_count": null,
      "metadata": {
        "id": "U_CkGx3GsMn1"
      },
      "outputs": [],
      "source": [
        "1 == '1'"
      ]
    },
    {
      "cell_type": "code",
      "execution_count": null,
      "metadata": {
        "id": "Te13YZPisMfh"
      },
      "outputs": [],
      "source": [
        "1 != 2"
      ]
    },
    {
      "cell_type": "code",
      "execution_count": null,
      "metadata": {
        "id": "_KXUfa76saWg"
      },
      "outputs": [],
      "source": [
        "5 > 4 and 4 > 3"
      ]
    },
    {
      "cell_type": "code",
      "execution_count": null,
      "metadata": {
        "id": "gkpEstwgsZ6V"
      },
      "outputs": [],
      "source": [
        "5 > 4 > 3"
      ]
    },
    {
      "cell_type": "code",
      "execution_count": null,
      "metadata": {
        "id": "kFwMgNP8sqDt"
      },
      "outputs": [],
      "source": [
        "a = 'hello'\n",
        "\n",
        "True and a"
      ]
    },
    {
      "cell_type": "code",
      "execution_count": null,
      "metadata": {
        "id": "far4XPWOs8yM"
      },
      "outputs": [],
      "source": [
        "False and a"
      ]
    },
    {
      "cell_type": "code",
      "execution_count": null,
      "metadata": {
        "id": "gG5ELln0hblO"
      },
      "outputs": [],
      "source": []
    },
    {
      "cell_type": "code",
      "execution_count": null,
      "metadata": {
        "id": "8pizjr92hbYq"
      },
      "outputs": [],
      "source": []
    },
    {
      "cell_type": "code",
      "execution_count": null,
      "metadata": {
        "id": "MweLAQJSha6y"
      },
      "outputs": [],
      "source": []
    },
    {
      "cell_type": "markdown",
      "metadata": {
        "id": "rNw86JYF83kL"
      },
      "source": [
        "### str"
      ]
    },
    {
      "cell_type": "code",
      "execution_count": null,
      "metadata": {
        "colab": {
          "base_uri": "https://localhost:8080/",
          "height": 35
        },
        "id": "ujnZW3yhvhCH",
        "outputId": "39227fa8-21d0-474b-ac3c-6f44f629ed6e"
      },
      "outputs": [
        {
          "data": {
            "application/vnd.google.colaboratory.intrinsic+json": {
              "type": "string"
            },
            "text/plain": [
              "'o'"
            ]
          },
          "execution_count": 22,
          "metadata": {},
          "output_type": "execute_result"
        }
      ],
      "source": [
        "a = 'hello'     # 0,1,2,3,4 : 시퀀스\n",
        "a[4]"
      ]
    },
    {
      "cell_type": "code",
      "execution_count": null,
      "metadata": {
        "colab": {
          "base_uri": "https://localhost:8080/",
          "height": 35
        },
        "id": "uVuvvSwVv_Ft",
        "outputId": "5934a46b-67f3-4a03-d8dc-b96bb4ca1710"
      },
      "outputs": [
        {
          "data": {
            "application/vnd.google.colaboratory.intrinsic+json": {
              "type": "string"
            },
            "text/plain": [
              "'el'"
            ]
          },
          "execution_count": 23,
          "metadata": {},
          "output_type": "execute_result"
        }
      ],
      "source": [
        "a[1:3]  # 1, 2*"
      ]
    },
    {
      "cell_type": "code",
      "execution_count": null,
      "metadata": {
        "colab": {
          "base_uri": "https://localhost:8080/",
          "height": 35
        },
        "id": "tAa78KuhwSb9",
        "outputId": "b16c5141-69f0-4c42-dd4a-4b647d9aa6c8"
      },
      "outputs": [
        {
          "data": {
            "application/vnd.google.colaboratory.intrinsic+json": {
              "type": "string"
            },
            "text/plain": [
              "'ello'"
            ]
          },
          "execution_count": 24,
          "metadata": {},
          "output_type": "execute_result"
        }
      ],
      "source": [
        "a[1:]"
      ]
    },
    {
      "cell_type": "code",
      "execution_count": null,
      "metadata": {
        "colab": {
          "base_uri": "https://localhost:8080/",
          "height": 35
        },
        "id": "q2HB-EIhwWse",
        "outputId": "d50e65be-ef48-4f5a-dd5c-4bf4608bfa1c"
      },
      "outputs": [
        {
          "data": {
            "application/vnd.google.colaboratory.intrinsic+json": {
              "type": "string"
            },
            "text/plain": [
              "'hel'"
            ]
          },
          "execution_count": 25,
          "metadata": {},
          "output_type": "execute_result"
        }
      ],
      "source": [
        "a[:3]"
      ]
    },
    {
      "cell_type": "code",
      "execution_count": null,
      "metadata": {
        "colab": {
          "base_uri": "https://localhost:8080/",
          "height": 35
        },
        "id": "jKfNPhVTwbmN",
        "outputId": "2005026d-170c-49b8-9020-8a223b27fe04"
      },
      "outputs": [
        {
          "data": {
            "application/vnd.google.colaboratory.intrinsic+json": {
              "type": "string"
            },
            "text/plain": [
              "'hello'"
            ]
          },
          "execution_count": 26,
          "metadata": {},
          "output_type": "execute_result"
        }
      ],
      "source": [
        "a[:]"
      ]
    },
    {
      "cell_type": "code",
      "execution_count": null,
      "metadata": {
        "colab": {
          "base_uri": "https://localhost:8080/",
          "height": 35
        },
        "id": "4N114Ml0wf1B",
        "outputId": "db54e03f-1f22-4bd0-d30c-44cfff359fc0"
      },
      "outputs": [
        {
          "data": {
            "application/vnd.google.colaboratory.intrinsic+json": {
              "type": "string"
            },
            "text/plain": [
              "'o'"
            ]
          },
          "execution_count": 27,
          "metadata": {},
          "output_type": "execute_result"
        }
      ],
      "source": [
        "a[-1]"
      ]
    },
    {
      "cell_type": "code",
      "execution_count": null,
      "metadata": {
        "colab": {
          "base_uri": "https://localhost:8080/",
          "height": 35
        },
        "id": "pK5uPXPjwlEU",
        "outputId": "ebe3e23d-ec3e-4f1c-9949-ce7054b5d381"
      },
      "outputs": [
        {
          "data": {
            "application/vnd.google.colaboratory.intrinsic+json": {
              "type": "string"
            },
            "text/plain": [
              "'l'"
            ]
          },
          "execution_count": 28,
          "metadata": {},
          "output_type": "execute_result"
        }
      ],
      "source": [
        "a[-2]"
      ]
    },
    {
      "cell_type": "code",
      "execution_count": null,
      "metadata": {
        "colab": {
          "base_uri": "https://localhost:8080/",
          "height": 35
        },
        "id": "VX-IhrDPwr3k",
        "outputId": "6df92e1b-0490-494e-b729-c5ab4ab32d14"
      },
      "outputs": [
        {
          "data": {
            "application/vnd.google.colaboratory.intrinsic+json": {
              "type": "string"
            },
            "text/plain": [
              "'hell'"
            ]
          },
          "execution_count": 29,
          "metadata": {},
          "output_type": "execute_result"
        }
      ],
      "source": [
        "a[:-1]"
      ]
    },
    {
      "cell_type": "code",
      "execution_count": null,
      "metadata": {
        "colab": {
          "base_uri": "https://localhost:8080/",
          "height": 35
        },
        "id": "zSr88Fglw28E",
        "outputId": "774c1eb5-0ac8-486f-ffbc-ee5f46fa8a6a"
      },
      "outputs": [
        {
          "data": {
            "application/vnd.google.colaboratory.intrinsic+json": {
              "type": "string"
            },
            "text/plain": [
              "'hello'"
            ]
          },
          "execution_count": 30,
          "metadata": {},
          "output_type": "execute_result"
        }
      ],
      "source": [
        "a[:]"
      ]
    },
    {
      "cell_type": "code",
      "execution_count": null,
      "metadata": {
        "colab": {
          "base_uri": "https://localhost:8080/",
          "height": 35
        },
        "id": "y2SJQ8Sow9kc",
        "outputId": "9770d908-abdc-44d3-f306-1373258811c6"
      },
      "outputs": [
        {
          "data": {
            "application/vnd.google.colaboratory.intrinsic+json": {
              "type": "string"
            },
            "text/plain": [
              "'defghi'"
            ]
          },
          "execution_count": 32,
          "metadata": {},
          "output_type": "execute_result"
        }
      ],
      "source": [
        "s = 'abcdefghijkl'\n",
        "start = 3\n",
        "end = -3\n",
        "\n",
        "s[start:end]  # step=1"
      ]
    },
    {
      "cell_type": "code",
      "execution_count": null,
      "metadata": {
        "colab": {
          "base_uri": "https://localhost:8080/",
          "height": 35
        },
        "id": "WAiXU9nUxSCU",
        "outputId": "53f7fe54-1dd2-48be-d03a-d0cf505031cc"
      },
      "outputs": [
        {
          "data": {
            "application/vnd.google.colaboratory.intrinsic+json": {
              "type": "string"
            },
            "text/plain": [
              "'dfh'"
            ]
          },
          "execution_count": 34,
          "metadata": {},
          "output_type": "execute_result"
        }
      ],
      "source": [
        "step = 2\n",
        "\n",
        "s[start:end:step]"
      ]
    },
    {
      "cell_type": "code",
      "execution_count": null,
      "metadata": {
        "colab": {
          "base_uri": "https://localhost:8080/",
          "height": 35
        },
        "id": "n2b8CCasyJrM",
        "outputId": "20b557e9-f1a8-4d0b-c78c-eaa34ac8aa5a"
      },
      "outputs": [
        {
          "data": {
            "application/vnd.google.colaboratory.intrinsic+json": {
              "type": "string"
            },
            "text/plain": [
              "'acegik'"
            ]
          },
          "execution_count": 37,
          "metadata": {},
          "output_type": "execute_result"
        }
      ],
      "source": [
        "s[::2]"
      ]
    },
    {
      "cell_type": "code",
      "execution_count": null,
      "metadata": {
        "colab": {
          "base_uri": "https://localhost:8080/",
          "height": 35
        },
        "id": "8r8hO8hixob8",
        "outputId": "cada1819-c385-4bd1-a972-bee78dde3910"
      },
      "outputs": [
        {
          "data": {
            "application/vnd.google.colaboratory.intrinsic+json": {
              "type": "string"
            },
            "text/plain": [
              "'fe'"
            ]
          },
          "execution_count": 36,
          "metadata": {},
          "output_type": "execute_result"
        }
      ],
      "source": [
        "end = 5\n",
        "step = -1\n",
        "s[5:3:-1]"
      ]
    },
    {
      "cell_type": "code",
      "execution_count": null,
      "metadata": {
        "id": "JcyoX2CYw68c"
      },
      "outputs": [],
      "source": []
    },
    {
      "cell_type": "code",
      "execution_count": null,
      "metadata": {
        "id": "BuHk0o_o8uyx"
      },
      "outputs": [],
      "source": [
        "# + *\n",
        "\n",
        "x = 'ab'\n",
        "x + 'cd'\n",
        "'zy' + x"
      ]
    },
    {
      "cell_type": "code",
      "execution_count": null,
      "metadata": {
        "id": "_EqTqfxq8-TC"
      },
      "outputs": [],
      "source": [
        "x * 3\n",
        "3 * x"
      ]
    },
    {
      "cell_type": "code",
      "execution_count": null,
      "metadata": {
        "id": "pw5G9_Zy9AeK"
      },
      "outputs": [],
      "source": [
        "# .strip, .rstrip, .lstrip\n",
        "\n",
        "x = 'http://www.python.org  '\n",
        "x.strip()"
      ]
    },
    {
      "cell_type": "code",
      "execution_count": null,
      "metadata": {
        "id": "hAQd3rWY9R__"
      },
      "outputs": [],
      "source": [
        "x.strip('htp:/')"
      ]
    },
    {
      "cell_type": "code",
      "execution_count": null,
      "metadata": {
        "id": "hWxDXGtyC7dG"
      },
      "outputs": [],
      "source": []
    },
    {
      "cell_type": "code",
      "execution_count": null,
      "metadata": {
        "colab": {
          "base_uri": "https://localhost:8080/",
          "height": 70
        },
        "id": "k7YrcfQX9qEd",
        "outputId": "1bddeb1b-5a6f-4525-aab3-8ad8a6a7b4ae"
      },
      "outputs": [
        {
          "data": {
            "text/plain": [
              "1"
            ]
          },
          "execution_count": 40,
          "metadata": {},
          "output_type": "execute_result"
        },
        {
          "data": {
            "application/vnd.google.colaboratory.intrinsic+json": {
              "type": "string"
            },
            "text/plain": [
              "'I AM A GIRL.'"
            ]
          },
          "execution_count": 40,
          "metadata": {},
          "output_type": "execute_result"
        },
        {
          "data": {
            "application/vnd.google.colaboratory.intrinsic+json": {
              "type": "string"
            },
            "text/plain": [
              "'i am a girl.'"
            ]
          },
          "execution_count": 40,
          "metadata": {},
          "output_type": "execute_result"
        }
      ],
      "source": [
        "# .upper, lower, capitalize, title, find, replace, ...\n",
        "abs(-1)   # built-in 함수 : import 없이 그냥 사용 가능\n",
        "\n",
        "x = 'I am a girl.'\n",
        "x.upper()           # str객체.method()\n",
        "x.lower()"
      ]
    },
    {
      "cell_type": "code",
      "execution_count": null,
      "metadata": {
        "colab": {
          "base_uri": "https://localhost:8080/",
          "height": 53
        },
        "id": "s5r7pHhi92SJ",
        "outputId": "8458efd3-719a-40c7-e835-3f056c062a0e"
      },
      "outputs": [
        {
          "data": {
            "application/vnd.google.colaboratory.intrinsic+json": {
              "type": "string"
            },
            "text/plain": [
              "'I am a girl.'"
            ]
          },
          "execution_count": 41,
          "metadata": {},
          "output_type": "execute_result"
        },
        {
          "data": {
            "application/vnd.google.colaboratory.intrinsic+json": {
              "type": "string"
            },
            "text/plain": [
              "'I Am A Girl.'"
            ]
          },
          "execution_count": 41,
          "metadata": {},
          "output_type": "execute_result"
        }
      ],
      "source": [
        "x.capitalize()\n",
        "x.title()"
      ]
    },
    {
      "cell_type": "code",
      "execution_count": null,
      "metadata": {
        "colab": {
          "base_uri": "https://localhost:8080/"
        },
        "id": "sLIPM9gL0Iht",
        "outputId": "1229b9ea-bd15-4d6f-94f6-a1c0fa73338b"
      },
      "outputs": [
        {
          "data": {
            "text/plain": [
              "2"
            ]
          },
          "execution_count": 48,
          "metadata": {},
          "output_type": "execute_result"
        }
      ],
      "source": [
        "x.count('a')"
      ]
    },
    {
      "cell_type": "code",
      "execution_count": null,
      "metadata": {
        "colab": {
          "base_uri": "https://localhost:8080/",
          "height": 176
        },
        "id": "DkUsbd8ozppO",
        "outputId": "0c6cc036-d8b3-4e8f-868b-cddd0eb4b6c5"
      },
      "outputs": [
        {
          "data": {
            "text/plain": [
              "-1"
            ]
          },
          "execution_count": 46,
          "metadata": {},
          "output_type": "execute_result"
        },
        {
          "ename": "ValueError",
          "evalue": "substring not found",
          "output_type": "error",
          "traceback": [
            "\u001b[0;31m---------------------------------------------------------------------------\u001b[0m",
            "\u001b[0;31mValueError\u001b[0m                                Traceback (most recent call last)",
            "\u001b[0;32m<ipython-input-46-de3f64fd43fb>\u001b[0m in \u001b[0;36m<cell line: 2>\u001b[0;34m()\u001b[0m\n\u001b[1;32m      1\u001b[0m \u001b[0mx\u001b[0m\u001b[0;34m.\u001b[0m\u001b[0mfind\u001b[0m\u001b[0;34m(\u001b[0m\u001b[0;34m'z'\u001b[0m\u001b[0;34m)\u001b[0m\u001b[0;34m\u001b[0m\u001b[0;34m\u001b[0m\u001b[0m\n\u001b[0;32m----> 2\u001b[0;31m \u001b[0mx\u001b[0m\u001b[0;34m.\u001b[0m\u001b[0mindex\u001b[0m\u001b[0;34m(\u001b[0m\u001b[0;34m'z'\u001b[0m\u001b[0;34m)\u001b[0m\u001b[0;34m\u001b[0m\u001b[0;34m\u001b[0m\u001b[0m\n\u001b[0m",
            "\u001b[0;31mValueError\u001b[0m: substring not found"
          ]
        }
      ],
      "source": [
        "x.find('z')\n",
        "x.index('z')"
      ]
    },
    {
      "cell_type": "code",
      "execution_count": null,
      "metadata": {
        "colab": {
          "base_uri": "https://localhost:8080/",
          "height": 87
        },
        "id": "LZeyYQp198H1",
        "outputId": "1b49281a-9f16-4b57-a375-a67ffeb24799"
      },
      "outputs": [
        {
          "data": {
            "text/plain": [
              "8"
            ]
          },
          "execution_count": 50,
          "metadata": {},
          "output_type": "execute_result"
        },
        {
          "data": {
            "text/plain": [
              "2"
            ]
          },
          "execution_count": 50,
          "metadata": {},
          "output_type": "execute_result"
        },
        {
          "data": {
            "text/plain": [
              "-1"
            ]
          },
          "execution_count": 50,
          "metadata": {},
          "output_type": "execute_result"
        },
        {
          "data": {
            "application/vnd.google.colaboratory.intrinsic+json": {
              "type": "string"
            },
            "text/plain": [
              "'I**am**a**girl.'"
            ]
          },
          "execution_count": 50,
          "metadata": {},
          "output_type": "execute_result"
        }
      ],
      "source": [
        "x.find('ir')            # 첫 번째 매치 인덱스, 없으면 -1\n",
        "x.find('a')\n",
        "x.find('z')\n",
        "x.replace(' ', '**')"
      ]
    },
    {
      "cell_type": "code",
      "execution_count": null,
      "metadata": {
        "colab": {
          "base_uri": "https://localhost:8080/"
        },
        "id": "zMrUE-Pu0fI9",
        "outputId": "6bfaacd5-69b4-4aad-b469-0e0dc96f51e7"
      },
      "outputs": [
        {
          "data": {
            "text/plain": [
              "12"
            ]
          },
          "execution_count": 52,
          "metadata": {},
          "output_type": "execute_result"
        }
      ],
      "source": [
        "len(x)          # 시퀀스 < Iterable : 길이"
      ]
    },
    {
      "cell_type": "code",
      "execution_count": null,
      "metadata": {
        "id": "Dg1FOFy2-ARa"
      },
      "outputs": [],
      "source": [
        "# text 패턴 써치, 치환 등 전문 작업(regex: regular expression)을 위한 표준 패키지: re(고급)"
      ]
    },
    {
      "cell_type": "markdown",
      "metadata": {
        "id": "rMwdGffXDHRg"
      },
      "source": [
        "#### format, f-string"
      ]
    },
    {
      "cell_type": "code",
      "execution_count": null,
      "metadata": {
        "id": "Y06SkMDRybR8"
      },
      "outputs": [],
      "source": [
        "# format(객체, 포맷스트링)\n",
        "# '~{}~{}~'.format('aaa', 'bbb')\n",
        "# f'~{변수1} ~{변수2}'"
      ]
    },
    {
      "cell_type": "code",
      "execution_count": null,
      "metadata": {
        "colab": {
          "base_uri": "https://localhost:8080/",
          "height": 72
        },
        "id": "8Wcy0d8LnbZW",
        "outputId": "a7558367-a54a-4273-81b9-aac33ebb7484"
      },
      "outputs": [
        {
          "data": {
            "application/vnd.google.colaboratory.intrinsic+json": {
              "type": "string"
            },
            "text/plain": [
              "'나은(는) 빨간색과 파란색을 좋아해~'"
            ]
          },
          "execution_count": 2,
          "metadata": {},
          "output_type": "execute_result"
        },
        {
          "data": {
            "application/vnd.google.colaboratory.intrinsic+json": {
              "type": "string"
            },
            "text/plain": [
              "'너은(는) 뻘건색과 퍼런색을 좋아해~'"
            ]
          },
          "execution_count": 2,
          "metadata": {},
          "output_type": "execute_result"
        },
        {
          "data": {
            "application/vnd.google.colaboratory.intrinsic+json": {
              "type": "string"
            },
            "text/plain": [
              "'you은(는) red색과 blue색을 좋아해~'"
            ]
          },
          "execution_count": 2,
          "metadata": {},
          "output_type": "execute_result"
        }
      ],
      "source": [
        "template = '{who}은(는) {first}색과 {second}색을 좋아해~'\n",
        "\n",
        "template.format(who='나', first='빨간', second='파란')          # who, first, second = local variable\n",
        "template.format(who='너', first='뻘건', second='퍼런')\n",
        "template.format(who='you', first='red', second='blue')"
      ]
    },
    {
      "cell_type": "code",
      "execution_count": null,
      "metadata": {
        "colab": {
          "base_uri": "https://localhost:8080/",
          "height": 147
        },
        "id": "pL6XwwxExfqM",
        "outputId": "1076520f-0997-435e-eb27-219e20cf4da9"
      },
      "outputs": [
        {
          "ename": "NameError",
          "evalue": "name 'first' is not defined",
          "output_type": "error",
          "traceback": [
            "\u001b[0;31m---------------------------------------------------------------------------\u001b[0m",
            "\u001b[0;31mNameError\u001b[0m                                 Traceback (most recent call last)",
            "\u001b[0;32m<ipython-input-3-9a3831cacd0d>\u001b[0m in \u001b[0;36m<cell line: 1>\u001b[0;34m()\u001b[0m\n\u001b[0;32m----> 1\u001b[0;31m \u001b[0mfirst\u001b[0m\u001b[0;34m,\u001b[0m \u001b[0msecond\u001b[0m\u001b[0;34m\u001b[0m\u001b[0;34m\u001b[0m\u001b[0m\n\u001b[0m",
            "\u001b[0;31mNameError\u001b[0m: name 'first' is not defined"
          ]
        }
      ],
      "source": [
        "first, second       # local variable"
      ]
    },
    {
      "cell_type": "code",
      "execution_count": null,
      "metadata": {
        "colab": {
          "base_uri": "https://localhost:8080/",
          "height": 35
        },
        "id": "dvTg52f0nbJM",
        "outputId": "e3d50194-34cf-4bc1-8cad-70a1bfca8d1b"
      },
      "outputs": [
        {
          "data": {
            "application/vnd.google.colaboratory.intrinsic+json": {
              "type": "string"
            },
            "text/plain": [
              "'나는 빨간색과 파란색을 좋아해~'"
            ]
          },
          "execution_count": 4,
          "metadata": {},
          "output_type": "execute_result"
        }
      ],
      "source": [
        "first, second = '빨간', '파란'          # global variable\n",
        "\n",
        "f'나는 {first}색과 {second}색을 좋아해~'    # global var 바로 사용 가능"
      ]
    },
    {
      "cell_type": "code",
      "execution_count": null,
      "metadata": {
        "colab": {
          "base_uri": "https://localhost:8080/"
        },
        "id": "QN3yQnd_oAgB",
        "outputId": "a3c2c978-76eb-49c3-a0f0-ac22ead5f912"
      },
      "outputs": [
        {
          "data": {
            "text/plain": [
              "('빨간', '파란')"
            ]
          },
          "execution_count": 5,
          "metadata": {},
          "output_type": "execute_result"
        }
      ],
      "source": [
        "first, second           # global var"
      ]
    },
    {
      "cell_type": "code",
      "execution_count": null,
      "metadata": {
        "colab": {
          "base_uri": "https://localhost:8080/",
          "height": 35
        },
        "id": "OboTpRTC2Gjz",
        "outputId": "3f539b4c-7714-4dbc-c301-3f6fe0a9d077"
      },
      "outputs": [
        {
          "data": {
            "application/vnd.google.colaboratory.intrinsic+json": {
              "type": "string"
            },
            "text/plain": [
              "'0.333살'"
            ]
          },
          "execution_count": 7,
          "metadata": {},
          "output_type": "execute_result"
        }
      ],
      "source": [
        "age= 1/3\n",
        "\n",
        "f'{age:.3f}살'      # f'{변수:포맷스티링}'"
      ]
    },
    {
      "cell_type": "code",
      "execution_count": null,
      "metadata": {
        "colab": {
          "base_uri": "https://localhost:8080/"
        },
        "id": "6ccbziZ12pUK",
        "outputId": "61628959-033a-4ce5-ec71-3a453983e4a2"
      },
      "outputs": [
        {
          "name": "stdout",
          "output_type": "stream",
          "text": [
            "나도\n",
            " '코딩'입니다\n"
          ]
        }
      ],
      "source": [
        "print('나도\\n \\'코딩\\'입니다')"
      ]
    },
    {
      "cell_type": "code",
      "execution_count": null,
      "metadata": {
        "colab": {
          "base_uri": "https://localhost:8080/"
        },
        "id": "MSbV-jeo2oyD",
        "outputId": "7c854223-3791-41ce-c7e1-1d984bb24d33"
      },
      "outputs": [
        {
          "name": "stdout",
          "output_type": "stream",
          "text": [
            "c:\\users\n"
          ]
        }
      ],
      "source": [
        "print('c:\\\\users')"
      ]
    },
    {
      "cell_type": "code",
      "execution_count": null,
      "metadata": {
        "colab": {
          "base_uri": "https://localhost:8080/"
        },
        "id": "mwiuL4kN3F79",
        "outputId": "089bad85-660e-43ea-e446-8090d81a9a4d"
      },
      "outputs": [
        {
          "name": "stdout",
          "output_type": "stream",
          "text": [
            "c:\\users\n"
          ]
        }
      ],
      "source": [
        "print(r'c:\\users')      # raw string : \\를 글자 그대로 인식"
      ]
    },
    {
      "cell_type": "markdown",
      "metadata": {
        "id": "zeDyhytwYX2E"
      },
      "source": [
        "### bool"
      ]
    },
    {
      "cell_type": "code",
      "execution_count": null,
      "metadata": {
        "id": "VuzdqVqy-p2E"
      },
      "outputs": [],
      "source": [
        "# not and or : 논리연산자 순서\n",
        "\n",
        "not True and False or not False\n",
        "(not True) and False or (not False)\n",
        "False and False or True\n",
        "(False and False) or True\n",
        "False or True"
      ]
    },
    {
      "cell_type": "code",
      "execution_count": null,
      "metadata": {
        "id": "F__U-e8JXzCE"
      },
      "outputs": [],
      "source": [
        "# 값 비교연산자  : >, >=, <, <=, ==, !=\n",
        "\n",
        "x = 1\n",
        "y = 2\n",
        "\n",
        "x > y\n",
        "x == y\n",
        "x != y"
      ]
    },
    {
      "cell_type": "code",
      "execution_count": null,
      "metadata": {
        "id": "IBTlIsIp_aZd"
      },
      "outputs": [],
      "source": [
        "# 객체 비교 : is\n",
        "\n",
        "x = y = 10\n",
        "z = None\n",
        "\n",
        "x is y\n",
        "x is not y\n",
        "z is None\n",
        "id(x)               # id(객체) -> 메모리 주소\n",
        "id(y)\n",
        "id(z)\n",
        "id(None)"
      ]
    },
    {
      "cell_type": "code",
      "execution_count": null,
      "metadata": {
        "id": "_tKf0j94_fxM"
      },
      "outputs": [],
      "source": [
        "# all(), any()\n",
        "\n",
        "x = (1, 2, 3, 0)        # [1, 2, 3, 0]\n",
        "\n",
        "all(x)\n",
        "any(x)"
      ]
    },
    {
      "cell_type": "markdown",
      "metadata": {
        "id": "JsP64nhpAs7O"
      },
      "source": [
        "### 연산 순서, (), 줄넘김"
      ]
    },
    {
      "cell_type": "code",
      "execution_count": null,
      "metadata": {
        "id": "Vd6FGpl1AmOt"
      },
      "outputs": [],
      "source": [
        "# 연산 순서\n",
        "    # () [] {}\n",
        "    # **\n",
        "    # 단항 + - ~\n",
        "    # * / // %\n",
        "    # + -\n",
        "    # <, <=, >, >=, !=, ==, is, is not, in, not in\n",
        "    # not 객체\n",
        "    # and\n",
        "    # or\n",
        "    # if else\n",
        "    # lambda"
      ]
    },
    {
      "cell_type": "code",
      "execution_count": null,
      "metadata": {
        "id": "vHUnKpmpB1Vq"
      },
      "outputs": [],
      "source": [
        "# 줄넘김 \\는 뒤에 스페이스 하나라도 있으면 에러\n",
        "x = 1 +\\\n",
        "    2\n",
        "\n",
        "# 괄호는 자유롭게 줄넘김 가능\n",
        "y = (1 +\n",
        "     2)             # preferred\n",
        "x\n",
        "y"
      ]
    },
    {
      "cell_type": "code",
      "execution_count": null,
      "metadata": {
        "id": "rt2ZFN87ouMt"
      },
      "outputs": [],
      "source": [
        "name = '연탄이'\n",
        "age = 4\n",
        "hobby = '산책'\n",
        "\n",
        "print(name, str(age) + '살', hobby)"
      ]
    },
    {
      "cell_type": "code",
      "execution_count": null,
      "metadata": {
        "id": "-o5xeqxoouJv"
      },
      "outputs": [],
      "source": [
        "# int, float, str, bool : 형변환\n",
        "\n",
        "int('3')"
      ]
    },
    {
      "cell_type": "code",
      "execution_count": null,
      "metadata": {
        "id": "cgl56HRkP6qF"
      },
      "outputs": [],
      "source": [
        "# =, ==\n",
        "# indexing: from 0, -1, -0?\n",
        "# slicing: 끝 미포함"
      ]
    },
    {
      "cell_type": "markdown",
      "metadata": {
        "id": "zBaZfprEKIZx"
      },
      "source": [
        "## 기본 자료형: list, tuple, set, dict"
      ]
    },
    {
      "cell_type": "code",
      "execution_count": null,
      "metadata": {},
      "outputs": [],
      "source": [
        "# 기초 자료형 : int/float/str/bool"
      ]
    },
    {
      "cell_type": "code",
      "execution_count": null,
      "metadata": {
        "id": "hpWxwQhV3z6Q"
      },
      "outputs": [],
      "source": [
        "# 기본 자료형 : list/tuple/set/dict\n",
        "'''\n",
        "list       : (mutable) Sequence   : indexing, slicing\n",
        "str, tuple : (immutable) Sequence : indexing, slicing\n",
        "\n",
        "set        : set\n",
        "\n",
        "dict       : mapping              : {key: value}\n",
        "'''\n",
        "\n",
        "# => iterable, len(객체), 원소 in 객체"
      ]
    },
    {
      "cell_type": "markdown",
      "metadata": {
        "id": "qLoqJ2csE0HX"
      },
      "source": [
        "### list : Mutable Sequence"
      ]
    },
    {
      "cell_type": "code",
      "execution_count": null,
      "metadata": {
        "colab": {
          "base_uri": "https://localhost:8080/"
        },
        "id": "ZciUfD5_Rlqb",
        "outputId": "5a698c6f-6aec-40d2-a1e0-80079789dec7"
      },
      "outputs": [
        {
          "data": {
            "text/plain": [
              "list"
            ]
          },
          "execution_count": 7,
          "metadata": {},
          "output_type": "execute_result"
        }
      ],
      "source": [
        "x = [1, 'a', 3., True]          # 가장 편리한 자료 구조 : 원소 삽입/삭제/변경 자유, but 메모리 효율x\n",
        "type(x)"
      ]
    },
    {
      "cell_type": "markdown",
      "metadata": {
        "id": "OfJcK3pvE5bR"
      },
      "source": [
        "### tuple : Immutable Sequence"
      ]
    },
    {
      "cell_type": "code",
      "execution_count": 2,
      "metadata": {
        "colab": {
          "base_uri": "https://localhost:8080/"
        },
        "id": "beamZ7fORpml",
        "outputId": "18a00ca0-f722-4f5b-aac7-53efae1e155f"
      },
      "outputs": [
        {
          "data": {
            "text/plain": [
              "(1, 'a', 3.0, True)"
            ]
          },
          "execution_count": 2,
          "metadata": {},
          "output_type": "execute_result"
        },
        {
          "data": {
            "text/plain": [
              "tuple"
            ]
          },
          "execution_count": 2,
          "metadata": {},
          "output_type": "execute_result"
        }
      ],
      "source": [
        "x = (1, 'a', 3., True)          # 한 번 만들어진 객체를 바꾸지 않겠다는 의도(메모리 효율 O)\n",
        "x = 1, 'a', 3., True            # identical\n",
        "x\n",
        "\n",
        "x = 1, 2                        # 원소 두 개인 tuple\n",
        "x = 1,                          # 원소 하나인 tuple\n",
        "type(x)"
      ]
    },
    {
      "cell_type": "code",
      "execution_count": 5,
      "metadata": {
        "id": "ydzYJZu_93tN"
      },
      "outputs": [
        {
          "data": {
            "text/plain": [
              "('James', 30)"
            ]
          },
          "execution_count": 5,
          "metadata": {},
          "output_type": "execute_result"
        }
      ],
      "source": [
        "name, age = 'James', 30         # tuple / iterable unpacking\n",
        "(name, age) = ('James', 30)     # identical\n",
        "\n",
        "name = 'James'\n",
        "age = 30\n",
        "name, age"
      ]
    },
    {
      "cell_type": "code",
      "execution_count": 6,
      "metadata": {
        "colab": {
          "base_uri": "https://localhost:8080/"
        },
        "id": "Y96udFWh-JeT",
        "outputId": "ba0ba58b-ae73-41f9-a7c9-d7ad0b72af88"
      },
      "outputs": [
        {
          "data": {
            "text/plain": [
              "(2, 1)"
            ]
          },
          "execution_count": 6,
          "metadata": {},
          "output_type": "execute_result"
        },
        {
          "data": {
            "text/plain": [
              "(2, 1)"
            ]
          },
          "execution_count": 6,
          "metadata": {},
          "output_type": "execute_result"
        }
      ],
      "source": [
        "a, b = 1, 2         # 두 변수의 값 바꾸기\n",
        "\n",
        "tmp = b             # Python 외 언어\n",
        "b = a               # b에 a값을 넣어 b 값이 없어지기 전에 임시 저장(tmp) 필요\n",
        "a = tmp             # a에는 임시저장된 b값 넣기\n",
        "a, b\n",
        "\n",
        "a, b = 1, 2         # Pythonic\n",
        "a, b = b, a         # tuple unpacking = tuple\n",
        "a, b                # tuple"
      ]
    },
    {
      "cell_type": "markdown",
      "metadata": {},
      "source": [
        "### list/tuple/str: Sequence"
      ]
    },
    {
      "cell_type": "code",
      "execution_count": 46,
      "metadata": {},
      "outputs": [
        {
          "data": {
            "text/plain": [
              "[1, 2, 3]"
            ]
          },
          "execution_count": 46,
          "metadata": {},
          "output_type": "execute_result"
        },
        {
          "data": {
            "text/plain": [
              "(1, 2, 3)"
            ]
          },
          "execution_count": 46,
          "metadata": {},
          "output_type": "execute_result"
        },
        {
          "data": {
            "text/plain": [
              "'123'"
            ]
          },
          "execution_count": 46,
          "metadata": {},
          "output_type": "execute_result"
        }
      ],
      "source": [
        "# concat : +, *, +=, *=\n",
        "\n",
        "[1, 2] + [3]     # extend([3])\n",
        "(1, 2) + (3,)\n",
        "'12' + '3'"
      ]
    },
    {
      "cell_type": "code",
      "execution_count": 48,
      "metadata": {},
      "outputs": [
        {
          "data": {
            "text/plain": [
              "[1, 2, 1, 2]"
            ]
          },
          "execution_count": 48,
          "metadata": {},
          "output_type": "execute_result"
        },
        {
          "data": {
            "text/plain": [
              "(1, 2, 1, 2)"
            ]
          },
          "execution_count": 48,
          "metadata": {},
          "output_type": "execute_result"
        },
        {
          "data": {
            "text/plain": [
              "'1212'"
            ]
          },
          "execution_count": 48,
          "metadata": {},
          "output_type": "execute_result"
        }
      ],
      "source": [
        "[1, 2] * 2      # 2* [1, 2]\n",
        "(1, 2) * 2      # 2* (1, 2)\n",
        "'12' * 2        # 2* '12'"
      ]
    },
    {
      "cell_type": "code",
      "execution_count": 47,
      "metadata": {},
      "outputs": [
        {
          "data": {
            "text/plain": [
              "([1, 2, 1, 2, 1, 2], (1, 2, 1, 2, 1, 2), '121212')"
            ]
          },
          "execution_count": 47,
          "metadata": {},
          "output_type": "execute_result"
        }
      ],
      "source": [
        "l = [1, 2]\n",
        "t = tuple(l)\n",
        "s = '12'\n",
        "\n",
        "l *= 3\n",
        "t *= 3\n",
        "s *= 3\n",
        "l, t, s"
      ]
    },
    {
      "cell_type": "code",
      "execution_count": 53,
      "metadata": {},
      "outputs": [
        {
          "data": {
            "text/plain": [
              "([1, 2, 1, 2, 1, 2, 3, 4], (1, 2, 1, 2, 1, 2, 3, 4), '12121234')"
            ]
          },
          "execution_count": 53,
          "metadata": {},
          "output_type": "execute_result"
        }
      ],
      "source": [
        "l += [3, 4]\n",
        "t += (3, 4)\n",
        "s += '34'\n",
        "l, t, s"
      ]
    },
    {
      "cell_type": "code",
      "execution_count": null,
      "metadata": {},
      "outputs": [],
      "source": []
    },
    {
      "cell_type": "code",
      "execution_count": 43,
      "metadata": {},
      "outputs": [
        {
          "data": {
            "text/plain": [
              "1"
            ]
          },
          "execution_count": 43,
          "metadata": {},
          "output_type": "execute_result"
        },
        {
          "data": {
            "text/plain": [
              "'c'"
            ]
          },
          "execution_count": 43,
          "metadata": {},
          "output_type": "execute_result"
        },
        {
          "data": {
            "text/plain": [
              "'bc'"
            ]
          },
          "execution_count": 43,
          "metadata": {},
          "output_type": "execute_result"
        },
        {
          "data": {
            "text/plain": [
              "1"
            ]
          },
          "execution_count": 43,
          "metadata": {},
          "output_type": "execute_result"
        },
        {
          "data": {
            "text/plain": [
              "'c'"
            ]
          },
          "execution_count": 43,
          "metadata": {},
          "output_type": "execute_result"
        },
        {
          "data": {
            "text/plain": [
              "['b', 'c']"
            ]
          },
          "execution_count": 43,
          "metadata": {},
          "output_type": "execute_result"
        },
        {
          "data": {
            "text/plain": [
              "1"
            ]
          },
          "execution_count": 43,
          "metadata": {},
          "output_type": "execute_result"
        },
        {
          "data": {
            "text/plain": [
              "'c'"
            ]
          },
          "execution_count": 43,
          "metadata": {},
          "output_type": "execute_result"
        },
        {
          "data": {
            "text/plain": [
              "('b', 'c')"
            ]
          },
          "execution_count": 43,
          "metadata": {},
          "output_type": "execute_result"
        }
      ],
      "source": [
        "# indexing & slicing\n",
        "\n",
        "obj = 'abc'\n",
        "obj.index('b')\n",
        "obj[-1]\n",
        "obj[1:]\n",
        "\n",
        "obj = ['a', 'b', 'c']\n",
        "obj.index('b')\n",
        "obj[-1]\n",
        "obj[1:]\n",
        "\n",
        "obj = 'a', 'b', 'c'\n",
        "obj.index('b')\n",
        "obj[-1]\n",
        "obj[1:]"
      ]
    },
    {
      "cell_type": "code",
      "execution_count": 44,
      "metadata": {},
      "outputs": [
        {
          "data": {
            "text/plain": [
              "2"
            ]
          },
          "execution_count": 44,
          "metadata": {},
          "output_type": "execute_result"
        },
        {
          "data": {
            "text/plain": [
              "2"
            ]
          },
          "execution_count": 44,
          "metadata": {},
          "output_type": "execute_result"
        },
        {
          "data": {
            "text/plain": [
              "2"
            ]
          },
          "execution_count": 44,
          "metadata": {},
          "output_type": "execute_result"
        }
      ],
      "source": [
        "# .index/count\n",
        "\n",
        "[1, 2, 1].count(1)\n",
        "(1, 2, 1).count(1)\n",
        "'121'.count('1')"
      ]
    },
    {
      "cell_type": "code",
      "execution_count": 78,
      "metadata": {},
      "outputs": [
        {
          "data": {
            "text/plain": [
              "['a', 'b', 'c']"
            ]
          },
          "execution_count": 78,
          "metadata": {},
          "output_type": "execute_result"
        },
        {
          "data": {
            "text/plain": [
              "('a', 'b', 'c')"
            ]
          },
          "execution_count": 78,
          "metadata": {},
          "output_type": "execute_result"
        }
      ],
      "source": [
        "s = 'abc'\n",
        "\n",
        "list(s)\n",
        "tuple(s)"
      ]
    },
    {
      "cell_type": "code",
      "execution_count": null,
      "metadata": {},
      "outputs": [],
      "source": []
    },
    {
      "cell_type": "code",
      "execution_count": 38,
      "metadata": {},
      "outputs": [
        {
          "data": {
            "text/plain": [
              "['spades', 'diamonds', 'clubs', 'hearts']"
            ]
          },
          "execution_count": 38,
          "metadata": {},
          "output_type": "execute_result"
        }
      ],
      "source": [
        "# 스트링.split, 스트링.join\n",
        "\n",
        "suits = 'spades diamonds clubs hearts'.split()      # 스트링.split(sep=' ') -> list\n",
        "suits"
      ]
    },
    {
      "cell_type": "code",
      "execution_count": 39,
      "metadata": {},
      "outputs": [
        {
          "data": {
            "text/plain": [
              "['Seoul', 'New', 'York', 'London', 'Paris']"
            ]
          },
          "execution_count": 39,
          "metadata": {},
          "output_type": "execute_result"
        }
      ],
      "source": [
        "cities = 'Seoul New York London Paris'.split()        # ???\n",
        "cities"
      ]
    },
    {
      "cell_type": "code",
      "execution_count": 42,
      "metadata": {},
      "outputs": [
        {
          "data": {
            "text/plain": [
              "'spades diamonds clubs hearts'"
            ]
          },
          "execution_count": 42,
          "metadata": {},
          "output_type": "execute_result"
        },
        {
          "data": {
            "text/plain": [
              "'spades_*^diamonds_*^clubs_*^hearts'"
            ]
          },
          "execution_count": 42,
          "metadata": {},
          "output_type": "execute_result"
        }
      ],
      "source": [
        "# 스트링.join(이터러블 of str)\n",
        "\n",
        "' '.join(suits)             # 스트링.join(이터러블) -> str\n",
        "'_*^'.join(suits)"
      ]
    },
    {
      "cell_type": "code",
      "execution_count": 56,
      "metadata": {},
      "outputs": [
        {
          "ename": "TypeError",
          "evalue": "sequence item 0: expected str instance, int found",
          "output_type": "error",
          "traceback": [
            "\u001b[0;31m---------------------------------------------------------------------------\u001b[0m",
            "\u001b[0;31mTypeError\u001b[0m                                 Traceback (most recent call last)",
            "Cell \u001b[0;32mIn[56], line 1\u001b[0m\n\u001b[0;32m----> 1\u001b[0m \u001b[38;5;124m'\u001b[39m\u001b[38;5;124m \u001b[39m\u001b[38;5;124m'\u001b[39m\u001b[38;5;241m.\u001b[39mjoin([\u001b[38;5;241m1\u001b[39m,\u001b[38;5;241m2\u001b[39m])\n",
            "\u001b[0;31mTypeError\u001b[0m: sequence item 0: expected str instance, int found"
          ]
        }
      ],
      "source": [
        "' '.join([1, 2])"
      ]
    },
    {
      "cell_type": "markdown",
      "metadata": {
        "id": "Dhz6svQeFWXH"
      },
      "source": [
        "### set"
      ]
    },
    {
      "cell_type": "code",
      "execution_count": 8,
      "metadata": {
        "id": "9H-4fAhlRsNI"
      },
      "outputs": [
        {
          "data": {
            "text/plain": [
              "{1, 3.0, 'a', 'abc'}"
            ]
          },
          "execution_count": 8,
          "metadata": {},
          "output_type": "execute_result"
        },
        {
          "data": {
            "text/plain": [
              "set"
            ]
          },
          "execution_count": 8,
          "metadata": {},
          "output_type": "execute_result"
        }
      ],
      "source": [
        "x = {1, 'a', 3., 'abc'}          # unique elements, 순서 보장X : not sequence!: iterable, len, in\n",
        "x\n",
        "type(x)"
      ]
    },
    {
      "cell_type": "code",
      "execution_count": 9,
      "metadata": {},
      "outputs": [
        {
          "data": {
            "text/plain": [
              "[1, 2, 3, 100, 100, 200, 300]"
            ]
          },
          "execution_count": 9,
          "metadata": {},
          "output_type": "execute_result"
        },
        {
          "data": {
            "text/plain": [
              "{1, 2, 3, 100, 200, 300}"
            ]
          },
          "execution_count": 9,
          "metadata": {},
          "output_type": "execute_result"
        }
      ],
      "source": [
        "l = [1, 2, 3, 100] + [100, 200, 300]\n",
        "l\n",
        "set(l)                              # 중복 원소 없애줌"
      ]
    },
    {
      "cell_type": "code",
      "execution_count": 55,
      "metadata": {},
      "outputs": [
        {
          "data": {
            "text/plain": [
              "2"
            ]
          },
          "execution_count": 55,
          "metadata": {},
          "output_type": "execute_result"
        },
        {
          "data": {
            "text/plain": [
              "True"
            ]
          },
          "execution_count": 55,
          "metadata": {},
          "output_type": "execute_result"
        }
      ],
      "source": [
        "len(x)\n",
        "3 not in x"
      ]
    },
    {
      "cell_type": "markdown",
      "metadata": {
        "id": "163AdOX5F2uK"
      },
      "source": [
        "### dict : Mapping : Python의 핵심 자료형"
      ]
    },
    {
      "cell_type": "code",
      "execution_count": 35,
      "metadata": {},
      "outputs": [
        {
          "data": {
            "text/plain": [
              "{1: 'a', 1.1: 'b'}"
            ]
          },
          "execution_count": 35,
          "metadata": {},
          "output_type": "execute_result"
        },
        {
          "data": {
            "text/plain": [
              "{1: 'a', 1.1: 'b'}"
            ]
          },
          "execution_count": 35,
          "metadata": {},
          "output_type": "execute_result"
        }
      ],
      "source": [
        "{1: 'a', 1.1:'b'}       # {key1: value1, ket2: value2, ...}\n",
        "\n",
        "dict([(1, 'a'), (1.1, 'b')])    # dict(iterable of (k, v)s)"
      ]
    },
    {
      "cell_type": "code",
      "execution_count": 37,
      "metadata": {
        "id": "eFQLv7sBRu6w"
      },
      "outputs": [
        {
          "data": {
            "text/plain": [
              "{'a': 1, 'b': 2}"
            ]
          },
          "execution_count": 37,
          "metadata": {},
          "output_type": "execute_result"
        },
        {
          "data": {
            "text/plain": [
              "dict"
            ]
          },
          "execution_count": 37,
          "metadata": {},
          "output_type": "execute_result"
        }
      ],
      "source": [
        "x = {'a': 1, 'b': 2}            # {key1: value1, ...}\n",
        "x = dict((('a', 1), ('b', 2)))  # dict(iterable of key-value pairs)\n",
        "x = dict(a=1, b=2)              # key가 변수명이 될 수 있다면(문자 및 _으로 시작, 문자, _, 숫자로 이루어짐, 특수문자/키워드X)\n",
        "\n",
        "x\n",
        "type(x)"
      ]
    },
    {
      "cell_type": "markdown",
      "metadata": {
        "id": "JUj2stozSZxz"
      },
      "source": [
        "### 생성, 조회(인덱싱, slice), 추가, 삭제, 변경"
      ]
    },
    {
      "cell_type": "code",
      "execution_count": null,
      "metadata": {
        "id": "n2EcjmRhGVch"
      },
      "outputs": [],
      "source": [
        "# 빈 객체 생성\n",
        "\n",
        "list(), []\n",
        "tuple()             # 못바꾸는데 빈 객체 생성?\n",
        "set()\n",
        "dict(), {}          # {}는 빈 딕트, 빈 세트X"
      ]
    },
    {
      "cell_type": "code",
      "execution_count": null,
      "metadata": {
        "id": "rwqsSUdOGea9"
      },
      "outputs": [],
      "source": [
        "# type casting\n",
        "\n",
        "list((1, 2, 1))         # tuple -> list\n",
        "list({1, 2, 3})         # set -> list\n",
        "tuple([1, 2, 1])        # list -> tuple\n",
        "set([1, 2, 1])          # list -> set\n",
        "set((1, 2, 1))          # tuple -> set\n",
        "\n",
        "list('abcba')           # str -> list\n",
        "tuple('abcba')          # str -> tuple\n",
        "set('abcba')            # str -> set"
      ]
    },
    {
      "cell_type": "code",
      "execution_count": 58,
      "metadata": {
        "id": "LKUgPZMQG092"
      },
      "outputs": [
        {
          "data": {
            "text/plain": [
              "(1, True)"
            ]
          },
          "execution_count": 58,
          "metadata": {},
          "output_type": "execute_result"
        },
        {
          "data": {
            "text/plain": [
              "[2, 'a', True]"
            ]
          },
          "execution_count": 58,
          "metadata": {},
          "output_type": "execute_result"
        },
        {
          "data": {
            "text/plain": [
              "[2, True]"
            ]
          },
          "execution_count": 58,
          "metadata": {},
          "output_type": "execute_result"
        },
        {
          "data": {
            "text/plain": [
              "[2, True]"
            ]
          },
          "execution_count": 58,
          "metadata": {},
          "output_type": "execute_result"
        },
        {
          "data": {
            "text/plain": [
              "[1, 'a', 5]"
            ]
          },
          "execution_count": 58,
          "metadata": {},
          "output_type": "execute_result"
        },
        {
          "data": {
            "text/plain": [
              "[5, True, 'a', 2, 1]"
            ]
          },
          "execution_count": 58,
          "metadata": {},
          "output_type": "execute_result"
        },
        {
          "data": {
            "text/plain": [
              "[1, 2, 'a', True, 5]"
            ]
          },
          "execution_count": 58,
          "metadata": {},
          "output_type": "execute_result"
        }
      ],
      "source": [
        "# list 조회(indexing/slicing), 변경\n",
        "\n",
        "l = [1, 2, 'a', True, 5]\n",
        "\n",
        "l[0], l[3]          # 1, True\n",
        "l[1:4]              # [2, 'a', True]\n",
        "l[1:4:2]\n",
        "l[1:-1:2]\n",
        "l[::2]\n",
        "l[::-1]\n",
        "l[:]"
      ]
    },
    {
      "cell_type": "code",
      "execution_count": 60,
      "metadata": {},
      "outputs": [
        {
          "data": {
            "text/plain": [
              "[1, 2, 'zzz', 5]"
            ]
          },
          "execution_count": 60,
          "metadata": {},
          "output_type": "execute_result"
        }
      ],
      "source": [
        "l[2:4] = ['zzz']\n",
        "l"
      ]
    },
    {
      "cell_type": "code",
      "execution_count": null,
      "metadata": {
        "id": "tmsAgk2dHXoz"
      },
      "outputs": [],
      "source": [
        "# list 추가, 삭제\n",
        "\n",
        "l.insert(2, 3)          # index 2에 값 3을 추가\n",
        "l\n",
        "\n",
        "l.append(0)\n",
        "l\n",
        "\n",
        "l.extend([1, 2, 3])     # l += [1, 2, 3]\n",
        "l\n",
        "\n",
        "l.pop()             # returns & deletes the final element\n",
        "l\n",
        "\n",
        "del l[0]            # l.pop(0) returns & deletes the first element\n",
        "l"
      ]
    },
    {
      "cell_type": "code",
      "execution_count": null,
      "metadata": {
        "id": "QoF5WkQpI2oU"
      },
      "outputs": [],
      "source": [
        "l.index(3)      # 첫 번째 match index, 없으면 error"
      ]
    },
    {
      "cell_type": "code",
      "execution_count": null,
      "metadata": {
        "colab": {
          "base_uri": "https://localhost:8080/"
        },
        "id": "sOxQ-oJI4yB1",
        "outputId": "972bb17f-4474-4d8c-e55a-66e48a4f6063"
      },
      "outputs": [
        {
          "data": {
            "text/plain": [
              "[1, 2, 3, 100]"
            ]
          },
          "execution_count": 20,
          "metadata": {},
          "output_type": "execute_result"
        }
      ],
      "source": [
        "subway = [1, 2, 3]\n",
        "\n",
        "subway.append(100)      # 끝에 원소 추가\n",
        "subway"
      ]
    },
    {
      "cell_type": "code",
      "execution_count": null,
      "metadata": {
        "colab": {
          "base_uri": "https://localhost:8080/"
        },
        "id": "ur_Mwn5E46rP",
        "outputId": "49ee09a2-1f3c-4d15-efc3-54f480e868cc"
      },
      "outputs": [
        {
          "data": {
            "text/plain": [
              "[1, 2, 3, 100, 1000, 2000]"
            ]
          },
          "execution_count": 21,
          "metadata": {},
          "output_type": "execute_result"
        }
      ],
      "source": [
        "subway.extend( [1000, 2000])    # + [1000, 2000]\n",
        "subway"
      ]
    },
    {
      "cell_type": "code",
      "execution_count": null,
      "metadata": {
        "colab": {
          "base_uri": "https://localhost:8080/"
        },
        "id": "o9vmmddg5RD-",
        "outputId": "07eb3fa4-9757-47fc-d6ab-149a086265de"
      },
      "outputs": [
        {
          "data": {
            "text/plain": [
              "[1, 2, 3, 100, 1000, 2000, [1000, 2000]]"
            ]
          },
          "execution_count": 22,
          "metadata": {},
          "output_type": "execute_result"
        }
      ],
      "source": [
        "subway.append( [1000, 2000])    # 끝에 '원소' 추가\n",
        "subway"
      ]
    },
    {
      "cell_type": "code",
      "execution_count": null,
      "metadata": {
        "colab": {
          "base_uri": "https://localhost:8080/"
        },
        "id": "41PNFRTI5MXZ",
        "outputId": "8972df23-3964-47e8-ffbc-97ac5aa58c68"
      },
      "outputs": [
        {
          "data": {
            "text/plain": [
              "[1, 2, '*', 3, 100, 1000, 2000, [1000, 2000]]"
            ]
          },
          "execution_count": 23,
          "metadata": {},
          "output_type": "execute_result"
        }
      ],
      "source": [
        "subway.insert(2, '*')       # 인덱스에 추가\n",
        "subway"
      ]
    },
    {
      "cell_type": "code",
      "execution_count": null,
      "metadata": {
        "colab": {
          "base_uri": "https://localhost:8080/"
        },
        "id": "wB3lxpJ55zrN",
        "outputId": "bcc83d16-fcd0-4ec0-c45e-05afc84120e6"
      },
      "outputs": [
        {
          "data": {
            "text/plain": [
              "[1, 2, '****', 3, 100, 1000, 2000, [1000, 2000]]"
            ]
          },
          "execution_count": 25,
          "metadata": {},
          "output_type": "execute_result"
        }
      ],
      "source": [
        "subway[2] = '****'      # 원소 변경\n",
        "subway"
      ]
    },
    {
      "cell_type": "code",
      "execution_count": null,
      "metadata": {
        "colab": {
          "base_uri": "https://localhost:8080/"
        },
        "id": "F16Epte46Amx",
        "outputId": "2dbd12e2-14fd-438b-edf3-62fcdbbaf112"
      },
      "outputs": [
        {
          "data": {
            "text/plain": [
              "[1000, 2000]"
            ]
          },
          "execution_count": 26,
          "metadata": {},
          "output_type": "execute_result"
        },
        {
          "data": {
            "text/plain": [
              "[1, 2, '****', 3, 100, 1000, 2000]"
            ]
          },
          "execution_count": 26,
          "metadata": {},
          "output_type": "execute_result"
        }
      ],
      "source": [
        "a = subway.pop()        # 마지막 원소 반환 후 삭제\n",
        "a\n",
        "subway"
      ]
    },
    {
      "cell_type": "code",
      "execution_count": null,
      "metadata": {
        "colab": {
          "base_uri": "https://localhost:8080/"
        },
        "id": "Tbwb2zlU5zA2",
        "outputId": "7ca5775a-b983-4f0a-f4df-3584a4185dab"
      },
      "outputs": [
        {
          "data": {
            "text/plain": [
              "2"
            ]
          },
          "execution_count": 27,
          "metadata": {},
          "output_type": "execute_result"
        }
      ],
      "source": [
        "'I am a girl.'.count('a')"
      ]
    },
    {
      "cell_type": "code",
      "execution_count": null,
      "metadata": {
        "colab": {
          "base_uri": "https://localhost:8080/"
        },
        "id": "75xjsG9b6jt1",
        "outputId": "2a5f81d4-028a-4f15-c6ef-448f257401fa"
      },
      "outputs": [
        {
          "data": {
            "text/plain": [
              "[]"
            ]
          },
          "execution_count": 28,
          "metadata": {},
          "output_type": "execute_result"
        }
      ],
      "source": [
        "subway.clear()      # mutable\n",
        "subway"
      ]
    },
    {
      "cell_type": "code",
      "execution_count": null,
      "metadata": {
        "colab": {
          "base_uri": "https://localhost:8080/"
        },
        "id": "o04HU7k96qTW",
        "outputId": "09ea34dc-4725-4ba3-d75d-b927af73a040"
      },
      "outputs": [
        {
          "data": {
            "text/plain": [
              "[5, 4, 3, 2, 1]"
            ]
          },
          "execution_count": 30,
          "metadata": {},
          "output_type": "execute_result"
        }
      ],
      "source": [
        "nums = [5, 2, 4, 3, 1]\n",
        "\n",
        "nums.sort(reverse=True)     # in-place 변환, None 반환\n",
        "nums"
      ]
    },
    {
      "cell_type": "code",
      "execution_count": null,
      "metadata": {
        "colab": {
          "base_uri": "https://localhost:8080/"
        },
        "id": "36Yy-5097Irj",
        "outputId": "35287ec6-1665-4fa3-c9b4-c641637f821e"
      },
      "outputs": [
        {
          "data": {
            "text/plain": [
              "[1, 2, 3, 4, 5]"
            ]
          },
          "execution_count": 32,
          "metadata": {},
          "output_type": "execute_result"
        }
      ],
      "source": [
        "nums = [5, 2, 4, 3, 1]\n",
        "\n",
        "nums_ = nums.sort()  # -> None\n",
        "nums_               # None\n",
        "nums                # sort된 리스트"
      ]
    },
    {
      "cell_type": "code",
      "execution_count": null,
      "metadata": {
        "colab": {
          "base_uri": "https://localhost:8080/"
        },
        "id": "jb74V-Nm7G9N",
        "outputId": "309a9710-c841-4f17-b0a6-48cf4f209b67"
      },
      "outputs": [
        {
          "data": {
            "text/plain": [
              "[1, 2, 3, 4, 5]"
            ]
          },
          "execution_count": 37,
          "metadata": {},
          "output_type": "execute_result"
        }
      ],
      "source": [
        "nums = [5, 2, 4, 3, 1]\n",
        "nums_ = sorted(nums)    # nums는 그대로\n",
        "nums_\n",
        "nums"
      ]
    },
    {
      "cell_type": "code",
      "execution_count": null,
      "metadata": {
        "colab": {
          "base_uri": "https://localhost:8080/"
        },
        "id": "G9zWKyrb8zqI",
        "outputId": "2ec4ee33-79c0-4671-f6c5-20268478cc69"
      },
      "outputs": [
        {
          "data": {
            "text/plain": [
              "[1, 3, 4, 2, 5]"
            ]
          },
          "execution_count": 38,
          "metadata": {},
          "output_type": "execute_result"
        }
      ],
      "source": [
        "nums = [5, 2, 4, 3, 1]\n",
        "\n",
        "nums[::-1]"
      ]
    },
    {
      "cell_type": "code",
      "execution_count": null,
      "metadata": {
        "colab": {
          "base_uri": "https://localhost:8080/",
          "height": 35
        },
        "id": "WrfV1nXU8-Gz",
        "outputId": "4dc57d8b-e4fd-4744-f8f5-d7a0d4b31b44"
      },
      "outputs": [
        {
          "data": {
            "application/vnd.google.colaboratory.intrinsic+json": {
              "type": "string"
            },
            "text/plain": [
              "'z~gfedcba'"
            ]
          },
          "execution_count": 39,
          "metadata": {},
          "output_type": "execute_result"
        }
      ],
      "source": [
        "'abcdefg~z'[::-1]"
      ]
    },
    {
      "cell_type": "code",
      "execution_count": null,
      "metadata": {
        "id": "xYdm8VOK8lm9"
      },
      "outputs": [],
      "source": []
    },
    {
      "cell_type": "code",
      "execution_count": null,
      "metadata": {
        "id": "sf95NSGPHxrp"
      },
      "outputs": [],
      "source": [
        "# 2차원 list\n",
        "\n",
        "l = []\n",
        "l.append([1, 2, 3])\n",
        "l.append([4, 5, 6])\n",
        "l.append([7, 8, 9])\n",
        "l\n",
        "l[1]\n",
        "l[1][1]                 # l[1, 1] multi-index안됨! => numpy, pytorch는 가능\n",
        "\n",
        "l.pop()\n",
        "l"
      ]
    },
    {
      "cell_type": "code",
      "execution_count": 45,
      "metadata": {
        "id": "mHm7X_ZNJdRP"
      },
      "outputs": [
        {
          "data": {
            "text/plain": [
              "0"
            ]
          },
          "execution_count": 45,
          "metadata": {},
          "output_type": "execute_result"
        },
        {
          "data": {
            "text/plain": [
              "(1, 0, 'a')"
            ]
          },
          "execution_count": 45,
          "metadata": {},
          "output_type": "execute_result"
        },
        {
          "data": {
            "text/plain": [
              "2"
            ]
          },
          "execution_count": 45,
          "metadata": {},
          "output_type": "execute_result"
        },
        {
          "data": {
            "text/plain": [
              "0"
            ]
          },
          "execution_count": 45,
          "metadata": {},
          "output_type": "execute_result"
        }
      ],
      "source": [
        "# tuple 조회 : indexing, slicing\n",
        "\n",
        "t = (1, 0, 'a', 5.)\n",
        "t = 1, 0, 'a', 5.      # identical\n",
        "\n",
        "t[1]\n",
        "t[:3]\n",
        "t.index('a')\n",
        "t.index(1)"
      ]
    },
    {
      "cell_type": "code",
      "execution_count": null,
      "metadata": {
        "id": "lQANV4cAObOr"
      },
      "outputs": [],
      "source": [
        "# set\n",
        "\n",
        "# set(이터러블)          # 생성, 빈 set는 set()\n",
        "# a.add(원소)\n",
        "# a.remove(원소)        # 원소를 지우되, 해당 원소가 없으면 에러 발생\n",
        "# a.discard(원소)       # 원소를 지우되, 원소가 없으면 그냥 넘어감\n",
        "# a.pop()              # 임의의 원소 반환 및 삭제\n",
        "# a.clear()"
      ]
    },
    {
      "cell_type": "code",
      "execution_count": null,
      "metadata": {
        "id": "ewK8fJzZL2ML"
      },
      "outputs": [],
      "source": [
        "# a | b, set.union(a, b)                    # a |= b\n",
        "# a & b, set.intersection(a, b)             # a &= b\n",
        "# a - b, set.difference(a, b)               # a -= b\n",
        "# a ^ b, set.symmetric_difference(a, b)     # a ^= b"
      ]
    },
    {
      "cell_type": "code",
      "execution_count": null,
      "metadata": {
        "id": "qfYbRn9-NzN9"
      },
      "outputs": [],
      "source": [
        "# a <= b, a.issubset(b)\n",
        "# a < b\n",
        "# a >= b, a.issuperset(b)\n",
        "# a > b\n",
        "# a == b\n",
        "# a.isdisjoint(b)"
      ]
    },
    {
      "cell_type": "code",
      "execution_count": 11,
      "metadata": {
        "id": "1EbnsxK8L7Y0"
      },
      "outputs": [
        {
          "data": {
            "text/plain": [
              "{'a': 1, 'b': 2, 'c': 3}"
            ]
          },
          "execution_count": 11,
          "metadata": {},
          "output_type": "execute_result"
        },
        {
          "data": {
            "text/plain": [
              "dict_keys(['a', 'b', 'c'])"
            ]
          },
          "execution_count": 11,
          "metadata": {},
          "output_type": "execute_result"
        },
        {
          "data": {
            "text/plain": [
              "dict_values([1, 2, 3])"
            ]
          },
          "execution_count": 11,
          "metadata": {},
          "output_type": "execute_result"
        },
        {
          "data": {
            "text/plain": [
              "dict_items([('a', 1), ('b', 2), ('c', 3)])"
            ]
          },
          "execution_count": 11,
          "metadata": {},
          "output_type": "execute_result"
        }
      ],
      "source": [
        "# dict\n",
        "\n",
        "d = dict(a=1, b=2, c=3)         # {'a': 1, 'b': 2, 'c': 3}\n",
        "                                # dict([('a', 1), ...])\n",
        "d\n",
        "\n",
        "d.keys()\n",
        "d.values()\n",
        "d.items()"
      ]
    },
    {
      "cell_type": "code",
      "execution_count": null,
      "metadata": {
        "id": "V1xL1icvO_Tj"
      },
      "outputs": [],
      "source": [
        "# 조회\n",
        "\n",
        "d['a']                      # 없으면 KeyError\n",
        "d.get('c')                  # default=None: 딕트에 해당 키가 있으면 d[키] 반환, 없으면 None 반환\n",
        "d.get('z', 'not found')"
      ]
    },
    {
      "cell_type": "code",
      "execution_count": null,
      "metadata": {
        "id": "fcjpIwyvPpE9"
      },
      "outputs": [],
      "source": [
        "# 변경, 추가\n",
        "\n",
        "d['a'] = 0          # 해당 키가 있으면 값 변경\n",
        "d['z'] = 'z'        # 해당 키가 없으면 키:값 쌍 추가\n",
        "d"
      ]
    },
    {
      "cell_type": "code",
      "execution_count": null,
      "metadata": {},
      "outputs": [],
      "source": [
        "# 딕트.update(딕트') : 한 번에 딕트'의 키:값을 딕트에 변경/추가\n",
        "\n",
        "d.update({'b': 100, 'x': 'a'})\n",
        "d.update(dict(b=100, x='a'))        # identical\n",
        "d |= dict(b=100, x='a')             # identical\n",
        "d"
      ]
    },
    {
      "cell_type": "code",
      "execution_count": null,
      "metadata": {
        "id": "xu6a3vE6Psv8"
      },
      "outputs": [],
      "source": [
        "# 삭제\n",
        "\n",
        "d.pop('z')\n",
        "d\n",
        "\n",
        "del d['c']\n",
        "d"
      ]
    },
    {
      "cell_type": "code",
      "execution_count": null,
      "metadata": {
        "id": "CfLl3be2L7xu"
      },
      "outputs": [],
      "source": [
        "# collection type : sequence(list, tuple, str) + set + dict\n",
        "# -> iterable, len(객체), 원소 in 객체\n",
        "\n",
        "# sequence는 reversed() : from 3.6"
      ]
    },
    {
      "cell_type": "code",
      "execution_count": null,
      "metadata": {
        "id": "FkCHQoc1Qie-"
      },
      "outputs": [],
      "source": [
        "len(d)\n",
        "\n",
        "'a' in d            # 키 in 딕트\n",
        "'z' in d\n",
        "'x' not in d"
      ]
    },
    {
      "cell_type": "code",
      "execution_count": 52,
      "metadata": {},
      "outputs": [
        {
          "data": {
            "text/plain": [
              "True"
            ]
          },
          "execution_count": 52,
          "metadata": {},
          "output_type": "execute_result"
        },
        {
          "data": {
            "text/plain": [
              "True"
            ]
          },
          "execution_count": 52,
          "metadata": {},
          "output_type": "execute_result"
        },
        {
          "data": {
            "text/plain": [
              "True"
            ]
          },
          "execution_count": 52,
          "metadata": {},
          "output_type": "execute_result"
        },
        {
          "data": {
            "text/plain": [
              "True"
            ]
          },
          "execution_count": 52,
          "metadata": {},
          "output_type": "execute_result"
        }
      ],
      "source": [
        "1 in [1,2,3]\n",
        "1 in (1,2,3)\n",
        "\n",
        "'a' in 'abc'\n",
        "'ab' in 'abc'"
      ]
    },
    {
      "cell_type": "markdown",
      "metadata": {
        "id": "_LMCKc4VSoKB"
      },
      "source": [
        "### sequence comparison"
      ]
    },
    {
      "cell_type": "code",
      "execution_count": 15,
      "metadata": {
        "id": "DnnBEranSnWd"
      },
      "outputs": [
        {
          "data": {
            "text/plain": [
              "True"
            ]
          },
          "execution_count": 15,
          "metadata": {},
          "output_type": "execute_result"
        },
        {
          "data": {
            "text/plain": [
              "True"
            ]
          },
          "execution_count": 15,
          "metadata": {},
          "output_type": "execute_result"
        },
        {
          "data": {
            "text/plain": [
              "True"
            ]
          },
          "execution_count": 15,
          "metadata": {},
          "output_type": "execute_result"
        }
      ],
      "source": [
        "(1, 2, 3) > (1, 1, 100)         # tuple/sequence comparison\n",
        "\n",
        "[1, 2, 3] > [1, 1, 100]\n",
        "\n",
        "'123' > '111'"
      ]
    },
    {
      "cell_type": "code",
      "execution_count": 10,
      "metadata": {
        "id": "i5IClKbcS0Cf"
      },
      "outputs": [
        {
          "data": {
            "text/plain": [
              "True"
            ]
          },
          "execution_count": 10,
          "metadata": {},
          "output_type": "execute_result"
        }
      ],
      "source": [
        "'abc' < 'abz'                   # ord('c'), ord('C')"
      ]
    },
    {
      "cell_type": "code",
      "execution_count": 177,
      "metadata": {},
      "outputs": [
        {
          "data": {
            "text/plain": [
              "True"
            ]
          },
          "execution_count": 177,
          "metadata": {},
          "output_type": "execute_result"
        }
      ],
      "source": [
        "[1, 2, 3] > [1, 1]          # ~ 단락 평가(short-circuit evaluation)"
      ]
    },
    {
      "cell_type": "code",
      "execution_count": 63,
      "metadata": {},
      "outputs": [
        {
          "data": {
            "text/plain": [
              "100"
            ]
          },
          "execution_count": 63,
          "metadata": {},
          "output_type": "execute_result"
        },
        {
          "data": {
            "text/plain": [
              "100"
            ]
          },
          "execution_count": 63,
          "metadata": {},
          "output_type": "execute_result"
        },
        {
          "data": {
            "text/plain": [
              "100"
            ]
          },
          "execution_count": 63,
          "metadata": {},
          "output_type": "execute_result"
        }
      ],
      "source": [
        "n_episodes, max_episodes = None, 100    # None ~ False\n",
        "\n",
        "n_episodes or max_episodes              # 단락 평가(short-circuit evaluation)\n",
        "\n",
        "True and max_episodes\n",
        "\n",
        "\n",
        "if n_episodes:          # None ~ False\n",
        "    n_episodes\n",
        "else:\n",
        "    max_episodes"
      ]
    },
    {
      "cell_type": "markdown",
      "metadata": {
        "id": "-hX0CsysKYSA"
      },
      "source": [
        "## 제어: if, for/while, range, enumerate"
      ]
    },
    {
      "cell_type": "code",
      "execution_count": null,
      "metadata": {
        "id": "5TwdvsmIXKCP"
      },
      "outputs": [],
      "source": [
        "# if 객체/expression:       # True/False, Truthy/falsy: 0, 0., '', None, len 0\n",
        "#     조건 만족하면 실행 block\n",
        "\n",
        "\n",
        "# if 객체/expression:\n",
        "#     조건 만족하면 실행 \n",
        "# else:\n",
        "#     아니면 실행\n",
        "\n",
        "\n",
        "# if 객체/expression:\n",
        "#     조건 만족하면 실행 \n",
        "# elif 객체/expression:\n",
        "#     앞에 아니고 이 경우이면 실행\n",
        "\n",
        "\n",
        "# if 객체/expression:\n",
        "#     조건 만족하면 실행             # mutual exclusion\n",
        "# elif 객체/expression:\n",
        "#     앞에 다 아니고 이 경우이면 실행   # mutual exclusion\n",
        "# elif 객체/expression:\n",
        "#     앞에 다 아니고 이 경우이면 실행   # mutual exclusion\n",
        "# else:\n",
        "#     앞에 다 아니면 실행            # mutual exclusion\n",
        "###"
      ]
    },
    {
      "cell_type": "code",
      "execution_count": 87,
      "metadata": {},
      "outputs": [
        {
          "name": "stdout",
          "output_type": "stream",
          "text": [
            "n: 0 is smaller than 5\n",
            "n: 0 is falsy\n",
            "l is falsy\n"
          ]
        }
      ],
      "source": [
        "n = 0\n",
        "\n",
        "if n < 5:                               # True\n",
        "    print(f'n: {n} is smaller than 5')\n",
        "\n",
        "\n",
        "if n:                                   # falsy\n",
        "    print(f'n: {n} is truthy')\n",
        "else:\n",
        "    print(f'n: {n} is falsy')\n",
        "\n",
        "\n",
        "l = []\n",
        "if l:                       # if len(l) > 0\n",
        "    print('l is truthy')\n",
        "else:\n",
        "    print('l is falsy')"
      ]
    },
    {
      "cell_type": "code",
      "execution_count": 64,
      "metadata": {},
      "outputs": [
        {
          "data": {
            "text/plain": [
              "1"
            ]
          },
          "execution_count": 64,
          "metadata": {},
          "output_type": "execute_result"
        }
      ],
      "source": [
        "l = [[]]\n",
        "len(l)\n",
        "\n",
        "# if l:\n",
        "#     print('l is truthy')\n",
        "# else:\n",
        "#     print('l is falsy')"
      ]
    },
    {
      "cell_type": "code",
      "execution_count": null,
      "metadata": {},
      "outputs": [],
      "source": []
    },
    {
      "cell_type": "code",
      "execution_count": null,
      "metadata": {
        "id": "zpXPZGZfzISg"
      },
      "outputs": [],
      "source": [
        "# while 객체/expression:\n",
        "#     작업1                  # 실행됨\n",
        "#     continue              # 아래 실행X, 바로 while문 조건으로 : skip\n",
        "#     작업2\n",
        "#     break                 # 현재 loop만 빠져나감(한 단계)\n",
        "#     작업3"
      ]
    },
    {
      "cell_type": "code",
      "execution_count": null,
      "metadata": {},
      "outputs": [],
      "source": [
        "# 변수 초기값\n",
        "# while True:     # 무한 루프\n",
        "    # 작업\n",
        "    # if 중단 조건:\n",
        "    #     break"
      ]
    },
    {
      "cell_type": "code",
      "execution_count": 20,
      "metadata": {},
      "outputs": [
        {
          "data": {
            "text/plain": [
              "55"
            ]
          },
          "execution_count": 20,
          "metadata": {},
          "output_type": "execute_result"
        },
        {
          "data": {
            "text/plain": [
              "55"
            ]
          },
          "execution_count": 20,
          "metadata": {},
          "output_type": "execute_result"
        }
      ],
      "source": [
        "# 1, 2, ..., 10까지 합\n",
        "\n",
        "sum((1,2,3,4,5,6,7,8,9,10))\n",
        "\n",
        "# start, end = 1, 10\n",
        "i = 1\n",
        "total = 0\n",
        "while i <= 10:\n",
        "    total += i\n",
        "    i += 1\n",
        "total"
      ]
    },
    {
      "cell_type": "code",
      "execution_count": null,
      "metadata": {},
      "outputs": [],
      "source": []
    },
    {
      "cell_type": "code",
      "execution_count": 68,
      "metadata": {
        "id": "SzsUwVXgzS1h"
      },
      "outputs": [
        {
          "data": {
            "text/plain": [
              "55"
            ]
          },
          "execution_count": 68,
          "metadata": {},
          "output_type": "execute_result"
        },
        {
          "data": {
            "text/plain": [
              "'1_2_3_4_5_6_7_8_9_'"
            ]
          },
          "execution_count": 68,
          "metadata": {},
          "output_type": "execute_result"
        }
      ],
      "source": [
        "# for 변수 in iterable:     # Sequence(리스트/튜플/str), set, dict, range, enumerate\n",
        "#     작업\n",
        "#     continue/break\n",
        "\n",
        "total = 0\n",
        "for i in (1,2,3,4,5,6,7,8,9,10):\n",
        "    total += i\n",
        "total\n",
        "\n",
        "total = ''\n",
        "for c in '123456789':           # cf. '_'.join('123456789')\n",
        "    total += c + '_'\n",
        "total"
      ]
    },
    {
      "cell_type": "code",
      "execution_count": 23,
      "metadata": {
        "id": "V4Eb62Y8zZhZ"
      },
      "outputs": [
        {
          "data": {
            "text/plain": [
              "55"
            ]
          },
          "execution_count": 23,
          "metadata": {},
          "output_type": "execute_result"
        }
      ],
      "source": [
        "# range(stop)               # (0, 1, ..., stop-1)\n",
        "# range(start, stop)        # (start, start + 1, ..., stop-1)\n",
        "# range(start, stop, step)  # (start, start + step, ..., start + _ * step < stop)\n",
        "\n",
        "sum(range(1, 11))\n",
        "\n",
        "total = 0\n",
        "for i in range(1, 11):\n",
        "    total += i\n",
        "total\n",
        "\n",
        "# 1~100까지 홀수의 합 구하기"
      ]
    },
    {
      "cell_type": "code",
      "execution_count": null,
      "metadata": {
        "id": "sojteLCtzjej"
      },
      "outputs": [],
      "source": [
        "# enumerate(iterable)          -> (0, next_iterable), (1, next_iterable), ...\n",
        "# enumerate(iterable, start=0) -> (start, next_iterable), (start+1, next_iterable)"
      ]
    },
    {
      "cell_type": "code",
      "execution_count": 37,
      "metadata": {},
      "outputs": [
        {
          "name": "stdout",
          "output_type": "stream",
          "text": [
            "(0)a (1)b (2)c (3)d (4)z \n",
            "(0)a (1)b (2)c (3)d (4)z \n"
          ]
        }
      ],
      "source": [
        "l = ['a', 'b', 'c', 'd', 'z']\n",
        "\n",
        "# 각 원소를 (index)값 형식으로 한 줄에 print하기\n",
        "for i in range(len(l)):         # worst : index 순회\n",
        "    print(f'({i}){l[i]}', end=' ')\n",
        "print()\n",
        "\n",
        "# Pythonic!\n",
        "for i, ch in enumerate(l):\n",
        "    print(f'({i}){ch}', end=' ')\n",
        "print()"
      ]
    },
    {
      "cell_type": "code",
      "execution_count": 25,
      "metadata": {},
      "outputs": [
        {
          "data": {
            "text/plain": [
              "{'a': 1, 'b': 2, 'c': 3}"
            ]
          },
          "execution_count": 25,
          "metadata": {},
          "output_type": "execute_result"
        },
        {
          "name": "stdout",
          "output_type": "stream",
          "text": [
            "a b c \n",
            "a b c \n",
            "1 2 3 \n",
            "('a', 1) ('b', 2) ('c', 3) "
          ]
        }
      ],
      "source": [
        "# 다만, dict인 경우\n",
        "\n",
        "d = dict(a=1, b=2, c=3)     # d = {k: i for i, k in enumerate('abc', 1)}\n",
        "d                           # d = {k: i + 1 for i, k in enumerate('abc')}\n",
        "\n",
        "for x in d:\n",
        "    print(x, end=' ')\n",
        "print()\n",
        "\n",
        "for x in d.keys():          # d 그냥 써도 같음\n",
        "    print(x, end=' ')\n",
        "print()\n",
        "\n",
        "for x in d.values():\n",
        "    print(x, end=' ')\n",
        "print()\n",
        "\n",
        "for x in d.items():\n",
        "    print(x, end=' ')"
      ]
    },
    {
      "cell_type": "code",
      "execution_count": 26,
      "metadata": {},
      "outputs": [
        {
          "name": "stdout",
          "output_type": "stream",
          "text": [
            "a 1\n",
            "b 2\n",
            "c 3\n"
          ]
        }
      ],
      "source": [
        "for k, v in d.items():      # tuple/iterable unpacking\n",
        "    print(k, v)\n",
        "    # print(f'Key {k}의 Value는 {v}입니다.')"
      ]
    },
    {
      "cell_type": "markdown",
      "metadata": {
        "id": "M0VqvBJJ5PQp"
      },
      "source": [
        "## comprehension : list/set/dict, gen-exp"
      ]
    },
    {
      "cell_type": "code",
      "execution_count": 32,
      "metadata": {
        "id": "09SAF1NO0Sfc"
      },
      "outputs": [
        {
          "data": {
            "text/plain": [
              "[1, 9, 25, 49, 81]"
            ]
          },
          "execution_count": 32,
          "metadata": {},
          "output_type": "execute_result"
        },
        {
          "data": {
            "text/plain": [
              "[1, 9, 25, 49, 81]"
            ]
          },
          "execution_count": 32,
          "metadata": {},
          "output_type": "execute_result"
        }
      ],
      "source": [
        "# list-comp\n",
        "\n",
        "# [변수expression for 변수 in iterable]\n",
        "# [변수expression for 변수 in iterable if 조건]\n",
        "\n",
        "# 1~10 중 홀수만 구해서 제곱한 리스트 구하기\n",
        "[i ** 2 for i in range(1, 11) if i % 2 == 1]    # if i % 2\n",
        "\n",
        "# identical\n",
        "result = []\n",
        "for i in range(1, 11):\n",
        "    if i % 2:\n",
        "        result.append(i ** 2)\n",
        "result"
      ]
    },
    {
      "cell_type": "code",
      "execution_count": null,
      "metadata": {
        "id": "jbyjcQ_1D7RY"
      },
      "outputs": [],
      "source": [
        "# [expression for 변수1 in iterable1 for 변수2 in itetable2]\n",
        "# [expression for 변수1 in iterable1 if 조건1 for 변수2 in itetable2]\n",
        "# [expression for 변수1 in iterable1 for 변수2 in itetable2 if 조건2]\n",
        "# [expression for 변수1 in iterable1 if 조건1 for 변수2 in itetable2 if 조건2]\n",
        "\n",
        "# result = []\n",
        "# for 변수1 in iterable1:\n",
        "#     if not 조건1:\n",
        "#         continue\n",
        "#     for 변수2 in iterable2:\n",
        "#         if 조건2:\n",
        "#             result.append(expression)"
      ]
    },
    {
      "cell_type": "code",
      "execution_count": 30,
      "metadata": {},
      "outputs": [
        {
          "data": {
            "text/plain": [
              "['ax', 'ay', 'az', 'bx', 'by', 'bz', 'cx', 'cy', 'cz']"
            ]
          },
          "execution_count": 30,
          "metadata": {},
          "output_type": "execute_result"
        },
        {
          "data": {
            "text/plain": [
              "['ax', 'ay', 'az', 'cx', 'cy', 'cz']"
            ]
          },
          "execution_count": 30,
          "metadata": {},
          "output_type": "execute_result"
        }
      ],
      "source": [
        "l1 = list('abc')\n",
        "l2 = list('xyz')\n",
        "\n",
        "[e1 + e2 for e1 in l1 for e2 in l2]\n",
        "[e1 + e2 for e1 in l1 if e1 != 'b' for e2 in l2]\n",
        "\n",
        "# l3 = list('012')\n",
        "# [e1 + e2 + e3 for e1 in l1 for e2 in l2 for e3 in l3]"
      ]
    },
    {
      "cell_type": "code",
      "execution_count": 51,
      "metadata": {},
      "outputs": [
        {
          "data": {
            "text/plain": [
              "{1, 2, 3, 100}"
            ]
          },
          "execution_count": 51,
          "metadata": {},
          "output_type": "execute_result"
        },
        {
          "data": {
            "text/plain": [
              "{2, 4, 6, 200}"
            ]
          },
          "execution_count": 51,
          "metadata": {},
          "output_type": "execute_result"
        }
      ],
      "source": [
        "# set comprehension\n",
        "l = [1, 2, 3, 100, 100, 100]\n",
        "\n",
        "set(l)\n",
        "s = {n * 2 for n in l}\n",
        "s\n",
        "\n"
      ]
    },
    {
      "cell_type": "code",
      "execution_count": 32,
      "metadata": {},
      "outputs": [
        {
          "data": {
            "text/plain": [
              "{1: 'a', 2: 'b', 3: 'c'}"
            ]
          },
          "execution_count": 32,
          "metadata": {},
          "output_type": "execute_result"
        }
      ],
      "source": [
        "# dict comprehension\n",
        "\n",
        "d = dict(a=1, b=2, c=3)\n",
        "\n",
        "{v: k for k, v in d.items()}    # 딕트의 key와 value 바꾸기\n",
        "\n",
        "\n",
        "d = dict(a=1, b=2, c=3, d=1)    # ??"
      ]
    },
    {
      "cell_type": "code",
      "execution_count": 34,
      "metadata": {},
      "outputs": [
        {
          "data": {
            "text/plain": [
              "['Kim', 'Lee', 'Park', 'Jeong']"
            ]
          },
          "execution_count": 34,
          "metadata": {},
          "output_type": "execute_result"
        },
        {
          "data": {
            "text/plain": [
              "[55, 65, 75, 15]"
            ]
          },
          "execution_count": 34,
          "metadata": {},
          "output_type": "execute_result"
        },
        {
          "data": {
            "text/plain": [
              "[('Kim', 55), ('Lee', 65), ('Park', 75), ('Jeong', 15)]"
            ]
          },
          "execution_count": 34,
          "metadata": {},
          "output_type": "execute_result"
        },
        {
          "data": {
            "text/plain": [
              "{'Kim': 55, 'Lee': 65, 'Park': 75, 'Jeong': 15}"
            ]
          },
          "execution_count": 34,
          "metadata": {},
          "output_type": "execute_result"
        },
        {
          "data": {
            "text/plain": [
              "{'Kim': 55, 'Lee': 65, 'Park': 75, 'Jeong': 15}"
            ]
          },
          "execution_count": 34,
          "metadata": {},
          "output_type": "execute_result"
        }
      ],
      "source": [
        "names = ['Kim', 'Lee', 'Park', 'Jeong']\n",
        "\n",
        "scores = [55, 65, 75, 15]\n",
        "\n",
        "names\n",
        "scores\n",
        "\n",
        "pairs = [(name, scores[i]) for i, name in enumerate(names)]\n",
        "pairs\n",
        "dict(pairs)\n",
        "\n",
        "d = {name: scores[i] for i, name in enumerate(names)}       # see zip\n",
        "d"
      ]
    },
    {
      "cell_type": "code",
      "execution_count": 50,
      "metadata": {},
      "outputs": [
        {
          "data": {
            "text/plain": [
              "<generator object <genexpr> at 0x109346b50>"
            ]
          },
          "execution_count": 50,
          "metadata": {},
          "output_type": "execute_result"
        },
        {
          "data": {
            "text/plain": [
              "333283335000"
            ]
          },
          "execution_count": 50,
          "metadata": {},
          "output_type": "execute_result"
        }
      ],
      "source": [
        "# gen-exp : generator expression\n",
        "\n",
        "# 1 ~ 1_0000까지 각 숫자를 제곱해서 더하기\n",
        "nums = (i * i for i in range(1_0000))\n",
        "nums\n",
        "sum(nums)"
      ]
    },
    {
      "cell_type": "code",
      "execution_count": 53,
      "metadata": {},
      "outputs": [
        {
          "data": {
            "text/plain": [
              "0"
            ]
          },
          "execution_count": 53,
          "metadata": {},
          "output_type": "execute_result"
        },
        {
          "data": {
            "text/plain": [
              "1"
            ]
          },
          "execution_count": 53,
          "metadata": {},
          "output_type": "execute_result"
        },
        {
          "data": {
            "text/plain": [
              "4"
            ]
          },
          "execution_count": 53,
          "metadata": {},
          "output_type": "execute_result"
        }
      ],
      "source": [
        "nums = (i * i for i in range(1_0000))\n",
        "\n",
        "next(nums)\n",
        "next(nums)\n",
        "next(nums)          # 내부적으로 위치 기억"
      ]
    },
    {
      "cell_type": "code",
      "execution_count": 56,
      "metadata": {},
      "outputs": [
        {
          "data": {
            "text/plain": [
              "333283335000"
            ]
          },
          "execution_count": 56,
          "metadata": {},
          "output_type": "execute_result"
        },
        {
          "data": {
            "text/plain": [
              "0"
            ]
          },
          "execution_count": 56,
          "metadata": {},
          "output_type": "execute_result"
        },
        {
          "ename": "StopIteration",
          "evalue": "",
          "output_type": "error",
          "traceback": [
            "\u001b[0;31m---------------------------------------------------------------------------\u001b[0m",
            "\u001b[0;31mStopIteration\u001b[0m                             Traceback (most recent call last)",
            "Cell \u001b[0;32mIn[56], line 5\u001b[0m\n\u001b[1;32m      3\u001b[0m \u001b[38;5;28msum\u001b[39m(nums)\n\u001b[1;32m      4\u001b[0m \u001b[38;5;28msum\u001b[39m(nums)\n\u001b[0;32m----> 5\u001b[0m \u001b[38;5;28mnext\u001b[39m(nums)\n",
            "\u001b[0;31mStopIteration\u001b[0m: "
          ]
        }
      ],
      "source": [
        "nums = (i * i for i in range(1_0000))\n",
        "\n",
        "sum(nums)\n",
        "sum(nums)       # 한 번 순회하면 소진됨\n",
        "next(nums)      # StopIteration"
      ]
    },
    {
      "cell_type": "code",
      "execution_count": null,
      "metadata": {},
      "outputs": [],
      "source": []
    },
    {
      "cell_type": "markdown",
      "metadata": {
        "id": "f24goQ3NsvYB"
      },
      "source": [
        "### quiz"
      ]
    },
    {
      "cell_type": "code",
      "execution_count": 91,
      "metadata": {
        "id": "zLNkjzCasuP6"
      },
      "outputs": [],
      "source": [
        "# 임의의 숫자에 대해 만단위, 억단위 등 4자리수 단위로 '_'를 넣어 구분해보세요~\n",
        "\n",
        "numbers = [200, 10000, 2220000, 33331111, 555556666]\n",
        "\n",
        "# => '200', '1_0000', '222_0000', '3333_1111', '5_5555_6666'"
      ]
    },
    {
      "cell_type": "code",
      "execution_count": 94,
      "metadata": {
        "id": "wj9zdF86tO9C"
      },
      "outputs": [
        {
          "data": {
            "text/plain": [
              "['6666', '5555', '5']"
            ]
          },
          "execution_count": 94,
          "metadata": {},
          "output_type": "execute_result"
        },
        {
          "data": {
            "text/plain": [
              "'6666_5555_5'"
            ]
          },
          "execution_count": 94,
          "metadata": {},
          "output_type": "execute_result"
        },
        {
          "data": {
            "text/plain": [
              "'5_5555_6666'"
            ]
          },
          "execution_count": 94,
          "metadata": {},
          "output_type": "execute_result"
        }
      ],
      "source": [
        "# '002', '0000_1', '0000_222', '1111_3333', '6666_5555_5'\n",
        "\n",
        "# for each num:\n",
        "num = 555556666\n",
        "num_str = str(num)\n",
        "num_rev = num_str[::-1]     # '666655555'\n",
        "\n",
        "# num_rev[0:4], num_rev[4:8], num_rev[8:12], ...\n",
        "num_rev_ = [num_rev[i:i+4] for i in range(0, len(num_rev), 4)]    # 0, 4, 8\n",
        "num_rev_\n",
        "'_'.join(num_rev_)\n",
        "'_'.join(num_rev_)[::-1]\n"
      ]
    },
    {
      "cell_type": "code",
      "execution_count": 96,
      "metadata": {},
      "outputs": [
        {
          "name": "stdout",
          "output_type": "stream",
          "text": [
            "200 200\n",
            "10000 1_0000\n",
            "2220000 222_0000\n",
            "33331111 3333_1111\n",
            "555556666 5_5555_6666\n"
          ]
        },
        {
          "data": {
            "text/plain": [
              "['200', '1_0000', '222_0000', '3333_1111', '5_5555_6666']"
            ]
          },
          "execution_count": 96,
          "metadata": {},
          "output_type": "execute_result"
        }
      ],
      "source": [
        "result = []\n",
        "for num in numbers:\n",
        "    num_str = str(num)              # str type-cast\n",
        "    num_rev = num_str[::-1]         # reverse\n",
        "    # num_rev[0:4], num_rev[4:8], ...\n",
        "    nums_rev_ = [num_rev[i: i+4] for i in range(0, len(num_rev), 4)]\n",
        "    nums_back = '_'.join(nums_rev_)\n",
        "    num_result = nums_back[::-1]\n",
        "    print(num, num_result)\n",
        "    result.append(num_result)\n",
        "result"
      ]
    },
    {
      "cell_type": "code",
      "execution_count": 98,
      "metadata": {},
      "outputs": [
        {
          "name": "stdout",
          "output_type": "stream",
          "text": [
            "200 200\n",
            "10000 1_0000\n",
            "2220000 222_0000\n",
            "33331111 3333_1111\n",
            "555556666 5_5555_6666\n"
          ]
        },
        {
          "data": {
            "text/plain": [
              "['200', '1_0000', '222_0000', '3333_1111', '5_5555_6666']"
            ]
          },
          "execution_count": 98,
          "metadata": {},
          "output_type": "execute_result"
        },
        {
          "name": "stdout",
          "output_type": "stream",
          "text": [
            "200 200\n",
            "10000 10,000\n",
            "2220000 2,220,000\n",
            "33331111 33,331,111\n",
            "555556666 555,556,666\n"
          ]
        },
        {
          "data": {
            "text/plain": [
              "['200', '10,000', '2,220,000', '33,331,111', '555,556,666']"
            ]
          },
          "execution_count": 98,
          "metadata": {},
          "output_type": "execute_result"
        }
      ],
      "source": [
        "# 함수: code 일반화/재사용\n",
        "# def 함수명(인수...):\n",
        "#     함수 본문 block\n",
        "#     return 결과값    # 생략시 return None\n",
        "\n",
        "def num_format(numbers, n_group, sep):\n",
        "    result = []\n",
        "    for num in numbers:\n",
        "        num_str = str(num)              # str type-cast\n",
        "        num_rev = num_str[::-1]         # reverse\n",
        "        # num_rev[0:4], num_rev[4:8], ...\n",
        "        nums_rev_ = [num_rev[i: i+n_group] for i in range(0, len(num_rev), n_group)]\n",
        "        nums_back = sep.join(nums_rev_)\n",
        "        num_result = nums_back[::-1]\n",
        "        print(num, num_result)\n",
        "        result.append(num_result)\n",
        "    return result\n",
        "\n",
        "num_format(numbers, 4, '_')\n",
        "num_format(numbers, 3, ',')"
      ]
    },
    {
      "cell_type": "code",
      "execution_count": 100,
      "metadata": {
        "id": "GMENbXyUum4-"
      },
      "outputs": [
        {
          "name": "stdout",
          "output_type": "stream",
          "text": [
            "200 200\n",
            "10000 10,000\n",
            "2220000 2,220,000\n",
            "33331111 33,331,111\n",
            "555556666 555,556,666\n"
          ]
        },
        {
          "data": {
            "text/plain": [
              "['200', '10,000', '2,220,000', '33,331,111', '555,556,666']"
            ]
          },
          "execution_count": 100,
          "metadata": {},
          "output_type": "execute_result"
        }
      ],
      "source": [
        "# quiz: 4자리수 단위마다 '_'로 구분된 정수 str을 int 형으로 바꿔보세요~\n",
        "\n",
        "\n",
        "# quiz: 3자리수 단위마다 ','로 구분된 정수 str을 int 형으로 바꿔보세요~\n",
        "nums_comma = num_format(numbers, 3, ',')\n",
        "nums_comma\n",
        "\n",
        "# 1. 스트링.split -> join\n",
        "# 2. 스트링.replace"
      ]
    },
    {
      "cell_type": "markdown",
      "metadata": {
        "id": "Q5znr9-zRNTu"
      },
      "source": [
        "## iterable unpacking"
      ]
    },
    {
      "cell_type": "code",
      "execution_count": null,
      "metadata": {
        "id": "NSmNyBGZ2ycG"
      },
      "outputs": [],
      "source": [
        "x, y = 1, 2             # tuple unpacking\n",
        "\n",
        "x, y = y, x\n",
        "x, y"
      ]
    },
    {
      "cell_type": "code",
      "execution_count": null,
      "metadata": {
        "colab": {
          "base_uri": "https://localhost:8080/"
        },
        "id": "EhoqnCkZ0J4l",
        "outputId": "72e78c09-c444-4097-eb19-ea63ed0bbb52"
      },
      "outputs": [
        {
          "data": {
            "text/plain": [
              "(1, 2)"
            ]
          },
          "execution_count": 1,
          "metadata": {},
          "output_type": "execute_result"
        }
      ],
      "source": [
        "a = {2, 1}          # set([2, 1]) == set((2, 1))\n",
        "a0, a1 = a\n",
        "a0, a1              # 순서 보장X : sequence X"
      ]
    },
    {
      "cell_type": "code",
      "execution_count": 58,
      "metadata": {},
      "outputs": [
        {
          "data": {
            "text/plain": [
              "('a', 'b')"
            ]
          },
          "execution_count": 58,
          "metadata": {},
          "output_type": "execute_result"
        },
        {
          "data": {
            "text/plain": [
              "('a', 'b')"
            ]
          },
          "execution_count": 58,
          "metadata": {},
          "output_type": "execute_result"
        }
      ],
      "source": [
        "d = dict(a=1, b=2)      # Python 3.6이상부터 dict 순서 보장\n",
        "\n",
        "x, y = d\n",
        "x, y\n",
        "\n",
        "a, b = d\n",
        "a, b"
      ]
    },
    {
      "cell_type": "markdown",
      "metadata": {
        "id": "w8OO4cFqKic8"
      },
      "source": [
        "## 함수: def, return, yield, parameters"
      ]
    },
    {
      "cell_type": "code",
      "execution_count": null,
      "metadata": {
        "id": "Ghh83vwg0Rzq"
      },
      "outputs": [],
      "source": [
        "# def 함수명():\n",
        "# def 함수명(인수):\n",
        "# def 함수명(인수1, 인수2, ...):\n",
        "# def 함수명(인수1, ..., 인수5=디폴트값, 인수6=디폴트값):\n",
        "#     # 함수 본문\n",
        "#     return 결과값/객체        # 생략 하면: return None"
      ]
    },
    {
      "cell_type": "code",
      "execution_count": 71,
      "metadata": {
        "id": "MAwJr6Yw1vRi"
      },
      "outputs": [
        {
          "name": "stdout",
          "output_type": "stream",
          "text": [
            "args: (1, 2, 3)\n",
            "kwargs: {}\n",
            "\n",
            "args: (1, 2)\n",
            "kwargs: {'speed': 3}\n",
            "\n"
          ]
        }
      ],
      "source": [
        "# positional arguments\n",
        "# keyword arguments\n",
        "\n",
        "\n",
        "def f(*args, **kwargs):\n",
        "    print('args:', args)\n",
        "    print('kwargs:', kwargs)\n",
        "    print()\n",
        "\n",
        "\n",
        "f(1, 2, 3)\n",
        "f(1, 2, speed=3)"
      ]
    },
    {
      "cell_type": "markdown",
      "metadata": {
        "id": "jtjSDedxvXmO"
      },
      "source": [
        "### quiz"
      ]
    },
    {
      "cell_type": "code",
      "execution_count": 182,
      "metadata": {
        "id": "R9ND4w1IvXMh"
      },
      "outputs": [
        {
          "data": {
            "text/plain": [
              "1624967"
            ]
          },
          "execution_count": 182,
          "metadata": {},
          "output_type": "execute_result"
        }
      ],
      "source": [
        "# 임의의 객체와 정수 nonce값에 대해 hash값을 주는 함수가 있을때,\n",
        "# hash값 처음 5자리가 '0'이 되는 nonce값을 구하시오 : ~ 비트코인 Proof of Work\n",
        "\n",
        "import json, hashlib\n",
        "\n",
        "def get_hash(obj, nonce):\n",
        "    obj_ = json.dumps(obj).encode()\n",
        "    nonce = str(nonce).encode()\n",
        "    return hashlib.sha256(obj_ + nonce).hexdigest()\n",
        "\n",
        "obj, nonce = dict(), 0\n",
        "while get_hash(obj, nonce)[:5] != '0' * 5:\n",
        "    nonce += 1\n",
        "nonce"
      ]
    },
    {
      "cell_type": "code",
      "execution_count": 184,
      "metadata": {},
      "outputs": [
        {
          "data": {
            "text/plain": [
              "'4a87bb9d804304a98ce20586bc5cb8ceb0c6f2235653d4259acef8e311fb184c'"
            ]
          },
          "execution_count": 184,
          "metadata": {},
          "output_type": "execute_result"
        },
        {
          "data": {
            "text/plain": [
              "64"
            ]
          },
          "execution_count": 184,
          "metadata": {},
          "output_type": "execute_result"
        }
      ],
      "source": [
        "h = get_hash(dict(), 0)\n",
        "h\n",
        "len(h)                  # 64자리 16진수"
      ]
    },
    {
      "cell_type": "code",
      "execution_count": 186,
      "metadata": {},
      "outputs": [
        {
          "data": {
            "text/plain": [
              "1857693"
            ]
          },
          "execution_count": 186,
          "metadata": {},
          "output_type": "execute_result"
        }
      ],
      "source": [
        "DIFFICULTY = 6\n",
        "\n",
        "obj, nonce = dict(), 0\n",
        "while get_hash(obj, nonce)[:DIFFICULTY] != '0' * DIFFICULTY:\n",
        "    nonce += 1\n",
        "nonce"
      ]
    },
    {
      "cell_type": "markdown",
      "metadata": {
        "id": "MLx1Y5r_RSOo"
      },
      "source": [
        "## .sort, sorted()"
      ]
    },
    {
      "cell_type": "code",
      "execution_count": null,
      "metadata": {
        "id": "kMYQLu5LkR1s"
      },
      "outputs": [],
      "source": [
        "# 리스트.sort()     # in-place 변환, -> None 반환\n",
        "# sorted(이터러블) -> sorted list 반환"
      ]
    },
    {
      "cell_type": "code",
      "execution_count": null,
      "metadata": {
        "id": "kYZ9iZqZkgnY"
      },
      "outputs": [],
      "source": [
        "# 리스트.sort(key=None, reverse=False)\n",
        "# sorted(이터러블, key=None, reverse=False)\n",
        "\n",
        "# key = one-arg callable(함수/메서드) -> 비교가능한 값(int, float, str, tuple/sequence, ...)"
      ]
    },
    {
      "cell_type": "code",
      "execution_count": 76,
      "metadata": {},
      "outputs": [
        {
          "data": {
            "text/plain": [
              "[-4, -2, 1, 3, 5]"
            ]
          },
          "execution_count": 76,
          "metadata": {},
          "output_type": "execute_result"
        },
        {
          "data": {
            "text/plain": [
              "[1, -2, 3, -4, 5]"
            ]
          },
          "execution_count": 76,
          "metadata": {},
          "output_type": "execute_result"
        },
        {
          "data": {
            "text/plain": [
              "['a', 'bc', 'def']"
            ]
          },
          "execution_count": 76,
          "metadata": {},
          "output_type": "execute_result"
        },
        {
          "data": {
            "text/plain": [
              "['a', 'bc', 'def']"
            ]
          },
          "execution_count": 76,
          "metadata": {},
          "output_type": "execute_result"
        }
      ],
      "source": [
        "l = [1, -2, 3, -4, 5]\n",
        "sorted(l)\n",
        "sorted(l, key=abs)      # abs(각 원소) 값을 기준으로 sort\n",
        "\n",
        "\n",
        "l = ['bc', 'a', 'def']\n",
        "sorted(l)\n",
        "sorted(l, key=len)      # len(각 원소) 값을 기준으로 sort"
      ]
    },
    {
      "cell_type": "markdown",
      "metadata": {
        "id": "AzCcRNWaRWAM"
      },
      "source": [
        "## zip"
      ]
    },
    {
      "cell_type": "code",
      "execution_count": 62,
      "metadata": {},
      "outputs": [
        {
          "data": {
            "text/plain": [
              "<zip at 0x1098bd880>"
            ]
          },
          "execution_count": 62,
          "metadata": {},
          "output_type": "execute_result"
        },
        {
          "data": {
            "text/plain": [
              "[('a', 0), ('b', 1), ('c', 2)]"
            ]
          },
          "execution_count": 62,
          "metadata": {},
          "output_type": "execute_result"
        },
        {
          "name": "stdout",
          "output_type": "stream",
          "text": [
            "('a', 0)\n",
            "('b', 1)\n",
            "('c', 2)\n",
            "a 0\n",
            "b 1\n",
            "c 2\n"
          ]
        }
      ],
      "source": [
        "a = 'abc'\n",
        "b = range(3)\n",
        "\n",
        "zip(a, b)\n",
        "\n",
        "list(zip(a, b))\n",
        "\n",
        "for x in zip(a, b):\n",
        "    print(x)\n",
        "\n",
        "for x0, x1 in zip(a, b):\n",
        "    print(x0, x1)"
      ]
    },
    {
      "cell_type": "code",
      "execution_count": 1,
      "metadata": {
        "colab": {
          "base_uri": "https://localhost:8080/"
        },
        "id": "8p17-_AR0_km",
        "outputId": "6f91c831-ea52-492d-b410-f3b375329a7a"
      },
      "outputs": [
        {
          "data": {
            "text/plain": [
              "[('a', 0, 0), ('b', 1, 1), ('c', 2, 2)]"
            ]
          },
          "execution_count": 1,
          "metadata": {},
          "output_type": "execute_result"
        }
      ],
      "source": [
        "a = 'abcdef'\n",
        "b = range(3)\n",
        "c = range(5)\n",
        "\n",
        "result = zip(a, b, c)           # zip(*iterables, strict=False)\n",
        "list(result)                    # 가장 짧은거 기준 조용히 끝냄"
      ]
    },
    {
      "cell_type": "code",
      "execution_count": 67,
      "metadata": {},
      "outputs": [
        {
          "data": {
            "text/plain": [
              "[('a', 0, 0),\n",
              " ('b', 1, 1),\n",
              " ('c', 2, 2),\n",
              " ('d', None, 3),\n",
              " ('e', None, 4),\n",
              " ('f', None, None)]"
            ]
          },
          "execution_count": 67,
          "metadata": {},
          "output_type": "execute_result"
        },
        {
          "name": "stdout",
          "output_type": "stream",
          "text": [
            "a 0 0\n",
            "b 1 1\n",
            "c 2 2\n",
            "d 없음 3\n",
            "e 없음 4\n",
            "f 없음 없음\n"
          ]
        }
      ],
      "source": [
        "import itertools\n",
        "\n",
        "a = 'abcdef'\n",
        "b = range(3)\n",
        "c = range(5)\n",
        "\n",
        "list(itertools.zip_longest(a, b, c))    # fillvalue=None\n",
        "\n",
        "for x, y, z in itertools.zip_longest(a, b, c, fillvalue='없음'):\n",
        "    print(x, y, z)"
      ]
    },
    {
      "cell_type": "code",
      "execution_count": null,
      "metadata": {},
      "outputs": [],
      "source": []
    },
    {
      "cell_type": "code",
      "execution_count": 69,
      "metadata": {},
      "outputs": [
        {
          "data": {
            "text/plain": [
              "[('a', 0), ('b', 1), ('c', 2)]"
            ]
          },
          "execution_count": 69,
          "metadata": {},
          "output_type": "execute_result"
        },
        {
          "data": {
            "text/plain": [
              "[('a', 'b', 'c'), (0, 1, 2)]"
            ]
          },
          "execution_count": 69,
          "metadata": {},
          "output_type": "execute_result"
        }
      ],
      "source": [
        "a = 'abc'\n",
        "b = range(3)\n",
        "\n",
        "list(zip(a, b))\n",
        "\n",
        "result = zip(a, b)\n",
        "list(zip(*result))          # zip(*zip(a, b))"
      ]
    },
    {
      "cell_type": "markdown",
      "metadata": {
        "id": "sEb7B6aLL9ei"
      },
      "source": [
        "## 표준 패키지: copy, random, math, time, datetime, collections(namedtuple, defaultdict), ..."
      ]
    },
    {
      "cell_type": "markdown",
      "metadata": {},
      "source": [
        "### copy"
      ]
    },
    {
      "cell_type": "code",
      "execution_count": 110,
      "metadata": {},
      "outputs": [
        {
          "data": {
            "text/plain": [
              "2"
            ]
          },
          "execution_count": 110,
          "metadata": {},
          "output_type": "execute_result"
        },
        {
          "data": {
            "text/plain": [
              "1"
            ]
          },
          "execution_count": 110,
          "metadata": {},
          "output_type": "execute_result"
        }
      ],
      "source": [
        "x = 1\n",
        "y = x\n",
        "\n",
        "x = 2\n",
        "x\n",
        "y       # 1 or 2?"
      ]
    },
    {
      "cell_type": "code",
      "execution_count": 111,
      "metadata": {},
      "outputs": [
        {
          "data": {
            "text/plain": [
              "[100, 2, 3]"
            ]
          },
          "execution_count": 111,
          "metadata": {},
          "output_type": "execute_result"
        },
        {
          "data": {
            "text/plain": [
              "[100, 2, 3]"
            ]
          },
          "execution_count": 111,
          "metadata": {},
          "output_type": "execute_result"
        }
      ],
      "source": [
        "x = [1, 2, 3]\n",
        "y = x               # mutable sequence\n",
        "\n",
        "x[0] = 100\n",
        "x\n",
        "y           # [1, 2, 3] or [100, 2, 3]?"
      ]
    },
    {
      "cell_type": "code",
      "execution_count": 112,
      "metadata": {},
      "outputs": [
        {
          "data": {
            "text/plain": [
              "{1, 2, 3, 5}"
            ]
          },
          "execution_count": 112,
          "metadata": {},
          "output_type": "execute_result"
        },
        {
          "data": {
            "text/plain": [
              "{1, 2, 3, 5}"
            ]
          },
          "execution_count": 112,
          "metadata": {},
          "output_type": "execute_result"
        }
      ],
      "source": [
        "x = {1, 2, 3}\n",
        "y = x               # set (mutable)\n",
        "\n",
        "x.add(5)\n",
        "x\n",
        "y"
      ]
    },
    {
      "cell_type": "code",
      "execution_count": 113,
      "metadata": {},
      "outputs": [
        {
          "data": {
            "text/plain": [
              "{'a': 1, 'b': 2, 'c': 10}"
            ]
          },
          "execution_count": 113,
          "metadata": {},
          "output_type": "execute_result"
        },
        {
          "data": {
            "text/plain": [
              "{'a': 1, 'b': 2, 'c': 10}"
            ]
          },
          "execution_count": 113,
          "metadata": {},
          "output_type": "execute_result"
        }
      ],
      "source": [
        "x = dict(a=1, b=2)\n",
        "y = x               # dict (mutable)\n",
        "\n",
        "x['c'] = 10\n",
        "x\n",
        "y"
      ]
    },
    {
      "cell_type": "code",
      "execution_count": 109,
      "metadata": {},
      "outputs": [
        {
          "data": {
            "text/plain": [
              "[100, 2, 3]"
            ]
          },
          "execution_count": 109,
          "metadata": {},
          "output_type": "execute_result"
        },
        {
          "data": {
            "text/plain": [
              "[1, 2, 3]"
            ]
          },
          "execution_count": 109,
          "metadata": {},
          "output_type": "execute_result"
        }
      ],
      "source": [
        "import copy\n",
        "\n",
        "x = [1, 2, 3]\n",
        "y = copy.copy(x)\n",
        "\n",
        "x[0] = 100\n",
        "x\n",
        "y"
      ]
    },
    {
      "cell_type": "code",
      "execution_count": 116,
      "metadata": {},
      "outputs": [
        {
          "data": {
            "text/plain": [
              "[1, 2, 3, [4, 11, 12]]"
            ]
          },
          "execution_count": 116,
          "metadata": {},
          "output_type": "execute_result"
        },
        {
          "data": {
            "text/plain": [
              "[1, 2, 3, [4, 11, 12]]"
            ]
          },
          "execution_count": 116,
          "metadata": {},
          "output_type": "execute_result"
        }
      ],
      "source": [
        "x = [1, 2, 3, [10, 11, 12]]\n",
        "y = copy.copy(x)\n",
        "\n",
        "x[3][0] = 4\n",
        "x\n",
        "y"
      ]
    },
    {
      "cell_type": "code",
      "execution_count": 117,
      "metadata": {},
      "outputs": [
        {
          "data": {
            "text/plain": [
              "[1, 2, 3, [4, 11, 12]]"
            ]
          },
          "execution_count": 117,
          "metadata": {},
          "output_type": "execute_result"
        },
        {
          "data": {
            "text/plain": [
              "[1, 2, 3, [10, 11, 12]]"
            ]
          },
          "execution_count": 117,
          "metadata": {},
          "output_type": "execute_result"
        }
      ],
      "source": [
        "x = [1, 2, 3, [10, 11, 12]]\n",
        "y = copy.deepcopy(x)\n",
        "\n",
        "x[3][0] = 4\n",
        "x\n",
        "y"
      ]
    },
    {
      "cell_type": "markdown",
      "metadata": {},
      "source": [
        "### random"
      ]
    },
    {
      "cell_type": "code",
      "execution_count": 131,
      "metadata": {
        "id": "TiaYb3ihh6d2"
      },
      "outputs": [
        {
          "data": {
            "text/plain": [
              "[39, 18, 2, 25, 31, 33]"
            ]
          },
          "execution_count": 131,
          "metadata": {},
          "output_type": "execute_result"
        },
        {
          "data": {
            "text/plain": [
              "[1, 20, 38, 36, 1, 9]"
            ]
          },
          "execution_count": 131,
          "metadata": {},
          "output_type": "execute_result"
        }
      ],
      "source": [
        "import random\n",
        "\n",
        "# 로또 6-45\n",
        "random.sample(range(1, 46), 6)      # random.sample(시퀀스, int) -> list : 비복원 추출\n",
        "\n",
        "result = [random.randrange(1, 46) for _ in range(6)]    # 복원 추출\n",
        "# result = []\n",
        "# for _ in range(6):\n",
        "#     result.append(random.randrange(1, 46))\n",
        "result"
      ]
    },
    {
      "cell_type": "code",
      "execution_count": 125,
      "metadata": {},
      "outputs": [
        {
          "data": {
            "text/plain": [
              "9"
            ]
          },
          "execution_count": 125,
          "metadata": {},
          "output_type": "execute_result"
        },
        {
          "data": {
            "text/plain": [
              "[1, 2, 3, 4, 5, 6, 7, 8, 9, 10, 'J', 'Q', 'K']"
            ]
          },
          "execution_count": 125,
          "metadata": {},
          "output_type": "execute_result"
        },
        {
          "data": {
            "text/plain": [
              "[4, 6, 'K', 7, 5, 1, 'J', 9, 10, 3, 8, 2, 'Q']"
            ]
          },
          "execution_count": 125,
          "metadata": {},
          "output_type": "execute_result"
        }
      ],
      "source": [
        "# random.choice(시퀀스) -> 랜덤 원소\n",
        "# random.shuffle(뮤터블시퀀스) -> inplace, -> None\n",
        "\n",
        "# 1명 당첨자 뽑기\n",
        "N = 10\n",
        "random.choice(range(N))\n",
        "\n",
        "# 카드 섞기\n",
        "cards = list(range(1, 11)) + list('JQK')\n",
        "cards\n",
        "random.shuffle(cards)\n",
        "cards"
      ]
    },
    {
      "cell_type": "markdown",
      "metadata": {},
      "source": [
        "### math"
      ]
    },
    {
      "cell_type": "code",
      "execution_count": 133,
      "metadata": {},
      "outputs": [
        {
          "data": {
            "text/plain": [
              "2.718281828459045"
            ]
          },
          "execution_count": 133,
          "metadata": {},
          "output_type": "execute_result"
        },
        {
          "data": {
            "text/plain": [
              "1.4142135623730951"
            ]
          },
          "execution_count": 133,
          "metadata": {},
          "output_type": "execute_result"
        }
      ],
      "source": [
        "import math\n",
        "\n",
        "math.exp(1)\n",
        "math.sqrt(2)"
      ]
    },
    {
      "cell_type": "markdown",
      "metadata": {},
      "source": [
        "### time"
      ]
    },
    {
      "cell_type": "code",
      "execution_count": 134,
      "metadata": {},
      "outputs": [
        {
          "data": {
            "text/plain": [
              "1725421213.792876"
            ]
          },
          "execution_count": 134,
          "metadata": {},
          "output_type": "execute_result"
        }
      ],
      "source": [
        "import time\n",
        "\n",
        "time.time()             # seconds since the Unix Epoch(1970.1.1)\n",
        "# time.sleep(seconds)"
      ]
    },
    {
      "cell_type": "code",
      "execution_count": 199,
      "metadata": {},
      "outputs": [
        {
          "name": "stdout",
          "output_type": "stream",
          "text": [
            "1.005초 소요\n",
            "1.003초 소요\n",
            "1.002초 소요\n",
            "1.003초 소요\n",
            "1.000초 소요\n",
            "총 5.018초 소요\n"
          ]
        }
      ],
      "source": [
        "t0 = time.time()\n",
        "\n",
        "for _ in range(5):\n",
        "    start = time.time()\n",
        "    # 뭔가 작업\n",
        "    time.sleep(1)\n",
        "    \n",
        "    end = time.time()\n",
        "    print(f'{end-start:.3f}초 소요')\n",
        "\n",
        "print(f'총 {time.time()-t0:.3f}초 소요')"
      ]
    },
    {
      "cell_type": "markdown",
      "metadata": {},
      "source": [
        "### datetime"
      ]
    },
    {
      "cell_type": "code",
      "execution_count": 137,
      "metadata": {},
      "outputs": [
        {
          "data": {
            "text/plain": [
              "datetime.datetime(2024, 9, 4, 12, 43, 7, 107174)"
            ]
          },
          "execution_count": 137,
          "metadata": {},
          "output_type": "execute_result"
        }
      ],
      "source": [
        "import datetime as dt\n",
        "\n",
        "x = dt.datetime.now()\n",
        "x"
      ]
    },
    {
      "cell_type": "code",
      "execution_count": 138,
      "metadata": {},
      "outputs": [
        {
          "data": {
            "text/plain": [
              "'2024.09.04 12:43:07'"
            ]
          },
          "execution_count": 138,
          "metadata": {},
          "output_type": "execute_result"
        }
      ],
      "source": [
        "x.strftime('%Y.%m.%d %X')   # %H:%M:%S"
      ]
    },
    {
      "cell_type": "code",
      "execution_count": 140,
      "metadata": {},
      "outputs": [
        {
          "data": {
            "text/plain": [
              "datetime.datetime(2024, 9, 4, 12, 43, 7)"
            ]
          },
          "execution_count": 140,
          "metadata": {},
          "output_type": "execute_result"
        }
      ],
      "source": [
        "y = '2024.09.04 12:43:07'\n",
        "dt.datetime.strptime(y, '%Y.%m.%d %X')"
      ]
    },
    {
      "cell_type": "markdown",
      "metadata": {},
      "source": [
        "### namedtuple"
      ]
    },
    {
      "cell_type": "code",
      "execution_count": 200,
      "metadata": {},
      "outputs": [
        {
          "data": {
            "text/plain": [
              "Record(name='James', age=30, height=175)"
            ]
          },
          "execution_count": 200,
          "metadata": {},
          "output_type": "execute_result"
        }
      ],
      "source": [
        "from collections import namedtuple\n",
        "\n",
        "Record = namedtuple('Record', 'name age height')    # ['name', 'age', 'height']\n",
        "\n",
        "t = Record('James', 30, 175)\n",
        "t = Record(name='James', age=30, height=175)    # identical\n",
        "t"
      ]
    },
    {
      "cell_type": "code",
      "execution_count": 144,
      "metadata": {},
      "outputs": [
        {
          "data": {
            "text/plain": [
              "('James', 30, 175)"
            ]
          },
          "execution_count": 144,
          "metadata": {},
          "output_type": "execute_result"
        },
        {
          "data": {
            "text/plain": [
              "('James', 30, 175)"
            ]
          },
          "execution_count": 144,
          "metadata": {},
          "output_type": "execute_result"
        }
      ],
      "source": [
        "t[0], t[1], t[2]                # tuple\n",
        "t.name, t.age, t.height         # better: less bug, backward compatibility"
      ]
    },
    {
      "cell_type": "code",
      "execution_count": 146,
      "metadata": {},
      "outputs": [
        {
          "data": {
            "text/plain": [
              "__main__.Record"
            ]
          },
          "execution_count": 146,
          "metadata": {},
          "output_type": "execute_result"
        },
        {
          "data": {
            "text/plain": [
              "True"
            ]
          },
          "execution_count": 146,
          "metadata": {},
          "output_type": "execute_result"
        }
      ],
      "source": [
        "type(t)\n",
        "\n",
        "isinstance(t, tuple)"
      ]
    },
    {
      "cell_type": "markdown",
      "metadata": {},
      "source": [
        "### defaultdict"
      ]
    },
    {
      "cell_type": "code",
      "execution_count": 147,
      "metadata": {},
      "outputs": [
        {
          "ename": "KeyError",
          "evalue": "'c'",
          "output_type": "error",
          "traceback": [
            "\u001b[0;31m---------------------------------------------------------------------------\u001b[0m",
            "\u001b[0;31mKeyError\u001b[0m                                  Traceback (most recent call last)",
            "Cell \u001b[0;32mIn[147], line 3\u001b[0m\n\u001b[1;32m      1\u001b[0m d \u001b[38;5;241m=\u001b[39m \u001b[38;5;28mdict\u001b[39m(a\u001b[38;5;241m=\u001b[39m\u001b[38;5;241m1\u001b[39m, b\u001b[38;5;241m=\u001b[39m\u001b[38;5;241m2\u001b[39m)\n\u001b[0;32m----> 3\u001b[0m d[\u001b[38;5;124m'\u001b[39m\u001b[38;5;124mc\u001b[39m\u001b[38;5;124m'\u001b[39m]\n",
            "\u001b[0;31mKeyError\u001b[0m: 'c'"
          ]
        }
      ],
      "source": [
        "d = dict(a=1, b=2)\n",
        "\n",
        "d['c']"
      ]
    },
    {
      "cell_type": "code",
      "execution_count": 148,
      "metadata": {},
      "outputs": [
        {
          "name": "stdout",
          "output_type": "stream",
          "text": [
            "no d['c']\n"
          ]
        }
      ],
      "source": [
        "if 'c' in d:\n",
        "    print(d['c'])\n",
        "else:\n",
        "    print(\"no d['c']\")"
      ]
    },
    {
      "cell_type": "code",
      "execution_count": 191,
      "metadata": {},
      "outputs": [
        {
          "data": {
            "text/plain": [
              "0"
            ]
          },
          "execution_count": 191,
          "metadata": {},
          "output_type": "execute_result"
        },
        {
          "data": {
            "text/plain": [
              "defaultdict(int, {'a': 5, 'b': 4, 'c': 1})"
            ]
          },
          "execution_count": 191,
          "metadata": {},
          "output_type": "execute_result"
        },
        {
          "data": {
            "text/plain": [
              "{'a': 5, 'b': 4, 'c': 1}"
            ]
          },
          "execution_count": 191,
          "metadata": {},
          "output_type": "execute_result"
        },
        {
          "data": {
            "text/plain": [
              "{'b': 4, 'a': 5, 'c': 1}"
            ]
          },
          "execution_count": 191,
          "metadata": {},
          "output_type": "execute_result"
        }
      ],
      "source": [
        "from collections import defaultdict\n",
        "\n",
        "d = defaultdict(int)    # default_factory: no-arg callable\n",
        "int()\n",
        "\n",
        "s = 'ababaaabbc'        # 각 문자 개수 카운트\n",
        "for ch in s:\n",
        "    d[ch] += 1\n",
        "d\n",
        "\n",
        "d_ = {}\n",
        "for ch in s:\n",
        "    if ch not in d_:\n",
        "        d_[ch] = 0\n",
        "    d_[ch] += 1\n",
        "d_\n",
        "\n",
        "# 문자열.count 사용\n",
        "d_ = {}\n",
        "for ch in set(s):           # set(s)로 중복 제거\n",
        "    d_[ch] = s.count(ch)\n",
        "d_"
      ]
    },
    {
      "cell_type": "code",
      "execution_count": 193,
      "metadata": {},
      "outputs": [
        {
          "data": {
            "text/plain": [
              "['Kim J', 'Lee M', 'Park J', 'Kim Z']"
            ]
          },
          "execution_count": 193,
          "metadata": {},
          "output_type": "execute_result"
        },
        {
          "data": {
            "text/plain": [
              "defaultdict(list, {'Kim': ['J', 'Z'], 'Lee': ['M'], 'Park': ['J']})"
            ]
          },
          "execution_count": 193,
          "metadata": {},
          "output_type": "execute_result"
        }
      ],
      "source": [
        "d = defaultdict(list)       # (no-arg callable)\n",
        "\n",
        "names = 'Kim J_Lee M_Park J_Kim Z'.split('_')\n",
        "names\n",
        "for name in names:\n",
        "    a, b = name.split()     # 성, 이름\n",
        "    d[a].append(b)\n",
        "d"
      ]
    },
    {
      "cell_type": "code",
      "execution_count": 194,
      "metadata": {},
      "outputs": [
        {
          "data": {
            "text/plain": [
              "defaultdict(list, {'Kim': ['J', 'Z'], 'Lee': ['M'], 'Park': ['J']})"
            ]
          },
          "execution_count": 194,
          "metadata": {},
          "output_type": "execute_result"
        }
      ],
      "source": [
        "x = defaultdict(list, d)    # (default_factory, 초기화 딕트)\n",
        "x"
      ]
    },
    {
      "cell_type": "code",
      "execution_count": 195,
      "metadata": {},
      "outputs": [
        {
          "data": {
            "text/plain": [
              "False"
            ]
          },
          "execution_count": 195,
          "metadata": {},
          "output_type": "execute_result"
        },
        {
          "data": {
            "text/plain": [
              "defaultdict(list, {'Kim': ['J', 'Z'], 'Lee': ['M'], 'Park': ['J']})"
            ]
          },
          "execution_count": 195,
          "metadata": {},
          "output_type": "execute_result"
        }
      ],
      "source": [
        "'Jeong' in x\n",
        "x           # x['Jeong'] not created yet"
      ]
    },
    {
      "cell_type": "code",
      "execution_count": 196,
      "metadata": {},
      "outputs": [
        {
          "data": {
            "text/plain": [
              "[]"
            ]
          },
          "execution_count": 196,
          "metadata": {},
          "output_type": "execute_result"
        },
        {
          "data": {
            "text/plain": [
              "defaultdict(list,\n",
              "            {'Kim': ['J', 'Z'], 'Lee': ['M'], 'Park': ['J'], 'Jeong': []})"
            ]
          },
          "execution_count": 196,
          "metadata": {},
          "output_type": "execute_result"
        }
      ],
      "source": [
        "x['Jeong']          # x['Jeong'] is now created\n",
        "x"
      ]
    },
    {
      "cell_type": "code",
      "execution_count": null,
      "metadata": {},
      "outputs": [],
      "source": []
    },
    {
      "cell_type": "markdown",
      "metadata": {
        "id": "dLI6TKX2XLUi"
      },
      "source": [
        "## 예외 처리: assert, raise, try/except/else/finally"
      ]
    },
    {
      "cell_type": "markdown",
      "metadata": {},
      "source": [
        "### assert"
      ]
    },
    {
      "cell_type": "code",
      "execution_count": 201,
      "metadata": {},
      "outputs": [
        {
          "ename": "AssertionError",
          "evalue": "",
          "output_type": "error",
          "traceback": [
            "\u001b[0;31m---------------------------------------------------------------------------\u001b[0m",
            "\u001b[0;31mAssertionError\u001b[0m                            Traceback (most recent call last)",
            "Cell \u001b[0;32mIn[201], line 3\u001b[0m\n\u001b[1;32m      1\u001b[0m ratio \u001b[38;5;241m=\u001b[39m \u001b[38;5;241m2\u001b[39m\n\u001b[0;32m----> 3\u001b[0m \u001b[38;5;28;01massert\u001b[39;00m \u001b[38;5;241m0\u001b[39m \u001b[38;5;241m<\u001b[39m\u001b[38;5;241m=\u001b[39m ratio \u001b[38;5;241m<\u001b[39m\u001b[38;5;241m=\u001b[39m \u001b[38;5;241m1\u001b[39m\n",
            "\u001b[0;31mAssertionError\u001b[0m: "
          ]
        }
      ],
      "source": [
        "ratio = 2\n",
        "\n",
        "assert 0 <= ratio <= 1"
      ]
    },
    {
      "cell_type": "code",
      "execution_count": 163,
      "metadata": {},
      "outputs": [
        {
          "name": "stdout",
          "output_type": "stream",
          "text": [
            "KeyError 'c'\n",
            "finally {'a': 1, 'b': 2}\n"
          ]
        }
      ],
      "source": [
        "d = dict(a=1, b=2)\n",
        "\n",
        "try:\n",
        "    d['c'] += 1\n",
        "except KeyError as e:       # KeyError가  나면\n",
        "    print('KeyError', e)\n",
        "else:                       # 에러 안 나면\n",
        "    print('No error')\n",
        "finally:                    # 항상 실행\n",
        "    print('finally', d)"
      ]
    },
    {
      "cell_type": "code",
      "execution_count": 166,
      "metadata": {},
      "outputs": [
        {
          "ename": "IndexError",
          "evalue": "",
          "output_type": "error",
          "traceback": [
            "\u001b[0;31m---------------------------------------------------------------------------\u001b[0m",
            "\u001b[0;31mIndexError\u001b[0m                                Traceback (most recent call last)",
            "Cell \u001b[0;32mIn[166], line 1\u001b[0m\n\u001b[0;32m----> 1\u001b[0m \u001b[38;5;28;01mraise\u001b[39;00m \u001b[38;5;167;01mIndexError\u001b[39;00m\n",
            "\u001b[0;31mIndexError\u001b[0m: "
          ]
        }
      ],
      "source": [
        "raise IndexError"
      ]
    },
    {
      "cell_type": "code",
      "execution_count": null,
      "metadata": {},
      "outputs": [],
      "source": []
    },
    {
      "cell_type": "markdown",
      "metadata": {
        "id": "hpYtMYMTKnnB"
      },
      "source": [
        "## 클래스: class, 속성(클래스/인스턴스), 메서드(클래스/인스턴스/스태틱)"
      ]
    },
    {
      "cell_type": "code",
      "execution_count": null,
      "metadata": {
        "id": "G1FCjs9IJPpW"
      },
      "outputs": [],
      "source": [
        "# class, instance 속성/메서드\n",
        "\n",
        "# class 클래스명:\n",
        "# class 클래스명(상속할클래스):\n",
        "#     def __init__(self, 인수):\n",
        "#         초기화 코드(인스턴스 속성 등)\n",
        "#     def 인스턴스_메서드(self, 인수):\n",
        "#         pass\n",
        "\n",
        "# 인스턴스객체 = 클래스명(인수)"
      ]
    },
    {
      "cell_type": "code",
      "execution_count": 167,
      "metadata": {
        "id": "JHm0Wm8X2Z7o"
      },
      "outputs": [
        {
          "data": {
            "text/plain": [
              "<__main__.SampleClass at 0x119ecc210>"
            ]
          },
          "execution_count": 167,
          "metadata": {},
          "output_type": "execute_result"
        }
      ],
      "source": [
        "class SampleClass:              # (object) 기본 상속\n",
        "# class SampleClass(object):\n",
        "    \n",
        "    def __init__(self, num):    # 최초 setting/실행\n",
        "        self.number = num           # instance attribute\n",
        "        self.string = str(num)      # instance attribute\n",
        "\n",
        "    def get_number_multiplied(self, times):     # instance method\n",
        "        return self.number * times\n",
        "    \n",
        "    def get_string_multiplied(self, times):     # instance method\n",
        "        return self.string * times\n",
        "\n",
        "sample = SampleClass(7)     # instance 생성\n",
        "sample                      # instance 객체"
      ]
    },
    {
      "cell_type": "code",
      "execution_count": 45,
      "metadata": {
        "id": "qlprjJzD2rD6"
      },
      "outputs": [
        {
          "data": {
            "text/plain": [
              "7"
            ]
          },
          "execution_count": 45,
          "metadata": {},
          "output_type": "execute_result"
        },
        {
          "data": {
            "text/plain": [
              "21"
            ]
          },
          "execution_count": 45,
          "metadata": {},
          "output_type": "execute_result"
        },
        {
          "data": {
            "text/plain": [
              "'777'"
            ]
          },
          "execution_count": 45,
          "metadata": {},
          "output_type": "execute_result"
        }
      ],
      "source": [
        "sample.number                       # instance 속성\n",
        "\n",
        "sample.get_number_multiplied(3)     # instance method\n",
        "\n",
        "sample.get_string_multiplied(3)"
      ]
    },
    {
      "cell_type": "code",
      "execution_count": 170,
      "metadata": {
        "id": "lI7HkBJt2xj6"
      },
      "outputs": [
        {
          "data": {
            "text/plain": [
              "<__main__.SampleClass at 0x119ecc210>"
            ]
          },
          "execution_count": 170,
          "metadata": {},
          "output_type": "execute_result"
        },
        {
          "data": {
            "text/plain": [
              "SampleClass2('7')"
            ]
          },
          "execution_count": 170,
          "metadata": {},
          "output_type": "execute_result"
        }
      ],
      "source": [
        "# __repr__  : class 생성 표현, __str__ 없으면 fallback\n",
        "\n",
        "class SampleClass2(SampleClass):\n",
        "    def __repr__(self):                             # __init__ 없으면 parent __init__ 자동 호출\n",
        "        return f'SampleClass2({self.number!r})'\n",
        "    \n",
        "sample2 = SampleClass2('7')\n",
        "sample\n",
        "sample2"
      ]
    },
    {
      "cell_type": "code",
      "execution_count": 171,
      "metadata": {},
      "outputs": [
        {
          "data": {
            "text/plain": [
              "\"SampleClass2('7')\""
            ]
          },
          "execution_count": 171,
          "metadata": {},
          "output_type": "execute_result"
        },
        {
          "name": "stdout",
          "output_type": "stream",
          "text": [
            "SampleClass2('7')\n"
          ]
        }
      ],
      "source": [
        "str(sample2)\n",
        "print(sample2)"
      ]
    },
    {
      "cell_type": "code",
      "execution_count": 174,
      "metadata": {},
      "outputs": [
        {
          "data": {
            "text/plain": [
              "<__main__.SampleClass at 0x119ecc210>"
            ]
          },
          "execution_count": 174,
          "metadata": {},
          "output_type": "execute_result"
        },
        {
          "data": {
            "text/plain": [
              "SampleClass2('7')"
            ]
          },
          "execution_count": 174,
          "metadata": {},
          "output_type": "execute_result"
        },
        {
          "name": "stdout",
          "output_type": "stream",
          "text": [
            "SampleClass2('7')\n"
          ]
        },
        {
          "data": {
            "text/plain": [
              "SampleClass2(7)"
            ]
          },
          "execution_count": 174,
          "metadata": {},
          "output_type": "execute_result"
        },
        {
          "name": "stdout",
          "output_type": "stream",
          "text": [
            "SampleClass2 with num=7\n"
          ]
        }
      ],
      "source": [
        "# __str__   : str, print\n",
        "\n",
        "class SampleClass3(SampleClass2):\n",
        "    def __str__(self):                                  # __init__ 없으면 parent __init__ 자동 호출\n",
        "        return f'SampleClass2 with num={self.number!r}'\n",
        "    \n",
        "sample3 = SampleClass3(7)\n",
        "sample\n",
        "sample2\n",
        "print(sample2)\n",
        "sample3\n",
        "print(sample3)"
      ]
    },
    {
      "cell_type": "code",
      "execution_count": null,
      "metadata": {},
      "outputs": [],
      "source": []
    },
    {
      "cell_type": "markdown",
      "metadata": {
        "id": "VnlzaCdgKuEK"
      },
      "source": [
        "## 외부 패키지: numpy, matplotlib, pandas"
      ]
    },
    {
      "cell_type": "markdown",
      "metadata": {},
      "source": [
        "### numpy\n",
        "- 빠른 숫자 연산(C로 구현), vectorized 연산\n",
        "- 과학 연산의 표준 -> pandas, pytorch\n",
        "- conda install numpy 또는 pip install numpy\n",
        "- import numpy as np"
      ]
    },
    {
      "cell_type": "code",
      "execution_count": 155,
      "metadata": {},
      "outputs": [
        {
          "data": {
            "text/plain": [
              "[2, 3, 4]"
            ]
          },
          "execution_count": 155,
          "metadata": {},
          "output_type": "execute_result"
        }
      ],
      "source": [
        "l = [1, 2, 3]\n",
        "\n",
        "# l의 각 원소에 1 더하기\n",
        "l_ = [n + 1 for n in l]\n",
        "l_"
      ]
    },
    {
      "cell_type": "code",
      "execution_count": 156,
      "metadata": {
        "id": "Ft2JyKrx4oAi"
      },
      "outputs": [
        {
          "data": {
            "text/plain": [
              "array([2, 3, 4])"
            ]
          },
          "execution_count": 156,
          "metadata": {},
          "output_type": "execute_result"
        }
      ],
      "source": [
        "import numpy as np\n",
        "\n",
        "a = np.array(l)\n",
        "a + 1               # vector 연산 및 broadcasting"
      ]
    },
    {
      "cell_type": "markdown",
      "metadata": {},
      "source": [
        "### matplotlib\n",
        "- 출판 수준의 visualization\n",
        "- conda install matplotlib 또는 pip install matplotlib\n",
        "- import matplotlib.pyplot as plt"
      ]
    },
    {
      "cell_type": "code",
      "execution_count": 157,
      "metadata": {},
      "outputs": [
        {
          "data": {
            "text/plain": [
              "[<matplotlib.lines.Line2D at 0x119b53b50>]"
            ]
          },
          "execution_count": 157,
          "metadata": {},
          "output_type": "execute_result"
        },
        {
          "data": {
            "image/png": "[encoded data removed]",
            "text/plain": [
              "<Figure size 640x480 with 1 Axes>"
            ]
          },
          "metadata": {},
          "output_type": "display_data"
        }
      ],
      "source": [
        "import matplotlib.pyplot as plt\n",
        "\n",
        "plt.plot(a)"
      ]
    },
    {
      "cell_type": "markdown",
      "metadata": {},
      "source": [
        "### pandas\n",
        "- index, column => easy data manipulation\n",
        "- Series, DataFrame\n",
        "- conda install pandas 또는 pip install pandas\n",
        "- import pandas as pd"
      ]
    },
    {
      "cell_type": "code",
      "execution_count": null,
      "metadata": {},
      "outputs": [],
      "source": []
    },
    {
      "cell_type": "code",
      "execution_count": null,
      "metadata": {},
      "outputs": [],
      "source": []
    },
    {
      "cell_type": "markdown",
      "metadata": {
        "id": "4-I7dPr114Xa"
      },
      "source": [
        "# Deep Learning (DL)\n",
        "- 1989: neural networks (nn) and DL as a way of replacing any mathematical function in an approximate way(George Cybenko, Approximation by Superpositions of Sigmoidal Functions)\n",
        "- GPU for gaming : performance & affordability\n",
        "- 2009: training nn is based on performing lots of matrix operations and these GPUs can speed up training as well as make larger, deeper architectures(Rajat Raina et al., Large-Scale Deep Unsupervised Learning Using Graphics Processors)\n",
        "- 2010s: Dropout 등 DL technic 발전 -> TPU\n",
        "- 2012년까지 ImageNet competition (14 million+ pictures, manually labeled into 20000 categories) error rate 25% -> DL(AlexNet w/ MaxPool, Dropout, ReLU) 16%로 우승\n",
        "- 2015, ResNet(Microsoft) 3.6% (사람 평균 5%)"
      ]
    },
    {
      "cell_type": "code",
      "execution_count": null,
      "metadata": {
        "id": "QeOTFk4214D6"
      },
      "outputs": [],
      "source": []
    },
    {
      "cell_type": "markdown",
      "metadata": {
        "id": "ZIPhHXTA1epQ"
      },
      "source": [
        "# pytorch\n",
        "- open source library released by formerly Facebook(now Meta) in 2017"
      ]
    },
    {
      "cell_type": "code",
      "execution_count": null,
      "metadata": {
        "id": "rsh2xpqW1eS7"
      },
      "outputs": [],
      "source": []
    }
  ],
  "metadata": {
    "colab": {
      "provenance": [],
      "toc_visible": true
    },
    "kernelspec": {
      "display_name": "Python 3",
      "name": "python3"
    },
    "language_info": {
      "codemirror_mode": {
        "name": "ipython",
        "version": 3
      },
      "file_extension": ".py",
      "mimetype": "text/x-python",
      "name": "python",
      "nbconvert_exporter": "python",
      "pygments_lexer": "ipython3",
      "version": "3.11.9"
    }
  },
  "nbformat": 4,
  "nbformat_minor": 0
}
