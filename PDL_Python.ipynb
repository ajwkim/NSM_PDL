{
  "cells": [
    {
      "cell_type": "markdown",
      "metadata": {
        "id": "nvuWL6cXkkaX"
      },
      "source": [
        "# Python 인공지능 연구 동호회\n",
        "## 배경 및 필요성\n",
        "- Python은 Guido van Rossum(네덜란드 소프트웨어 엔지니어)이 개발, 1991년 공개, 이후 2008년 Python3로 발전\n",
        "- 간결하고 쉽고 일관된(consistent: Pythonic) 문법의 객체(object) 지향, 인터프리터 언어\n",
        "- open source 정신으로 방대한 외부 패키지가 구축되어 있으며, 활용 용이: Deep Learning(DL) 관련 패키지들(구글의 Tensorflow, Meta의 Pytorch 등)이 잘 갖춰져 있음 -> DL 시작에 이상적 언어\n",
        "- 프로그램 개발자의 코딩 시간 비용(고급인력 인건비) 문제가 점점 중요해지고, 개발자는 3:7의 비율로 쓰기:읽기에 시간을 보낸다는 조사 결과 -> 읽기 쉬운 코드 짜기!\n",
        "- DL 기법은 ImageNet의 이미지 인식 대회에서 2012년 압도적으로 우승(Geoffrey Hinton, AlexNet)한 이후 ML계의 주류로 각광 받기 시작한 이래, 최근 chatGPT 등을 통해 대중의 폭발적 관심을 얻고 있음\n",
        "- 딥러닝을 활용한 강화학습(RL: Reinforcement Learning)은 이세돌과 AlphaGo 바둑 대결(2016년)을 통해 그간 불가능하게 여겨졌던 바둑 분야에서 인공지능이 인간 능력을 압도할 수 있음을 입증했으며, 비록 훈련과 실제 적용에 까다로움이 있으나 rule 학습을 할 수 있는 인공지능으로 각광받고 있음\n",
        "- 패턴 학습을 위한 딥러닝(DL)과 rule 학습을 위한 강화학습(DRL)의 원리 이해와 실제 구현을 위해, 가장 쉽고 접근성이 뛰어난 Python 언어의 기초부터 필요한 부분만 shortcut 학습/경험 공유하고, 점진적으로 지식/경험의 폭을 넓힘\n",
        "\n",
        "## 연구 환경 및 목표\n",
        "### 연구 환경\n",
        "- wifi 등 인터넷 환경, 개인 노트북(인터넷 접속 가능, 고사양 필요 없음), 구글 계정(colab 사용), Python 입문서(제공)\n",
        "\n",
        "### 동호회 가입 자격\n",
        "- Python 코딩과 AI에 관심있는 누구나\n",
        "\n",
        "### 연구 목표\n",
        "1. DL(패턴 학습: 이미지, 문장 등)과 RL(rule 학습) 이해에서 직접 구현/응용까지를 목표로, 필요한 Python 언어와 패키지(Pytorch 등)의 최소 깊이 학습 -> 정확한 개념 -> 향후 확장 가능성\n",
        "2. 추가적으로 가능하다면, 보다 깊이있는 이해와 구현을 위해\n",
        "    - Python 고급 과정: 당장 필요하지는 않으나, 보다 효율적이고 깊이있는 구현\n",
        "    - 딥러닝의 한계 극복: 설명 가능 AI 등\n",
        "    - 일반 인공지능(AGI) 연구\n",
        "    - Quantum computing 등에 대한 고민 : 근본적 병렬 컴퓨팅\n",
        "\n",
        "### 진행 방식\n",
        "- 격주 화요일 점심(12:00~13:00) 모임, 필요시 심도있는 토론을 위해 만찬 모임\n",
        "- 제공되는 전체 학습 목차에 따라 개별 입문서 예습 후 점심 모임에서 주요사항 짚기, 또는 점심 모임의 주요사항을 개별적으로 입문서를 보며 복습 : 동호회 의견에 띠리 유동적으로 조정"
      ]
    },
    {
      "cell_type": "code",
      "execution_count": null,
      "metadata": {
        "id": "dsBXVuNlnzXZ"
      },
      "outputs": [],
      "source": []
    },
    {
      "cell_type": "markdown",
      "metadata": {
        "id": "piMQN-1nm8sv"
      },
      "source": [
        "# Python 환경 설정\n",
        "- Google colab: 무료, 파이썬 환경과 CPU/GPU/TPU 등 사용 가능. 그러나 중요한 파일은 Google Drive 등에 별도 저장해야 하고, 세션 연결이 불안정할 수 있음\n",
        "    - colab.research.google.com 접속(또는 구글에서 colab 검색)\n",
        "        - shift enter: 셀 실행\n",
        "        - alt/option enter: 셀 실행 + 아래 빈 셀 만들기\n",
        "- 또는 local 가상환경을 만들어 개인 컴퓨터에서 실행: Anaconda 등 가상환경 관리자 설치, vscode 등 편집기(IDE) 설치, 개인 컴퓨터 사양에 따라 DL 속도 좌우\n",
        "    - 가상환경 관리자는 Anaconda, venv, poetry 등 몇 가지 종류가 있으며 pyTorch 사용을 염두에 둘 경우 Anaconda 사용(anaconda.org)\n",
        "    - 최근 poetry라는 가상환경 관리자가 각광받고 있음(python-poetry.org)\n",
        "    - 초보자는 그냥 Anaconda 사용이 편리함"
      ]
    },
    {
      "cell_type": "code",
      "execution_count": null,
      "metadata": {
        "id": "vgQMcsGHn1N6"
      },
      "outputs": [],
      "source": []
    },
    {
      "cell_type": "markdown",
      "metadata": {
        "id": "cLJ1lVTwJc4D"
      },
      "source": [
        "# Python 기초 프로그래밍"
      ]
    },
    {
      "cell_type": "markdown",
      "metadata": {
        "id": "nmvVFICMoKPV"
      },
      "source": [
        "- 파일명.py    : 파이썬 스크립트 파일, 실행 가능: >python 파일명.py\n",
        "- 파일명.ipynb : Jupyter notebook 파일. 코드와 실행 결과를 하나의 노트북에서 확인"
      ]
    },
    {
      "cell_type": "code",
      "execution_count": 1,
      "metadata": {
        "id": "lYeo-cO3ztQU"
      },
      "outputs": [],
      "source": [
        "from IPython.core.interactiveshell import InteractiveShell\n",
        "InteractiveShell.ast_node_interactivity = 'all'             # 셀 내 모든 값 프린트, 기본은 'last_expr'"
      ]
    },
    {
      "cell_type": "code",
      "execution_count": null,
      "metadata": {
        "id": "qfwq7TXW2Tzp"
      },
      "outputs": [],
      "source": [
        "# python version 확인: python3(2008년~, 하위 호환X)\n",
        "\n",
        "import sys          # 표준 라이브러리 sys\n",
        "sys.version         # sys의 version 속성"
      ]
    },
    {
      "cell_type": "code",
      "execution_count": null,
      "metadata": {
        "id": "vf9Y4t122YwW"
      },
      "outputs": [],
      "source": [
        "# python reference\n",
        "\n",
        "# 공식 홈: docs.python.org/3/search.html\n",
        "# google/naver 검색: python ~\n",
        "# help(~), ~?, ?~\n",
        "\n",
        "# help(sum)\n",
        "# ?sum\n",
        "sum?"
      ]
    },
    {
      "cell_type": "code",
      "execution_count": null,
      "metadata": {
        "id": "2hVjW_tB23sC"
      },
      "outputs": [],
      "source": [
        "# 외부 패키지(라이브러리) 검색: pypi.org 또는 anaconda.org\n",
        "\n",
        "# 유용한 사이트:\n",
        "# - codingdojang.com: 난이도순, 직접 풀어본 후 python 풀이 참고\n",
        "# - wikidocs.net: 무료 ebook\n",
        "# - kaggle.com/competitions"
      ]
    },
    {
      "cell_type": "markdown",
      "metadata": {
        "id": "9ly9T-Oi0Bip"
      },
      "source": [
        "## 기초 문법"
      ]
    },
    {
      "cell_type": "code",
      "execution_count": null,
      "metadata": {
        "id": "o6QLGuLNz_Rq"
      },
      "outputs": [],
      "source": [
        "# 대소문자 구분\n",
        "\n",
        "a = 1\n",
        "A = 2\n",
        "a\n",
        "A"
      ]
    },
    {
      "cell_type": "code",
      "execution_count": null,
      "metadata": {
        "id": "mYMH7UbS0Ksl"
      },
      "outputs": [],
      "source": [
        "# block은 4칸 띄움(indentation) : 엄격 : if, for, while, 함수, class 등\n",
        "# 세미콜론 안씀. 두 줄 이상을 한 줄에 쓰는 이상한 경우에만\n",
        "\n",
        "a = 1; A = 2\n",
        "a\n",
        "A"
      ]
    },
    {
      "cell_type": "code",
      "execution_count": null,
      "metadata": {
        "id": "dE7OJpS30Vav"
      },
      "outputs": [],
      "source": [
        "# 주석(comment) : #, ctrl/command /\n",
        "\n",
        "# a = 1"
      ]
    },
    {
      "cell_type": "code",
      "execution_count": null,
      "metadata": {
        "id": "qHJoEEVw0v-8"
      },
      "outputs": [],
      "source": [
        "# 변수(객체)명\n",
        "#   문자(_ 포함)부터 시작, 문자와 숫자 사용 가능, 대소문자 구분\n",
        "#   사용불가 : 특수문자(+-/$@&% 등), 파이썬 키워드(if for while and or 등)\n",
        "\n",
        "# A, a, a2, a2c, _a, __a, a_, _a_"
      ]
    },
    {
      "cell_type": "code",
      "execution_count": null,
      "metadata": {
        "id": "ozN_a9YF07zy"
      },
      "outputs": [],
      "source": [
        "# 변수에 객체(object) 할당(assignment operator =)\n",
        "\n",
        "a = 1       # type 지정 필요 없음\n",
        "            # object(RHS) is evaluated & created before the assignment operation\n",
        "            # label 'a' is attached(bound) to the object\n",
        "b = a       # attaches label 'b' to the object that already has the label 'a'\n",
        "            # object 1 is copied\n",
        "\n",
        "x = y = z = 1_0000      # 10000, 10_000\n",
        "\n",
        "x = 10\n",
        "y = 20\n",
        "# tmp = x\n",
        "# x = y\n",
        "# y = tmp\n",
        "\n",
        "x, y = y, x         # 두 변수의 값 서로 바꾸기 : tuple/iterable unpacking\n",
        "\n",
        "a\n",
        "b\n",
        "x\n",
        "y"
      ]
    },
    {
      "cell_type": "code",
      "execution_count": null,
      "metadata": {
        "id": "4IMF8nWE1g_L"
      },
      "outputs": [],
      "source": [
        "# 변수 지우기\n",
        "\n",
        "del a\n",
        "del b, x, y, z\n",
        "\n",
        "# 변수를 지우면 객체에 대한 reference가 사라짐 ->\n",
        "# garbage collector : reference가 하나도 없는 객체는 삭제됨"
      ]
    },
    {
      "cell_type": "code",
      "execution_count": null,
      "metadata": {
        "id": "BFjdeBkGjImU"
      },
      "outputs": [],
      "source": [
        "a"
      ]
    },
    {
      "cell_type": "code",
      "execution_count": null,
      "metadata": {
        "id": "HQA-CQll1b2K"
      },
      "outputs": [],
      "source": [
        "# Hello, world!\n",
        "\n",
        "print('Hello, world!')      # print(객체)\n",
        "                            # print(객체1, 객체2, ...)\n",
        "                            # print(객체1[, ...], sep=' ', end='\\n')"
      ]
    },
    {
      "cell_type": "code",
      "execution_count": null,
      "metadata": {
        "id": "YLEB-ugT3iqc"
      },
      "outputs": [],
      "source": [
        "help(print)\n",
        "print?"
      ]
    },
    {
      "cell_type": "code",
      "execution_count": 43,
      "metadata": {
        "id": "n-JuuaRiw0oN"
      },
      "outputs": [
        {
          "name": "stdout",
          "output_type": "stream",
          "text": [
            "1_2\n",
            "2*3\n",
            "\n"
          ]
        }
      ],
      "source": [
        "a, b, c = 1, 2, 3\n",
        "\n",
        "print(a, b, sep='_')\n",
        "print(b, c, sep='*', end='\\n\\n')"
      ]
    },
    {
      "cell_type": "markdown",
      "metadata": {
        "id": "Oto5l_-GJ2zT"
      },
      "source": [
        "## 기초 자료형: int, float, str, bool"
      ]
    },
    {
      "cell_type": "markdown",
      "metadata": {
        "id": "wrI3N_Fd4VKi"
      },
      "source": [
        "### int\n",
        "- 숫자에 '.'이 없음"
      ]
    },
    {
      "cell_type": "code",
      "execution_count": null,
      "metadata": {
        "id": "gYWTMMIdMUHC"
      },
      "outputs": [],
      "source": [
        "x = 1\n",
        "x = -1\n",
        "\n",
        "type(x)"
      ]
    },
    {
      "cell_type": "code",
      "execution_count": null,
      "metadata": {
        "id": "aqeNYpxQzAIa"
      },
      "outputs": [],
      "source": [
        "x = 123456789123456789      # 아무리 큰 수라도 가능: long type, unsigned 등 구분 없음\n",
        "x"
      ]
    },
    {
      "cell_type": "markdown",
      "metadata": {
        "id": "l9Ehr5PQ4aaI"
      },
      "source": [
        "### float\n",
        "- 숫자에 '.'이 있음"
      ]
    },
    {
      "cell_type": "code",
      "execution_count": null,
      "metadata": {
        "id": "vISGUx02NPz-"
      },
      "outputs": [],
      "source": [
        "x = 1.0\n",
        "x = 1.      # identical\n",
        "type(x)"
      ]
    },
    {
      "cell_type": "code",
      "execution_count": 14,
      "metadata": {
        "id": "sarER1Co4eda"
      },
      "outputs": [
        {
          "data": {
            "text/plain": [
              "0.0"
            ]
          },
          "execution_count": 14,
          "metadata": {},
          "output_type": "execute_result"
        },
        {
          "data": {
            "text/plain": [
              "0.0"
            ]
          },
          "execution_count": 14,
          "metadata": {},
          "output_type": "execute_result"
        },
        {
          "data": {
            "text/plain": [
              "0.0"
            ]
          },
          "execution_count": 14,
          "metadata": {},
          "output_type": "execute_result"
        }
      ],
      "source": [
        "0.0\n",
        "0.      # identical\n",
        ".0      # identical"
      ]
    },
    {
      "cell_type": "code",
      "execution_count": 2,
      "metadata": {
        "id": "KFA-nsQQ4jYG"
      },
      "outputs": [
        {
          "data": {
            "text/plain": [
              "0.43500000000000005"
            ]
          },
          "execution_count": 2,
          "metadata": {},
          "output_type": "execute_result"
        },
        {
          "data": {
            "text/plain": [
              "Decimal('0.435')"
            ]
          },
          "execution_count": 2,
          "metadata": {},
          "output_type": "execute_result"
        }
      ],
      "source": [
        ".335 + .1           # 64-bit double precision\n",
        "\n",
        "\n",
        "# 금융 등 소수점 정확도가 중요한 분야에서는 decimal.Decimal 사용(고급)\n",
        "from decimal import Decimal\n",
        "\n",
        "Decimal('.335') + Decimal('.1')"
      ]
    },
    {
      "cell_type": "markdown",
      "metadata": {
        "id": "9OUWz-yJ48Wi"
      },
      "source": [
        "### str : Immutable Sequence"
      ]
    },
    {
      "cell_type": "code",
      "execution_count": null,
      "metadata": {
        "id": "_ISjEE_APV0F"
      },
      "outputs": [],
      "source": [
        "x = '123abc'        # \"\"\n",
        "x = \"123abc\"        # identical\n",
        "type(x)"
      ]
    },
    {
      "cell_type": "code",
      "execution_count": null,
      "metadata": {
        "id": "6Km5sTQo5C4R"
      },
      "outputs": [],
      "source": [
        "\"abc\"\n",
        "'a\"b\"c'\n",
        "\"a'b'c\"\n",
        "'a\\'b\\'c'       # escape character \\"
      ]
    },
    {
      "cell_type": "code",
      "execution_count": null,
      "metadata": {
        "id": "R5N7v26u5UNL"
      },
      "outputs": [],
      "source": [
        "'''여러 줄\n",
        "str'''\n",
        "\n",
        "\"\"\"여러 줄\n",
        "'str'\"\"\""
      ]
    },
    {
      "cell_type": "markdown",
      "metadata": {
        "id": "W97G7fgl5fX4"
      },
      "source": [
        "### bool"
      ]
    },
    {
      "cell_type": "code",
      "execution_count": null,
      "metadata": {
        "id": "yG1FUtvmWmMi"
      },
      "outputs": [],
      "source": [
        "True\n",
        "False\n",
        "\n",
        "x = True\n",
        "type(x)"
      ]
    },
    {
      "cell_type": "code",
      "execution_count": null,
      "metadata": {
        "id": "dsSnTEQumWBT"
      },
      "outputs": [],
      "source": [
        "5 >= 10     # 비교 OPERATOR"
      ]
    },
    {
      "cell_type": "code",
      "execution_count": null,
      "metadata": {
        "id": "a3FC9w0xmerx"
      },
      "outputs": [],
      "source": [
        "5 <= 10"
      ]
    },
    {
      "cell_type": "code",
      "execution_count": null,
      "metadata": {
        "id": "by5Nv8R0mo3S"
      },
      "outputs": [],
      "source": [
        "# not, and, or\n",
        "\n",
        "not True\n",
        "not False"
      ]
    },
    {
      "cell_type": "code",
      "execution_count": null,
      "metadata": {
        "id": "drCEyW4Wmy7L"
      },
      "outputs": [],
      "source": [
        "True and False"
      ]
    },
    {
      "cell_type": "code",
      "execution_count": null,
      "metadata": {
        "id": "Zi8kad3mm3Ix"
      },
      "outputs": [],
      "source": [
        "True or False"
      ]
    },
    {
      "cell_type": "code",
      "execution_count": null,
      "metadata": {
        "id": "0nY_QJqnnAY5"
      },
      "outputs": [],
      "source": [
        "not (5 > 10)"
      ]
    },
    {
      "cell_type": "code",
      "execution_count": null,
      "metadata": {
        "id": "Rf9OHyc2nOap"
      },
      "outputs": [],
      "source": []
    },
    {
      "cell_type": "markdown",
      "metadata": {
        "id": "BzUZP78w5y82"
      },
      "source": [
        "### type casting"
      ]
    },
    {
      "cell_type": "code",
      "execution_count": null,
      "metadata": {
        "id": "KK7qeICa5rBC"
      },
      "outputs": [],
      "source": [
        "int('10')\n",
        "int(1.9)    # 버림\n",
        "int(-1.9)"
      ]
    },
    {
      "cell_type": "code",
      "execution_count": null,
      "metadata": {
        "id": "N5qf8abD56BH"
      },
      "outputs": [],
      "source": [
        "float(1)\n",
        "float('10.2')\n",
        "int(float('10.2'))"
      ]
    },
    {
      "cell_type": "code",
      "execution_count": null,
      "metadata": {
        "id": "kH7ph1MM61nD"
      },
      "outputs": [],
      "source": [
        "str(2)\n",
        "str(2.0)"
      ]
    },
    {
      "cell_type": "code",
      "execution_count": 44,
      "metadata": {
        "id": "YPO4yhlI6AY5"
      },
      "outputs": [
        {
          "data": {
            "text/plain": [
              "1"
            ]
          },
          "execution_count": 44,
          "metadata": {},
          "output_type": "execute_result"
        },
        {
          "data": {
            "text/plain": [
              "1.0"
            ]
          },
          "execution_count": 44,
          "metadata": {},
          "output_type": "execute_result"
        },
        {
          "data": {
            "text/plain": [
              "0"
            ]
          },
          "execution_count": 44,
          "metadata": {},
          "output_type": "execute_result"
        },
        {
          "data": {
            "text/plain": [
              "0.0"
            ]
          },
          "execution_count": 44,
          "metadata": {},
          "output_type": "execute_result"
        }
      ],
      "source": [
        "int(True)\n",
        "float(True)\n",
        "int(False)\n",
        "float(False)"
      ]
    },
    {
      "cell_type": "code",
      "execution_count": null,
      "metadata": {
        "id": "FUt-9uA06Nk5"
      },
      "outputs": [],
      "source": [
        "bool(0)         # 0, 0., '' -> False\n",
        "bool(-2)        # 나머지 다   -> True"
      ]
    },
    {
      "cell_type": "markdown",
      "metadata": {
        "id": "RT6Oy6ox_sWS"
      },
      "source": [
        "### None"
      ]
    },
    {
      "cell_type": "code",
      "execution_count": null,
      "metadata": {
        "id": "_nLqZEDD_txi"
      },
      "outputs": [],
      "source": [
        "x = None\n",
        "x\n",
        "type(x)\n",
        "bool(x)         # 0, 0., '', None -> False"
      ]
    },
    {
      "cell_type": "markdown",
      "metadata": {
        "id": "Uikxd-TA6i2O"
      },
      "source": [
        "### isinstance"
      ]
    },
    {
      "cell_type": "code",
      "execution_count": null,
      "metadata": {
        "id": "uwGFiZ6z7CsA"
      },
      "outputs": [],
      "source": [
        "int()"
      ]
    },
    {
      "cell_type": "code",
      "execution_count": null,
      "metadata": {
        "id": "pltsTYCQ7EUU"
      },
      "outputs": [],
      "source": [
        "float()"
      ]
    },
    {
      "cell_type": "code",
      "execution_count": null,
      "metadata": {
        "id": "oPiHj15z7E4X"
      },
      "outputs": [],
      "source": [
        "str()"
      ]
    },
    {
      "cell_type": "code",
      "execution_count": null,
      "metadata": {
        "id": "RQuLXC6v7Fk6"
      },
      "outputs": [],
      "source": [
        "bool()"
      ]
    },
    {
      "cell_type": "code",
      "execution_count": null,
      "metadata": {
        "id": "weO3YwzU7GQG"
      },
      "outputs": [],
      "source": [
        "# int, float, str, bool 등은 실제로는 class\n",
        "\n",
        "# class ~ 규격화된 객체(정수, 부동소수점, 문자열, 불리언 등)를 만들어내는 factory : 속성과 메서드를 가짐"
      ]
    },
    {
      "cell_type": "code",
      "execution_count": null,
      "metadata": {
        "id": "_Slc0kWv6Urg"
      },
      "outputs": [],
      "source": [
        "# isinstance(객체, 클래스)\n",
        "\n",
        "isinstance(1, int)"
      ]
    },
    {
      "cell_type": "code",
      "execution_count": 20,
      "metadata": {
        "id": "hOr9VXAv6koN"
      },
      "outputs": [
        {
          "data": {
            "text/plain": [
              "False"
            ]
          },
          "execution_count": 20,
          "metadata": {},
          "output_type": "execute_result"
        }
      ],
      "source": [
        "isinstance(1, bool)"
      ]
    },
    {
      "cell_type": "code",
      "execution_count": null,
      "metadata": {
        "id": "Gp7vTOFb6nbd"
      },
      "outputs": [],
      "source": [
        "# Almost everything in Python is an object\n",
        "\n",
        "dir(1)          # dir(객체) -> 객체의 속성, 메서드"
      ]
    },
    {
      "cell_type": "code",
      "execution_count": null,
      "metadata": {
        "id": "rrptEM0O6rZA"
      },
      "outputs": [],
      "source": []
    },
    {
      "cell_type": "markdown",
      "metadata": {
        "id": "zWCOIzdb7p8g"
      },
      "source": [
        "## 기초 자료형 연산, assign 연산, method/함수, 연산 순서"
      ]
    },
    {
      "cell_type": "markdown",
      "metadata": {
        "id": "UfjMbZUQ7w7h"
      },
      "source": [
        "### 숫자형(int & float)"
      ]
    },
    {
      "cell_type": "code",
      "execution_count": null,
      "metadata": {
        "id": "J3eMo33Zk1xH"
      },
      "outputs": [],
      "source": [
        "5 + 3\n",
        "2 - 10\n",
        "2 * 4"
      ]
    },
    {
      "cell_type": "code",
      "execution_count": null,
      "metadata": {
        "id": "Cikd06fglEpq"
      },
      "outputs": [],
      "source": [
        "6 / 3   # 정수 / 정수 -> float"
      ]
    },
    {
      "cell_type": "code",
      "execution_count": null,
      "metadata": {
        "id": "ROlINAdb7wrB"
      },
      "outputs": [],
      "source": [
        "# + - * / **\n",
        "\n",
        "2 ** 3"
      ]
    },
    {
      "cell_type": "code",
      "execution_count": null,
      "metadata": {
        "id": "-ILU7wngrvPD"
      },
      "outputs": [],
      "source": [
        "# // %\n",
        "\n",
        "9 // 2      # 몫\n",
        "9 % 2       # 나머지"
      ]
    },
    {
      "cell_type": "code",
      "execution_count": null,
      "metadata": {
        "id": "BYgCUaoU79k5"
      },
      "outputs": [],
      "source": [
        "divmod(9, 2)    # -> (몫, 나머지)"
      ]
    },
    {
      "cell_type": "code",
      "execution_count": null,
      "metadata": {
        "id": "JhmbK-Av8KV0"
      },
      "outputs": [],
      "source": [
        "# += -= *= /= **= //= %=\n",
        "\n",
        "x = 1\n",
        "x += 2      # x = x + 2\n",
        "x"
      ]
    },
    {
      "cell_type": "code",
      "execution_count": null,
      "metadata": {
        "id": "R1GcRXoNtxE8"
      },
      "outputs": [],
      "source": [
        "x = 1\n",
        "x + 2\n",
        "x"
      ]
    },
    {
      "cell_type": "code",
      "execution_count": null,
      "metadata": {
        "id": "Du5OQyPauVwj"
      },
      "outputs": [],
      "source": [
        "x = 11\n",
        "x %= 3      # x = x % 3\n",
        "x"
      ]
    },
    {
      "cell_type": "code",
      "execution_count": null,
      "metadata": {
        "id": "VJ_5nzhM8SXz"
      },
      "outputs": [],
      "source": [
        "x **= 2\n",
        "x"
      ]
    },
    {
      "cell_type": "code",
      "execution_count": null,
      "metadata": {
        "id": "4rlDRPMT8ZE2"
      },
      "outputs": [],
      "source": [
        "x //= 4\n",
        "x"
      ]
    },
    {
      "cell_type": "code",
      "execution_count": null,
      "metadata": {
        "id": "MxwkPuOh8baQ"
      },
      "outputs": [],
      "source": [
        "x %= 5\n",
        "x"
      ]
    },
    {
      "cell_type": "code",
      "execution_count": null,
      "metadata": {
        "id": "qLLUI3-B8FcV"
      },
      "outputs": [],
      "source": [
        "# int / int 및 int와 float간 연산 -> float\n",
        "\n",
        "4 / 2\n",
        "\n",
        "1 + 1."
      ]
    },
    {
      "cell_type": "markdown",
      "metadata": {
        "id": "qaBwXAOwh5QZ"
      },
      "source": [
        "#### 함수로 연산하기"
      ]
    },
    {
      "cell_type": "code",
      "execution_count": null,
      "metadata": {
        "colab": {
          "base_uri": "https://localhost:8080/"
        },
        "id": "USpbw2GV8qPL",
        "outputId": "6cb00f57-77b6-4724-983f-2afe6fe3f702"
      },
      "outputs": [
        {
          "data": {
            "text/plain": [
              "3.2"
            ]
          },
          "execution_count": 3,
          "metadata": {},
          "output_type": "execute_result"
        },
        {
          "data": {
            "text/plain": [
              "2.5"
            ]
          },
          "execution_count": 3,
          "metadata": {},
          "output_type": "execute_result"
        },
        {
          "data": {
            "text/plain": [
              "3"
            ]
          },
          "execution_count": 3,
          "metadata": {},
          "output_type": "execute_result"
        }
      ],
      "source": [
        "# abs, round, max, min, ...  : built-in 함수 (import 안해도 됨)\n",
        "# 함수명(인수...)\n",
        "\n",
        "abs(-3.2)\n",
        "\n",
        "round(2.546, 1)\n",
        "round(2.546)        # int(2.546)"
      ]
    },
    {
      "cell_type": "code",
      "execution_count": null,
      "metadata": {
        "colab": {
          "base_uri": "https://localhost:8080/"
        },
        "id": "ftt2oZo1ra72",
        "outputId": "d4f74057-592e-45eb-cb17-6a2c525d084f"
      },
      "outputs": [
        {
          "data": {
            "text/plain": [
              "2"
            ]
          },
          "execution_count": 4,
          "metadata": {},
          "output_type": "execute_result"
        }
      ],
      "source": [
        "int(2.9)"
      ]
    },
    {
      "cell_type": "code",
      "execution_count": null,
      "metadata": {
        "colab": {
          "base_uri": "https://localhost:8080/"
        },
        "id": "CLDrdcpOiM04",
        "outputId": "983b0d21-e579-48c6-ffcb-9013951f6090"
      },
      "outputs": [
        {
          "data": {
            "text/plain": [
              "15"
            ]
          },
          "execution_count": 5,
          "metadata": {},
          "output_type": "execute_result"
        },
        {
          "data": {
            "text/plain": [
              "5"
            ]
          },
          "execution_count": 5,
          "metadata": {},
          "output_type": "execute_result"
        }
      ],
      "source": [
        "max(5, 12, 13.0, 15)\n",
        "min(5, 12, 13.0)"
      ]
    },
    {
      "cell_type": "code",
      "execution_count": null,
      "metadata": {
        "colab": {
          "base_uri": "https://localhost:8080/"
        },
        "id": "9UYnAH4Qrvhj",
        "outputId": "3457c5d9-ecc4-47c1-d9ff-64f59063ce03"
      },
      "outputs": [
        {
          "data": {
            "text/plain": [
              "8"
            ]
          },
          "execution_count": 7,
          "metadata": {},
          "output_type": "execute_result"
        },
        {
          "data": {
            "text/plain": [
              "8"
            ]
          },
          "execution_count": 7,
          "metadata": {},
          "output_type": "execute_result"
        }
      ],
      "source": [
        "pow(2, 3)\n",
        "2 ** 3"
      ]
    },
    {
      "cell_type": "markdown",
      "metadata": {
        "id": "0mxOmdeKjKu-"
      },
      "source": [
        "#### math"
      ]
    },
    {
      "cell_type": "code",
      "execution_count": null,
      "metadata": {
        "colab": {
          "base_uri": "https://localhost:8080/"
        },
        "id": "ROxLAemRiL5R",
        "outputId": "66f2916c-c31e-4b5f-aa2d-03b56fee88c3"
      },
      "outputs": [
        {
          "data": {
            "text/plain": [
              "4"
            ]
          },
          "execution_count": 8,
          "metadata": {},
          "output_type": "execute_result"
        },
        {
          "data": {
            "text/plain": [
              "4"
            ]
          },
          "execution_count": 8,
          "metadata": {},
          "output_type": "execute_result"
        },
        {
          "data": {
            "text/plain": [
              "1.4142135623730951"
            ]
          },
          "execution_count": 8,
          "metadata": {},
          "output_type": "execute_result"
        }
      ],
      "source": [
        "# 기본함수 vs. 표준모듈 vs. 외부모듈(numpy, pytorch)\n",
        "# 자주씀   vs. import  vs. 별도로 설치(한 번만) 후 import\n",
        "# abs, round\n",
        "\n",
        "import math    # 모듈명\n",
        "\n",
        "math.floor(4.99)    # 내림\n",
        "math.ceil(3.14)     # 올림\n",
        "math.sqrt(2)        # 제곱근"
      ]
    },
    {
      "cell_type": "code",
      "execution_count": null,
      "metadata": {
        "colab": {
          "base_uri": "https://localhost:8080/"
        },
        "id": "L6xgYHjlkC7e",
        "outputId": "76bf2841-5fc0-4a71-eed4-259e3705f0c3"
      },
      "outputs": [
        {
          "data": {
            "text/plain": [
              "1.4142135623730951"
            ]
          },
          "execution_count": 8,
          "metadata": {},
          "output_type": "execute_result"
        }
      ],
      "source": [
        "2 ** (1/2)"
      ]
    },
    {
      "cell_type": "code",
      "execution_count": null,
      "metadata": {
        "colab": {
          "base_uri": "https://localhost:8080/"
        },
        "id": "GmvLADyYkLna",
        "outputId": "66ac7b09-efee-4e1d-c253-b1d608b28a88"
      },
      "outputs": [
        {
          "data": {
            "text/plain": [
              "<function math.floor(x, /)>"
            ]
          },
          "execution_count": 9,
          "metadata": {},
          "output_type": "execute_result"
        },
        {
          "data": {
            "text/plain": [
              "4"
            ]
          },
          "execution_count": 9,
          "metadata": {},
          "output_type": "execute_result"
        }
      ],
      "source": [
        "from math import floor, ceil, sqrt    # from 패키지명 import 객체/변수/함수/클라스...\n",
        "\n",
        "floor\n",
        "floor(4.99)"
      ]
    },
    {
      "cell_type": "code",
      "execution_count": null,
      "metadata": {
        "colab": {
          "base_uri": "https://localhost:8080/",
          "height": 158
        },
        "id": "CG3Wd2IGkakx",
        "outputId": "627c9c8a-8cd5-46f7-8495-75affd786439"
      },
      "outputs": [
        {
          "ename": "TypeError",
          "evalue": "'int' object is not callable",
          "output_type": "error",
          "traceback": [
            "\u001b[0;31m---------------------------------------------------------------------------\u001b[0m",
            "\u001b[0;31mTypeError\u001b[0m                                 Traceback (most recent call last)",
            "\u001b[0;32m<ipython-input-11-68691ca493c4>\u001b[0m in \u001b[0;36m<cell line: 2>\u001b[0;34m()\u001b[0m\n\u001b[1;32m      1\u001b[0m \u001b[0mfloor\u001b[0m \u001b[0;34m=\u001b[0m \u001b[0;36m3\u001b[0m\u001b[0;34m\u001b[0m\u001b[0;34m\u001b[0m\u001b[0m\n\u001b[0;32m----> 2\u001b[0;31m \u001b[0mfloor\u001b[0m\u001b[0;34m(\u001b[0m\u001b[0;36m4.99\u001b[0m\u001b[0;34m)\u001b[0m\u001b[0;34m\u001b[0m\u001b[0;34m\u001b[0m\u001b[0m\n\u001b[0m",
            "\u001b[0;31mTypeError\u001b[0m: 'int' object is not callable"
          ]
        }
      ],
      "source": [
        "floor = 3\n",
        "floor(4.99)"
      ]
    },
    {
      "cell_type": "markdown",
      "metadata": {
        "id": "txvqG8oIkinP"
      },
      "source": [
        "#### random"
      ]
    },
    {
      "cell_type": "code",
      "execution_count": null,
      "metadata": {
        "colab": {
          "base_uri": "https://localhost:8080/"
        },
        "id": "39f6TQAPkk0R",
        "outputId": "f2223400-d3e6-4177-c3c8-6cd1c471fcfd"
      },
      "outputs": [
        {
          "data": {
            "text/plain": [
              "0.9310390415123089"
            ]
          },
          "execution_count": 15,
          "metadata": {},
          "output_type": "execute_result"
        },
        {
          "data": {
            "text/plain": [
              "35"
            ]
          },
          "execution_count": 15,
          "metadata": {},
          "output_type": "execute_result"
        }
      ],
      "source": [
        "import random\n",
        "\n",
        "random.random()             # [0, 1)\n",
        "random.randrange(1, 46)     # [시작, 끝)    random.randint(시작, 끝) -> [시작, 끝]"
      ]
    },
    {
      "cell_type": "code",
      "execution_count": null,
      "metadata": {
        "colab": {
          "base_uri": "https://localhost:8080/"
        },
        "id": "uDT9XjkXuM9S",
        "outputId": "a52a6048-d4dc-46bd-e569-dc7f6124e666"
      },
      "outputs": [
        {
          "data": {
            "text/plain": [
              "0.14347225093406535"
            ]
          },
          "execution_count": 19,
          "metadata": {},
          "output_type": "execute_result"
        },
        {
          "data": {
            "text/plain": [
              "10"
            ]
          },
          "execution_count": 19,
          "metadata": {},
          "output_type": "execute_result"
        }
      ],
      "source": [
        "from random import random, randrange\n",
        "\n",
        "random()\n",
        "randrange(1, 46)"
      ]
    },
    {
      "cell_type": "code",
      "execution_count": null,
      "metadata": {
        "id": "FJQoZ9QekChJ"
      },
      "outputs": [],
      "source": [
        "# random.sample(시퀀스, k: int, counts: Iterable[int])\n",
        "# random.choice(시퀀스)\n",
        "# random.shuffle(mutable 시퀀스)"
      ]
    },
    {
      "cell_type": "code",
      "execution_count": null,
      "metadata": {
        "id": "U_CkGx3GsMn1"
      },
      "outputs": [],
      "source": [
        "1 == '1'"
      ]
    },
    {
      "cell_type": "code",
      "execution_count": null,
      "metadata": {
        "id": "Te13YZPisMfh"
      },
      "outputs": [],
      "source": [
        "1 != 2"
      ]
    },
    {
      "cell_type": "code",
      "execution_count": null,
      "metadata": {
        "id": "_KXUfa76saWg"
      },
      "outputs": [],
      "source": [
        "5 > 4 and 4 > 3"
      ]
    },
    {
      "cell_type": "code",
      "execution_count": null,
      "metadata": {
        "id": "gkpEstwgsZ6V"
      },
      "outputs": [],
      "source": [
        "5 > 4 > 3"
      ]
    },
    {
      "cell_type": "code",
      "execution_count": null,
      "metadata": {
        "id": "kFwMgNP8sqDt"
      },
      "outputs": [],
      "source": [
        "a = 'hello'\n",
        "\n",
        "True and a          # short-circuit evaluation\n",
        "False or a"
      ]
    },
    {
      "cell_type": "code",
      "execution_count": null,
      "metadata": {
        "id": "far4XPWOs8yM"
      },
      "outputs": [],
      "source": [
        "False and a"
      ]
    },
    {
      "cell_type": "markdown",
      "metadata": {
        "id": "rNw86JYF83kL"
      },
      "source": [
        "### str"
      ]
    },
    {
      "cell_type": "code",
      "execution_count": null,
      "metadata": {
        "colab": {
          "base_uri": "https://localhost:8080/",
          "height": 35
        },
        "id": "ujnZW3yhvhCH",
        "outputId": "39227fa8-21d0-474b-ac3c-6f44f629ed6e"
      },
      "outputs": [
        {
          "data": {
            "application/vnd.google.colaboratory.intrinsic+json": {
              "type": "string"
            },
            "text/plain": [
              "'o'"
            ]
          },
          "execution_count": 22,
          "metadata": {},
          "output_type": "execute_result"
        }
      ],
      "source": [
        "# (immutable) sequence: indexing & slicing\n",
        "\n",
        "a = 'hello'     # 0,1,2,3,4 : 인덱스를 가지는 Sequence\n",
        "a[4]"
      ]
    },
    {
      "cell_type": "code",
      "execution_count": null,
      "metadata": {
        "colab": {
          "base_uri": "https://localhost:8080/",
          "height": 35
        },
        "id": "uVuvvSwVv_Ft",
        "outputId": "5934a46b-67f3-4a03-d8dc-b96bb4ca1710"
      },
      "outputs": [
        {
          "data": {
            "application/vnd.google.colaboratory.intrinsic+json": {
              "type": "string"
            },
            "text/plain": [
              "'el'"
            ]
          },
          "execution_count": 23,
          "metadata": {},
          "output_type": "execute_result"
        }
      ],
      "source": [
        "a[1:3]  # 1, 2*"
      ]
    },
    {
      "cell_type": "code",
      "execution_count": null,
      "metadata": {
        "colab": {
          "base_uri": "https://localhost:8080/",
          "height": 35
        },
        "id": "tAa78KuhwSb9",
        "outputId": "b16c5141-69f0-4c42-dd4a-4b647d9aa6c8"
      },
      "outputs": [
        {
          "data": {
            "application/vnd.google.colaboratory.intrinsic+json": {
              "type": "string"
            },
            "text/plain": [
              "'ello'"
            ]
          },
          "execution_count": 24,
          "metadata": {},
          "output_type": "execute_result"
        }
      ],
      "source": [
        "a[1:]"
      ]
    },
    {
      "cell_type": "code",
      "execution_count": null,
      "metadata": {
        "colab": {
          "base_uri": "https://localhost:8080/",
          "height": 35
        },
        "id": "q2HB-EIhwWse",
        "outputId": "d50e65be-ef48-4f5a-dd5c-4bf4608bfa1c"
      },
      "outputs": [
        {
          "data": {
            "application/vnd.google.colaboratory.intrinsic+json": {
              "type": "string"
            },
            "text/plain": [
              "'hel'"
            ]
          },
          "execution_count": 25,
          "metadata": {},
          "output_type": "execute_result"
        }
      ],
      "source": [
        "a[:3]"
      ]
    },
    {
      "cell_type": "code",
      "execution_count": null,
      "metadata": {
        "colab": {
          "base_uri": "https://localhost:8080/",
          "height": 35
        },
        "id": "jKfNPhVTwbmN",
        "outputId": "2005026d-170c-49b8-9020-8a223b27fe04"
      },
      "outputs": [
        {
          "data": {
            "application/vnd.google.colaboratory.intrinsic+json": {
              "type": "string"
            },
            "text/plain": [
              "'hello'"
            ]
          },
          "execution_count": 26,
          "metadata": {},
          "output_type": "execute_result"
        }
      ],
      "source": [
        "a[:]"
      ]
    },
    {
      "cell_type": "code",
      "execution_count": null,
      "metadata": {
        "colab": {
          "base_uri": "https://localhost:8080/",
          "height": 35
        },
        "id": "4N114Ml0wf1B",
        "outputId": "db54e03f-1f22-4bd0-d30c-44cfff359fc0"
      },
      "outputs": [
        {
          "data": {
            "application/vnd.google.colaboratory.intrinsic+json": {
              "type": "string"
            },
            "text/plain": [
              "'o'"
            ]
          },
          "execution_count": 27,
          "metadata": {},
          "output_type": "execute_result"
        }
      ],
      "source": [
        "a[-1]"
      ]
    },
    {
      "cell_type": "code",
      "execution_count": null,
      "metadata": {
        "colab": {
          "base_uri": "https://localhost:8080/",
          "height": 35
        },
        "id": "pK5uPXPjwlEU",
        "outputId": "ebe3e23d-ec3e-4f1c-9949-ce7054b5d381"
      },
      "outputs": [
        {
          "data": {
            "application/vnd.google.colaboratory.intrinsic+json": {
              "type": "string"
            },
            "text/plain": [
              "'l'"
            ]
          },
          "execution_count": 28,
          "metadata": {},
          "output_type": "execute_result"
        }
      ],
      "source": [
        "a[-2]"
      ]
    },
    {
      "cell_type": "code",
      "execution_count": null,
      "metadata": {
        "colab": {
          "base_uri": "https://localhost:8080/",
          "height": 35
        },
        "id": "VX-IhrDPwr3k",
        "outputId": "6df92e1b-0490-494e-b729-c5ab4ab32d14"
      },
      "outputs": [
        {
          "data": {
            "application/vnd.google.colaboratory.intrinsic+json": {
              "type": "string"
            },
            "text/plain": [
              "'hell'"
            ]
          },
          "execution_count": 29,
          "metadata": {},
          "output_type": "execute_result"
        }
      ],
      "source": [
        "a[:-1]"
      ]
    },
    {
      "cell_type": "code",
      "execution_count": null,
      "metadata": {
        "colab": {
          "base_uri": "https://localhost:8080/",
          "height": 35
        },
        "id": "zSr88Fglw28E",
        "outputId": "774c1eb5-0ac8-486f-ffbc-ee5f46fa8a6a"
      },
      "outputs": [
        {
          "data": {
            "application/vnd.google.colaboratory.intrinsic+json": {
              "type": "string"
            },
            "text/plain": [
              "'hello'"
            ]
          },
          "execution_count": 30,
          "metadata": {},
          "output_type": "execute_result"
        }
      ],
      "source": [
        "a[:]"
      ]
    },
    {
      "cell_type": "code",
      "execution_count": null,
      "metadata": {
        "colab": {
          "base_uri": "https://localhost:8080/",
          "height": 35
        },
        "id": "y2SJQ8Sow9kc",
        "outputId": "9770d908-abdc-44d3-f306-1373258811c6"
      },
      "outputs": [
        {
          "data": {
            "application/vnd.google.colaboratory.intrinsic+json": {
              "type": "string"
            },
            "text/plain": [
              "'defghi'"
            ]
          },
          "execution_count": 32,
          "metadata": {},
          "output_type": "execute_result"
        }
      ],
      "source": [
        "s = 'abcdefghijkl'\n",
        "start = 3\n",
        "end = -3\n",
        "\n",
        "s[start:end]  # step=1"
      ]
    },
    {
      "cell_type": "code",
      "execution_count": null,
      "metadata": {
        "colab": {
          "base_uri": "https://localhost:8080/",
          "height": 35
        },
        "id": "WAiXU9nUxSCU",
        "outputId": "53f7fe54-1dd2-48be-d03a-d0cf505031cc"
      },
      "outputs": [
        {
          "data": {
            "application/vnd.google.colaboratory.intrinsic+json": {
              "type": "string"
            },
            "text/plain": [
              "'dfh'"
            ]
          },
          "execution_count": 34,
          "metadata": {},
          "output_type": "execute_result"
        }
      ],
      "source": [
        "step = 2\n",
        "\n",
        "s[start:end:step]"
      ]
    },
    {
      "cell_type": "code",
      "execution_count": null,
      "metadata": {
        "colab": {
          "base_uri": "https://localhost:8080/",
          "height": 35
        },
        "id": "n2b8CCasyJrM",
        "outputId": "20b557e9-f1a8-4d0b-c78c-eaa34ac8aa5a"
      },
      "outputs": [
        {
          "data": {
            "application/vnd.google.colaboratory.intrinsic+json": {
              "type": "string"
            },
            "text/plain": [
              "'acegik'"
            ]
          },
          "execution_count": 37,
          "metadata": {},
          "output_type": "execute_result"
        }
      ],
      "source": [
        "s[::2]"
      ]
    },
    {
      "cell_type": "code",
      "execution_count": null,
      "metadata": {
        "colab": {
          "base_uri": "https://localhost:8080/",
          "height": 35
        },
        "id": "8r8hO8hixob8",
        "outputId": "cada1819-c385-4bd1-a972-bee78dde3910"
      },
      "outputs": [
        {
          "data": {
            "application/vnd.google.colaboratory.intrinsic+json": {
              "type": "string"
            },
            "text/plain": [
              "'fe'"
            ]
          },
          "execution_count": 36,
          "metadata": {},
          "output_type": "execute_result"
        }
      ],
      "source": [
        "end = 5\n",
        "step = -1\n",
        "s[5:3:-1]"
      ]
    },
    {
      "cell_type": "code",
      "execution_count": null,
      "metadata": {
        "id": "JcyoX2CYw68c"
      },
      "outputs": [],
      "source": []
    },
    {
      "cell_type": "code",
      "execution_count": null,
      "metadata": {
        "id": "BuHk0o_o8uyx"
      },
      "outputs": [],
      "source": [
        "# + *               # Sequence concat\n",
        "\n",
        "x = 'ab'\n",
        "x + 'cd'            # str + str\n",
        "'zy' + x            # str + str"
      ]
    },
    {
      "cell_type": "code",
      "execution_count": null,
      "metadata": {
        "id": "_EqTqfxq8-TC"
      },
      "outputs": [],
      "source": [
        "x + x + x\n",
        "x * 3               # str * int\n",
        "3 * x               # int * str"
      ]
    },
    {
      "cell_type": "code",
      "execution_count": null,
      "metadata": {},
      "outputs": [],
      "source": []
    },
    {
      "cell_type": "code",
      "execution_count": null,
      "metadata": {
        "id": "pw5G9_Zy9AeK"
      },
      "outputs": [],
      "source": [
        "# .strip, .rstrip, .lstrip\n",
        "\n",
        "x = 'http://www.python.org  '\n",
        "x.strip()"
      ]
    },
    {
      "cell_type": "code",
      "execution_count": null,
      "metadata": {
        "id": "hAQd3rWY9R__"
      },
      "outputs": [],
      "source": [
        "x.strip('htp:/')"
      ]
    },
    {
      "cell_type": "code",
      "execution_count": null,
      "metadata": {
        "id": "hWxDXGtyC7dG"
      },
      "outputs": [],
      "source": []
    },
    {
      "cell_type": "code",
      "execution_count": null,
      "metadata": {
        "colab": {
          "base_uri": "https://localhost:8080/",
          "height": 70
        },
        "id": "k7YrcfQX9qEd",
        "outputId": "1bddeb1b-5a6f-4525-aab3-8ad8a6a7b4ae"
      },
      "outputs": [
        {
          "data": {
            "text/plain": [
              "1"
            ]
          },
          "execution_count": 40,
          "metadata": {},
          "output_type": "execute_result"
        },
        {
          "data": {
            "application/vnd.google.colaboratory.intrinsic+json": {
              "type": "string"
            },
            "text/plain": [
              "'I AM A GIRL.'"
            ]
          },
          "execution_count": 40,
          "metadata": {},
          "output_type": "execute_result"
        },
        {
          "data": {
            "application/vnd.google.colaboratory.intrinsic+json": {
              "type": "string"
            },
            "text/plain": [
              "'i am a girl.'"
            ]
          },
          "execution_count": 40,
          "metadata": {},
          "output_type": "execute_result"
        }
      ],
      "source": [
        "# .upper, lower, capitalize, title, find, replace, ...\n",
        "abs(-1)   # built-in 함수 : import 없이 그냥 사용 가능\n",
        "\n",
        "x = 'I am a girl.'\n",
        "x.upper()           # str객체.method()\n",
        "x.lower()"
      ]
    },
    {
      "cell_type": "code",
      "execution_count": null,
      "metadata": {
        "colab": {
          "base_uri": "https://localhost:8080/",
          "height": 53
        },
        "id": "s5r7pHhi92SJ",
        "outputId": "8458efd3-719a-40c7-e835-3f056c062a0e"
      },
      "outputs": [
        {
          "data": {
            "application/vnd.google.colaboratory.intrinsic+json": {
              "type": "string"
            },
            "text/plain": [
              "'I am a girl.'"
            ]
          },
          "execution_count": 41,
          "metadata": {},
          "output_type": "execute_result"
        },
        {
          "data": {
            "application/vnd.google.colaboratory.intrinsic+json": {
              "type": "string"
            },
            "text/plain": [
              "'I Am A Girl.'"
            ]
          },
          "execution_count": 41,
          "metadata": {},
          "output_type": "execute_result"
        }
      ],
      "source": [
        "x.capitalize()\n",
        "x.title()"
      ]
    },
    {
      "cell_type": "code",
      "execution_count": null,
      "metadata": {
        "colab": {
          "base_uri": "https://localhost:8080/"
        },
        "id": "sLIPM9gL0Iht",
        "outputId": "1229b9ea-bd15-4d6f-94f6-a1c0fa73338b"
      },
      "outputs": [
        {
          "data": {
            "text/plain": [
              "2"
            ]
          },
          "execution_count": 48,
          "metadata": {},
          "output_type": "execute_result"
        }
      ],
      "source": [
        "x.count('a')        # Sequence객체.count(원소)"
      ]
    },
    {
      "cell_type": "code",
      "execution_count": null,
      "metadata": {
        "colab": {
          "base_uri": "https://localhost:8080/",
          "height": 176
        },
        "id": "DkUsbd8ozppO",
        "outputId": "0c6cc036-d8b3-4e8f-868b-cddd0eb4b6c5"
      },
      "outputs": [
        {
          "data": {
            "text/plain": [
              "-1"
            ]
          },
          "execution_count": 46,
          "metadata": {},
          "output_type": "execute_result"
        },
        {
          "ename": "ValueError",
          "evalue": "substring not found",
          "output_type": "error",
          "traceback": [
            "\u001b[0;31m---------------------------------------------------------------------------\u001b[0m",
            "\u001b[0;31mValueError\u001b[0m                                Traceback (most recent call last)",
            "\u001b[0;32m<ipython-input-46-de3f64fd43fb>\u001b[0m in \u001b[0;36m<cell line: 2>\u001b[0;34m()\u001b[0m\n\u001b[1;32m      1\u001b[0m \u001b[0mx\u001b[0m\u001b[0;34m.\u001b[0m\u001b[0mfind\u001b[0m\u001b[0;34m(\u001b[0m\u001b[0;34m'z'\u001b[0m\u001b[0;34m)\u001b[0m\u001b[0;34m\u001b[0m\u001b[0;34m\u001b[0m\u001b[0m\n\u001b[0;32m----> 2\u001b[0;31m \u001b[0mx\u001b[0m\u001b[0;34m.\u001b[0m\u001b[0mindex\u001b[0m\u001b[0;34m(\u001b[0m\u001b[0;34m'z'\u001b[0m\u001b[0;34m)\u001b[0m\u001b[0;34m\u001b[0m\u001b[0;34m\u001b[0m\u001b[0m\n\u001b[0m",
            "\u001b[0;31mValueError\u001b[0m: substring not found"
          ]
        }
      ],
      "source": [
        "x.find('z')\n",
        "x.index('z')"
      ]
    },
    {
      "cell_type": "code",
      "execution_count": null,
      "metadata": {
        "colab": {
          "base_uri": "https://localhost:8080/",
          "height": 87
        },
        "id": "LZeyYQp198H1",
        "outputId": "1b49281a-9f16-4b57-a375-a67ffeb24799"
      },
      "outputs": [
        {
          "data": {
            "text/plain": [
              "8"
            ]
          },
          "execution_count": 50,
          "metadata": {},
          "output_type": "execute_result"
        },
        {
          "data": {
            "text/plain": [
              "2"
            ]
          },
          "execution_count": 50,
          "metadata": {},
          "output_type": "execute_result"
        },
        {
          "data": {
            "text/plain": [
              "-1"
            ]
          },
          "execution_count": 50,
          "metadata": {},
          "output_type": "execute_result"
        },
        {
          "data": {
            "application/vnd.google.colaboratory.intrinsic+json": {
              "type": "string"
            },
            "text/plain": [
              "'I**am**a**girl.'"
            ]
          },
          "execution_count": 50,
          "metadata": {},
          "output_type": "execute_result"
        }
      ],
      "source": [
        "x.find('ir')            # 첫 번째 매치 인덱스, 없으면 -1\n",
        "x.find('a')\n",
        "x.find('z')\n",
        "x.replace(' ', '**')"
      ]
    },
    {
      "cell_type": "code",
      "execution_count": null,
      "metadata": {
        "colab": {
          "base_uri": "https://localhost:8080/"
        },
        "id": "zMrUE-Pu0fI9",
        "outputId": "6bfaacd5-69b4-4aad-b469-0e0dc96f51e7"
      },
      "outputs": [
        {
          "data": {
            "text/plain": [
              "12"
            ]
          },
          "execution_count": 52,
          "metadata": {},
          "output_type": "execute_result"
        }
      ],
      "source": [
        "len(x)          # 시퀀스 < Iterable : 길이"
      ]
    },
    {
      "cell_type": "code",
      "execution_count": null,
      "metadata": {
        "id": "Dg1FOFy2-ARa"
      },
      "outputs": [],
      "source": [
        "# text 패턴 써치, 치환 등 전문 작업(regex: regular expression)을 위한 표준 패키지: re(고급)"
      ]
    },
    {
      "cell_type": "markdown",
      "metadata": {
        "id": "rMwdGffXDHRg"
      },
      "source": [
        "#### format, f-string"
      ]
    },
    {
      "cell_type": "code",
      "execution_count": null,
      "metadata": {
        "id": "Y06SkMDRybR8"
      },
      "outputs": [],
      "source": [
        "# format(객체, 포맷스트링)\n",
        "# '~{}~{}~'.format('aaa', 'bbb')\n",
        "# f'~{변수1} ~{변수2}'"
      ]
    },
    {
      "cell_type": "code",
      "execution_count": 36,
      "metadata": {},
      "outputs": [
        {
          "data": {
            "text/plain": [
              "'101010'"
            ]
          },
          "execution_count": 36,
          "metadata": {},
          "output_type": "execute_result"
        },
        {
          "data": {
            "text/plain": [
              "'2a'"
            ]
          },
          "execution_count": 36,
          "metadata": {},
          "output_type": "execute_result"
        },
        {
          "data": {
            "text/plain": [
              "'0.667'"
            ]
          },
          "execution_count": 36,
          "metadata": {},
          "output_type": "execute_result"
        },
        {
          "data": {
            "text/plain": [
              "'6.666667e-01'"
            ]
          },
          "execution_count": 36,
          "metadata": {},
          "output_type": "execute_result"
        },
        {
          "data": {
            "text/plain": [
              "'66.7%'"
            ]
          },
          "execution_count": 36,
          "metadata": {},
          "output_type": "execute_result"
        }
      ],
      "source": [
        "# format(객체, 포맷스트링) : __format__, 없으면 __str__\n",
        "\n",
        "format(42, 'b')     # b: int -> binary\n",
        "format(42, 'x')     # x: int -> hex\n",
        "\n",
        "format(2 / 3, '.3f')    # f for float\n",
        "format(2 / 3, 'e')      # e for 10**n\n",
        "format(2 / 3, '.1%')    # % for percentage"
      ]
    },
    {
      "cell_type": "code",
      "execution_count": null,
      "metadata": {
        "colab": {
          "base_uri": "https://localhost:8080/",
          "height": 72
        },
        "id": "8Wcy0d8LnbZW",
        "outputId": "a7558367-a54a-4273-81b9-aac33ebb7484"
      },
      "outputs": [
        {
          "data": {
            "application/vnd.google.colaboratory.intrinsic+json": {
              "type": "string"
            },
            "text/plain": [
              "'나은(는) 빨간색과 파란색을 좋아해~'"
            ]
          },
          "execution_count": 2,
          "metadata": {},
          "output_type": "execute_result"
        },
        {
          "data": {
            "application/vnd.google.colaboratory.intrinsic+json": {
              "type": "string"
            },
            "text/plain": [
              "'너은(는) 뻘건색과 퍼런색을 좋아해~'"
            ]
          },
          "execution_count": 2,
          "metadata": {},
          "output_type": "execute_result"
        },
        {
          "data": {
            "application/vnd.google.colaboratory.intrinsic+json": {
              "type": "string"
            },
            "text/plain": [
              "'you은(는) red색과 blue색을 좋아해~'"
            ]
          },
          "execution_count": 2,
          "metadata": {},
          "output_type": "execute_result"
        }
      ],
      "source": [
        "template = '{who}은(는) {first}색과 {second}색을 좋아해~'\n",
        "\n",
        "template.format(who='나', first='빨간', second='파란')          # who, first, second = local variable\n",
        "template.format(who='너', first='뻘건', second='퍼런')\n",
        "template.format(who='you', first='red', second='blue')"
      ]
    },
    {
      "cell_type": "code",
      "execution_count": null,
      "metadata": {
        "colab": {
          "base_uri": "https://localhost:8080/",
          "height": 147
        },
        "id": "pL6XwwxExfqM",
        "outputId": "1076520f-0997-435e-eb27-219e20cf4da9"
      },
      "outputs": [
        {
          "ename": "NameError",
          "evalue": "name 'first' is not defined",
          "output_type": "error",
          "traceback": [
            "\u001b[0;31m---------------------------------------------------------------------------\u001b[0m",
            "\u001b[0;31mNameError\u001b[0m                                 Traceback (most recent call last)",
            "\u001b[0;32m<ipython-input-3-9a3831cacd0d>\u001b[0m in \u001b[0;36m<cell line: 1>\u001b[0;34m()\u001b[0m\n\u001b[0;32m----> 1\u001b[0;31m \u001b[0mfirst\u001b[0m\u001b[0;34m,\u001b[0m \u001b[0msecond\u001b[0m\u001b[0;34m\u001b[0m\u001b[0;34m\u001b[0m\u001b[0m\n\u001b[0m",
            "\u001b[0;31mNameError\u001b[0m: name 'first' is not defined"
          ]
        }
      ],
      "source": [
        "first, second       # local variable"
      ]
    },
    {
      "cell_type": "code",
      "execution_count": null,
      "metadata": {
        "colab": {
          "base_uri": "https://localhost:8080/",
          "height": 35
        },
        "id": "dvTg52f0nbJM",
        "outputId": "e3d50194-34cf-4bc1-8cad-70a1bfca8d1b"
      },
      "outputs": [
        {
          "data": {
            "application/vnd.google.colaboratory.intrinsic+json": {
              "type": "string"
            },
            "text/plain": [
              "'나는 빨간색과 파란색을 좋아해~'"
            ]
          },
          "execution_count": 4,
          "metadata": {},
          "output_type": "execute_result"
        }
      ],
      "source": [
        "first, second = '빨간', '파란'          # global variable\n",
        "\n",
        "f'나는 {first}색과 {second}색을 좋아해~'    # global var 바로 사용 가능"
      ]
    },
    {
      "cell_type": "code",
      "execution_count": null,
      "metadata": {
        "colab": {
          "base_uri": "https://localhost:8080/"
        },
        "id": "QN3yQnd_oAgB",
        "outputId": "a3c2c978-76eb-49c3-a0f0-ac22ead5f912"
      },
      "outputs": [
        {
          "data": {
            "text/plain": [
              "('빨간', '파란')"
            ]
          },
          "execution_count": 5,
          "metadata": {},
          "output_type": "execute_result"
        }
      ],
      "source": [
        "first, second           # global var"
      ]
    },
    {
      "cell_type": "code",
      "execution_count": null,
      "metadata": {
        "colab": {
          "base_uri": "https://localhost:8080/",
          "height": 35
        },
        "id": "OboTpRTC2Gjz",
        "outputId": "3f539b4c-7714-4dbc-c301-3f6fe0a9d077"
      },
      "outputs": [
        {
          "data": {
            "application/vnd.google.colaboratory.intrinsic+json": {
              "type": "string"
            },
            "text/plain": [
              "'0.333살'"
            ]
          },
          "execution_count": 7,
          "metadata": {},
          "output_type": "execute_result"
        }
      ],
      "source": [
        "age= 1/3\n",
        "\n",
        "f'{age:.3f}살'      # f'{변수:포맷스트링}'"
      ]
    },
    {
      "cell_type": "code",
      "execution_count": 41,
      "metadata": {},
      "outputs": [
        {
          "data": {
            "text/plain": [
              "'1, 1'"
            ]
          },
          "execution_count": 41,
          "metadata": {},
          "output_type": "execute_result"
        },
        {
          "data": {
            "text/plain": [
              "\"1, '1'\""
            ]
          },
          "execution_count": 41,
          "metadata": {},
          "output_type": "execute_result"
        }
      ],
      "source": [
        "a, b = 1, '1'\n",
        "\n",
        "f'{a}, {b}'\n",
        "f'{a!r}, {b!r}'\n",
        "# f'{a} is equal to {a!r}?'\n",
        "# f'{b} is equal to {b!r}?'"
      ]
    },
    {
      "cell_type": "code",
      "execution_count": null,
      "metadata": {
        "colab": {
          "base_uri": "https://localhost:8080/"
        },
        "id": "6ccbziZ12pUK",
        "outputId": "61628959-033a-4ce5-ec71-3a453983e4a2"
      },
      "outputs": [
        {
          "name": "stdout",
          "output_type": "stream",
          "text": [
            "나도\n",
            " '코딩'입니다\n"
          ]
        }
      ],
      "source": [
        "print('나도\\n \\'코딩\\'입니다')"
      ]
    },
    {
      "cell_type": "code",
      "execution_count": null,
      "metadata": {
        "colab": {
          "base_uri": "https://localhost:8080/"
        },
        "id": "MSbV-jeo2oyD",
        "outputId": "7c854223-3791-41ce-c7e1-1d984bb24d33"
      },
      "outputs": [
        {
          "name": "stdout",
          "output_type": "stream",
          "text": [
            "c:\\users\n"
          ]
        }
      ],
      "source": [
        "print('c:\\\\users')"
      ]
    },
    {
      "cell_type": "code",
      "execution_count": null,
      "metadata": {
        "colab": {
          "base_uri": "https://localhost:8080/"
        },
        "id": "mwiuL4kN3F79",
        "outputId": "089bad85-660e-43ea-e446-8090d81a9a4d"
      },
      "outputs": [
        {
          "name": "stdout",
          "output_type": "stream",
          "text": [
            "c:\\users\n"
          ]
        }
      ],
      "source": [
        "print(r'c:\\users')      # raw string : \\를 글자 그대로 인식"
      ]
    },
    {
      "cell_type": "markdown",
      "metadata": {},
      "source": [
        "#### re"
      ]
    },
    {
      "cell_type": "code",
      "execution_count": 173,
      "metadata": {},
      "outputs": [],
      "source": [
        "# import this\n",
        "\n",
        "words = '''The Zen of Python, by Tim Peters\n",
        "\n",
        "Beautiful is better than ugly.\n",
        "Explicit is better than implicit.\n",
        "Simple is better than complex.\n",
        "Complex is better than complicated.\n",
        "Flat is better than nested.\n",
        "Sparse is better than dense.\n",
        "Readability counts.\n",
        "Special cases aren't special enough to break the rules.\n",
        "Although practicality beats purity.\n",
        "Errors should never pass silently.\n",
        "Unless explicitly silenced.\n",
        "In the face of ambiguity, refuse the temptation to guess.\n",
        "There should be one-- and preferably only one --obvious way to do it.\n",
        "Although that way may not be obvious at first unless you're Dutch.\n",
        "Now is better than never.\n",
        "Although never is often better than *right* now.\n",
        "If the implementation is hard to explain, it's a bad idea.\n",
        "If the implementation is easy to explain, it may be a good idea.\n",
        "Namespaces are one honking great idea -- let's do more of those!'''"
      ]
    },
    {
      "cell_type": "code",
      "execution_count": 174,
      "metadata": {},
      "outputs": [
        {
          "name": "stdout",
          "output_type": "stream",
          "text": [
            "a [(19, 48), (20, 53)]\n",
            "although [(11, 1), (16, 1), (18, 1)]\n",
            "ambiguity [(14, 16)]\n",
            "and [(15, 23)]\n",
            "are [(21, 12)]\n",
            "aren [(10, 15)]\n",
            "at [(16, 38)]\n",
            "bad [(19, 50)]\n",
            "be [(15, 14), (16, 27), (20, 50)]\n",
            "beats [(11, 23)]\n",
            "beautiful [(3, 1)]\n",
            "better [(3, 14), (4, 13), (5, 11), (6, 12), (7, 9), (8, 11), (17, 8), (18, 25)]\n",
            "break [(10, 40)]\n",
            "by [(1, 20)]\n",
            "cases [(10, 9)]\n",
            "complex [(5, 23), (6, 1)]\n",
            "complicated [(6, 24)]\n",
            "counts [(9, 13)]\n",
            "dense [(8, 23)]\n",
            "do [(15, 64), (21, 48)]\n",
            "dutch [(16, 61)]\n",
            "easy [(20, 26)]\n",
            "enough [(10, 30)]\n",
            "errors [(12, 1)]\n",
            "explain [(19, 34), (20, 34)]\n",
            "explicit [(4, 1)]\n",
            "explicitly [(13, 8)]\n",
            "face [(14, 8)]\n",
            "first [(16, 41)]\n",
            "flat [(7, 1)]\n",
            "good [(20, 55)]\n",
            "great [(21, 28)]\n",
            "guess [(14, 52)]\n",
            "hard [(19, 26)]\n",
            "honking [(21, 20)]\n",
            "idea [(19, 54), (20, 60), (21, 34)]\n",
            "if [(19, 1), (20, 1)]\n",
            "implementation [(19, 8), (20, 8)]\n",
            "implicit [(4, 25)]\n",
            "in [(14, 1)]\n",
            "is [(3, 11), (4, 10), (5, 8), (6, 9), (7, 6), (8, 8), (17, 5), (18, 16), (19, 23), (20, 23)]\n",
            "it [(15, 67), (19, 43), (20, 43)]\n",
            "let [(21, 42)]\n",
            "may [(16, 19), (20, 46)]\n",
            "more [(21, 51)]\n",
            "namespaces [(21, 1)]\n",
            "nested [(7, 21)]\n",
            "never [(12, 15), (17, 20), (18, 10)]\n",
            "not [(16, 23)]\n",
            "now [(17, 1), (18, 45)]\n",
            "obvious [(15, 49), (16, 30)]\n",
            "of [(1, 9), (14, 13), (21, 56)]\n",
            "often [(18, 19)]\n",
            "one [(15, 17), (15, 43), (21, 16)]\n",
            "only [(15, 38)]\n",
            "pass [(12, 21)]\n",
            "peters [(1, 27)]\n",
            "practicality [(11, 10)]\n",
            "preferably [(15, 27)]\n",
            "purity [(11, 29)]\n",
            "python [(1, 12)]\n",
            "re [(16, 58)]\n",
            "readability [(9, 1)]\n",
            "refuse [(14, 27)]\n",
            "right [(18, 38)]\n",
            "rules [(10, 50)]\n",
            "s [(19, 46), (21, 46)]\n",
            "should [(12, 8), (15, 7)]\n",
            "silenced [(13, 19)]\n",
            "silently [(12, 26)]\n",
            "simple [(5, 1)]\n",
            "sparse [(8, 1)]\n",
            "special [(10, 1), (10, 22)]\n",
            "t [(10, 20)]\n",
            "temptation [(14, 38)]\n",
            "than [(3, 21), (4, 20), (5, 18), (6, 19), (7, 16), (8, 18), (17, 15), (18, 32)]\n",
            "that [(16, 10)]\n",
            "the [(1, 1), (10, 46), (14, 4), (14, 34), (19, 4), (20, 4)]\n",
            "there [(15, 1)]\n",
            "those [(21, 59)]\n",
            "tim [(1, 23)]\n",
            "to [(10, 37), (14, 49), (15, 61), (19, 31), (20, 31)]\n",
            "ugly [(3, 26)]\n",
            "unless [(13, 1), (16, 47)]\n",
            "way [(15, 57), (16, 15)]\n",
            "you [(16, 54)]\n",
            "zen [(1, 5)]\n"
          ]
        }
      ],
      "source": [
        "# 각 단어의 위치 (row, col) 구하기\n",
        "\n",
        "import re\n",
        "from collections import defaultdict\n",
        "\n",
        "WORD_REGEX = re.compile(r'\\w+')\n",
        "ixs = defaultdict(list)\n",
        "\n",
        "for i, line in enumerate(words.split('\\n'), 1):\n",
        "    for m in WORD_REGEX.finditer(line):\n",
        "        word = m.group()\n",
        "        loc = (i, m.start() + 1)\n",
        "        ixs[word.lower()].append(loc)\n",
        "\n",
        "for word in sorted(ixs):    # key=str.upper\n",
        "    print(word, ixs[word])"
      ]
    },
    {
      "cell_type": "markdown",
      "metadata": {
        "id": "zeDyhytwYX2E"
      },
      "source": [
        "### bool"
      ]
    },
    {
      "cell_type": "code",
      "execution_count": null,
      "metadata": {
        "id": "VuzdqVqy-p2E"
      },
      "outputs": [],
      "source": [
        "# not and or : 논리연산자 순서\n",
        "\n",
        "not True and False or not False\n",
        "(not True) and False or (not False)\n",
        "False and False or True\n",
        "(False and False) or True\n",
        "False or True"
      ]
    },
    {
      "cell_type": "code",
      "execution_count": null,
      "metadata": {
        "id": "F__U-e8JXzCE"
      },
      "outputs": [],
      "source": [
        "# 값 비교연산자  : >, >=, <, <=, ==, !=\n",
        "\n",
        "x = 1\n",
        "y = 2\n",
        "\n",
        "x > y\n",
        "x == y\n",
        "x != y"
      ]
    },
    {
      "cell_type": "code",
      "execution_count": null,
      "metadata": {
        "id": "IBTlIsIp_aZd"
      },
      "outputs": [],
      "source": [
        "# 객체 비교 : is\n",
        "\n",
        "x = y = 10\n",
        "z = None\n",
        "\n",
        "x is y\n",
        "x is not y\n",
        "z is None\n",
        "id(x)               # id(객체) -> 메모리 주소\n",
        "id(y)\n",
        "id(z)\n",
        "id(None)"
      ]
    },
    {
      "cell_type": "code",
      "execution_count": null,
      "metadata": {
        "id": "_tKf0j94_fxM"
      },
      "outputs": [],
      "source": [
        "# all(), any()\n",
        "\n",
        "x = (1, 2, 3, 0)        # [1, 2, 3, 0]\n",
        "\n",
        "all(x)\n",
        "any(x)"
      ]
    },
    {
      "cell_type": "markdown",
      "metadata": {
        "id": "JsP64nhpAs7O"
      },
      "source": [
        "### 연산 순서, (), 줄넘김"
      ]
    },
    {
      "cell_type": "code",
      "execution_count": null,
      "metadata": {
        "id": "Vd6FGpl1AmOt"
      },
      "outputs": [],
      "source": [
        "# 연산 순서\n",
        "    # () [] {}\n",
        "    # **\n",
        "    # 단항 + - ~\n",
        "    # * / // %\n",
        "    # + -\n",
        "    # <, <=, >, >=, !=, ==, is, is not, in, not in\n",
        "    # not 객체\n",
        "    # and\n",
        "    # or\n",
        "    # if else\n",
        "    # lambda"
      ]
    },
    {
      "cell_type": "code",
      "execution_count": null,
      "metadata": {
        "id": "vHUnKpmpB1Vq"
      },
      "outputs": [],
      "source": [
        "# 줄넘김 \\는 뒤에 스페이스 하나라도 있으면 에러\n",
        "x = 1 +\\\n",
        "    2\n",
        "\n",
        "# 괄호는 자유롭게 줄넘김 가능\n",
        "y = (1 +\n",
        "     2)             # preferred\n",
        "x\n",
        "y"
      ]
    },
    {
      "cell_type": "markdown",
      "metadata": {
        "id": "zBaZfprEKIZx"
      },
      "source": [
        "## 기본 자료형: list, tuple, set, dict"
      ]
    },
    {
      "cell_type": "code",
      "execution_count": null,
      "metadata": {},
      "outputs": [],
      "source": [
        "# 기초 자료형 : int/float/bool/None/str\n",
        "\n",
        "x = 1\n",
        "x = 1.\n",
        "x = True\n",
        "x = None\n",
        "x = 'abc'"
      ]
    },
    {
      "cell_type": "code",
      "execution_count": null,
      "metadata": {
        "id": "hpWxwQhV3z6Q"
      },
      "outputs": [],
      "source": [
        "# 기본 자료형 : list/tuple/set/dict\n",
        "\n",
        "'''\n",
        "list       : (mutable) Sequence   : indexing, slicing\n",
        "tuple, str : (immutable) Sequence : indexing, slicing\n",
        "\n",
        "set        : (mutable) set\n",
        "\n",
        "dict       : (mutable) mapping    : {키1:값1, 키2:값2, ...}\n",
        "'''\n",
        "\n",
        "# => iterable, len(객체), 원소/키 in 객체"
      ]
    },
    {
      "cell_type": "markdown",
      "metadata": {
        "id": "qLoqJ2csE0HX"
      },
      "source": [
        "### list : Mutable Sequence"
      ]
    },
    {
      "cell_type": "code",
      "execution_count": 2,
      "metadata": {
        "colab": {
          "base_uri": "https://localhost:8080/"
        },
        "id": "ZciUfD5_Rlqb",
        "outputId": "5a698c6f-6aec-40d2-a1e0-80079789dec7"
      },
      "outputs": [
        {
          "data": {
            "text/plain": [
              "[1, 'a', 3.0, True]"
            ]
          },
          "execution_count": 2,
          "metadata": {},
          "output_type": "execute_result"
        },
        {
          "data": {
            "text/plain": [
              "list"
            ]
          },
          "execution_count": 2,
          "metadata": {},
          "output_type": "execute_result"
        },
        {
          "name": "stdout",
          "output_type": "stream",
          "text": [
            "1\n"
          ]
        },
        {
          "data": {
            "text/plain": [
              "1"
            ]
          },
          "execution_count": 2,
          "metadata": {},
          "output_type": "execute_result"
        },
        {
          "data": {
            "text/plain": [
              "True"
            ]
          },
          "execution_count": 2,
          "metadata": {},
          "output_type": "execute_result"
        }
      ],
      "source": [
        "x = []                      # 빈 list\n",
        "x = list()                  # 빈 list\n",
        "x = [1, 'a', 3., True]      # 가장 편리한 자료 구조 : 원소 변경/삽입/삭제 자유, but 메모리 효율x\n",
        "x\n",
        "\n",
        "x = [1, 2]                  # 원소 두 개인 list\n",
        "x = [1]                     # 원소 한 개인 list\n",
        "type(x)\n",
        "\n",
        "for a in x:                 # iterable\n",
        "    print(a)\n",
        "\n",
        "len(x)\n",
        "1 in x                      # 2 not in x"
      ]
    },
    {
      "cell_type": "markdown",
      "metadata": {
        "id": "OfJcK3pvE5bR"
      },
      "source": [
        "### tuple : Immutable Sequence"
      ]
    },
    {
      "cell_type": "code",
      "execution_count": 3,
      "metadata": {
        "colab": {
          "base_uri": "https://localhost:8080/"
        },
        "id": "beamZ7fORpml",
        "outputId": "18a00ca0-f722-4f5b-aac7-53efae1e155f"
      },
      "outputs": [
        {
          "data": {
            "text/plain": [
              "(1, 'a', 3.0, True)"
            ]
          },
          "execution_count": 3,
          "metadata": {},
          "output_type": "execute_result"
        },
        {
          "data": {
            "text/plain": [
              "tuple"
            ]
          },
          "execution_count": 3,
          "metadata": {},
          "output_type": "execute_result"
        },
        {
          "name": "stdout",
          "output_type": "stream",
          "text": [
            "1\n"
          ]
        },
        {
          "data": {
            "text/plain": [
              "1"
            ]
          },
          "execution_count": 3,
          "metadata": {},
          "output_type": "execute_result"
        },
        {
          "data": {
            "text/plain": [
              "True"
            ]
          },
          "execution_count": 3,
          "metadata": {},
          "output_type": "execute_result"
        }
      ],
      "source": [
        "x = (1, 'a', 3., True)          # 한 번 만들어진 객체를 변경하지 않겠다는 의도(메모리 효율 O)\n",
        "x = 1, 'a', 3., True            # identical\n",
        "x\n",
        "\n",
        "x = 1, 2                        # 원소 두 개인 tuple\n",
        "x = 1,                          # 원소 하나인 tuple\n",
        "type(x)\n",
        "\n",
        "for a in x:\n",
        "    print(a)\n",
        "len(x)\n",
        "1 in x"
      ]
    },
    {
      "cell_type": "code",
      "execution_count": 6,
      "metadata": {
        "colab": {
          "base_uri": "https://localhost:8080/"
        },
        "id": "Y96udFWh-JeT",
        "outputId": "ba0ba58b-ae73-41f9-a7c9-d7ad0b72af88"
      },
      "outputs": [
        {
          "data": {
            "text/plain": [
              "(2, 1)"
            ]
          },
          "execution_count": 6,
          "metadata": {},
          "output_type": "execute_result"
        },
        {
          "data": {
            "text/plain": [
              "(2, 1)"
            ]
          },
          "execution_count": 6,
          "metadata": {},
          "output_type": "execute_result"
        }
      ],
      "source": [
        "# 두 변수의 값 바꾸기\n",
        "\n",
        "a, b = 1, 2\n",
        "\n",
        "tmp = b             # Python 외 언어\n",
        "b = a               # b에 a값을 넣어 b 값이 없어지기 전에 임시 저장(tmp) 필요\n",
        "a = tmp             # a에는 임시저장된 b값 넣기\n",
        "a, b\n",
        "\n",
        "a, b = 1, 2         # Pythonic\n",
        "a, b = b, a         # tuple unpacking = tuple\n",
        "a, b                # tuple"
      ]
    },
    {
      "cell_type": "markdown",
      "metadata": {},
      "source": [
        "### list/tuple/str: Sequence"
      ]
    },
    {
      "cell_type": "code",
      "execution_count": null,
      "metadata": {},
      "outputs": [
        {
          "data": {
            "text/plain": [
              "'b'"
            ]
          },
          "metadata": {},
          "output_type": "display_data"
        },
        {
          "data": {
            "text/plain": [
              "'bcb'"
            ]
          },
          "metadata": {},
          "output_type": "display_data"
        },
        {
          "data": {
            "text/plain": [
              "1"
            ]
          },
          "metadata": {},
          "output_type": "display_data"
        },
        {
          "data": {
            "text/plain": [
              "2"
            ]
          },
          "metadata": {},
          "output_type": "display_data"
        },
        {
          "data": {
            "text/plain": [
              "'b'"
            ]
          },
          "metadata": {},
          "output_type": "display_data"
        },
        {
          "data": {
            "text/plain": [
              "['b', 'c', 'b']"
            ]
          },
          "metadata": {},
          "output_type": "display_data"
        },
        {
          "data": {
            "text/plain": [
              "1"
            ]
          },
          "metadata": {},
          "output_type": "display_data"
        },
        {
          "data": {
            "text/plain": [
              "2"
            ]
          },
          "metadata": {},
          "output_type": "display_data"
        },
        {
          "data": {
            "text/plain": [
              "'b'"
            ]
          },
          "metadata": {},
          "output_type": "display_data"
        },
        {
          "data": {
            "text/plain": [
              "('b', 'c', 'b')"
            ]
          },
          "metadata": {},
          "output_type": "display_data"
        },
        {
          "data": {
            "text/plain": [
              "1"
            ]
          },
          "metadata": {},
          "output_type": "display_data"
        },
        {
          "data": {
            "text/plain": [
              "2"
            ]
          },
          "metadata": {},
          "output_type": "display_data"
        }
      ],
      "source": [
        "# indexing & slicing, .count\n",
        "\n",
        "obj = 'abcb'\n",
        "obj[-1]\n",
        "obj[1:]\n",
        "obj.index('b')              # find, replace\n",
        "obj.count('b')\n",
        "\n",
        "obj = ['a', 'b', 'c', 'b']\n",
        "obj[-1]\n",
        "obj[1:]\n",
        "obj.index('b')\n",
        "obj.count('b')\n",
        "\n",
        "obj = 'a', 'b', 'c', 'b'\n",
        "obj[-1]\n",
        "obj[1:]\n",
        "obj.index('b')\n",
        "obj.count('b')"
      ]
    },
    {
      "cell_type": "code",
      "execution_count": 17,
      "metadata": {},
      "outputs": [
        {
          "data": {
            "text/plain": [
              "[1, 2, 3, 4]"
            ]
          },
          "execution_count": 17,
          "metadata": {},
          "output_type": "execute_result"
        },
        {
          "data": {
            "text/plain": [
              "(1, 2, 3, 4)"
            ]
          },
          "execution_count": 17,
          "metadata": {},
          "output_type": "execute_result"
        },
        {
          "data": {
            "text/plain": [
              "'1234'"
            ]
          },
          "execution_count": 17,
          "metadata": {},
          "output_type": "execute_result"
        }
      ],
      "source": [
        "# concat : +, *, +=, *=\n",
        "\n",
        "[1, 2] + [3, 4]         # 리스트.extend([3, 4])\n",
        "(1, 2) + (3, 4)\n",
        "'12' + '34'"
      ]
    },
    {
      "cell_type": "code",
      "execution_count": 48,
      "metadata": {},
      "outputs": [
        {
          "data": {
            "text/plain": [
              "[1, 2, 1, 2]"
            ]
          },
          "execution_count": 48,
          "metadata": {},
          "output_type": "execute_result"
        },
        {
          "data": {
            "text/plain": [
              "(1, 2, 1, 2)"
            ]
          },
          "execution_count": 48,
          "metadata": {},
          "output_type": "execute_result"
        },
        {
          "data": {
            "text/plain": [
              "'1212'"
            ]
          },
          "execution_count": 48,
          "metadata": {},
          "output_type": "execute_result"
        }
      ],
      "source": [
        "[1, 2] * 2      # 2 * [1, 2]\n",
        "(1, 2) * 2      # 2 * (1, 2)\n",
        "'12' * 2        # 2 * '12'"
      ]
    },
    {
      "cell_type": "code",
      "execution_count": 4,
      "metadata": {},
      "outputs": [
        {
          "data": {
            "text/plain": [
              "[1, 2, 1, 2, 1, 2]"
            ]
          },
          "execution_count": 4,
          "metadata": {},
          "output_type": "execute_result"
        },
        {
          "data": {
            "text/plain": [
              "(1, 2, 1, 2, 1, 2)"
            ]
          },
          "execution_count": 4,
          "metadata": {},
          "output_type": "execute_result"
        },
        {
          "data": {
            "text/plain": [
              "'121212'"
            ]
          },
          "execution_count": 4,
          "metadata": {},
          "output_type": "execute_result"
        }
      ],
      "source": [
        "l = [1, 2]\n",
        "t = tuple(l)    # (1, 2)\n",
        "s = '12'\n",
        "\n",
        "l *= 3\n",
        "l\n",
        "t *= 3\n",
        "t\n",
        "s *= 3\n",
        "s"
      ]
    },
    {
      "cell_type": "code",
      "execution_count": 5,
      "metadata": {},
      "outputs": [
        {
          "data": {
            "text/plain": [
              "[1, 2, 1, 2, 1, 2, 3, 4]"
            ]
          },
          "execution_count": 5,
          "metadata": {},
          "output_type": "execute_result"
        },
        {
          "data": {
            "text/plain": [
              "(1, 2, 1, 2, 1, 2, 3, 4)"
            ]
          },
          "execution_count": 5,
          "metadata": {},
          "output_type": "execute_result"
        },
        {
          "data": {
            "text/plain": [
              "'12121234'"
            ]
          },
          "execution_count": 5,
          "metadata": {},
          "output_type": "execute_result"
        }
      ],
      "source": [
        "l += [3, 4]\n",
        "l\n",
        "t += (3, 4)\n",
        "t\n",
        "s += '34'\n",
        "s"
      ]
    },
    {
      "cell_type": "code",
      "execution_count": null,
      "metadata": {},
      "outputs": [],
      "source": []
    },
    {
      "cell_type": "code",
      "execution_count": 78,
      "metadata": {},
      "outputs": [
        {
          "data": {
            "text/plain": [
              "['a', 'b', 'c']"
            ]
          },
          "execution_count": 78,
          "metadata": {},
          "output_type": "execute_result"
        },
        {
          "data": {
            "text/plain": [
              "('a', 'b', 'c')"
            ]
          },
          "execution_count": 78,
          "metadata": {},
          "output_type": "execute_result"
        }
      ],
      "source": [
        "s = 'abc'\n",
        "\n",
        "list(s)         # str -> list\n",
        "tuple(s)        # str -> tuple"
      ]
    },
    {
      "cell_type": "code",
      "execution_count": 38,
      "metadata": {},
      "outputs": [
        {
          "data": {
            "text/plain": [
              "['spades', 'diamonds', 'clubs', 'hearts']"
            ]
          },
          "execution_count": 38,
          "metadata": {},
          "output_type": "execute_result"
        }
      ],
      "source": [
        "# 스트링.split(sep=' ') -> list\n",
        "\n",
        "suits = 'spades diamonds clubs hearts'.split()          # 스트링.split(sep=' ') -> list\n",
        "suits"
      ]
    },
    {
      "cell_type": "code",
      "execution_count": 18,
      "metadata": {},
      "outputs": [
        {
          "data": {
            "text/plain": [
              "['Seoul', 'New', 'York', 'London', 'Paris']"
            ]
          },
          "execution_count": 18,
          "metadata": {},
          "output_type": "execute_result"
        },
        {
          "data": {
            "text/plain": [
              "['Seoul', 'New York', 'London', 'Paris']"
            ]
          },
          "execution_count": 18,
          "metadata": {},
          "output_type": "execute_result"
        }
      ],
      "source": [
        "cities = 'Seoul New York London Paris'.split()          # ???\n",
        "cities\n",
        "\n",
        "cities = 'Seoul_New York_London_Paris'.split('_')       # sep 지정\n",
        "cities"
      ]
    },
    {
      "cell_type": "code",
      "execution_count": 19,
      "metadata": {},
      "outputs": [
        {
          "data": {
            "text/plain": [
              "['spades diamonds clubs hearts']"
            ]
          },
          "execution_count": 19,
          "metadata": {},
          "output_type": "execute_result"
        }
      ],
      "source": [
        "suits = 'spades diamonds clubs hearts'.split('_')       # str에 sep이 없는 경우에도 -> list\n",
        "suits"
      ]
    },
    {
      "cell_type": "code",
      "execution_count": 20,
      "metadata": {},
      "outputs": [
        {
          "data": {
            "text/plain": [
              "['spades', 'diamonds', 'clubs', 'hearts']"
            ]
          },
          "execution_count": 20,
          "metadata": {},
          "output_type": "execute_result"
        },
        {
          "data": {
            "text/plain": [
              "'spades diamonds clubs hearts'"
            ]
          },
          "execution_count": 20,
          "metadata": {},
          "output_type": "execute_result"
        },
        {
          "data": {
            "text/plain": [
              "'spades_*^diamonds_*^clubs_*^hearts'"
            ]
          },
          "execution_count": 20,
          "metadata": {},
          "output_type": "execute_result"
        }
      ],
      "source": [
        "# 스트링.join(이터러블 of str)\n",
        "\n",
        "suits = 'spades diamonds clubs hearts'.split()\n",
        "suits = ['spades', 'diamonds', 'clubs', 'hearts']\n",
        "\n",
        "' '.join(suits)             # 스트링.join(이터러블) -> str\n",
        "'_*^'.join(suits)"
      ]
    },
    {
      "cell_type": "code",
      "execution_count": 56,
      "metadata": {},
      "outputs": [
        {
          "ename": "TypeError",
          "evalue": "sequence item 0: expected str instance, int found",
          "output_type": "error",
          "traceback": [
            "\u001b[0;31m---------------------------------------------------------------------------\u001b[0m",
            "\u001b[0;31mTypeError\u001b[0m                                 Traceback (most recent call last)",
            "Cell \u001b[0;32mIn[56], line 1\u001b[0m\n\u001b[0;32m----> 1\u001b[0m \u001b[38;5;124m'\u001b[39m\u001b[38;5;124m \u001b[39m\u001b[38;5;124m'\u001b[39m\u001b[38;5;241m.\u001b[39mjoin([\u001b[38;5;241m1\u001b[39m,\u001b[38;5;241m2\u001b[39m])\n",
            "\u001b[0;31mTypeError\u001b[0m: sequence item 0: expected str instance, int found"
          ]
        }
      ],
      "source": [
        "' '.join([1, 2])"
      ]
    },
    {
      "cell_type": "code",
      "execution_count": 46,
      "metadata": {},
      "outputs": [
        {
          "data": {
            "text/plain": [
              "'1*2*3*4*5'"
            ]
          },
          "execution_count": 46,
          "metadata": {},
          "output_type": "execute_result"
        }
      ],
      "source": [
        "'*'.join('12345')"
      ]
    },
    {
      "cell_type": "markdown",
      "metadata": {
        "id": "Dhz6svQeFWXH"
      },
      "source": [
        "### set"
      ]
    },
    {
      "cell_type": "code",
      "execution_count": 6,
      "metadata": {
        "id": "9H-4fAhlRsNI"
      },
      "outputs": [
        {
          "data": {
            "text/plain": [
              "{1, 3.0, 'a', 'abc'}"
            ]
          },
          "execution_count": 6,
          "metadata": {},
          "output_type": "execute_result"
        },
        {
          "data": {
            "text/plain": [
              "set"
            ]
          },
          "execution_count": 6,
          "metadata": {},
          "output_type": "execute_result"
        },
        {
          "name": "stdout",
          "output_type": "stream",
          "text": [
            "a\n",
            "1\n",
            "3.0\n",
            "abc\n"
          ]
        },
        {
          "data": {
            "text/plain": [
              "4"
            ]
          },
          "execution_count": 6,
          "metadata": {},
          "output_type": "execute_result"
        },
        {
          "data": {
            "text/plain": [
              "False"
            ]
          },
          "execution_count": 6,
          "metadata": {},
          "output_type": "execute_result"
        }
      ],
      "source": [
        "x = set()                       # 빈 set\n",
        "x = {1, 'a', 3., 'abc', 1}      # unique elements, 순서 보장X : not sequence!: iterable, len, in\n",
        "x\n",
        "type(x)\n",
        "for a in x:\n",
        "    print(a)\n",
        "len(x)\n",
        "'a' not in x"
      ]
    },
    {
      "cell_type": "code",
      "execution_count": 9,
      "metadata": {},
      "outputs": [
        {
          "data": {
            "text/plain": [
              "[1, 2, 3, 100, 100, 200, 300]"
            ]
          },
          "execution_count": 9,
          "metadata": {},
          "output_type": "execute_result"
        },
        {
          "data": {
            "text/plain": [
              "{1, 2, 3, 100, 200, 300}"
            ]
          },
          "execution_count": 9,
          "metadata": {},
          "output_type": "execute_result"
        }
      ],
      "source": [
        "l = [1, 2, 3, 100] + [100, 200, 300]\n",
        "l\n",
        "set(l)                              # 중복 원소 없애줌"
      ]
    },
    {
      "cell_type": "markdown",
      "metadata": {
        "id": "163AdOX5F2uK"
      },
      "source": [
        "### dict : Mapping : Python의 핵심 자료형"
      ]
    },
    {
      "cell_type": "code",
      "execution_count": 3,
      "metadata": {},
      "outputs": [
        {
          "data": {
            "text/plain": [
              "{1: 'a', 1.1: 'b'}"
            ]
          },
          "execution_count": 3,
          "metadata": {},
          "output_type": "execute_result"
        },
        {
          "data": {
            "text/plain": [
              "{1: 'a', 1.1: 'b'}"
            ]
          },
          "execution_count": 3,
          "metadata": {},
          "output_type": "execute_result"
        },
        {
          "data": {
            "text/plain": [
              "{1: 'a', 1.1: 'b'}"
            ]
          },
          "execution_count": 3,
          "metadata": {},
          "output_type": "execute_result"
        }
      ],
      "source": [
        "dict()                  # 빈 dict\n",
        "{}                      # 빈 dict. 빈 set X\n",
        "\n",
        "{1: 'a', 1.1:'b'}       # {key1: value1, ket2: value2, ...}\n",
        "\n",
        "dict([(1, 'a'), (1.1, 'b')])    # dict(iterable of (k, v)s)\n",
        "dict(([1, 'a'], [1.1, 'b']))    # dict(iterable of [k, v]s)"
      ]
    },
    {
      "cell_type": "code",
      "execution_count": 7,
      "metadata": {
        "id": "eFQLv7sBRu6w"
      },
      "outputs": [
        {
          "data": {
            "text/plain": [
              "{'a': 1, 'b': 2}"
            ]
          },
          "execution_count": 7,
          "metadata": {},
          "output_type": "execute_result"
        },
        {
          "data": {
            "text/plain": [
              "dict"
            ]
          },
          "execution_count": 7,
          "metadata": {},
          "output_type": "execute_result"
        },
        {
          "name": "stdout",
          "output_type": "stream",
          "text": [
            "a\n",
            "b\n"
          ]
        },
        {
          "data": {
            "text/plain": [
              "2"
            ]
          },
          "execution_count": 7,
          "metadata": {},
          "output_type": "execute_result"
        },
        {
          "data": {
            "text/plain": [
              "True"
            ]
          },
          "execution_count": 7,
          "metadata": {},
          "output_type": "execute_result"
        }
      ],
      "source": [
        "x = {'a': 1, 'b': 2}                # {key1: value1, ...}\n",
        "x = dict( (('a', 1), ('b', 2)) )    # dict(iterable of key-value pairs)\n",
        "x = dict(a=1, b=2)                  # key가 변수명이 될 수 있다면(문자 및 _으로 시작, 문자, _, 숫자로 이루어짐, 특수문자/키워드X)\n",
        "\n",
        "x\n",
        "type(x)\n",
        "for a in x:\n",
        "    print(a)\n",
        "len(x)\n",
        "'c' not in x"
      ]
    },
    {
      "cell_type": "markdown",
      "metadata": {
        "id": "JUj2stozSZxz"
      },
      "source": [
        "### 생성, 조회(인덱싱, slice), 추가, 삭제, 변경"
      ]
    },
    {
      "cell_type": "code",
      "execution_count": null,
      "metadata": {
        "id": "n2EcjmRhGVch"
      },
      "outputs": [],
      "source": [
        "# 빈 객체 생성\n",
        "\n",
        "list(), []\n",
        "tuple()             # 못바꾸는데 빈 객체 생성?\n",
        "set()\n",
        "dict(), {}          # {}는 빈 딕트, 빈 세트X"
      ]
    },
    {
      "cell_type": "code",
      "execution_count": null,
      "metadata": {
        "id": "rwqsSUdOGea9"
      },
      "outputs": [],
      "source": [
        "# type casting\n",
        "\n",
        "list((1, 2, 1))         # tuple -> list, 삽입/삭제/변경 등 작업을 위해\n",
        "list({1, 2, 3})         # set -> list, 삽입/삭제/변경 등 작업을 위해\n",
        "tuple([1, 2, 1])        # list -> tuple, 메모리 효율\n",
        "set([1, 2, 1])          # list -> set, 중복 제거\n",
        "set((1, 2, 1))          # tuple -> set, 중복 제거\n",
        "\n",
        "list('abcba')           # str -> list\n",
        "tuple('abcba')          # str -> tuple\n",
        "set('abcba')            # str -> set, 중복 제거"
      ]
    },
    {
      "cell_type": "code",
      "execution_count": 58,
      "metadata": {
        "id": "LKUgPZMQG092"
      },
      "outputs": [
        {
          "data": {
            "text/plain": [
              "(1, True)"
            ]
          },
          "execution_count": 58,
          "metadata": {},
          "output_type": "execute_result"
        },
        {
          "data": {
            "text/plain": [
              "[2, 'a', True]"
            ]
          },
          "execution_count": 58,
          "metadata": {},
          "output_type": "execute_result"
        },
        {
          "data": {
            "text/plain": [
              "[2, True]"
            ]
          },
          "execution_count": 58,
          "metadata": {},
          "output_type": "execute_result"
        },
        {
          "data": {
            "text/plain": [
              "[2, True]"
            ]
          },
          "execution_count": 58,
          "metadata": {},
          "output_type": "execute_result"
        },
        {
          "data": {
            "text/plain": [
              "[1, 'a', 5]"
            ]
          },
          "execution_count": 58,
          "metadata": {},
          "output_type": "execute_result"
        },
        {
          "data": {
            "text/plain": [
              "[5, True, 'a', 2, 1]"
            ]
          },
          "execution_count": 58,
          "metadata": {},
          "output_type": "execute_result"
        },
        {
          "data": {
            "text/plain": [
              "[1, 2, 'a', True, 5]"
            ]
          },
          "execution_count": 58,
          "metadata": {},
          "output_type": "execute_result"
        }
      ],
      "source": [
        "# list 조회(indexing & slicing), 변경(할당)\n",
        "\n",
        "l = [1, 2, 'a', True, 5]\n",
        "\n",
        "l[0], l[3]          # 1, True\n",
        "l[1:4]              # [2, 'a', True]\n",
        "l[1:4:2]\n",
        "l[1:-1:2]\n",
        "l[::2]\n",
        "l[::-1]\n",
        "l[:]"
      ]
    },
    {
      "cell_type": "code",
      "execution_count": 60,
      "metadata": {},
      "outputs": [
        {
          "data": {
            "text/plain": [
              "[1, 2, 'zzz', 5]"
            ]
          },
          "execution_count": 60,
          "metadata": {},
          "output_type": "execute_result"
        }
      ],
      "source": [
        "l[2:4] = ['zzz']\n",
        "l"
      ]
    },
    {
      "cell_type": "code",
      "execution_count": null,
      "metadata": {
        "id": "tmsAgk2dHXoz"
      },
      "outputs": [],
      "source": [
        "# list 추가, 삭제\n",
        "\n",
        "l.insert(2, 'z')          # index 2에 'z' 추가\n",
        "l\n",
        "\n",
        "l.append(0)             # 오른쪽 끝에 원소 0 추가\n",
        "l\n",
        "\n",
        "l.extend([1, 2, 3])     # l += [1, 2, 3]\n",
        "l\n",
        "\n",
        "l.pop()                 # returns & deletes the final element\n",
        "l\n",
        "\n",
        "del l[0]                # l.pop(0) returns & deletes the first element\n",
        "l"
      ]
    },
    {
      "cell_type": "code",
      "execution_count": null,
      "metadata": {},
      "outputs": [],
      "source": [
        "l.clear()               # l = []"
      ]
    },
    {
      "cell_type": "code",
      "execution_count": null,
      "metadata": {},
      "outputs": [],
      "source": []
    },
    {
      "cell_type": "code",
      "execution_count": null,
      "metadata": {
        "colab": {
          "base_uri": "https://localhost:8080/"
        },
        "id": "o04HU7k96qTW",
        "outputId": "09ea34dc-4725-4ba3-d75d-b927af73a040"
      },
      "outputs": [
        {
          "data": {
            "text/plain": [
              "[5, 4, 3, 2, 1]"
            ]
          },
          "execution_count": 30,
          "metadata": {},
          "output_type": "execute_result"
        }
      ],
      "source": [
        "# 리스트.sort(key=None, reverse=False)\n",
        "\n",
        "nums = [5, 2, 4, 3, 1]\n",
        "\n",
        "nums.sort(reverse=True)     # in-place 변환, None 반환\n",
        "nums"
      ]
    },
    {
      "cell_type": "code",
      "execution_count": null,
      "metadata": {
        "colab": {
          "base_uri": "https://localhost:8080/"
        },
        "id": "36Yy-5097Irj",
        "outputId": "35287ec6-1665-4fa3-c9b4-c641637f821e"
      },
      "outputs": [
        {
          "data": {
            "text/plain": [
              "[1, 2, 3, 4, 5]"
            ]
          },
          "execution_count": 32,
          "metadata": {},
          "output_type": "execute_result"
        }
      ],
      "source": [
        "nums = [5, 2, 4, 3, 1]\n",
        "\n",
        "nums_ = nums.sort()  # -> None\n",
        "nums_               # None\n",
        "nums                # sort된 리스트"
      ]
    },
    {
      "cell_type": "code",
      "execution_count": null,
      "metadata": {
        "colab": {
          "base_uri": "https://localhost:8080/"
        },
        "id": "jb74V-Nm7G9N",
        "outputId": "309a9710-c841-4f17-b0a6-48cf4f209b67"
      },
      "outputs": [
        {
          "data": {
            "text/plain": [
              "[1, 2, 3, 4, 5]"
            ]
          },
          "execution_count": 37,
          "metadata": {},
          "output_type": "execute_result"
        }
      ],
      "source": [
        "# sorted(이터러블)\n",
        "\n",
        "nums = [5, 2, 4, 3, 1]\n",
        "nums_ = sorted(nums)    # nums는 그대로\n",
        "nums_\n",
        "nums"
      ]
    },
    {
      "cell_type": "code",
      "execution_count": null,
      "metadata": {
        "id": "xYdm8VOK8lm9"
      },
      "outputs": [],
      "source": []
    },
    {
      "cell_type": "code",
      "execution_count": null,
      "metadata": {
        "id": "sf95NSGPHxrp"
      },
      "outputs": [],
      "source": [
        "# 2차원 list\n",
        "\n",
        "l = []\n",
        "l.append([1, 2, 3])\n",
        "l.append([4, 5, 6])\n",
        "l.append([7, 8, 9])\n",
        "l\n",
        "l[1]\n",
        "l[1][1]                 # l[1, 1] multi-index안됨! => numpy, pytorch는 가능\n",
        "\n",
        "l.pop()\n",
        "l"
      ]
    },
    {
      "cell_type": "code",
      "execution_count": 45,
      "metadata": {
        "id": "mHm7X_ZNJdRP"
      },
      "outputs": [
        {
          "data": {
            "text/plain": [
              "0"
            ]
          },
          "execution_count": 45,
          "metadata": {},
          "output_type": "execute_result"
        },
        {
          "data": {
            "text/plain": [
              "(1, 0, 'a')"
            ]
          },
          "execution_count": 45,
          "metadata": {},
          "output_type": "execute_result"
        },
        {
          "data": {
            "text/plain": [
              "2"
            ]
          },
          "execution_count": 45,
          "metadata": {},
          "output_type": "execute_result"
        },
        {
          "data": {
            "text/plain": [
              "0"
            ]
          },
          "execution_count": 45,
          "metadata": {},
          "output_type": "execute_result"
        }
      ],
      "source": [
        "# tuple 조회 : indexing, slicing\n",
        "\n",
        "t = (1, 0, 'a', 5.)\n",
        "t = 1, 0, 'a', 5.      # identical\n",
        "\n",
        "t[1]\n",
        "t[:3]\n",
        "t.index('a')\n",
        "t.index(1)"
      ]
    },
    {
      "cell_type": "code",
      "execution_count": null,
      "metadata": {
        "id": "lQANV4cAObOr"
      },
      "outputs": [],
      "source": [
        "# set\n",
        "\n",
        "# set(이터러블)          # 생성, 빈 set는 set()\n",
        "# a.add(원소)\n",
        "# a.remove(원소)        # 원소를 제거하되, 해당 원소가 없으면 에러 발생\n",
        "# a.discard(원소)       # 원소를 제거하되, 원소가 없으면 그냥 넘어감\n",
        "# a.pop()              # 임의의 원소 반환 및 삭제\n",
        "# a.clear()"
      ]
    },
    {
      "cell_type": "code",
      "execution_count": 8,
      "metadata": {
        "id": "ewK8fJzZL2ML"
      },
      "outputs": [
        {
          "data": {
            "text/plain": [
              "{1, 2, 3, 4}"
            ]
          },
          "execution_count": 8,
          "metadata": {},
          "output_type": "execute_result"
        },
        {
          "data": {
            "text/plain": [
              "{3}"
            ]
          },
          "execution_count": 8,
          "metadata": {},
          "output_type": "execute_result"
        },
        {
          "data": {
            "text/plain": [
              "{1, 2}"
            ]
          },
          "execution_count": 8,
          "metadata": {},
          "output_type": "execute_result"
        },
        {
          "data": {
            "text/plain": [
              "{4}"
            ]
          },
          "execution_count": 8,
          "metadata": {},
          "output_type": "execute_result"
        }
      ],
      "source": [
        "# a | b     # set.union(a, b)                   # a |= b\n",
        "# a & b     # set.intersection(a, b)            # a &= b\n",
        "# a - b     # set.difference(a, b)              # a -= b\n",
        "# a ^ b     # set.symmetric_difference(a, b)    # a ^= b\n",
        "\n",
        "a, b = {1, 2, 3}, {3, 4}\n",
        "a | b\n",
        "a & b\n",
        "a - b\n",
        "b - a"
      ]
    },
    {
      "cell_type": "code",
      "execution_count": null,
      "metadata": {
        "id": "qfYbRn9-NzN9"
      },
      "outputs": [],
      "source": [
        "# a <= b, a.issubset(b)\n",
        "# a < b\n",
        "# a >= b, a.issuperset(b)\n",
        "# a > b\n",
        "# a == b\n",
        "# a.isdisjoint(b)"
      ]
    },
    {
      "cell_type": "code",
      "execution_count": null,
      "metadata": {
        "id": "1EbnsxK8L7Y0"
      },
      "outputs": [],
      "source": [
        "# dict\n",
        "\n",
        "d = dict(a=1, b=2, c=3)         # {'a': 1, 'b': 2, 'c': 3}\n",
        "                                # dict([('a', 1), ...])\n",
        "d\n",
        "\n",
        "d.keys()\n",
        "d.values()\n",
        "d.items()           # dict(d.items())"
      ]
    },
    {
      "cell_type": "code",
      "execution_count": null,
      "metadata": {
        "id": "V1xL1icvO_Tj"
      },
      "outputs": [],
      "source": [
        "# 조회\n",
        "\n",
        "d['a']                      # 없으면 KeyError\n",
        "d.get('c')                  # default=None: 딕트에 해당 키가 있으면 d[키] 반환, 없으면 None 반환\n",
        "d.get('z', 'not found')"
      ]
    },
    {
      "cell_type": "code",
      "execution_count": null,
      "metadata": {
        "id": "fcjpIwyvPpE9"
      },
      "outputs": [],
      "source": [
        "# 변경, 추가\n",
        "\n",
        "d['a'] = 0          # 해당 키가 있으면 값 변경\n",
        "d['z'] = 'z'        # 해당 키가 없으면 키:값 쌍 추가\n",
        "d"
      ]
    },
    {
      "cell_type": "code",
      "execution_count": null,
      "metadata": {},
      "outputs": [],
      "source": [
        "# 딕트.update(딕트') : 한 번에 딕트'의 키:값들을 딕트에 변경 및 추가\n",
        "\n",
        "d.update({'b': 100, 'x': 'a'})\n",
        "d.update(dict(b=100, x='a'))        # identical\n",
        "d |= dict(b=100, x='a')             # identical\n",
        "d"
      ]
    },
    {
      "cell_type": "code",
      "execution_count": null,
      "metadata": {
        "id": "xu6a3vE6Psv8"
      },
      "outputs": [],
      "source": [
        "# 삭제\n",
        "\n",
        "d.pop('z')\n",
        "d\n",
        "\n",
        "del d['c']\n",
        "d"
      ]
    },
    {
      "cell_type": "code",
      "execution_count": null,
      "metadata": {
        "id": "CfLl3be2L7xu"
      },
      "outputs": [],
      "source": [
        "# collection type : sequence(list, tuple, str) + set + dict\n",
        "# -> iterable, len(객체), 원소/키 in 객체\n",
        "\n",
        "# sequence는 reversed() : from 3.6"
      ]
    },
    {
      "cell_type": "markdown",
      "metadata": {
        "id": "_LMCKc4VSoKB"
      },
      "source": [
        "### sequence comparison"
      ]
    },
    {
      "cell_type": "code",
      "execution_count": 15,
      "metadata": {
        "id": "DnnBEranSnWd"
      },
      "outputs": [
        {
          "data": {
            "text/plain": [
              "True"
            ]
          },
          "execution_count": 15,
          "metadata": {},
          "output_type": "execute_result"
        },
        {
          "data": {
            "text/plain": [
              "True"
            ]
          },
          "execution_count": 15,
          "metadata": {},
          "output_type": "execute_result"
        },
        {
          "data": {
            "text/plain": [
              "True"
            ]
          },
          "execution_count": 15,
          "metadata": {},
          "output_type": "execute_result"
        }
      ],
      "source": [
        "(1, 2, 3) > (1, 1, 100)         # tuple comparison\n",
        "\n",
        "[1, 2, 3] > [1, 1, 100]\n",
        "\n",
        "'123' > '111'"
      ]
    },
    {
      "cell_type": "code",
      "execution_count": 10,
      "metadata": {
        "id": "i5IClKbcS0Cf"
      },
      "outputs": [
        {
          "data": {
            "text/plain": [
              "True"
            ]
          },
          "execution_count": 10,
          "metadata": {},
          "output_type": "execute_result"
        }
      ],
      "source": [
        "'abc' < 'abz'                   # ord('c'), ord('C')"
      ]
    },
    {
      "cell_type": "code",
      "execution_count": 177,
      "metadata": {},
      "outputs": [
        {
          "data": {
            "text/plain": [
              "True"
            ]
          },
          "execution_count": 177,
          "metadata": {},
          "output_type": "execute_result"
        }
      ],
      "source": [
        "[1, 2, 3] > [1, 1]          # ~ 단락 평가(short-circuit evaluation)"
      ]
    },
    {
      "cell_type": "code",
      "execution_count": 63,
      "metadata": {},
      "outputs": [
        {
          "data": {
            "text/plain": [
              "100"
            ]
          },
          "execution_count": 63,
          "metadata": {},
          "output_type": "execute_result"
        },
        {
          "data": {
            "text/plain": [
              "100"
            ]
          },
          "execution_count": 63,
          "metadata": {},
          "output_type": "execute_result"
        },
        {
          "data": {
            "text/plain": [
              "100"
            ]
          },
          "execution_count": 63,
          "metadata": {},
          "output_type": "execute_result"
        }
      ],
      "source": [
        "n_episodes, max_episodes = None, 100    # None ~ False\n",
        "\n",
        "n_episodes or max_episodes              # 단락 평가(short-circuit evaluation)\n",
        "\n",
        "True and max_episodes\n",
        "\n",
        "\n",
        "if n_episodes:          # None ~ False\n",
        "    n_episodes\n",
        "else:\n",
        "    max_episodes"
      ]
    },
    {
      "cell_type": "markdown",
      "metadata": {
        "id": "-hX0CsysKYSA"
      },
      "source": [
        "## 제어: if, for/while, range, enumerate"
      ]
    },
    {
      "cell_type": "code",
      "execution_count": null,
      "metadata": {
        "id": "5TwdvsmIXKCP"
      },
      "outputs": [],
      "source": [
        "# if 조건식/객체:       # True/False, Truthy/falsy: 0, 0., '', None, len 0\n",
        "#     조건 만족하면 실행 block\n",
        "\n",
        "\n",
        "# if 조건식/객체:\n",
        "#     조건 만족하면 실행 \n",
        "# else:\n",
        "#     아니면 실행\n",
        "\n",
        "\n",
        "# if 조건식/객체:\n",
        "#     조건 만족하면 실행 \n",
        "# elif 조건식/객체:\n",
        "#     앞에 아니고 이 경우이면 실행\n",
        "\n",
        "\n",
        "# if 조건식/객체:\n",
        "#     조건 만족하면 실행             # mutual exclusion\n",
        "# elif 조건식/객체:\n",
        "#     앞에 다 아니고 이 경우이면 실행   # mutual exclusion\n",
        "# elif 조건식/객체:\n",
        "#     앞에 다 아니고 이 경우이면 실행   # mutual exclusion\n",
        "# else:\n",
        "#     앞에 다 아니면 실행            # mutual exclusion\n",
        "###"
      ]
    },
    {
      "cell_type": "code",
      "execution_count": 51,
      "metadata": {},
      "outputs": [
        {
          "name": "stdout",
          "output_type": "stream",
          "text": [
            "n: 0 is smaller than 5\n",
            "n: 0 is falsy\n",
            "n: 0 is falsy\n",
            "l is falsy\n"
          ]
        }
      ],
      "source": [
        "n = 0\n",
        "\n",
        "if n < 5:                               # True\n",
        "    print(f'n: {n} is smaller than 5')\n",
        "\n",
        "\n",
        "if n:                                   # if n truthy:\n",
        "    print(f'n: {n} is truthy')\n",
        "else:\n",
        "    print(f'n: {n} is falsy')\n",
        "\n",
        "\n",
        "if not n:                               # if (not n) truthy: <=> if n falsy:\n",
        "    print(f'n: {n} is falsy')\n",
        "else:\n",
        "    print(f'n: {n} is truthy')\n",
        "\n",
        "\n",
        "l = []\n",
        "if l:                       # if l truthy: <=> if len(l) > 0\n",
        "    print('l is truthy')\n",
        "else:\n",
        "    print('l is falsy')"
      ]
    },
    {
      "cell_type": "code",
      "execution_count": 64,
      "metadata": {},
      "outputs": [
        {
          "data": {
            "text/plain": [
              "1"
            ]
          },
          "execution_count": 64,
          "metadata": {},
          "output_type": "execute_result"
        }
      ],
      "source": [
        "l = [[]]\n",
        "len(l)\n",
        "\n",
        "# if l:\n",
        "#     print('l is truthy')\n",
        "# else:\n",
        "#     print('l is falsy')"
      ]
    },
    {
      "cell_type": "code",
      "execution_count": null,
      "metadata": {},
      "outputs": [],
      "source": []
    },
    {
      "cell_type": "code",
      "execution_count": null,
      "metadata": {
        "id": "zpXPZGZfzISg"
      },
      "outputs": [],
      "source": [
        "# while 조건식/객체:\n",
        "#     작업1                  # 실행됨\n",
        "#     continue              # 아래 실행X, 바로 while문 조건으로 : skip\n",
        "#     작업2\n",
        "#     break                 # 현재 loop만 빠져나감(한 단계)\n",
        "#     작업3"
      ]
    },
    {
      "cell_type": "code",
      "execution_count": null,
      "metadata": {},
      "outputs": [],
      "source": [
        "# 변수 초기값\n",
        "# while True:     # 무한 루프\n",
        "    # 작업\n",
        "    # if 중단 조건:\n",
        "    #     break"
      ]
    },
    {
      "cell_type": "code",
      "execution_count": null,
      "metadata": {},
      "outputs": [],
      "source": [
        "# 1, 2, ..., 10까지 합\n",
        "\n",
        "sum((1,2,3,4,5,6,7,8,9,10))\n",
        "sum([1,2,3,4,5,6,7,8,9,10])\n",
        "\n",
        "# start, end = 1, 10\n",
        "i = 1\n",
        "total = 0\n",
        "while i <= 10:\n",
        "    total += i\n",
        "    i += 1\n",
        "total"
      ]
    },
    {
      "cell_type": "code",
      "execution_count": null,
      "metadata": {},
      "outputs": [],
      "source": []
    },
    {
      "cell_type": "code",
      "execution_count": 25,
      "metadata": {
        "id": "SzsUwVXgzS1h"
      },
      "outputs": [
        {
          "data": {
            "text/plain": [
              "55"
            ]
          },
          "execution_count": 25,
          "metadata": {},
          "output_type": "execute_result"
        }
      ],
      "source": [
        "# for 변수 in iterable:     # Sequence(리스트/튜플/str), set, dict, range, enumerate\n",
        "#     작업\n",
        "#     continue/break\n",
        "\n",
        "total = 0\n",
        "for i in (1,2,3,4,5,6,7,8,9,10):    # range(11)\n",
        "    total += i\n",
        "total"
      ]
    },
    {
      "cell_type": "code",
      "execution_count": 23,
      "metadata": {
        "id": "V4Eb62Y8zZhZ"
      },
      "outputs": [
        {
          "data": {
            "text/plain": [
              "55"
            ]
          },
          "execution_count": 23,
          "metadata": {},
          "output_type": "execute_result"
        }
      ],
      "source": [
        "# range(stop)               # (0, 1, ..., stop-1)\n",
        "# range(start, stop)        # (start, start + 1, ..., stop-1)\n",
        "# range(start, stop, step)  # (start, start + step, ..., start + _ * step < stop)\n",
        "\n",
        "sum(range(1, 11))           # range(11)\n",
        "\n",
        "total = 0\n",
        "for i in range(1, 11):      # range(11)\n",
        "    total += i\n",
        "total\n",
        "\n",
        "\n",
        "# 1~100까지 홀수의 합 구하기\n",
        "# 1~100까지 3의 배수의 합 구하기"
      ]
    },
    {
      "cell_type": "code",
      "execution_count": null,
      "metadata": {
        "id": "sojteLCtzjej"
      },
      "outputs": [],
      "source": [
        "# enumerate(iterable)          -> (0, next_iterable), (1, next_iterable), ...\n",
        "# enumerate(iterable, start=0) -> (start, next_iterable), (start+1, next_iterable)"
      ]
    },
    {
      "cell_type": "code",
      "execution_count": 42,
      "metadata": {},
      "outputs": [
        {
          "name": "stdout",
          "output_type": "stream",
          "text": [
            "(0, 'a') (1, 'b') (2, 'c') (3, 'd') (4, 'z') \n",
            "(0, 'a') (1, 'b') (2, 'c') (3, 'd') (4, 'z') \n"
          ]
        }
      ],
      "source": [
        "l = ['a', 'b', 'c', 'd', 'z']\n",
        "\n",
        "# 각 원소를 (index, 값) 형식으로 한 줄에 print하기\n",
        "for i in range(len(l)):         # worst : index 순회\n",
        "    print((i, l[i]), end=' ')\n",
        "print()\n",
        "\n",
        "\n",
        "for i, ch in enumerate(l):      # Pythonic!\n",
        "    print((i, ch), end=' ')\n",
        "print()"
      ]
    },
    {
      "cell_type": "code",
      "execution_count": 25,
      "metadata": {},
      "outputs": [
        {
          "data": {
            "text/plain": [
              "{'a': 1, 'b': 2, 'c': 3}"
            ]
          },
          "execution_count": 25,
          "metadata": {},
          "output_type": "execute_result"
        },
        {
          "name": "stdout",
          "output_type": "stream",
          "text": [
            "a b c \n",
            "a b c \n",
            "1 2 3 \n",
            "('a', 1) ('b', 2) ('c', 3) "
          ]
        }
      ],
      "source": [
        "# 다만, dict인 경우\n",
        "\n",
        "d = dict(a=1, b=2, c=3)     # d = {k: i for i, k in enumerate('abc', 1)}\n",
        "d                           # d = {k: i + 1 for i, k in enumerate('abc')}\n",
        "\n",
        "for x in d:                 # for x in d.keys():\n",
        "    print(x, end=' ')\n",
        "print()\n",
        "\n",
        "for x in d.keys():          # for x in d:\n",
        "    print(x, end=' ')\n",
        "print()\n",
        "\n",
        "for x in d.values():\n",
        "    print(x, end=' ')\n",
        "print()\n",
        "\n",
        "for x in d.items():\n",
        "    print(x, end=' ')"
      ]
    },
    {
      "cell_type": "code",
      "execution_count": 26,
      "metadata": {},
      "outputs": [
        {
          "name": "stdout",
          "output_type": "stream",
          "text": [
            "a 1\n",
            "b 2\n",
            "c 3\n"
          ]
        }
      ],
      "source": [
        "for k, v in d.items():      # tuple/iterable unpacking\n",
        "    print(k, v)\n",
        "    # print(f'Key {k}의 Value는 {v}입니다.')"
      ]
    },
    {
      "cell_type": "code",
      "execution_count": null,
      "metadata": {},
      "outputs": [],
      "source": [
        "# for 키 in 딕트:\n",
        "\n",
        "# for 키, 값 in 딕트.items():"
      ]
    },
    {
      "cell_type": "markdown",
      "metadata": {},
      "source": [
        "## 값1 if 조건 else 값2"
      ]
    },
    {
      "cell_type": "code",
      "execution_count": 171,
      "metadata": {},
      "outputs": [
        {
          "data": {
            "text/plain": [
              "0"
            ]
          },
          "execution_count": 171,
          "metadata": {},
          "output_type": "execute_result"
        }
      ],
      "source": [
        "# 변수 = 값1 if 조건 else 값2\n",
        "\n",
        "# if 조건:\n",
        "#     변수 = 값1\n",
        "# else:\n",
        "#     변수 = 값2\n",
        "\n",
        "m = 0\n",
        "a = 1 / m if m else 0\n",
        "a"
      ]
    },
    {
      "cell_type": "code",
      "execution_count": 2,
      "metadata": {},
      "outputs": [
        {
          "data": {
            "text/plain": [
              "'Success: 500'"
            ]
          },
          "execution_count": 2,
          "metadata": {},
          "output_type": "execute_result"
        }
      ],
      "source": [
        "score = 500\n",
        "m = 'Success' if score >= 500 else 'Fail'\n",
        "m += f': {score}'\n",
        "\n",
        "m"
      ]
    },
    {
      "cell_type": "code",
      "execution_count": 172,
      "metadata": {},
      "outputs": [
        {
          "data": {
            "text/plain": [
              "1"
            ]
          },
          "execution_count": 172,
          "metadata": {},
          "output_type": "execute_result"
        }
      ],
      "source": [
        "b = 5\n",
        "a = 1 if b > 3 else 0\n",
        "\n",
        "a = (1 if b > 3 \n",
        "     else 0)\n",
        "a"
      ]
    },
    {
      "cell_type": "markdown",
      "metadata": {
        "id": "M0VqvBJJ5PQp"
      },
      "source": [
        "## comprehension : list/set/dict, gen-exp"
      ]
    },
    {
      "cell_type": "code",
      "execution_count": null,
      "metadata": {},
      "outputs": [],
      "source": [
        "# comprehension\n",
        "\n",
        "# [변수expression for 변수 in iterable]                        # list-comp\n",
        "# {변수expression for 변수 in iterable}                        # set-comprehension\n",
        "# {변수expression키: 변수expression값 for 변수 in iterable}      # dict-comprehension\n",
        "# (변수expression for 변수 in iterable)                        # generator : memory 효율"
      ]
    },
    {
      "cell_type": "code",
      "execution_count": 32,
      "metadata": {
        "id": "09SAF1NO0Sfc"
      },
      "outputs": [
        {
          "data": {
            "text/plain": [
              "[1, 9, 25, 49, 81]"
            ]
          },
          "execution_count": 32,
          "metadata": {},
          "output_type": "execute_result"
        },
        {
          "data": {
            "text/plain": [
              "[1, 9, 25, 49, 81]"
            ]
          },
          "execution_count": 32,
          "metadata": {},
          "output_type": "execute_result"
        }
      ],
      "source": [
        "# list-comp\n",
        "\n",
        "# [변수expression for 변수 in iterable]\n",
        "# [변수expression for 변수 in iterable if 조건]\n",
        "\n",
        "\n",
        "# 1~10 중 홀수만 제곱한 리스트\n",
        "[i ** 2 for i in range(1, 11) if i % 2 == 1]    # if i % 2\n",
        "\n",
        "\n",
        "# identical\n",
        "result = []\n",
        "for i in range(1, 11):\n",
        "    if i % 2:\n",
        "        result.append(i ** 2)\n",
        "result"
      ]
    },
    {
      "cell_type": "code",
      "execution_count": null,
      "metadata": {
        "id": "jbyjcQ_1D7RY"
      },
      "outputs": [],
      "source": [
        "# [expression for 변수1 in iterable1 for 변수2 in iterable2]\n",
        "# [expression for 변수1 in iterable1 if 조건1 for 변수2 in iterable2]\n",
        "# [expression for 변수1 in iterable1 for 변수2 in iterable2 if 조건2]\n",
        "# [expression for 변수1 in iterable1 if 조건1 for 변수2 in iterable2 if 조건2]\n",
        "\n",
        "# result = []\n",
        "# for 변수1 in iterable1:\n",
        "#     if not 조건1:\n",
        "#         continue\n",
        "#     for 변수2 in iterable2:\n",
        "#         if 조건2:\n",
        "#             result.append(expression)"
      ]
    },
    {
      "cell_type": "code",
      "execution_count": null,
      "metadata": {},
      "outputs": [],
      "source": [
        "l1 = 'abc'      # list('abc')\n",
        "l2 = '123'      # list('123')\n",
        "\n",
        "[x1 + x2 for x1 in l1 for x2 in l2]\n",
        "[x1 + x2 for x1 in l1 if x1 != 'b' for x2 in l2]\n",
        "\n",
        "# l3 = list('xyz')\n",
        "# [x1 + x2 + x3 for x1 in l1 for x2 in l2 for x3 in l3]"
      ]
    },
    {
      "cell_type": "code",
      "execution_count": 51,
      "metadata": {},
      "outputs": [
        {
          "data": {
            "text/plain": [
              "{1, 2, 3, 100}"
            ]
          },
          "execution_count": 51,
          "metadata": {},
          "output_type": "execute_result"
        },
        {
          "data": {
            "text/plain": [
              "{2, 4, 6, 200}"
            ]
          },
          "execution_count": 51,
          "metadata": {},
          "output_type": "execute_result"
        }
      ],
      "source": [
        "# set comprehension\n",
        "l = [1, 2, 3, 100, 100, 100]\n",
        "\n",
        "set(l)\n",
        "s = {n * 2 for n in l}\n",
        "s"
      ]
    },
    {
      "cell_type": "code",
      "execution_count": 32,
      "metadata": {},
      "outputs": [
        {
          "data": {
            "text/plain": [
              "{1: 'a', 2: 'b', 3: 'c'}"
            ]
          },
          "execution_count": 32,
          "metadata": {},
          "output_type": "execute_result"
        }
      ],
      "source": [
        "# dict comprehension\n",
        "\n",
        "d = dict(a=1, b=2, c=3)\n",
        "\n",
        "{v: k for k, v in d.items()}    # 딕트의 key와 value 바꾸기\n",
        "\n",
        "\n",
        "d = dict(a=1, b=2, c=3, d=1)    # ??"
      ]
    },
    {
      "cell_type": "code",
      "execution_count": 39,
      "metadata": {},
      "outputs": [
        {
          "data": {
            "text/plain": [
              "[('Kim', 55), ('Lee', 65), ('Park', 75), ('Jeong', 15)]"
            ]
          },
          "execution_count": 39,
          "metadata": {},
          "output_type": "execute_result"
        },
        {
          "data": {
            "text/plain": [
              "{'Kim': 55, 'Lee': 65, 'Park': 75, 'Jeong': 15}"
            ]
          },
          "execution_count": 39,
          "metadata": {},
          "output_type": "execute_result"
        },
        {
          "data": {
            "text/plain": [
              "{'Kim': 55, 'Lee': 65, 'Park': 75, 'Jeong': 15}"
            ]
          },
          "execution_count": 39,
          "metadata": {},
          "output_type": "execute_result"
        }
      ],
      "source": [
        "names = ['Kim', 'Lee', 'Park', 'Jeong']\n",
        "\n",
        "scores = [55, 65, 75, 15]\n",
        "\n",
        "pairs = [(name, scores[i]) for i, name in enumerate(names)]\n",
        "pairs\n",
        "dict(pairs)\n",
        "\n",
        "d = {name: scores[i] for i, name in enumerate(names)}       # see zip\n",
        "d"
      ]
    },
    {
      "cell_type": "code",
      "execution_count": 50,
      "metadata": {},
      "outputs": [
        {
          "data": {
            "text/plain": [
              "<generator object <genexpr> at 0x109346b50>"
            ]
          },
          "execution_count": 50,
          "metadata": {},
          "output_type": "execute_result"
        },
        {
          "data": {
            "text/plain": [
              "333283335000"
            ]
          },
          "execution_count": 50,
          "metadata": {},
          "output_type": "execute_result"
        }
      ],
      "source": [
        "# gen-exp : generator expression\n",
        "\n",
        "# 1 ~ 1_0000까지 각 숫자를 제곱해서 더하기\n",
        "nums = (i * i for i in range(1_0000))\n",
        "nums\n",
        "sum(nums)"
      ]
    },
    {
      "cell_type": "code",
      "execution_count": 53,
      "metadata": {},
      "outputs": [
        {
          "data": {
            "text/plain": [
              "0"
            ]
          },
          "execution_count": 53,
          "metadata": {},
          "output_type": "execute_result"
        },
        {
          "data": {
            "text/plain": [
              "1"
            ]
          },
          "execution_count": 53,
          "metadata": {},
          "output_type": "execute_result"
        },
        {
          "data": {
            "text/plain": [
              "4"
            ]
          },
          "execution_count": 53,
          "metadata": {},
          "output_type": "execute_result"
        }
      ],
      "source": [
        "nums = (i * i for i in range(1_0000))       # generator -> iterator\n",
        "\n",
        "next(nums)\n",
        "next(nums)\n",
        "next(nums)          # 내부적으로 위치 기억"
      ]
    },
    {
      "cell_type": "code",
      "execution_count": 56,
      "metadata": {},
      "outputs": [
        {
          "data": {
            "text/plain": [
              "333283335000"
            ]
          },
          "execution_count": 56,
          "metadata": {},
          "output_type": "execute_result"
        },
        {
          "data": {
            "text/plain": [
              "0"
            ]
          },
          "execution_count": 56,
          "metadata": {},
          "output_type": "execute_result"
        },
        {
          "ename": "StopIteration",
          "evalue": "",
          "output_type": "error",
          "traceback": [
            "\u001b[0;31m---------------------------------------------------------------------------\u001b[0m",
            "\u001b[0;31mStopIteration\u001b[0m                             Traceback (most recent call last)",
            "Cell \u001b[0;32mIn[56], line 5\u001b[0m\n\u001b[1;32m      3\u001b[0m \u001b[38;5;28msum\u001b[39m(nums)\n\u001b[1;32m      4\u001b[0m \u001b[38;5;28msum\u001b[39m(nums)\n\u001b[0;32m----> 5\u001b[0m \u001b[38;5;28mnext\u001b[39m(nums)\n",
            "\u001b[0;31mStopIteration\u001b[0m: "
          ]
        }
      ],
      "source": [
        "nums = (i * i for i in range(1_0000))\n",
        "\n",
        "sum(nums)\n",
        "sum(nums)       # 한 번 순회하면 소진됨\n",
        "next(nums)      # StopIteration"
      ]
    },
    {
      "cell_type": "code",
      "execution_count": null,
      "metadata": {},
      "outputs": [],
      "source": []
    },
    {
      "cell_type": "markdown",
      "metadata": {
        "id": "f24goQ3NsvYB"
      },
      "source": [
        "### quiz"
      ]
    },
    {
      "cell_type": "code",
      "execution_count": 91,
      "metadata": {
        "id": "zLNkjzCasuP6"
      },
      "outputs": [],
      "source": [
        "# 임의의 숫자에 대해 만단위, 억단위 등 4자리수 단위로 '_'를 넣어 구분해보세요~\n",
        "\n",
        "numbers = [200, 10000, 2220000, 33331111, 555556666]\n",
        "\n",
        "# => '200', '1_0000', '222_0000', '3333_1111', '5_5555_6666'"
      ]
    },
    {
      "cell_type": "code",
      "execution_count": 26,
      "metadata": {
        "id": "wj9zdF86tO9C"
      },
      "outputs": [
        {
          "data": {
            "text/plain": [
              "['6666', '5555', '5']"
            ]
          },
          "execution_count": 26,
          "metadata": {},
          "output_type": "execute_result"
        },
        {
          "data": {
            "text/plain": [
              "'6666_5555_5'"
            ]
          },
          "execution_count": 26,
          "metadata": {},
          "output_type": "execute_result"
        },
        {
          "data": {
            "text/plain": [
              "'5_5555_6666'"
            ]
          },
          "execution_count": 26,
          "metadata": {},
          "output_type": "execute_result"
        }
      ],
      "source": [
        "# '002', '0000_1', '0000_222', '1111_3333', '6666_5555_5'\n",
        "\n",
        "# for each n:\n",
        "n = 555556666\n",
        "n_str = str(n)\n",
        "n_rev = n_str[::-1]     # '666655555'\n",
        "\n",
        "# n_rev[0:4], n_rev[4:8], n_rev[8:12], ...\n",
        "n_rev_ = [n_rev[i:i+4] for i in range(0, len(n_rev), 4)]    # 0, 4, 8\n",
        "n_rev_\n",
        "'_'.join(n_rev_)\n",
        "'_'.join(n_rev_)[::-1]\n"
      ]
    },
    {
      "cell_type": "code",
      "execution_count": 27,
      "metadata": {},
      "outputs": [
        {
          "name": "stdout",
          "output_type": "stream",
          "text": [
            "200 200\n",
            "10000 1_0000\n",
            "2220000 222_0000\n",
            "33331111 3333_1111\n",
            "555556666 5_5555_6666\n"
          ]
        },
        {
          "data": {
            "text/plain": [
              "['200', '1_0000', '222_0000', '3333_1111', '5_5555_6666']"
            ]
          },
          "execution_count": 27,
          "metadata": {},
          "output_type": "execute_result"
        }
      ],
      "source": [
        "result = []\n",
        "for n in numbers:\n",
        "    n_str = str(n)              # str type-cast\n",
        "    n_rev = n_str[::-1]         # reverse\n",
        "    # n_rev[0:4], n_rev[4:8], ...\n",
        "    n_rev_ = [n_rev[i: i+4] for i in range(0, len(n_rev), 4)]\n",
        "    n_back = '_'.join(n_rev_)\n",
        "    n_result = n_back[::-1]\n",
        "    print(n, n_result)\n",
        "    result.append(n_result)\n",
        "result"
      ]
    },
    {
      "cell_type": "code",
      "execution_count": 28,
      "metadata": {},
      "outputs": [
        {
          "name": "stdout",
          "output_type": "stream",
          "text": [
            "200 200\n",
            "10000 1_0000\n",
            "2220000 222_0000\n",
            "33331111 3333_1111\n",
            "555556666 5_5555_6666\n"
          ]
        },
        {
          "data": {
            "text/plain": [
              "['200', '1_0000', '222_0000', '3333_1111', '5_5555_6666']"
            ]
          },
          "execution_count": 28,
          "metadata": {},
          "output_type": "execute_result"
        },
        {
          "name": "stdout",
          "output_type": "stream",
          "text": [
            "200 200\n",
            "10000 10,000\n",
            "2220000 2,220,000\n",
            "33331111 33,331,111\n",
            "555556666 555,556,666\n"
          ]
        },
        {
          "data": {
            "text/plain": [
              "['200', '10,000', '2,220,000', '33,331,111', '555,556,666']"
            ]
          },
          "execution_count": 28,
          "metadata": {},
          "output_type": "execute_result"
        }
      ],
      "source": [
        "# 함수: code 일반화/재사용\n",
        "# def 함수명(인수...):\n",
        "#     함수 본문 block\n",
        "#     return 결과값    # 생략시 return None\n",
        "\n",
        "def num_format(numbers, n_group, sep):\n",
        "    result = []\n",
        "    for n in numbers:\n",
        "        n_str = str(n)              # str type-cast\n",
        "        n_rev = n_str[::-1]         # reverse\n",
        "        # n_rev[0:4], n_rev[4:8], ...\n",
        "        n_rev_ = [n_rev[i: i+n_group] for i in range(0, len(n_rev), n_group)]\n",
        "        n_back = sep.join(n_rev_)\n",
        "        n_result = n_back[::-1]\n",
        "        print(n, n_result)\n",
        "        result.append(n_result)\n",
        "    return result\n",
        "\n",
        "numbers = [200, 10000, 2220000, 33331111, 555556666]\n",
        "num_format(numbers, 4, '_')\n",
        "num_format(numbers, 3, ',')     # [f'{num:,}' for num in numbers]"
      ]
    },
    {
      "cell_type": "code",
      "execution_count": 100,
      "metadata": {
        "id": "GMENbXyUum4-"
      },
      "outputs": [
        {
          "name": "stdout",
          "output_type": "stream",
          "text": [
            "200 200\n",
            "10000 10,000\n",
            "2220000 2,220,000\n",
            "33331111 33,331,111\n",
            "555556666 555,556,666\n"
          ]
        },
        {
          "data": {
            "text/plain": [
              "['200', '10,000', '2,220,000', '33,331,111', '555,556,666']"
            ]
          },
          "execution_count": 100,
          "metadata": {},
          "output_type": "execute_result"
        }
      ],
      "source": [
        "# quiz: 4자리수 단위마다 '_'로 구분된 정수 str을 int 형으로 바꿔보세요~\n",
        "\n",
        "\n",
        "# quiz: 3자리수 단위마다 ','로 구분된 정수 str을 int 형으로 바꿔보세요~\n",
        "nums_comma = num_format(numbers, 3, ',')\n",
        "nums_comma\n",
        "\n",
        "# 1. 스트링.split -> join\n",
        "# 2. 스트링.replace"
      ]
    },
    {
      "cell_type": "markdown",
      "metadata": {
        "id": "Q5znr9-zRNTu"
      },
      "source": [
        "## iterable unpacking"
      ]
    },
    {
      "cell_type": "code",
      "execution_count": null,
      "metadata": {
        "id": "NSmNyBGZ2ycG"
      },
      "outputs": [],
      "source": [
        "x, y = 1, 2             # tuple unpacking\n",
        "\n",
        "x, y = y, x\n",
        "x, y"
      ]
    },
    {
      "cell_type": "code",
      "execution_count": 29,
      "metadata": {},
      "outputs": [
        {
          "data": {
            "text/plain": [
              "(1, 2)"
            ]
          },
          "execution_count": 29,
          "metadata": {},
          "output_type": "execute_result"
        }
      ],
      "source": [
        "x, y = [1, 2]\n",
        "x, y"
      ]
    },
    {
      "cell_type": "code",
      "execution_count": 30,
      "metadata": {},
      "outputs": [
        {
          "data": {
            "text/plain": [
              "('a', 'b')"
            ]
          },
          "execution_count": 30,
          "metadata": {},
          "output_type": "execute_result"
        }
      ],
      "source": [
        "x, y = 'ab'\n",
        "x, y"
      ]
    },
    {
      "cell_type": "code",
      "execution_count": null,
      "metadata": {
        "colab": {
          "base_uri": "https://localhost:8080/"
        },
        "id": "EhoqnCkZ0J4l",
        "outputId": "72e78c09-c444-4097-eb19-ea63ed0bbb52"
      },
      "outputs": [
        {
          "data": {
            "text/plain": [
              "(1, 2)"
            ]
          },
          "execution_count": 1,
          "metadata": {},
          "output_type": "execute_result"
        }
      ],
      "source": [
        "a = {2, 1}          # set([2, 1]) == set((2, 1))\n",
        "a0, a1 = a\n",
        "a0, a1              # 순서 보장X : sequence X"
      ]
    },
    {
      "cell_type": "code",
      "execution_count": 58,
      "metadata": {},
      "outputs": [
        {
          "data": {
            "text/plain": [
              "('a', 'b')"
            ]
          },
          "execution_count": 58,
          "metadata": {},
          "output_type": "execute_result"
        },
        {
          "data": {
            "text/plain": [
              "('a', 'b')"
            ]
          },
          "execution_count": 58,
          "metadata": {},
          "output_type": "execute_result"
        }
      ],
      "source": [
        "d = dict(a=1, b=2)      # Python 3.6이상부터 dict 순서 보장\n",
        "\n",
        "x, y = d\n",
        "x, y\n",
        "\n",
        "a, b = d\n",
        "a, b"
      ]
    },
    {
      "cell_type": "code",
      "execution_count": 4,
      "metadata": {},
      "outputs": [
        {
          "data": {
            "text/plain": [
              "([1, 2, 3], 4)"
            ]
          },
          "execution_count": 4,
          "metadata": {},
          "output_type": "execute_result"
        }
      ],
      "source": [
        "# * unpacking : unpacking 변수 개수와 iterable 개수가 다를 때\n",
        "\n",
        "a, *b, c = (1, 2, 3, 4)\n",
        "a, b, c                 # b -> [2, 3] list\n",
        "\n",
        "a, b, *c = (1, 2, 3, 4)\n",
        "a, b, c\n",
        "\n",
        "*a, b = (1, 2, 3, 4)\n",
        "a, b"
      ]
    },
    {
      "cell_type": "markdown",
      "metadata": {
        "id": "w8OO4cFqKic8"
      },
      "source": [
        "## 함수: def, return, yield"
      ]
    },
    {
      "cell_type": "code",
      "execution_count": null,
      "metadata": {
        "id": "Ghh83vwg0Rzq"
      },
      "outputs": [],
      "source": [
        "# 함수 := input -> output\n",
        "\n",
        "# def 함수명():\n",
        "# def 함수명(인수):\n",
        "# def 함수명(인수1, 인수2, ...):\n",
        "# def 함수명(인수1, ..., 인수5=디폴트값, 인수6=디폴트값):\n",
        "#     # 함수 본문\n",
        "#     return 결과값/객체        # 생략 하면: return None"
      ]
    },
    {
      "cell_type": "code",
      "execution_count": 1,
      "metadata": {},
      "outputs": [
        {
          "name": "stdout",
          "output_type": "stream",
          "text": [
            "1 2\n",
            "1 2\n",
            "1 2\n"
          ]
        },
        {
          "ename": "NameError",
          "evalue": "name 'a' is not defined",
          "output_type": "error",
          "traceback": [
            "\u001b[0;31m---------------------------------------------------------------------------\u001b[0m",
            "\u001b[0;31mNameError\u001b[0m                                 Traceback (most recent call last)",
            "Cell \u001b[0;32mIn[1], line 10\u001b[0m\n\u001b[1;32m      8\u001b[0m f(\u001b[38;5;241m1\u001b[39m, b\u001b[38;5;241m=\u001b[39m\u001b[38;5;241m2\u001b[39m)       \u001b[38;5;66;03m# 일부 인수명 명시\u001b[39;00m\n\u001b[1;32m      9\u001b[0m f(b\u001b[38;5;241m=\u001b[39m\u001b[38;5;241m2\u001b[39m, a\u001b[38;5;241m=\u001b[39m\u001b[38;5;241m1\u001b[39m)     \u001b[38;5;66;03m# 모든 인수명 명시\u001b[39;00m\n\u001b[0;32m---> 10\u001b[0m a, b\n",
            "\u001b[0;31mNameError\u001b[0m: name 'a' is not defined"
          ]
        }
      ],
      "source": [
        "# positional arguments\n",
        "# keyword arguments\n",
        "\n",
        "def f(a, b):\n",
        "    print(a, b)\n",
        "\n",
        "f(1, 2)         # 인수 순서대로, 인수명 명시하지 않고\n",
        "f(1, b=2)       # 일부 인수명 명시\n",
        "f(b=2, a=1)     # 모든 인수명 명시\n",
        "a, b            # local var"
      ]
    },
    {
      "cell_type": "code",
      "execution_count": 13,
      "metadata": {},
      "outputs": [
        {
          "name": "stdout",
          "output_type": "stream",
          "text": [
            "1 default\n",
            "1 2\n",
            "1 2\n",
            "1 2\n",
            "1 default\n"
          ]
        }
      ],
      "source": [
        "def f(a, b='default'):\n",
        "    print(a, b)\n",
        "\n",
        "f(1)\n",
        "f(1, 2)\n",
        "f(1, b=2)\n",
        "f(b=2, a=1)\n",
        "f(a=1)"
      ]
    },
    {
      "cell_type": "code",
      "execution_count": 5,
      "metadata": {
        "id": "MAwJr6Yw1vRi"
      },
      "outputs": [
        {
          "name": "stdout",
          "output_type": "stream",
          "text": [
            "arg1: 1\n",
            "args: (2, 3)\n",
            "kwargs: {}\n",
            "\n",
            "arg1: 1\n",
            "args: (2,)\n",
            "kwargs: {'speed': 3}\n",
            "\n"
          ]
        }
      ],
      "source": [
        "# *args, **kwargs\n",
        "\n",
        "def f(arg1, *args, **kwargs):\n",
        "    print('arg1:', arg1)\n",
        "    print('args:', args)            # tuple\n",
        "    print('kwargs:', kwargs)        # dict\n",
        "    print()\n",
        "\n",
        "\n",
        "f(1, 2, 3)\n",
        "f(1, 2, speed=3)"
      ]
    },
    {
      "cell_type": "code",
      "execution_count": 169,
      "metadata": {},
      "outputs": [
        {
          "name": "stdout",
          "output_type": "stream",
          "text": [
            "0 100\n",
            "0 10\n"
          ]
        }
      ],
      "source": [
        "max_episodes = 100\n",
        "\n",
        "def f(n_episodes=None):\n",
        "    for ep in range(n_episodes or max_episodes):        # for ep in range(n_episodes if n_episodes else max_episodes):\n",
        "        print(ep, n_episodes or max_episodes)           # short-circuit evaluation\n",
        "        break\n",
        "\n",
        "f()\n",
        "f(10)"
      ]
    },
    {
      "cell_type": "code",
      "execution_count": null,
      "metadata": {},
      "outputs": [
        {
          "name": "stdout",
          "output_type": "stream",
          "text": [
            "...fib(3)\n",
            "...fib(2)\n",
            "...fib(1)\n",
            "...fib(0)\n",
            "...fib(1)\n"
          ]
        },
        {
          "data": {
            "text/plain": [
              "2"
            ]
          },
          "metadata": {},
          "output_type": "display_data"
        }
      ],
      "source": [
        "# 재귀 함수(recurrent function): a fct calling itself inside def : usu. slow\n",
        "\n",
        "# 피보나치 수열: 0, 1, 1, 2, 3, 5, ...\n",
        "def fib(i):\n",
        "    print(f'...fib({i})')\n",
        "    if i <= 1:                      # 중단 조건\n",
        "        return i\n",
        "    return fib(i-1) + fib(i-2)      # 점화식/재귀식\n",
        "\n",
        "fib(3)    # return fib(2)+fib(1), fib(2)=fib(1)+fib(0)"
      ]
    },
    {
      "cell_type": "markdown",
      "metadata": {
        "id": "jtjSDedxvXmO"
      },
      "source": [
        "### quiz"
      ]
    },
    {
      "cell_type": "code",
      "execution_count": 182,
      "metadata": {
        "id": "R9ND4w1IvXMh"
      },
      "outputs": [
        {
          "data": {
            "text/plain": [
              "1624967"
            ]
          },
          "execution_count": 182,
          "metadata": {},
          "output_type": "execute_result"
        }
      ],
      "source": [
        "# 임의의 객체와 정수 nonce값에 대해 hash값을 주는 함수가 있을때,\n",
        "# hash값 처음 5자리가 '0'이 되는 nonce값을 구하시오 : ~ 비트코인 Proof of Work\n",
        "\n",
        "import json, hashlib\n",
        "\n",
        "def get_hash(obj, nonce):\n",
        "    obj_ = json.dumps(obj).encode()\n",
        "    nonce = str(nonce).encode()\n",
        "    return hashlib.sha256(obj_ + nonce).hexdigest()\n",
        "\n",
        "obj, nonce = dict(), 0\n",
        "while get_hash(obj, nonce)[:5] != '0' * 5:\n",
        "    nonce += 1\n",
        "nonce"
      ]
    },
    {
      "cell_type": "code",
      "execution_count": 184,
      "metadata": {},
      "outputs": [
        {
          "data": {
            "text/plain": [
              "'4a87bb9d804304a98ce20586bc5cb8ceb0c6f2235653d4259acef8e311fb184c'"
            ]
          },
          "execution_count": 184,
          "metadata": {},
          "output_type": "execute_result"
        },
        {
          "data": {
            "text/plain": [
              "64"
            ]
          },
          "execution_count": 184,
          "metadata": {},
          "output_type": "execute_result"
        }
      ],
      "source": [
        "h = get_hash(dict(), 0)\n",
        "h\n",
        "len(h)                  # 64자리 16진수"
      ]
    },
    {
      "cell_type": "code",
      "execution_count": 186,
      "metadata": {},
      "outputs": [
        {
          "data": {
            "text/plain": [
              "1857693"
            ]
          },
          "execution_count": 186,
          "metadata": {},
          "output_type": "execute_result"
        }
      ],
      "source": [
        "DIFFICULTY = 6\n",
        "\n",
        "obj, nonce = dict(), 0\n",
        "while get_hash(obj, nonce)[:DIFFICULTY] != '0' * DIFFICULTY:\n",
        "    nonce += 1\n",
        "nonce"
      ]
    },
    {
      "cell_type": "code",
      "execution_count": null,
      "metadata": {},
      "outputs": [],
      "source": []
    },
    {
      "cell_type": "code",
      "execution_count": 6,
      "metadata": {},
      "outputs": [
        {
          "data": {
            "text/plain": [
              "10"
            ]
          },
          "execution_count": 6,
          "metadata": {},
          "output_type": "execute_result"
        }
      ],
      "source": [
        "# local variable & global variable\n",
        "\n",
        "gvar = 10\n",
        "\n",
        "def f():\n",
        "    x = gvar        # can read global var inside def\n",
        "    return x\n",
        "\n",
        "f()"
      ]
    },
    {
      "cell_type": "code",
      "execution_count": 7,
      "metadata": {},
      "outputs": [
        {
          "name": "stdout",
          "output_type": "stream",
          "text": [
            "20\n"
          ]
        },
        {
          "data": {
            "text/plain": [
              "10"
            ]
          },
          "execution_count": 7,
          "metadata": {},
          "output_type": "execute_result"
        }
      ],
      "source": [
        "gvar = 10\n",
        "\n",
        "def g():\n",
        "    gvar = 20       # writes to gvar -> local var\n",
        "    return gvar\n",
        "\n",
        "print(g())\n",
        "gvar"
      ]
    },
    {
      "cell_type": "code",
      "execution_count": 14,
      "metadata": {},
      "outputs": [
        {
          "ename": "UnboundLocalError",
          "evalue": "cannot access local variable 'gvar' where it is not associated with a value",
          "output_type": "error",
          "traceback": [
            "\u001b[0;31m---------------------------------------------------------------------------\u001b[0m",
            "\u001b[0;31mUnboundLocalError\u001b[0m                         Traceback (most recent call last)",
            "Cell \u001b[0;32mIn[14], line 8\u001b[0m\n\u001b[1;32m      5\u001b[0m     gvar \u001b[38;5;241m=\u001b[39m \u001b[38;5;241m20\u001b[39m\n\u001b[1;32m      6\u001b[0m     \u001b[38;5;28;01mreturn\u001b[39;00m gvar\n\u001b[0;32m----> 8\u001b[0m \u001b[38;5;28mprint\u001b[39m(h())\n\u001b[1;32m      9\u001b[0m gvar\n",
            "Cell \u001b[0;32mIn[14], line 4\u001b[0m, in \u001b[0;36mh\u001b[0;34m()\u001b[0m\n\u001b[1;32m      3\u001b[0m \u001b[38;5;28;01mdef\u001b[39;00m \u001b[38;5;21mh\u001b[39m():\n\u001b[0;32m----> 4\u001b[0m     x \u001b[38;5;241m=\u001b[39m gvar\n\u001b[1;32m      5\u001b[0m     gvar \u001b[38;5;241m=\u001b[39m \u001b[38;5;241m20\u001b[39m\n\u001b[1;32m      6\u001b[0m     \u001b[38;5;28;01mreturn\u001b[39;00m gvar\n",
            "\u001b[0;31mUnboundLocalError\u001b[0m: cannot access local variable 'gvar' where it is not associated with a value"
          ]
        }
      ],
      "source": [
        "gvar = 10\n",
        "\n",
        "def h():\n",
        "    x = gvar\n",
        "    gvar = 20\n",
        "    return gvar\n",
        "\n",
        "print(h())\n",
        "gvar"
      ]
    },
    {
      "cell_type": "code",
      "execution_count": 9,
      "metadata": {},
      "outputs": [
        {
          "ename": "UnboundLocalError",
          "evalue": "cannot access local variable 'l' where it is not associated with a value",
          "output_type": "error",
          "traceback": [
            "\u001b[0;31m---------------------------------------------------------------------------\u001b[0m",
            "\u001b[0;31mUnboundLocalError\u001b[0m                         Traceback (most recent call last)",
            "Cell \u001b[0;32mIn[9], line 7\u001b[0m\n\u001b[1;32m      4\u001b[0m     l \u001b[38;5;241m+\u001b[39m\u001b[38;5;241m=\u001b[39m [\u001b[38;5;241m3\u001b[39m, \u001b[38;5;241m4\u001b[39m]\n\u001b[1;32m      5\u001b[0m     \u001b[38;5;28;01mreturn\u001b[39;00m l\n\u001b[0;32m----> 7\u001b[0m \u001b[38;5;28mprint\u001b[39m(f())\n\u001b[1;32m      8\u001b[0m l\n",
            "Cell \u001b[0;32mIn[9], line 4\u001b[0m, in \u001b[0;36mf\u001b[0;34m()\u001b[0m\n\u001b[1;32m      3\u001b[0m \u001b[38;5;28;01mdef\u001b[39;00m \u001b[38;5;21mf\u001b[39m():\n\u001b[0;32m----> 4\u001b[0m     l \u001b[38;5;241m+\u001b[39m\u001b[38;5;241m=\u001b[39m [\u001b[38;5;241m3\u001b[39m, \u001b[38;5;241m4\u001b[39m]\n\u001b[1;32m      5\u001b[0m     \u001b[38;5;28;01mreturn\u001b[39;00m l\n",
            "\u001b[0;31mUnboundLocalError\u001b[0m: cannot access local variable 'l' where it is not associated with a value"
          ]
        }
      ],
      "source": [
        "l = [1, 2]\n",
        "\n",
        "def f():\n",
        "    l += [3, 4]\n",
        "    return l\n",
        "\n",
        "print(f())\n",
        "l"
      ]
    },
    {
      "cell_type": "code",
      "execution_count": 10,
      "metadata": {},
      "outputs": [
        {
          "name": "stdout",
          "output_type": "stream",
          "text": [
            "[1, 2, 3]\n"
          ]
        },
        {
          "data": {
            "text/plain": [
              "[1, 2, 3]"
            ]
          },
          "execution_count": 10,
          "metadata": {},
          "output_type": "execute_result"
        }
      ],
      "source": [
        "l = [1, 2]\n",
        "\n",
        "def f():\n",
        "    l.append(3)         # mutable 자료형!\n",
        "    return l\n",
        "\n",
        "print(f())\n",
        "l"
      ]
    },
    {
      "cell_type": "code",
      "execution_count": 25,
      "metadata": {},
      "outputs": [
        {
          "name": "stdout",
          "output_type": "stream",
          "text": [
            "{'a': 1, 'b': 2, 'c': 3}\n"
          ]
        },
        {
          "data": {
            "text/plain": [
              "{'a': 1, 'b': 2, 'c': 3}"
            ]
          },
          "execution_count": 25,
          "metadata": {},
          "output_type": "execute_result"
        }
      ],
      "source": [
        "d = dict(a=1, b=2)\n",
        "\n",
        "def f():\n",
        "    d.update({'c': 3})      # mutable!\n",
        "    return d\n",
        "\n",
        "print(f())\n",
        "d"
      ]
    },
    {
      "cell_type": "code",
      "execution_count": 26,
      "metadata": {},
      "outputs": [
        {
          "name": "stdout",
          "output_type": "stream",
          "text": [
            "{1, 2, 3}\n"
          ]
        },
        {
          "data": {
            "text/plain": [
              "{1, 2, 3}"
            ]
          },
          "execution_count": 26,
          "metadata": {},
          "output_type": "execute_result"
        }
      ],
      "source": [
        "s = {1, 2}\n",
        "\n",
        "def f():\n",
        "    s.add(3)        # mutable!\n",
        "    return s\n",
        "\n",
        "print(f())\n",
        "s"
      ]
    },
    {
      "cell_type": "code",
      "execution_count": 29,
      "metadata": {},
      "outputs": [
        {
          "name": "stdout",
          "output_type": "stream",
          "text": [
            "0 1 2 3 4 5 6 7 8 9 \n",
            "0 1 2 3 4 5 6 7 8 9 \n"
          ]
        },
        {
          "data": {
            "text/plain": [
              "<generator object g at 0x3246057d0>"
            ]
          },
          "execution_count": 29,
          "metadata": {},
          "output_type": "execute_result"
        },
        {
          "data": {
            "text/plain": [
              "0"
            ]
          },
          "execution_count": 29,
          "metadata": {},
          "output_type": "execute_result"
        },
        {
          "data": {
            "text/plain": [
              "1"
            ]
          },
          "execution_count": 29,
          "metadata": {},
          "output_type": "execute_result"
        }
      ],
      "source": [
        "# yield : return 대신, generator 생성\n",
        "\n",
        "for i in range(10):\n",
        "    print(i, end=' ')\n",
        "print()\n",
        "\n",
        "\n",
        "def g(n):\n",
        "    for i in range(n):\n",
        "        yield i\n",
        "\n",
        "for i in g(10):\n",
        "    print(i, end=' ')\n",
        "print()\n",
        "\n",
        "\n",
        "it = g(10)\n",
        "it\n",
        "next(it)\n",
        "next(it)"
      ]
    },
    {
      "cell_type": "markdown",
      "metadata": {},
      "source": [
        "## lambda"
      ]
    },
    {
      "cell_type": "code",
      "execution_count": 52,
      "metadata": {},
      "outputs": [
        {
          "data": {
            "text/plain": [
              "4"
            ]
          },
          "execution_count": 52,
          "metadata": {},
          "output_type": "execute_result"
        }
      ],
      "source": [
        "# anonymous function\n",
        "\n",
        "def f(x):\n",
        "    return x ** 2\n",
        "\n",
        "\n",
        "f = lambda x: x ** 2        # identical\n",
        "\n",
        "f(2)"
      ]
    },
    {
      "cell_type": "code",
      "execution_count": 54,
      "metadata": {},
      "outputs": [
        {
          "data": {
            "text/plain": [
              "6"
            ]
          },
          "execution_count": 54,
          "metadata": {},
          "output_type": "execute_result"
        }
      ],
      "source": [
        "gvar = 1\n",
        "\n",
        "def f(x, y):\n",
        "    lvar = 2\n",
        "    return x + y + lvar\n",
        "\n",
        "f = lambda x, y: x + y + gvar       # local var 넣기 어려움\n",
        "\n",
        "f(2, 3)"
      ]
    },
    {
      "cell_type": "markdown",
      "metadata": {
        "id": "MLx1Y5r_RSOo"
      },
      "source": [
        "## .sort, sorted()"
      ]
    },
    {
      "cell_type": "code",
      "execution_count": 38,
      "metadata": {
        "id": "kMYQLu5LkR1s"
      },
      "outputs": [
        {
          "data": {
            "text/plain": [
              "[-4, -2, 1, 3, 5]"
            ]
          },
          "execution_count": 38,
          "metadata": {},
          "output_type": "execute_result"
        },
        {
          "data": {
            "text/plain": [
              "[1, -2, 3, -4, 5]"
            ]
          },
          "execution_count": 38,
          "metadata": {},
          "output_type": "execute_result"
        },
        {
          "data": {
            "text/plain": [
              "[-4, -2, 1, 3, 5]"
            ]
          },
          "execution_count": 38,
          "metadata": {},
          "output_type": "execute_result"
        }
      ],
      "source": [
        "# 리스트.sort()     # in-place 변환, -> None 반환\n",
        "# sorted(이터러블) -> sorted list 반환\n",
        "\n",
        "l = [1, -2, 3, -4, 5]\n",
        "sorted(l)               # sorted list 반환\n",
        "l                       # l은 원래 그대로\n",
        "\n",
        "l.sort()                # in-place sort, None 반환\n",
        "l                       # l 자체가 바뀜"
      ]
    },
    {
      "cell_type": "code",
      "execution_count": null,
      "metadata": {
        "id": "kYZ9iZqZkgnY"
      },
      "outputs": [],
      "source": [
        "# 리스트.sort(key=None, reverse=False)\n",
        "# sorted(이터러블, key=None, reverse=False)\n",
        "\n",
        "# key = one-arg callable(함수/메서드) -> 비교가능한 값(int, float, str/tuple/list/sequence, ...)"
      ]
    },
    {
      "cell_type": "code",
      "execution_count": 76,
      "metadata": {},
      "outputs": [
        {
          "data": {
            "text/plain": [
              "[-4, -2, 1, 3, 5]"
            ]
          },
          "execution_count": 76,
          "metadata": {},
          "output_type": "execute_result"
        },
        {
          "data": {
            "text/plain": [
              "[1, -2, 3, -4, 5]"
            ]
          },
          "execution_count": 76,
          "metadata": {},
          "output_type": "execute_result"
        },
        {
          "data": {
            "text/plain": [
              "['a', 'bc', 'def']"
            ]
          },
          "execution_count": 76,
          "metadata": {},
          "output_type": "execute_result"
        },
        {
          "data": {
            "text/plain": [
              "['a', 'bc', 'def']"
            ]
          },
          "execution_count": 76,
          "metadata": {},
          "output_type": "execute_result"
        }
      ],
      "source": [
        "l = [1, -2, 3, -4, 5]\n",
        "sorted(l)\n",
        "sorted(l, key=abs)      # abs(각 원소) 값을 기준으로 sort\n",
        "\n",
        "\n",
        "l = ['bc', 'a', 'def']\n",
        "sorted(l)\n",
        "sorted(l, key=len)      # len(각 원소) 값을 기준으로 sort"
      ]
    },
    {
      "cell_type": "code",
      "execution_count": 12,
      "metadata": {},
      "outputs": [
        {
          "data": {
            "text/plain": [
              "[-2, -4, 1, 3, 5]"
            ]
          },
          "execution_count": 12,
          "metadata": {},
          "output_type": "execute_result"
        }
      ],
      "source": [
        "l = [1, -2, 3, -4, 5]\n",
        "\n",
        "# 짝수 먼저, 절대값 오름차순으로\n",
        "sorted(l, key=lambda x: (x % 2, abs(x)))        # sequence/tuple comparison"
      ]
    },
    {
      "cell_type": "code",
      "execution_count": 13,
      "metadata": {},
      "outputs": [
        {
          "data": {
            "text/plain": [
              "[-4, -2, 5, 3, 1]"
            ]
          },
          "execution_count": 13,
          "metadata": {},
          "output_type": "execute_result"
        },
        {
          "data": {
            "text/plain": [
              "[-4, -2, 5, 3, 1]"
            ]
          },
          "execution_count": 13,
          "metadata": {},
          "output_type": "execute_result"
        }
      ],
      "source": [
        "# 짝수 먼저, 절대값 내림차순으로\n",
        "\n",
        "sorted(l, key=lambda x: (x % 2, -abs(x)))        # sequence/tuple comparison\n",
        "\n",
        "sorted(\n",
        "    sorted(l, key=abs, reverse=True),\n",
        "    key=lambda x: x % 2                     # sort할 기준값이 같을 경우 입력으로 주어진 순서 유지(stable sort)\n",
        ")"
      ]
    },
    {
      "cell_type": "markdown",
      "metadata": {},
      "source": [
        "## max/min"
      ]
    },
    {
      "cell_type": "code",
      "execution_count": 51,
      "metadata": {},
      "outputs": [
        {
          "data": {
            "text/plain": [
              "'29'"
            ]
          },
          "execution_count": 51,
          "metadata": {},
          "output_type": "execute_result"
        },
        {
          "data": {
            "text/plain": [
              "0"
            ]
          },
          "execution_count": 51,
          "metadata": {},
          "output_type": "execute_result"
        }
      ],
      "source": [
        "# max/min(iterable, key=one-arg callable)\n",
        "\n",
        "l = [28, 14, '29', 5, '9', '1', 0, 6, '23', 19]\n",
        "\n",
        "max(l, key=int)\n",
        "min(l, key=str)"
      ]
    },
    {
      "cell_type": "markdown",
      "metadata": {
        "id": "AzCcRNWaRWAM"
      },
      "source": [
        "## zip"
      ]
    },
    {
      "cell_type": "code",
      "execution_count": 62,
      "metadata": {},
      "outputs": [
        {
          "data": {
            "text/plain": [
              "<zip at 0x1098bd880>"
            ]
          },
          "execution_count": 62,
          "metadata": {},
          "output_type": "execute_result"
        },
        {
          "data": {
            "text/plain": [
              "[('a', 0), ('b', 1), ('c', 2)]"
            ]
          },
          "execution_count": 62,
          "metadata": {},
          "output_type": "execute_result"
        },
        {
          "name": "stdout",
          "output_type": "stream",
          "text": [
            "('a', 0)\n",
            "('b', 1)\n",
            "('c', 2)\n",
            "a 0\n",
            "b 1\n",
            "c 2\n"
          ]
        }
      ],
      "source": [
        "a = 'abc'\n",
        "b = range(3)\n",
        "\n",
        "zip(a, b)\n",
        "\n",
        "list(zip(a, b))\n",
        "\n",
        "for x in zip(a, b):\n",
        "    print(x)\n",
        "\n",
        "for x0, x1 in zip(a, b):\n",
        "    print(x0, x1)"
      ]
    },
    {
      "cell_type": "code",
      "execution_count": 1,
      "metadata": {
        "colab": {
          "base_uri": "https://localhost:8080/"
        },
        "id": "8p17-_AR0_km",
        "outputId": "6f91c831-ea52-492d-b410-f3b375329a7a"
      },
      "outputs": [
        {
          "data": {
            "text/plain": [
              "[('a', 0, 0), ('b', 1, 1), ('c', 2, 2)]"
            ]
          },
          "execution_count": 1,
          "metadata": {},
          "output_type": "execute_result"
        }
      ],
      "source": [
        "a = 'abcdef'\n",
        "b = range(3)\n",
        "c = range(5)\n",
        "\n",
        "result = zip(a, b, c)           # zip(*iterables, strict=False)\n",
        "list(result)                    # 가장 짧은거 기준 조용히 끝냄"
      ]
    },
    {
      "cell_type": "code",
      "execution_count": 67,
      "metadata": {},
      "outputs": [
        {
          "data": {
            "text/plain": [
              "[('a', 0, 0),\n",
              " ('b', 1, 1),\n",
              " ('c', 2, 2),\n",
              " ('d', None, 3),\n",
              " ('e', None, 4),\n",
              " ('f', None, None)]"
            ]
          },
          "execution_count": 67,
          "metadata": {},
          "output_type": "execute_result"
        },
        {
          "name": "stdout",
          "output_type": "stream",
          "text": [
            "a 0 0\n",
            "b 1 1\n",
            "c 2 2\n",
            "d 없음 3\n",
            "e 없음 4\n",
            "f 없음 없음\n"
          ]
        }
      ],
      "source": [
        "import itertools\n",
        "\n",
        "a = 'abcdef'\n",
        "b = range(3)\n",
        "c = range(5)\n",
        "\n",
        "list(itertools.zip_longest(a, b, c))    # fillvalue=None\n",
        "\n",
        "for x, y, z in itertools.zip_longest(a, b, c, fillvalue='없음'):\n",
        "    print(x, y, z)"
      ]
    },
    {
      "cell_type": "code",
      "execution_count": null,
      "metadata": {},
      "outputs": [],
      "source": []
    },
    {
      "cell_type": "code",
      "execution_count": 52,
      "metadata": {},
      "outputs": [
        {
          "data": {
            "text/plain": [
              "[(880, 'Bangladesh'),\n",
              " (55, 'Brazil'),\n",
              " (86, 'China'),\n",
              " (91, 'India'),\n",
              " (62, 'Indonesia'),\n",
              " (81, 'Japan'),\n",
              " (234, 'Nigeria'),\n",
              " (92, 'Pakistan'),\n",
              " (7, 'Russia'),\n",
              " (1, 'US')]"
            ]
          },
          "execution_count": 52,
          "metadata": {},
          "output_type": "execute_result"
        },
        {
          "data": {
            "text/plain": [
              "[(880, 55, 86, 91, 62, 81, 234, 92, 7, 1),\n",
              " ('Bangladesh',\n",
              "  'Brazil',\n",
              "  'China',\n",
              "  'India',\n",
              "  'Indonesia',\n",
              "  'Japan',\n",
              "  'Nigeria',\n",
              "  'Pakistan',\n",
              "  'Russia',\n",
              "  'US')]"
            ]
          },
          "execution_count": 52,
          "metadata": {},
          "output_type": "execute_result"
        }
      ],
      "source": [
        "codes = (880, 55, 86, 91, 62, 81, 234, 92, 7, 1)\n",
        "countries = 'Bangladesh Brazil China India Indonesia Japan Nigeria Pakistan Russia US'.split()\n",
        "\n",
        "list(zip(codes, countries))\n",
        "\n",
        "code_country = zip(codes, countries)\n",
        "list(zip(*code_country))                # 원래 대로\n",
        "# list(zip(*zip(codes, countries)))       # 원래 대로\n"
      ]
    },
    {
      "cell_type": "markdown",
      "metadata": {
        "id": "sEb7B6aLL9ei"
      },
      "source": [
        "## 표준 패키지: copy, random, math, time, datetime, collections(namedtuple, defaultdict), ..."
      ]
    },
    {
      "cell_type": "markdown",
      "metadata": {},
      "source": [
        "### copy"
      ]
    },
    {
      "cell_type": "code",
      "execution_count": 110,
      "metadata": {},
      "outputs": [
        {
          "data": {
            "text/plain": [
              "2"
            ]
          },
          "execution_count": 110,
          "metadata": {},
          "output_type": "execute_result"
        },
        {
          "data": {
            "text/plain": [
              "1"
            ]
          },
          "execution_count": 110,
          "metadata": {},
          "output_type": "execute_result"
        }
      ],
      "source": [
        "x = 1\n",
        "y = x\n",
        "\n",
        "x = 2\n",
        "x\n",
        "y       # 1 or 2?"
      ]
    },
    {
      "cell_type": "code",
      "execution_count": 111,
      "metadata": {},
      "outputs": [
        {
          "data": {
            "text/plain": [
              "[100, 2, 3]"
            ]
          },
          "execution_count": 111,
          "metadata": {},
          "output_type": "execute_result"
        },
        {
          "data": {
            "text/plain": [
              "[100, 2, 3]"
            ]
          },
          "execution_count": 111,
          "metadata": {},
          "output_type": "execute_result"
        }
      ],
      "source": [
        "x = [1, 2, 3]\n",
        "y = x               # mutable sequence\n",
        "\n",
        "x[0] = 100\n",
        "x\n",
        "y           # [1, 2, 3] or [100, 2, 3]?"
      ]
    },
    {
      "cell_type": "code",
      "execution_count": 112,
      "metadata": {},
      "outputs": [
        {
          "data": {
            "text/plain": [
              "{1, 2, 3, 5}"
            ]
          },
          "execution_count": 112,
          "metadata": {},
          "output_type": "execute_result"
        },
        {
          "data": {
            "text/plain": [
              "{1, 2, 3, 5}"
            ]
          },
          "execution_count": 112,
          "metadata": {},
          "output_type": "execute_result"
        }
      ],
      "source": [
        "x = {1, 2, 3}\n",
        "y = x               # set (mutable)\n",
        "\n",
        "x.add(5)\n",
        "x\n",
        "y"
      ]
    },
    {
      "cell_type": "code",
      "execution_count": 113,
      "metadata": {},
      "outputs": [
        {
          "data": {
            "text/plain": [
              "{'a': 1, 'b': 2, 'c': 10}"
            ]
          },
          "execution_count": 113,
          "metadata": {},
          "output_type": "execute_result"
        },
        {
          "data": {
            "text/plain": [
              "{'a': 1, 'b': 2, 'c': 10}"
            ]
          },
          "execution_count": 113,
          "metadata": {},
          "output_type": "execute_result"
        }
      ],
      "source": [
        "x = dict(a=1, b=2)\n",
        "y = x               # dict (mutable)\n",
        "\n",
        "x['c'] = 10\n",
        "x\n",
        "y"
      ]
    },
    {
      "cell_type": "code",
      "execution_count": 109,
      "metadata": {},
      "outputs": [
        {
          "data": {
            "text/plain": [
              "[100, 2, 3]"
            ]
          },
          "execution_count": 109,
          "metadata": {},
          "output_type": "execute_result"
        },
        {
          "data": {
            "text/plain": [
              "[1, 2, 3]"
            ]
          },
          "execution_count": 109,
          "metadata": {},
          "output_type": "execute_result"
        }
      ],
      "source": [
        "import copy\n",
        "\n",
        "x = [1, 2, 3]\n",
        "y = copy.copy(x)        # mutable 객체는 명시적 copy 필요\n",
        "\n",
        "x[0] = 100\n",
        "x\n",
        "y"
      ]
    },
    {
      "cell_type": "code",
      "execution_count": 116,
      "metadata": {},
      "outputs": [
        {
          "data": {
            "text/plain": [
              "[1, 2, 3, [4, 11, 12]]"
            ]
          },
          "execution_count": 116,
          "metadata": {},
          "output_type": "execute_result"
        },
        {
          "data": {
            "text/plain": [
              "[1, 2, 3, [4, 11, 12]]"
            ]
          },
          "execution_count": 116,
          "metadata": {},
          "output_type": "execute_result"
        }
      ],
      "source": [
        "x = [1, 2, 3, [10, 11, 12]]\n",
        "y = copy.copy(x)\n",
        "\n",
        "x[3][0] = 4\n",
        "x\n",
        "y"
      ]
    },
    {
      "cell_type": "code",
      "execution_count": 117,
      "metadata": {},
      "outputs": [
        {
          "data": {
            "text/plain": [
              "[1, 2, 3, [4, 11, 12]]"
            ]
          },
          "execution_count": 117,
          "metadata": {},
          "output_type": "execute_result"
        },
        {
          "data": {
            "text/plain": [
              "[1, 2, 3, [10, 11, 12]]"
            ]
          },
          "execution_count": 117,
          "metadata": {},
          "output_type": "execute_result"
        }
      ],
      "source": [
        "x = [1, 2, 3, [10, 11, 12]]\n",
        "y = copy.deepcopy(x)        # mutable 객체를 원소로 가진 mutable 객체인 경우\n",
        "\n",
        "x[3][0] = 4\n",
        "x\n",
        "y"
      ]
    },
    {
      "cell_type": "markdown",
      "metadata": {},
      "source": [
        "### random"
      ]
    },
    {
      "cell_type": "code",
      "execution_count": 17,
      "metadata": {
        "id": "TiaYb3ihh6d2"
      },
      "outputs": [
        {
          "data": {
            "text/plain": [
              "[7, 39, 12, 40, 2, 34]"
            ]
          },
          "execution_count": 17,
          "metadata": {},
          "output_type": "execute_result"
        },
        {
          "data": {
            "text/plain": [
              "[28, 19, 5, 8, 12, 19]"
            ]
          },
          "execution_count": 17,
          "metadata": {},
          "output_type": "execute_result"
        }
      ],
      "source": [
        "import random\n",
        "\n",
        "# 로또 6-45\n",
        "random.sample(range(1, 46), 6)      # random.sample(시퀀스, int) -> list : 비복원 추출\n",
        "\n",
        "result = [random.randrange(1, 46) for _ in range(6)]    # 복원 추출\n",
        "# result = []\n",
        "# for _ in range(6):\n",
        "#     result.append(random.randrange(1, 46))\n",
        "result"
      ]
    },
    {
      "cell_type": "code",
      "execution_count": 18,
      "metadata": {},
      "outputs": [
        {
          "data": {
            "text/plain": [
              "0"
            ]
          },
          "execution_count": 18,
          "metadata": {},
          "output_type": "execute_result"
        },
        {
          "data": {
            "text/plain": [
              "[2, 3, 4, 5, 6, 7, 8, 9, 10, 'J', 'Q', 'K', 'A']"
            ]
          },
          "execution_count": 18,
          "metadata": {},
          "output_type": "execute_result"
        },
        {
          "data": {
            "text/plain": [
              "[7, 9, 8, 10, 2, 'Q', 'A', 4, 'J', 3, 6, 'K', 5]"
            ]
          },
          "execution_count": 18,
          "metadata": {},
          "output_type": "execute_result"
        }
      ],
      "source": [
        "# random.choice(시퀀스) -> 랜덤 원소\n",
        "# random.shuffle(뮤터블시퀀스) -> in-place, -> None\n",
        "\n",
        "# 1명 당첨자 뽑기\n",
        "N = 10\n",
        "random.choice(range(N))\n",
        "\n",
        "# 카드 섞기\n",
        "cards = list(range(2, 11)) + list('JQKA')\n",
        "cards\n",
        "random.shuffle(cards)\n",
        "cards"
      ]
    },
    {
      "cell_type": "markdown",
      "metadata": {},
      "source": [
        "### math"
      ]
    },
    {
      "cell_type": "code",
      "execution_count": 133,
      "metadata": {},
      "outputs": [
        {
          "data": {
            "text/plain": [
              "2.718281828459045"
            ]
          },
          "execution_count": 133,
          "metadata": {},
          "output_type": "execute_result"
        },
        {
          "data": {
            "text/plain": [
              "1.4142135623730951"
            ]
          },
          "execution_count": 133,
          "metadata": {},
          "output_type": "execute_result"
        }
      ],
      "source": [
        "import math\n",
        "\n",
        "# math.floor\n",
        "# math.ceil\n",
        "\n",
        "math.exp(1)\n",
        "math.sqrt(2)"
      ]
    },
    {
      "cell_type": "markdown",
      "metadata": {},
      "source": [
        "### time"
      ]
    },
    {
      "cell_type": "code",
      "execution_count": 134,
      "metadata": {},
      "outputs": [
        {
          "data": {
            "text/plain": [
              "1725421213.792876"
            ]
          },
          "execution_count": 134,
          "metadata": {},
          "output_type": "execute_result"
        }
      ],
      "source": [
        "import time\n",
        "\n",
        "time.time()             # seconds since the Unix Epoch(1970.1.1 00:00:00 UTC)\n",
        "# time.sleep(seconds)"
      ]
    },
    {
      "cell_type": "code",
      "execution_count": 199,
      "metadata": {},
      "outputs": [
        {
          "name": "stdout",
          "output_type": "stream",
          "text": [
            "1.005초 소요\n",
            "1.003초 소요\n",
            "1.002초 소요\n",
            "1.003초 소요\n",
            "1.000초 소요\n",
            "총 5.018초 소요\n"
          ]
        }
      ],
      "source": [
        "t0 = time.time()\n",
        "\n",
        "for _ in range(5):\n",
        "    start = time.time()\n",
        "    # 뭔가 작업\n",
        "    time.sleep(1)\n",
        "    \n",
        "    end = time.time()\n",
        "    print(f'{end - start:.3f}초 소요')\n",
        "\n",
        "print(f'총 {time.time() - t0:.3f}초 소요')"
      ]
    },
    {
      "cell_type": "markdown",
      "metadata": {},
      "source": [
        "### datetime"
      ]
    },
    {
      "cell_type": "code",
      "execution_count": 37,
      "metadata": {},
      "outputs": [
        {
          "data": {
            "text/plain": [
              "datetime.datetime(2024, 9, 14, 16, 20, 13, 58592)"
            ]
          },
          "execution_count": 37,
          "metadata": {},
          "output_type": "execute_result"
        }
      ],
      "source": [
        "import datetime as dt\n",
        "\n",
        "x = dt.datetime.now()\n",
        "x"
      ]
    },
    {
      "cell_type": "code",
      "execution_count": 38,
      "metadata": {},
      "outputs": [
        {
          "data": {
            "text/plain": [
              "'2024.09.14 16:20:13'"
            ]
          },
          "execution_count": 38,
          "metadata": {},
          "output_type": "execute_result"
        },
        {
          "data": {
            "text/plain": [
              "'04:20 PM'"
            ]
          },
          "execution_count": 38,
          "metadata": {},
          "output_type": "execute_result"
        }
      ],
      "source": [
        "x.strftime('%Y.%m.%d %X')   # %H:%M:%S\n",
        "\n",
        "format(x, '%I:%M %p')"
      ]
    },
    {
      "cell_type": "code",
      "execution_count": 140,
      "metadata": {},
      "outputs": [
        {
          "data": {
            "text/plain": [
              "datetime.datetime(2024, 9, 4, 12, 43, 7)"
            ]
          },
          "execution_count": 140,
          "metadata": {},
          "output_type": "execute_result"
        }
      ],
      "source": [
        "y = '2024.09.04 12:43:07'\n",
        "dt.datetime.strptime(y, '%Y.%m.%d %X')"
      ]
    },
    {
      "cell_type": "markdown",
      "metadata": {},
      "source": [
        "### namedtuple"
      ]
    },
    {
      "cell_type": "code",
      "execution_count": 22,
      "metadata": {},
      "outputs": [
        {
          "data": {
            "text/plain": [
              "Record(name='James', age=30, height=175)"
            ]
          },
          "execution_count": 22,
          "metadata": {},
          "output_type": "execute_result"
        }
      ],
      "source": [
        "from collections import namedtuple\n",
        "\n",
        "Record = namedtuple('Record', 'name age height')    # ['name', 'age', 'height']\n",
        "\n",
        "t = Record('James', 30, 175)\n",
        "t = Record(name='James', age=30, height=175)    # identical\n",
        "t = Record(age=30, name='James', height=175)    # identical\n",
        "t"
      ]
    },
    {
      "cell_type": "code",
      "execution_count": 144,
      "metadata": {},
      "outputs": [
        {
          "data": {
            "text/plain": [
              "('James', 30, 175)"
            ]
          },
          "execution_count": 144,
          "metadata": {},
          "output_type": "execute_result"
        },
        {
          "data": {
            "text/plain": [
              "('James', 30, 175)"
            ]
          },
          "execution_count": 144,
          "metadata": {},
          "output_type": "execute_result"
        }
      ],
      "source": [
        "t[0], t[1], t[2]                # tuple\n",
        "t.name, t.age, t.height         # better: less bug, backward compatibility"
      ]
    },
    {
      "cell_type": "code",
      "execution_count": 146,
      "metadata": {},
      "outputs": [
        {
          "data": {
            "text/plain": [
              "__main__.Record"
            ]
          },
          "execution_count": 146,
          "metadata": {},
          "output_type": "execute_result"
        },
        {
          "data": {
            "text/plain": [
              "True"
            ]
          },
          "execution_count": 146,
          "metadata": {},
          "output_type": "execute_result"
        }
      ],
      "source": [
        "type(t)\n",
        "\n",
        "isinstance(t, tuple)"
      ]
    },
    {
      "cell_type": "markdown",
      "metadata": {},
      "source": [
        "### defaultdict"
      ]
    },
    {
      "cell_type": "code",
      "execution_count": 147,
      "metadata": {},
      "outputs": [
        {
          "ename": "KeyError",
          "evalue": "'c'",
          "output_type": "error",
          "traceback": [
            "\u001b[0;31m---------------------------------------------------------------------------\u001b[0m",
            "\u001b[0;31mKeyError\u001b[0m                                  Traceback (most recent call last)",
            "Cell \u001b[0;32mIn[147], line 3\u001b[0m\n\u001b[1;32m      1\u001b[0m d \u001b[38;5;241m=\u001b[39m \u001b[38;5;28mdict\u001b[39m(a\u001b[38;5;241m=\u001b[39m\u001b[38;5;241m1\u001b[39m, b\u001b[38;5;241m=\u001b[39m\u001b[38;5;241m2\u001b[39m)\n\u001b[0;32m----> 3\u001b[0m d[\u001b[38;5;124m'\u001b[39m\u001b[38;5;124mc\u001b[39m\u001b[38;5;124m'\u001b[39m]\n",
            "\u001b[0;31mKeyError\u001b[0m: 'c'"
          ]
        }
      ],
      "source": [
        "d = dict(a=1, b=2)\n",
        "\n",
        "d['c']"
      ]
    },
    {
      "cell_type": "code",
      "execution_count": 148,
      "metadata": {},
      "outputs": [
        {
          "name": "stdout",
          "output_type": "stream",
          "text": [
            "no d['c']\n"
          ]
        }
      ],
      "source": [
        "if 'c' in d:\n",
        "    print(d['c'])\n",
        "else:\n",
        "    print(\"no d['c']\")"
      ]
    },
    {
      "cell_type": "code",
      "execution_count": 34,
      "metadata": {},
      "outputs": [
        {
          "data": {
            "text/plain": [
              "0"
            ]
          },
          "execution_count": 34,
          "metadata": {},
          "output_type": "execute_result"
        },
        {
          "data": {
            "text/plain": [
              "defaultdict(int, {'a': 5, 'b': 4, 'c': 1})"
            ]
          },
          "execution_count": 34,
          "metadata": {},
          "output_type": "execute_result"
        },
        {
          "data": {
            "text/plain": [
              "{'a': 5, 'b': 4, 'c': 1}"
            ]
          },
          "execution_count": 34,
          "metadata": {},
          "output_type": "execute_result"
        },
        {
          "data": {
            "text/plain": [
              "{'c': 1, 'b': 4, 'a': 5}"
            ]
          },
          "execution_count": 34,
          "metadata": {},
          "output_type": "execute_result"
        }
      ],
      "source": [
        "from collections import defaultdict\n",
        "\n",
        "d = defaultdict(int)    # default_factory: no-arg callable\n",
        "int()\n",
        "\n",
        "s = 'ababaaabbc'        # 각 문자 개수 카운트\n",
        "for ch in s:\n",
        "    d[ch] += 1\n",
        "d\n",
        "\n",
        "d_ = {}\n",
        "for ch in s:\n",
        "    if ch not in d_:\n",
        "        d_[ch] = 0\n",
        "    d_[ch] += 1\n",
        "d_\n",
        "\n",
        "# 문자열.count 사용\n",
        "d_ = {}\n",
        "for ch in set(s):           # set(s)로 중복 제거\n",
        "    d_[ch] = s.count(ch)\n",
        "d_"
      ]
    },
    {
      "cell_type": "code",
      "execution_count": 35,
      "metadata": {},
      "outputs": [
        {
          "data": {
            "text/plain": [
              "[('a', 5), ('b', 4), ('c', 1)]"
            ]
          },
          "execution_count": 35,
          "metadata": {},
          "output_type": "execute_result"
        }
      ],
      "source": [
        "# 빈도 내림차순 sort\n",
        "\n",
        "sorted(d_.items(), key=lambda x: x[1], reverse=True)"
      ]
    },
    {
      "cell_type": "code",
      "execution_count": 193,
      "metadata": {},
      "outputs": [
        {
          "data": {
            "text/plain": [
              "['Kim J', 'Lee M', 'Park J', 'Kim Z']"
            ]
          },
          "execution_count": 193,
          "metadata": {},
          "output_type": "execute_result"
        },
        {
          "data": {
            "text/plain": [
              "defaultdict(list, {'Kim': ['J', 'Z'], 'Lee': ['M'], 'Park': ['J']})"
            ]
          },
          "execution_count": 193,
          "metadata": {},
          "output_type": "execute_result"
        }
      ],
      "source": [
        "d = defaultdict(list)       # (no-arg callable)\n",
        "\n",
        "names = 'Kim J_Lee M_Park J_Kim Z'.split('_')\n",
        "names\n",
        "for name in names:\n",
        "    a, b = name.split()     # 성, 이름\n",
        "    d[a].append(b)\n",
        "d"
      ]
    },
    {
      "cell_type": "code",
      "execution_count": 194,
      "metadata": {},
      "outputs": [
        {
          "data": {
            "text/plain": [
              "defaultdict(list, {'Kim': ['J', 'Z'], 'Lee': ['M'], 'Park': ['J']})"
            ]
          },
          "execution_count": 194,
          "metadata": {},
          "output_type": "execute_result"
        }
      ],
      "source": [
        "x = defaultdict(list, d)    # (default_factory, 초기화 딕트)\n",
        "x"
      ]
    },
    {
      "cell_type": "code",
      "execution_count": 195,
      "metadata": {},
      "outputs": [
        {
          "data": {
            "text/plain": [
              "False"
            ]
          },
          "execution_count": 195,
          "metadata": {},
          "output_type": "execute_result"
        },
        {
          "data": {
            "text/plain": [
              "defaultdict(list, {'Kim': ['J', 'Z'], 'Lee': ['M'], 'Park': ['J']})"
            ]
          },
          "execution_count": 195,
          "metadata": {},
          "output_type": "execute_result"
        }
      ],
      "source": [
        "'Jeong' in x\n",
        "x           # x['Jeong'] not created yet"
      ]
    },
    {
      "cell_type": "code",
      "execution_count": 196,
      "metadata": {},
      "outputs": [
        {
          "data": {
            "text/plain": [
              "[]"
            ]
          },
          "execution_count": 196,
          "metadata": {},
          "output_type": "execute_result"
        },
        {
          "data": {
            "text/plain": [
              "defaultdict(list,\n",
              "            {'Kim': ['J', 'Z'], 'Lee': ['M'], 'Park': ['J'], 'Jeong': []})"
            ]
          },
          "execution_count": 196,
          "metadata": {},
          "output_type": "execute_result"
        }
      ],
      "source": [
        "x['Jeong']          # x['Jeong'] is now created\n",
        "x"
      ]
    },
    {
      "cell_type": "code",
      "execution_count": null,
      "metadata": {},
      "outputs": [],
      "source": []
    },
    {
      "cell_type": "markdown",
      "metadata": {
        "id": "dLI6TKX2XLUi"
      },
      "source": [
        "## 예외 처리: assert, raise, try/except/else/finally"
      ]
    },
    {
      "cell_type": "code",
      "execution_count": 201,
      "metadata": {},
      "outputs": [
        {
          "ename": "AssertionError",
          "evalue": "",
          "output_type": "error",
          "traceback": [
            "\u001b[0;31m---------------------------------------------------------------------------\u001b[0m",
            "\u001b[0;31mAssertionError\u001b[0m                            Traceback (most recent call last)",
            "Cell \u001b[0;32mIn[201], line 3\u001b[0m\n\u001b[1;32m      1\u001b[0m ratio \u001b[38;5;241m=\u001b[39m \u001b[38;5;241m2\u001b[39m\n\u001b[0;32m----> 3\u001b[0m \u001b[38;5;28;01massert\u001b[39;00m \u001b[38;5;241m0\u001b[39m \u001b[38;5;241m<\u001b[39m\u001b[38;5;241m=\u001b[39m ratio \u001b[38;5;241m<\u001b[39m\u001b[38;5;241m=\u001b[39m \u001b[38;5;241m1\u001b[39m\n",
            "\u001b[0;31mAssertionError\u001b[0m: "
          ]
        }
      ],
      "source": [
        "ratio = 2\n",
        "\n",
        "assert 0 <= ratio <= 1"
      ]
    },
    {
      "cell_type": "code",
      "execution_count": 163,
      "metadata": {},
      "outputs": [
        {
          "name": "stdout",
          "output_type": "stream",
          "text": [
            "KeyError 'c'\n",
            "finally {'a': 1, 'b': 2}\n"
          ]
        }
      ],
      "source": [
        "d = dict(a=1, b=2)\n",
        "\n",
        "try:\n",
        "    d['c'] += 1\n",
        "except KeyError as e:       # KeyError가  나면\n",
        "    print('KeyError', e)\n",
        "else:                       # 에러 안 나면\n",
        "    print('No error')\n",
        "finally:                    # 항상 실행\n",
        "    print('finally', d)"
      ]
    },
    {
      "cell_type": "code",
      "execution_count": 166,
      "metadata": {},
      "outputs": [
        {
          "ename": "IndexError",
          "evalue": "",
          "output_type": "error",
          "traceback": [
            "\u001b[0;31m---------------------------------------------------------------------------\u001b[0m",
            "\u001b[0;31mIndexError\u001b[0m                                Traceback (most recent call last)",
            "Cell \u001b[0;32mIn[166], line 1\u001b[0m\n\u001b[0;32m----> 1\u001b[0m \u001b[38;5;28;01mraise\u001b[39;00m \u001b[38;5;167;01mIndexError\u001b[39;00m\n",
            "\u001b[0;31mIndexError\u001b[0m: "
          ]
        }
      ],
      "source": [
        "raise IndexError"
      ]
    },
    {
      "cell_type": "code",
      "execution_count": null,
      "metadata": {},
      "outputs": [],
      "source": []
    },
    {
      "cell_type": "markdown",
      "metadata": {
        "id": "hpYtMYMTKnnB"
      },
      "source": [
        "## 클래스: class, 속성(클래스/인스턴스), 메서드(클래스/인스턴스/스태틱)"
      ]
    },
    {
      "cell_type": "code",
      "execution_count": null,
      "metadata": {
        "id": "G1FCjs9IJPpW"
      },
      "outputs": [],
      "source": [
        "# class는 각 instance를 만드는 틀이며, 각 instance는 속성/메서드를 가짐\n",
        "# class는 자체의 속성과 메서드를 가질 수 있음(클래스 속성/메서드)\n",
        "\n",
        "# class 클래스명:\n",
        "# class 클래스명(상속할클래스):\n",
        "#     def __init__(self, 인수):\n",
        "#         초기화 코드(인스턴스 속성 등)\n",
        "#     def 인스턴스_메서드(self, 인수):\n",
        "#         pass\n",
        "\n",
        "# 인스턴스객체 = 클래스명(인수)"
      ]
    },
    {
      "cell_type": "code",
      "execution_count": 167,
      "metadata": {
        "id": "JHm0Wm8X2Z7o"
      },
      "outputs": [
        {
          "data": {
            "text/plain": [
              "<__main__.SampleClass at 0x119ecc210>"
            ]
          },
          "execution_count": 167,
          "metadata": {},
          "output_type": "execute_result"
        }
      ],
      "source": [
        "class SampleClass:              # (object) 기본 상속\n",
        "# class SampleClass(object):\n",
        "    \n",
        "    def __init__(self, num):    # 최초 setting/실행 => instance 생성\n",
        "        self.number = num           # instance attribute(속성)\n",
        "        self.string = str(num)      # instance attribute(속성)\n",
        "\n",
        "    def get_number_multiplied(self, times):     # instance method\n",
        "        return self.number * times\n",
        "    \n",
        "    def get_string_multiplied(self, times):     # instance method\n",
        "        return self.string * times\n",
        "\n",
        "\n",
        "sample = SampleClass(7)     # instance 생성 : __init__\n",
        "sample                      # instance 객체"
      ]
    },
    {
      "cell_type": "code",
      "execution_count": 45,
      "metadata": {
        "id": "qlprjJzD2rD6"
      },
      "outputs": [
        {
          "data": {
            "text/plain": [
              "7"
            ]
          },
          "execution_count": 45,
          "metadata": {},
          "output_type": "execute_result"
        },
        {
          "data": {
            "text/plain": [
              "21"
            ]
          },
          "execution_count": 45,
          "metadata": {},
          "output_type": "execute_result"
        },
        {
          "data": {
            "text/plain": [
              "'777'"
            ]
          },
          "execution_count": 45,
          "metadata": {},
          "output_type": "execute_result"
        }
      ],
      "source": [
        "sample.number                       # instance 속성\n",
        "\n",
        "sample.get_number_multiplied(3)     # instance method\n",
        "\n",
        "sample.get_string_multiplied(3)"
      ]
    },
    {
      "cell_type": "code",
      "execution_count": 170,
      "metadata": {
        "id": "lI7HkBJt2xj6"
      },
      "outputs": [
        {
          "data": {
            "text/plain": [
              "<__main__.SampleClass at 0x119ecc210>"
            ]
          },
          "execution_count": 170,
          "metadata": {},
          "output_type": "execute_result"
        },
        {
          "data": {
            "text/plain": [
              "SampleClass2('7')"
            ]
          },
          "execution_count": 170,
          "metadata": {},
          "output_type": "execute_result"
        }
      ],
      "source": [
        "# __repr__  : instance를 생성하는 표현, __str__ 없으면 fallback\n",
        "\n",
        "class SampleClass2(SampleClass):\n",
        "    def __repr__(self):                             # __init__ 없으면 parent __init__ 자동 호출\n",
        "        return f'SampleClass2({self.number!r})'\n",
        "\n",
        "\n",
        "sample2 = SampleClass2('7')\n",
        "sample\n",
        "sample2"
      ]
    },
    {
      "cell_type": "code",
      "execution_count": 171,
      "metadata": {},
      "outputs": [
        {
          "data": {
            "text/plain": [
              "\"SampleClass2('7')\""
            ]
          },
          "execution_count": 171,
          "metadata": {},
          "output_type": "execute_result"
        },
        {
          "name": "stdout",
          "output_type": "stream",
          "text": [
            "SampleClass2('7')\n"
          ]
        }
      ],
      "source": [
        "str(sample2)\n",
        "print(sample2)"
      ]
    },
    {
      "cell_type": "code",
      "execution_count": 174,
      "metadata": {},
      "outputs": [
        {
          "data": {
            "text/plain": [
              "<__main__.SampleClass at 0x119ecc210>"
            ]
          },
          "execution_count": 174,
          "metadata": {},
          "output_type": "execute_result"
        },
        {
          "data": {
            "text/plain": [
              "SampleClass2('7')"
            ]
          },
          "execution_count": 174,
          "metadata": {},
          "output_type": "execute_result"
        },
        {
          "name": "stdout",
          "output_type": "stream",
          "text": [
            "SampleClass2('7')\n"
          ]
        },
        {
          "data": {
            "text/plain": [
              "SampleClass2(7)"
            ]
          },
          "execution_count": 174,
          "metadata": {},
          "output_type": "execute_result"
        },
        {
          "name": "stdout",
          "output_type": "stream",
          "text": [
            "SampleClass2 with num=7\n"
          ]
        }
      ],
      "source": [
        "# __str__   : str, print\n",
        "\n",
        "class SampleClass3(SampleClass2):\n",
        "    def __str__(self):                                  # __init__ 없으면 parent __init__ 자동 호출\n",
        "        return f'SampleClass2 with num={self.number!r}'\n",
        "\n",
        "\n",
        "sample3 = SampleClass3(7)\n",
        "sample\n",
        "sample2\n",
        "print(sample2)\n",
        "sample3\n",
        "print(sample3)"
      ]
    },
    {
      "cell_type": "code",
      "execution_count": null,
      "metadata": {},
      "outputs": [],
      "source": []
    },
    {
      "cell_type": "code",
      "execution_count": 3,
      "metadata": {},
      "outputs": [],
      "source": [
        "import random\n",
        "\n",
        "\n",
        "class Blackjack:\n",
        "    def __init__(self):\n",
        "        self.cards = (list(range(2, 11)) + list('JQKA')) * 4\n",
        "        self.player = []\n",
        "        self.dealer = []\n",
        "\n",
        "    def __str__(self):\n",
        "        res = f'Player {self.player} {self.score(self.player)}\\t'\n",
        "        res += f'Dealer {self.dealer} {self.score(self.dealer)}'\n",
        "        return res\n",
        "\n",
        "    def pick_one_card(self):\n",
        "        # ix = random.choice(range(len(self.cards)))\n",
        "        # card = self.cards.pop(ix)\n",
        "        # return card\n",
        "        return self.cards.pop()\n",
        "    \n",
        "    def reset(self): \n",
        "        self.cards.extend(self.player)\n",
        "        self.cards.extend(self.dealer)\n",
        "        assert len(self.cards) == 13 * 4\n",
        "        \n",
        "        # for _ in range(3):\n",
        "        random.shuffle(self.cards)\n",
        "        self.player, self.dealer = [], []\n",
        "        for i in range(3):\n",
        "            card = self.pick_one_card()\n",
        "            if i % 2 == 0:\n",
        "                self.player.append(card)\n",
        "            else:\n",
        "                self.dealer.append(card)\n",
        "        # card = self.pick_one_card()\n",
        "        # self.dealer = [card]\n",
        "        print('\\n', self, 'game start!')\n",
        "\n",
        "    def score(self, cards):             # 일반 함수\n",
        "        score = 0\n",
        "        for card in cards:\n",
        "            if card == 'A':\n",
        "                continue\n",
        "            if str(card) in 'JQK':\n",
        "                score += 10\n",
        "            else:\n",
        "                score += card\n",
        "        if 'A' in cards:\n",
        "            count = cards.count('A')\n",
        "            score += count - 1\n",
        "            if score + 11 <= 21:\n",
        "                return score + 11\n",
        "            else:\n",
        "                return score + 1\n",
        "        return score\n",
        "    \n",
        "    def step(self, action):\n",
        "        assert action in 'hit stick'.split()\n",
        "        if action == 'hit':\n",
        "            self.hit()\n",
        "        else:\n",
        "            self.stick()\n",
        "\n",
        "    def hit(self):\n",
        "        card = self.pick_one_card()\n",
        "        self.player.append(card)\n",
        "        print(self)\n",
        "        if self.score(self.player) > 21:\n",
        "            print('Player lose')\n",
        "            self.reset()\n",
        "    \n",
        "    def stick(self):\n",
        "        player_score = self.score(self.player)\n",
        "        if player_score < self.score(self.dealer) <= 21:\n",
        "            print('Dealer win')\n",
        "            self.reset()\n",
        "            return\n",
        "        \n",
        "        while (dealer_score := self.score(self.dealer)) < player_score:\n",
        "            card = self.pick_one_card()\n",
        "            self.dealer.append(card)\n",
        "            print(self)\n",
        "        \n",
        "        print(self)\n",
        "        # dealer_score = self.score(self.dealer)\n",
        "        if dealer_score > 21:\n",
        "            print('Player win')\n",
        "        else:\n",
        "            if dealer_score == player_score:\n",
        "                print('Draw')\n",
        "            else:\n",
        "                print('Dealer win')\n",
        "        self.reset()"
      ]
    },
    {
      "cell_type": "code",
      "execution_count": 9,
      "metadata": {},
      "outputs": [
        {
          "name": "stdout",
          "output_type": "stream",
          "text": [
            "\n",
            " Player ['J', 10] 20\tDealer [8] 8 game start!\n"
          ]
        }
      ],
      "source": [
        "bj = Blackjack()\n",
        "bj.reset()"
      ]
    },
    {
      "cell_type": "code",
      "execution_count": 8,
      "metadata": {},
      "outputs": [
        {
          "name": "stdout",
          "output_type": "stream",
          "text": [
            "Player ['J', 3, 'Q'] 23\tDealer [4] 4\n",
            "Player lose\n",
            "\n",
            " Player [4, 'Q'] 14\tDealer [4] 4 game start!\n"
          ]
        }
      ],
      "source": [
        "bj.step('hit')"
      ]
    },
    {
      "cell_type": "code",
      "execution_count": 6,
      "metadata": {},
      "outputs": [
        {
          "name": "stdout",
          "output_type": "stream",
          "text": [
            "Player [6, 9, 'A', 'K'] 26\tDealer [10] 10\n",
            "Player lose\n",
            "\n",
            " Player [6, 7] 13\tDealer ['K'] 10 game start!\n"
          ]
        }
      ],
      "source": [
        "bj.step('hit')"
      ]
    },
    {
      "cell_type": "code",
      "execution_count": 10,
      "metadata": {},
      "outputs": [
        {
          "name": "stdout",
          "output_type": "stream",
          "text": [
            "Player ['J', 10] 20\tDealer [8, 8] 16\n",
            "Player ['J', 10] 20\tDealer [8, 8, 'A'] 17\n",
            "Player ['J', 10] 20\tDealer [8, 8, 'A', 'K'] 27\n",
            "Player ['J', 10] 20\tDealer [8, 8, 'A', 'K'] 27\n",
            "Player win\n",
            "\n",
            " Player [4, 5] 9\tDealer [3] 3 game start!\n"
          ]
        }
      ],
      "source": [
        "bj.step('stick')"
      ]
    },
    {
      "cell_type": "code",
      "execution_count": 191,
      "metadata": {},
      "outputs": [
        {
          "name": "stdout",
          "output_type": "stream",
          "text": [
            "\n",
            " Player ['K'] 10\tDealer ['Q'] 10 game start!\n",
            "Player ['K', 'A'] 21\tDealer ['Q'] 10\n",
            "Player ['K', 'A'] 21\tDealer ['Q', 6] 16\n",
            "Player ['K', 'A'] 21\tDealer ['Q', 6, 9] 25\n",
            "Player ['K', 'A'] 21\tDealer ['Q', 6, 9] 25\n",
            "Player win\n",
            "\n",
            " Player [7] 7\tDealer [3] 3 game start!\n"
          ]
        }
      ],
      "source": [
        "# bj = Blackjack()\n",
        "\n",
        "def policy(criterion):\n",
        "    # hit if score < criterion\n",
        "    assert criterion < 21\n",
        "    bj.reset()\n",
        "    while bj.score(bj.player) < criterion:\n",
        "        bj.step('hit')\n",
        "    if bj.score(bj.player) <= 21:\n",
        "        bj.step('stick')\n",
        "\n",
        "policy(17)"
      ]
    },
    {
      "cell_type": "code",
      "execution_count": null,
      "metadata": {},
      "outputs": [],
      "source": []
    },
    {
      "cell_type": "markdown",
      "metadata": {
        "id": "VnlzaCdgKuEK"
      },
      "source": [
        "## 외부 패키지: numpy, matplotlib, pandas"
      ]
    },
    {
      "cell_type": "markdown",
      "metadata": {},
      "source": [
        "### numpy\n",
        "- 빠른 숫자 연산(C로 구현), vectorized 연산\n",
        "- 과학 연산의 표준 -> pandas, pytorch\n",
        "- conda install numpy 또는 pip install numpy\n",
        "- import numpy as np"
      ]
    },
    {
      "cell_type": "code",
      "execution_count": 70,
      "metadata": {},
      "outputs": [
        {
          "data": {
            "text/plain": [
              "[2, 3, 4]"
            ]
          },
          "execution_count": 70,
          "metadata": {},
          "output_type": "execute_result"
        }
      ],
      "source": [
        "l = [1, 2, 3]\n",
        "\n",
        "# l의 각 원소에 1 더하기\n",
        "l_ = [n + 1 for n in l]\n",
        "l_"
      ]
    },
    {
      "cell_type": "code",
      "execution_count": 71,
      "metadata": {
        "id": "Ft2JyKrx4oAi"
      },
      "outputs": [
        {
          "data": {
            "text/plain": [
              "array([2, 3, 4])"
            ]
          },
          "execution_count": 71,
          "metadata": {},
          "output_type": "execute_result"
        }
      ],
      "source": [
        "import numpy as np\n",
        "\n",
        "a = np.array(l)\n",
        "a + 1               # vector 연산 및 broadcasting"
      ]
    },
    {
      "cell_type": "code",
      "execution_count": 73,
      "metadata": {},
      "outputs": [
        {
          "data": {
            "text/plain": [
              "1"
            ]
          },
          "execution_count": 73,
          "metadata": {},
          "output_type": "execute_result"
        },
        {
          "data": {
            "text/plain": [
              "(3,)"
            ]
          },
          "execution_count": 73,
          "metadata": {},
          "output_type": "execute_result"
        },
        {
          "data": {
            "text/plain": [
              "dtype('int64')"
            ]
          },
          "execution_count": 73,
          "metadata": {},
          "output_type": "execute_result"
        }
      ],
      "source": [
        "a.ndim\n",
        "a.shape\n",
        "a.dtype         # 통일된 데이터 타입"
      ]
    },
    {
      "cell_type": "code",
      "execution_count": 76,
      "metadata": {},
      "outputs": [
        {
          "data": {
            "text/plain": [
              "array([1, 3, 3])"
            ]
          },
          "execution_count": 76,
          "metadata": {},
          "output_type": "execute_result"
        },
        {
          "data": {
            "text/plain": [
              "dtype('int64')"
            ]
          },
          "execution_count": 76,
          "metadata": {},
          "output_type": "execute_result"
        }
      ],
      "source": [
        "a[1] = 3.6      # 조용히 소수점 이하 버림\n",
        "a\n",
        "a.dtype         # array 원소 모두 한 가지 type"
      ]
    },
    {
      "cell_type": "code",
      "execution_count": 82,
      "metadata": {},
      "outputs": [
        {
          "data": {
            "text/plain": [
              "array([[ 0,  1,  2,  3],\n",
              "       [ 4,  5,  6,  7],\n",
              "       [ 8,  9, 10, 11]])"
            ]
          },
          "execution_count": 82,
          "metadata": {},
          "output_type": "execute_result"
        },
        {
          "data": {
            "text/plain": [
              "True"
            ]
          },
          "execution_count": 82,
          "metadata": {},
          "output_type": "execute_result"
        },
        {
          "data": {
            "text/plain": [
              "array([[ 6,  7],\n",
              "       [10, 11]])"
            ]
          },
          "execution_count": 82,
          "metadata": {},
          "output_type": "execute_result"
        },
        {
          "data": {
            "text/plain": [
              "array([ 8,  9, 10, 11])"
            ]
          },
          "execution_count": 82,
          "metadata": {},
          "output_type": "execute_result"
        }
      ],
      "source": [
        "# 다차원 indexing, slicing\n",
        "\n",
        "a = np.arange(12).reshape(3, 4)     # reshape(*size)    # (2, -1)\n",
        "a\n",
        "\n",
        "a[0][2] == a[0, 2]                  # 2\n",
        "a[1:, 2:]\n",
        "a[-1]"
      ]
    },
    {
      "cell_type": "code",
      "execution_count": 85,
      "metadata": {},
      "outputs": [
        {
          "data": {
            "text/plain": [
              "array([18,  4, 63,  1, 11, 39, 89, 22, 29, 34])"
            ]
          },
          "execution_count": 85,
          "metadata": {},
          "output_type": "execute_result"
        },
        {
          "data": {
            "text/plain": [
              "array([ 1, 22, 11])"
            ]
          },
          "execution_count": 85,
          "metadata": {},
          "output_type": "execute_result"
        },
        {
          "data": {
            "text/plain": [
              "array([[ 1, 22],\n",
              "       [11, 39]])"
            ]
          },
          "execution_count": 85,
          "metadata": {},
          "output_type": "execute_result"
        }
      ],
      "source": [
        "# fancy indexing\n",
        "\n",
        "a = np.random.randint(100, size=10)     # size=int|shape\n",
        "a\n",
        "\n",
        "ixs = [3, 7, 4]             # list or ndarray\n",
        "a[ixs]\n",
        "\n",
        "ixs = [[3, 7], [4, 5]]\n",
        "a[ixs]                      # 인덱스 배열의 shape을 따름"
      ]
    },
    {
      "cell_type": "code",
      "execution_count": 88,
      "metadata": {},
      "outputs": [
        {
          "data": {
            "text/plain": [
              "array([[ 0,  1,  2,  3],\n",
              "       [ 4,  5,  6,  7],\n",
              "       [ 8,  9, 10, 11]])"
            ]
          },
          "execution_count": 88,
          "metadata": {},
          "output_type": "execute_result"
        },
        {
          "data": {
            "text/plain": [
              "array([ 2,  5, 11])"
            ]
          },
          "execution_count": 88,
          "metadata": {},
          "output_type": "execute_result"
        }
      ],
      "source": [
        "a = np.arange(12).reshape(3, 4)\n",
        "a\n",
        "\n",
        "rows = [0, 1, 2]\n",
        "cols = [2, 1, 3]\n",
        "a[rows, cols]"
      ]
    },
    {
      "cell_type": "code",
      "execution_count": 87,
      "metadata": {},
      "outputs": [
        {
          "data": {
            "text/plain": [
              "array([10,  8,  9])"
            ]
          },
          "execution_count": 87,
          "metadata": {},
          "output_type": "execute_result"
        }
      ],
      "source": [
        "a[2, [2, 0, 1]]         # [단순 인덱스, fancy index]"
      ]
    },
    {
      "cell_type": "code",
      "execution_count": 89,
      "metadata": {},
      "outputs": [
        {
          "data": {
            "text/plain": [
              "array([[ 6,  4,  5],\n",
              "       [10,  8,  9]])"
            ]
          },
          "execution_count": 89,
          "metadata": {},
          "output_type": "execute_result"
        }
      ],
      "source": [
        "a[1:, [2, 0, 1]]        # [슬라이싱, fancy index]"
      ]
    },
    {
      "cell_type": "code",
      "execution_count": 91,
      "metadata": {},
      "outputs": [
        {
          "data": {
            "text/plain": [
              "array([[ 0,  2],\n",
              "       [ 4,  6],\n",
              "       [ 8, 10]])"
            ]
          },
          "execution_count": 91,
          "metadata": {},
          "output_type": "execute_result"
        }
      ],
      "source": [
        "mask = [True, False, True, False]\n",
        "\n",
        "a[:, mask]"
      ]
    },
    {
      "cell_type": "code",
      "execution_count": null,
      "metadata": {},
      "outputs": [],
      "source": []
    },
    {
      "cell_type": "code",
      "execution_count": 92,
      "metadata": {},
      "outputs": [
        {
          "data": {
            "text/plain": [
              "array([0.        , 0.5       , 0.66666667, 0.75      , 0.8       ])"
            ]
          },
          "execution_count": 92,
          "metadata": {},
          "output_type": "execute_result"
        }
      ],
      "source": [
        "# vectorized 연산 : fast!\n",
        "\n",
        "np.arange(5) / np.arange(1, 6)"
      ]
    },
    {
      "cell_type": "code",
      "execution_count": 94,
      "metadata": {},
      "outputs": [
        {
          "data": {
            "text/plain": [
              "array([[1.        , 0.5       , 0.33333333],\n",
              "       [0.25      , 0.2       , 0.16666667],\n",
              "       [0.14285714, 0.125     , 0.11111111]])"
            ]
          },
          "execution_count": 94,
          "metadata": {},
          "output_type": "execute_result"
        }
      ],
      "source": [
        "a = np.arange(1, 10).reshape(3, 3)\n",
        "\n",
        "1. / a                  # scalar, (3, 3)"
      ]
    },
    {
      "cell_type": "code",
      "execution_count": 102,
      "metadata": {},
      "outputs": [
        {
          "data": {
            "text/plain": [
              "array([[0, 1, 2],\n",
              "       [3, 4, 5],\n",
              "       [6, 7, 8]])"
            ]
          },
          "execution_count": 102,
          "metadata": {},
          "output_type": "execute_result"
        },
        {
          "data": {
            "text/plain": [
              "array([[  1,   2,   4],\n",
              "       [  8,  16,  32],\n",
              "       [ 64, 128, 256]])"
            ]
          },
          "execution_count": 102,
          "metadata": {},
          "output_type": "execute_result"
        }
      ],
      "source": [
        "a = np.arange(9).reshape(3, 3)\n",
        "a\n",
        "2 ** a                  # scalar, (3, 3)"
      ]
    },
    {
      "cell_type": "code",
      "execution_count": 103,
      "metadata": {},
      "outputs": [
        {
          "data": {
            "text/plain": [
              "array([[ 1,  3,  5],\n",
              "       [ 4,  6,  8],\n",
              "       [ 7,  9, 11]])"
            ]
          },
          "execution_count": 103,
          "metadata": {},
          "output_type": "execute_result"
        }
      ],
      "source": [
        "# broadcasting\n",
        "\n",
        "b = np.array([1, 2, 3])     # (3,)\n",
        "\n",
        "a + b                       # -> (1, 3) -> (3, 3)"
      ]
    },
    {
      "cell_type": "code",
      "execution_count": 97,
      "metadata": {},
      "outputs": [
        {
          "data": {
            "text/plain": [
              "array([1, 2, 3, 4])"
            ]
          },
          "execution_count": 97,
          "metadata": {},
          "output_type": "execute_result"
        },
        {
          "data": {
            "text/plain": [
              "10"
            ]
          },
          "execution_count": 97,
          "metadata": {},
          "output_type": "execute_result"
        },
        {
          "data": {
            "text/plain": [
              "array([ 1,  3,  6, 10])"
            ]
          },
          "execution_count": 97,
          "metadata": {},
          "output_type": "execute_result"
        },
        {
          "data": {
            "text/plain": [
              "24"
            ]
          },
          "execution_count": 97,
          "metadata": {},
          "output_type": "execute_result"
        },
        {
          "data": {
            "text/plain": [
              "array([ 1,  2,  6, 24])"
            ]
          },
          "execution_count": 97,
          "metadata": {},
          "output_type": "execute_result"
        }
      ],
      "source": [
        "a = np.arange(1, 5)\n",
        "\n",
        "a\n",
        "np.sum(a)           # a.sum/mean/std/var/median()\n",
        "np.cumsum(a)        # a.cumsum()\n",
        "\n",
        "np.prod(a)          # a.prod()\n",
        "np.cumprod(a)       # a.cumprod()"
      ]
    },
    {
      "cell_type": "code",
      "execution_count": null,
      "metadata": {},
      "outputs": [],
      "source": []
    },
    {
      "cell_type": "code",
      "execution_count": 105,
      "metadata": {},
      "outputs": [
        {
          "data": {
            "text/plain": [
              "array([[0.40134299, 0.71341805, 0.43237125, 0.50659052],\n",
              "       [0.88347882, 0.81787167, 0.37447659, 0.43140682],\n",
              "       [0.69265181, 0.81503753, 0.8007632 , 0.38570936]])"
            ]
          },
          "execution_count": 105,
          "metadata": {},
          "output_type": "execute_result"
        },
        {
          "data": {
            "text/plain": [
              "0.374476594910243"
            ]
          },
          "execution_count": 105,
          "metadata": {},
          "output_type": "execute_result"
        },
        {
          "data": {
            "text/plain": [
              "array([0.40134299, 0.71341805, 0.37447659, 0.38570936])"
            ]
          },
          "execution_count": 105,
          "metadata": {},
          "output_type": "execute_result"
        },
        {
          "data": {
            "text/plain": [
              "array([0.40134299, 0.37447659, 0.38570936])"
            ]
          },
          "execution_count": 105,
          "metadata": {},
          "output_type": "execute_result"
        },
        {
          "data": {
            "text/plain": [
              "4"
            ]
          },
          "execution_count": 105,
          "metadata": {},
          "output_type": "execute_result"
        },
        {
          "data": {
            "text/plain": [
              "array([1, 1, 2, 0])"
            ]
          },
          "execution_count": 105,
          "metadata": {},
          "output_type": "execute_result"
        },
        {
          "data": {
            "text/plain": [
              "array([1, 0, 1])"
            ]
          },
          "execution_count": 105,
          "metadata": {},
          "output_type": "execute_result"
        }
      ],
      "source": [
        "a = np.random.rand(3, 4)        # (*shape) in [0, 1)\n",
        "\n",
        "a\n",
        "a.min()             # a.max()\n",
        "a.min(axis=0)       # a.max(axis=0)\n",
        "a.min(axis=1)       # a.max(axis=1)\n",
        "\n",
        "a.argmax()          # a.argmin()\n",
        "a.argmax(axis=0)\n",
        "a.argmax(axis=1)"
      ]
    },
    {
      "cell_type": "code",
      "execution_count": 106,
      "metadata": {},
      "outputs": [
        {
          "data": {
            "text/plain": [
              "array([[False,  True, False,  True],\n",
              "       [ True,  True, False, False],\n",
              "       [ True,  True,  True, False]])"
            ]
          },
          "execution_count": 106,
          "metadata": {},
          "output_type": "execute_result"
        }
      ],
      "source": [
        "a > .5              # ==, !=, >, >=, <, <="
      ]
    },
    {
      "cell_type": "code",
      "execution_count": 107,
      "metadata": {},
      "outputs": [
        {
          "data": {
            "text/plain": [
              "array([[False,  True, False, False],\n",
              "       [ True,  True, False, False],\n",
              "       [False,  True,  True, False]])"
            ]
          },
          "execution_count": 107,
          "metadata": {},
          "output_type": "execute_result"
        }
      ],
      "source": [
        "(a > .5) & (a > .7)"
      ]
    },
    {
      "cell_type": "code",
      "execution_count": 108,
      "metadata": {},
      "outputs": [
        {
          "data": {
            "text/plain": [
              "array([[False, False, False,  True],\n",
              "       [False, False, False, False],\n",
              "       [ True, False, False, False]])"
            ]
          },
          "execution_count": 108,
          "metadata": {},
          "output_type": "execute_result"
        }
      ],
      "source": [
        "(a > .5) & ~(a > .7)"
      ]
    },
    {
      "cell_type": "code",
      "execution_count": null,
      "metadata": {},
      "outputs": [],
      "source": []
    },
    {
      "cell_type": "markdown",
      "metadata": {},
      "source": [
        "### matplotlib\n",
        "- 출판 수준의 기본 visualization -> seaborn, plotly, Bokeh 등으로 발전\n",
        "- conda install matplotlib 또는 pip install matplotlib\n",
        "- import matplotlib.pyplot as plt"
      ]
    },
    {
      "cell_type": "code",
      "execution_count": 53,
      "metadata": {},
      "outputs": [
        {
          "data": {
            "text/plain": [
              "[<matplotlib.lines.Line2D at 0x32183d890>]"
            ]
          },
          "execution_count": 53,
          "metadata": {},
          "output_type": "execute_result"
        },
        {
          "data": {
            "image/png": "[encoded data removed]",
            "text/plain": [
              "<Figure size 640x480 with 1 Axes>"
            ]
          },
          "metadata": {},
          "output_type": "display_data"
        }
      ],
      "source": [
        "import numpy as np\n",
        "import matplotlib.pyplot as plt\n",
        "\n",
        "a = np.arange(10)\n",
        "plt.plot(a)             # (0, a[0]), (1, a[1]), ..."
      ]
    },
    {
      "cell_type": "code",
      "execution_count": 54,
      "metadata": {},
      "outputs": [
        {
          "data": {
            "text/plain": [
              "[<matplotlib.lines.Line2D at 0x3246149d0>]"
            ]
          },
          "execution_count": 54,
          "metadata": {},
          "output_type": "execute_result"
        },
        {
          "data": {
            "image/png": "[encoded data removed]",
            "text/plain": [
              "<Figure size 640x480 with 1 Axes>"
            ]
          },
          "metadata": {},
          "output_type": "display_data"
        }
      ],
      "source": [
        "plt.plot(range(1, 11), a)       # plt.plot(x어레이, y어레이)"
      ]
    },
    {
      "cell_type": "code",
      "execution_count": 116,
      "metadata": {},
      "outputs": [
        {
          "data": {
            "image/png": "[encoded data removed]",
            "text/plain": [
              "<Figure size 640x480 with 2 Axes>"
            ]
          },
          "metadata": {},
          "output_type": "display_data"
        }
      ],
      "source": [
        "scores = np.random.randint(10, size=10)\n",
        "losses = np.random.rand(10)\n",
        "\n",
        "fig, ax = plt.subplots(2, 1)        # nrow, ncol\n",
        "ax[0].plot(scores, label='Score')\n",
        "ax[0].legend()\n",
        "\n",
        "ax[1].plot(losses, label='Loss', color='red', linestyle='--')\n",
        "ax[1].set(xlabel='Episode')\n",
        "ax[1].legend();"
      ]
    },
    {
      "cell_type": "code",
      "execution_count": null,
      "metadata": {},
      "outputs": [],
      "source": []
    },
    {
      "cell_type": "markdown",
      "metadata": {},
      "source": [
        "### pandas\n",
        "- index, column => easy data manipulation\n",
        "- Series, DataFrame\n",
        "- conda install pandas 또는 pip install pandas\n",
        "- import pandas as pd"
      ]
    },
    {
      "cell_type": "code",
      "execution_count": null,
      "metadata": {},
      "outputs": [],
      "source": []
    },
    {
      "cell_type": "markdown",
      "metadata": {},
      "source": [
        "# AI & ML\n",
        "- Artificial Intelligence, Machine Learning\n",
        "- 특성 추출 from data : scikit-learn\n",
        "- kaggle.com"
      ]
    },
    {
      "cell_type": "markdown",
      "metadata": {
        "id": "4-I7dPr114Xa"
      },
      "source": [
        "# Deep Learning (DL)\n",
        "- 1989: neural networks (nn) and DL as a way of replacing any mathematical function in an approximate way(George Cybenko, Approximation by Superpositions of Sigmoidal Functions)\n",
        "- GPU for gaming : performance & affordability\n",
        "- 2009: training nn is based on performing lots of matrix operations and these GPUs can speed up training as well as make larger, deeper architectures(Rajat Raina et al., Large-Scale Deep Unsupervised Learning Using Graphics Processors)\n",
        "- 2010s: Dropout 등 DL technic 발전 -> TPU\n",
        "- 2012년까지 ImageNet competition (14 million+ pictures, manually labeled into 20000 categories) error rate 25% -> DL(AlexNet w/ MaxPool, Dropout, ReLU) 16%로 우승\n",
        "- 2015, ResNet(Microsoft) 3.6% (사람 평균 5%)"
      ]
    },
    {
      "cell_type": "markdown",
      "metadata": {},
      "source": [
        "# Deep Reinforcement Learning (DRL)\n",
        "- dynamic programming (DP) and optimal control =>\n",
        "- Deep Reinforcement Learning\n",
        "- Markov Decision Process (MDP)\n",
        "- given state, take action, and observe next_state and reward => maximize total discounted reward"
      ]
    },
    {
      "cell_type": "code",
      "execution_count": null,
      "metadata": {
        "id": "QeOTFk4214D6"
      },
      "outputs": [],
      "source": []
    },
    {
      "cell_type": "markdown",
      "metadata": {
        "id": "ZIPhHXTA1epQ"
      },
      "source": [
        "# pytorch\n",
        "- open source library released by formerly Facebook(now Meta) in 2017\n",
        "- rivaled by Keras/Tensorflow (Google)\n",
        "- 설치: pytorch.org"
      ]
    },
    {
      "cell_type": "markdown",
      "metadata": {},
      "source": [
        "## tensor"
      ]
    },
    {
      "cell_type": "code",
      "execution_count": 126,
      "metadata": {
        "id": "rsh2xpqW1eS7"
      },
      "outputs": [
        {
          "data": {
            "text/plain": [
              "1"
            ]
          },
          "execution_count": 126,
          "metadata": {},
          "output_type": "execute_result"
        },
        {
          "data": {
            "text/plain": [
              "1"
            ]
          },
          "execution_count": 126,
          "metadata": {},
          "output_type": "execute_result"
        },
        {
          "data": {
            "text/plain": [
              "torch.Size([3])"
            ]
          },
          "execution_count": 126,
          "metadata": {},
          "output_type": "execute_result"
        },
        {
          "data": {
            "text/plain": [
              "torch.int64"
            ]
          },
          "execution_count": 126,
          "metadata": {},
          "output_type": "execute_result"
        },
        {
          "data": {
            "text/plain": [
              "device(type='cpu')"
            ]
          },
          "execution_count": 126,
          "metadata": {},
          "output_type": "execute_result"
        },
        {
          "data": {
            "text/plain": [
              "False"
            ]
          },
          "execution_count": 126,
          "metadata": {},
          "output_type": "execute_result"
        }
      ],
      "source": [
        "import torch\n",
        "\n",
        "t = torch.tensor([1, 2, 3])\n",
        "\n",
        "t.ndim              # t.dim()\n",
        "t.shape             # t.size()\n",
        "t.dtype\n",
        "\n",
        "t.device\n",
        "t.requires_grad"
      ]
    },
    {
      "cell_type": "code",
      "execution_count": 117,
      "metadata": {},
      "outputs": [
        {
          "data": {
            "text/plain": [
              "(torch.int64, torch.Size([2, 2]))"
            ]
          },
          "execution_count": 117,
          "metadata": {},
          "output_type": "execute_result"
        }
      ],
      "source": [
        "t = torch.tensor([[1, 2], [3, 4]])      # torch.int64\n",
        "\n",
        "t.dtype, t.shape"
      ]
    },
    {
      "cell_type": "code",
      "execution_count": 118,
      "metadata": {},
      "outputs": [
        {
          "data": {
            "text/plain": [
              "(torch.float32, torch.Size([2, 2]))"
            ]
          },
          "execution_count": 118,
          "metadata": {},
          "output_type": "execute_result"
        }
      ],
      "source": [
        "t = torch.tensor([[1., 2], [3, 4]])     # torch.float32\n",
        "\n",
        "t.dtype, t.shape"
      ]
    },
    {
      "cell_type": "code",
      "execution_count": 120,
      "metadata": {},
      "outputs": [
        {
          "data": {
            "text/plain": [
              "torch.float32"
            ]
          },
          "execution_count": 120,
          "metadata": {},
          "output_type": "execute_result"
        }
      ],
      "source": [
        "t = torch.Tensor([[1, 2], [3, 4]])\n",
        "# t.float()\n",
        "\n",
        "t.dtype"
      ]
    },
    {
      "cell_type": "code",
      "execution_count": 121,
      "metadata": {},
      "outputs": [
        {
          "data": {
            "text/plain": [
              "tensor([[0., 0.],\n",
              "        [0., 0.]])"
            ]
          },
          "execution_count": 121,
          "metadata": {},
          "output_type": "execute_result"
        }
      ],
      "source": [
        "t = torch.FloatTensor(2, 2)     # *size\n",
        "t = torch.Tensor(2, 2)          # *size\n",
        "t"
      ]
    },
    {
      "cell_type": "code",
      "execution_count": 123,
      "metadata": {},
      "outputs": [
        {
          "data": {
            "text/plain": [
              "array([[0., 0.],\n",
              "       [0., 0.]], dtype=float32)"
            ]
          },
          "execution_count": 123,
          "metadata": {},
          "output_type": "execute_result"
        },
        {
          "data": {
            "text/plain": [
              "[[0.0, 0.0], [0.0, 0.0]]"
            ]
          },
          "execution_count": 123,
          "metadata": {},
          "output_type": "execute_result"
        }
      ],
      "source": [
        "t.numpy()           # -> ndarray\n",
        "t.tolist()          # -> list"
      ]
    },
    {
      "cell_type": "code",
      "execution_count": null,
      "metadata": {},
      "outputs": [],
      "source": [
        "# torch.DoubleTensor    # float64\n",
        "\n",
        "# torch.LongTensor      # int64\n",
        "# t.long()\n",
        "# t.int()               # int32\n",
        "# torch.ByteTensor      # uint8\n",
        "# t.byte()"
      ]
    },
    {
      "cell_type": "code",
      "execution_count": 124,
      "metadata": {},
      "outputs": [
        {
          "data": {
            "text/plain": [
              "tensor([[1., 1., 1.],\n",
              "        [1., 1., 1.]])"
            ]
          },
          "execution_count": 124,
          "metadata": {},
          "output_type": "execute_result"
        }
      ],
      "source": [
        "torch.ones(2, 3)        # *size, float32"
      ]
    },
    {
      "cell_type": "code",
      "execution_count": 125,
      "metadata": {},
      "outputs": [
        {
          "data": {
            "text/plain": [
              "tensor([[0., 0., 0.],\n",
              "        [0., 0., 0.]])"
            ]
          },
          "execution_count": 125,
          "metadata": {},
          "output_type": "execute_result"
        }
      ],
      "source": [
        "torch.zeros(2, 3)       # *size, float32"
      ]
    },
    {
      "cell_type": "code",
      "execution_count": null,
      "metadata": {},
      "outputs": [],
      "source": []
    },
    {
      "cell_type": "code",
      "execution_count": 127,
      "metadata": {},
      "outputs": [
        {
          "data": {
            "text/plain": [
              "tensor([3., 7.])"
            ]
          },
          "execution_count": 127,
          "metadata": {},
          "output_type": "execute_result"
        },
        {
          "data": {
            "text/plain": [
              "tensor([[3.],\n",
              "        [7.]])"
            ]
          },
          "execution_count": 127,
          "metadata": {},
          "output_type": "execute_result"
        }
      ],
      "source": [
        "t = torch.Tensor([[1, 2], [3, 4]])\n",
        "\n",
        "t.sum(dim=-1)\n",
        "t.sum(dim=-1, keepdim=True)"
      ]
    },
    {
      "cell_type": "code",
      "execution_count": 128,
      "metadata": {},
      "outputs": [
        {
          "data": {
            "text/plain": [
              "0"
            ]
          },
          "execution_count": 128,
          "metadata": {},
          "output_type": "execute_result"
        }
      ],
      "source": [
        "torch.tensor([0]).item()    # scalar tensor -> scalar"
      ]
    },
    {
      "cell_type": "code",
      "execution_count": 131,
      "metadata": {},
      "outputs": [
        {
          "data": {
            "text/plain": [
              "tensor([4, 8, 6, 0, 5, 7, 1, 3, 9, 2])"
            ]
          },
          "execution_count": 131,
          "metadata": {},
          "output_type": "execute_result"
        }
      ],
      "source": [
        "torch.randperm(10)      # dtype=torch.int64"
      ]
    },
    {
      "cell_type": "code",
      "execution_count": null,
      "metadata": {},
      "outputs": [],
      "source": []
    },
    {
      "cell_type": "code",
      "execution_count": 129,
      "metadata": {},
      "outputs": [
        {
          "data": {
            "text/plain": [
              "tensor([[ 1.,  2.,  3.],\n",
              "        [ 4.,  5.,  6.],\n",
              "        [10., 11., 12.],\n",
              "        [13., 14., 15.]])"
            ]
          },
          "execution_count": 129,
          "metadata": {},
          "output_type": "execute_result"
        },
        {
          "data": {
            "text/plain": [
              "torch.Size([4, 3])"
            ]
          },
          "execution_count": 129,
          "metadata": {},
          "output_type": "execute_result"
        },
        {
          "data": {
            "text/plain": [
              "tensor([[ 1.,  2.,  3., 10., 11., 12.],\n",
              "        [ 4.,  5.,  6., 13., 14., 15.]])"
            ]
          },
          "execution_count": 129,
          "metadata": {},
          "output_type": "execute_result"
        },
        {
          "data": {
            "text/plain": [
              "torch.Size([2, 6])"
            ]
          },
          "execution_count": 129,
          "metadata": {},
          "output_type": "execute_result"
        }
      ],
      "source": [
        "# torch.cat([텐서1, 텐서2], dim=0)\n",
        "\n",
        "t1 = torch.Tensor([[1, 2, 3], [4, 5, 6]])\n",
        "t2 = torch.Tensor([[10, 11, 12], [13, 14, 15]])\n",
        "\n",
        "t3 = torch.cat([t1, t2])            # dim=0\n",
        "t3\n",
        "t3.shape\n",
        "\n",
        "t4 = torch.cat([t1, t2], dim=-1)\n",
        "t4\n",
        "t4.shape"
      ]
    },
    {
      "cell_type": "code",
      "execution_count": 130,
      "metadata": {},
      "outputs": [
        {
          "data": {
            "text/plain": [
              "tensor([[[ 1.,  2.,  3.],\n",
              "         [ 4.,  5.,  6.]],\n",
              "\n",
              "        [[10., 11., 12.],\n",
              "         [13., 14., 15.]]])"
            ]
          },
          "execution_count": 130,
          "metadata": {},
          "output_type": "execute_result"
        },
        {
          "data": {
            "text/plain": [
              "torch.Size([2, 2, 3])"
            ]
          },
          "execution_count": 130,
          "metadata": {},
          "output_type": "execute_result"
        },
        {
          "data": {
            "text/plain": [
              "tensor([[[ 1., 10.],\n",
              "         [ 2., 11.],\n",
              "         [ 3., 12.]],\n",
              "\n",
              "        [[ 4., 13.],\n",
              "         [ 5., 14.],\n",
              "         [ 6., 15.]]])"
            ]
          },
          "execution_count": 130,
          "metadata": {},
          "output_type": "execute_result"
        },
        {
          "data": {
            "text/plain": [
              "torch.Size([2, 3, 2])"
            ]
          },
          "execution_count": 130,
          "metadata": {},
          "output_type": "execute_result"
        }
      ],
      "source": [
        "# torch.stack([텐서1, 텐서2], dim=0)\n",
        "\n",
        "t5 = torch.stack([t1, t2])\n",
        "t5\n",
        "t5.shape\n",
        "\n",
        "t6 = torch.stack([t1, t2], dim=-1)\n",
        "t6\n",
        "t6.shape"
      ]
    },
    {
      "cell_type": "code",
      "execution_count": 132,
      "metadata": {},
      "outputs": [
        {
          "data": {
            "text/plain": [
              "tensor([[[25, 19, 23],\n",
              "         [21,  4, 17],\n",
              "         [ 7, 24, 18]],\n",
              "\n",
              "        [[12,  2,  9],\n",
              "         [20,  8, 13],\n",
              "         [ 3, 14, 11]],\n",
              "\n",
              "        [[10,  1, 26],\n",
              "         [15,  0,  5],\n",
              "         [ 6, 16, 22]]])"
            ]
          },
          "execution_count": 132,
          "metadata": {},
          "output_type": "execute_result"
        },
        {
          "data": {
            "text/plain": [
              "tensor([[0, 0, 1],\n",
              "        [0, 0, 1],\n",
              "        [2, 0, 2]])"
            ]
          },
          "execution_count": 132,
          "metadata": {},
          "output_type": "execute_result"
        },
        {
          "data": {
            "text/plain": [
              "tensor([[[0],\n",
              "         [0],\n",
              "         [1]],\n",
              "\n",
              "        [[0],\n",
              "         [0],\n",
              "         [1]],\n",
              "\n",
              "        [[2],\n",
              "         [0],\n",
              "         [2]]])"
            ]
          },
          "execution_count": 132,
          "metadata": {},
          "output_type": "execute_result"
        }
      ],
      "source": [
        "# 텐서.argmax(dim, keepdim=False)\n",
        "\n",
        "t = torch.randperm(3**3).reshape(3, 3, -1)      # (3, 3, 3)\n",
        "t\n",
        "t.argmax(-1)                                    # (3, 3)\n",
        "t.argmax(-1, keepdim=True)                      # (3, 3, 1)"
      ]
    },
    {
      "cell_type": "markdown",
      "metadata": {},
      "source": [
        "## Datasets\n",
        "- pytorch.org/vision/stable/datasets.html\n",
        "- All datasets have __getitem__ and __len__ => DataLoader"
      ]
    },
    {
      "cell_type": "code",
      "execution_count": 2,
      "metadata": {},
      "outputs": [
        {
          "data": {
            "text/plain": [
              "(torch.Size([10000, 28, 28]), torch.Size([10000]))"
            ]
          },
          "execution_count": 2,
          "metadata": {},
          "output_type": "execute_result"
        }
      ],
      "source": [
        "from torchvision.datasets import MNIST\n",
        "from torchvision import transforms\n",
        "\n",
        "transform = transforms.Compose([\n",
        "    transforms.ToTensor(),\n",
        "    transforms.Normalize((.5,), (1.,))\n",
        "])\n",
        "path = './data'\n",
        "trn_ds = MNIST(path, train=True, transform=transform, download=True)\n",
        "tst_ds = MNIST(path, train=False, transform=transform, download=True)\n",
        "\n",
        "type(trn_ds), len(trn_ds), type(trn_ds[0])\n",
        "trn_ds[0][0].shape, trn_ds[0][1]\n",
        "trn_ds.data.shape, trn_ds.targets.shape\n",
        "tst_ds.data.shape, tst_ds.targets.shape"
      ]
    },
    {
      "cell_type": "code",
      "execution_count": 4,
      "metadata": {},
      "outputs": [
        {
          "data": {
            "image/png": "[encoded data removed]",
            "text/plain": [
              "<Figure size 640x480 with 1 Axes>"
            ]
          },
          "metadata": {},
          "output_type": "display_data"
        }
      ],
      "source": [
        "import matplotlib.pyplot as plt\n",
        "\n",
        "plt.imshow(trn_ds[0][0][0].numpy());"
      ]
    },
    {
      "cell_type": "code",
      "execution_count": 5,
      "metadata": {},
      "outputs": [],
      "source": [
        "from torch.utils.data import DataLoader\n",
        "\n",
        "batch_size = 64\n",
        "trn_loader = DataLoader(trn_ds, batch_size=batch_size)      # shuffle=False\n",
        "tst_loader = DataLoader(tst_ds, batch_size=batch_size)      # shuffle=False"
      ]
    },
    {
      "cell_type": "code",
      "execution_count": 144,
      "metadata": {},
      "outputs": [
        {
          "data": {
            "text/plain": [
              "60000"
            ]
          },
          "execution_count": 144,
          "metadata": {},
          "output_type": "execute_result"
        },
        {
          "data": {
            "text/plain": [
              "938"
            ]
          },
          "execution_count": 144,
          "metadata": {},
          "output_type": "execute_result"
        }
      ],
      "source": [
        "n_sample = 0\n",
        "for imgs, lbls in trn_loader:\n",
        "    # print(imgs.shape)         # (bs, 1, 28, 28)\n",
        "    # print(lbls)\n",
        "    # break\n",
        "    n_sample += len(lbls)\n",
        "n_sample\n",
        "len(trn_loader)"
      ]
    },
    {
      "cell_type": "markdown",
      "metadata": {},
      "source": [
        "## nn"
      ]
    },
    {
      "cell_type": "code",
      "execution_count": 12,
      "metadata": {},
      "outputs": [
        {
          "data": {
            "text/plain": [
              "(0.8806833333333334, 0.39538298979965547)"
            ]
          },
          "execution_count": 12,
          "metadata": {},
          "output_type": "execute_result"
        }
      ],
      "source": [
        "import torch\n",
        "from torch import nn, optim\n",
        "\n",
        "# class DNN(nn.Module):\n",
        "#     def __init__(self):\n",
        "#         super().__init__()\n",
        "#         self.l0 = nn.Flatten()\n",
        "#         self.l1 = nn.Linear(28*28, 256)\n",
        "#         self.l2 = nn.Linear(256, 128)\n",
        "#         self.l3 = nn.Linear(128, 10)\n",
        "#     def forward(self, x):\n",
        "#         x = self.l0(x)\n",
        "#         x = nn.functional.relu(self.l1(x))\n",
        "#         x = nn.functional.relu(self.l2(x))\n",
        "#         return self.l3(x)\n",
        "\n",
        "net = nn.Sequential(                            # identical\n",
        "    nn.Flatten(),\n",
        "    nn.Linear(28 * 28, 256),    nn.ReLU(),\n",
        "    nn.Linear(256, 128),        nn.ReLU(),\n",
        "    nn.Linear(128, 10),\n",
        ")\n",
        "optimizer = optim.Adam(net.parameters())        # lr=1e-3\n",
        "loss_fn = nn.CrossEntropyLoss()\n",
        "\n",
        "total_correct, total_loss, n_sample = 0, 0, 0\n",
        "for imgs, lbls in trn_loader:\n",
        "    outs = net(imgs)                    # (bs, 10)\n",
        "    prds = outs.detach().argmax(-1)     # (bs,)\n",
        "    total_correct += (prds == lbls).sum().item()\n",
        "    n_sample += len(lbls)\n",
        "    \n",
        "    loss = loss_fn(outs, lbls)  # (bs, 10), (bs,)\n",
        "    optimizer.zero_grad()\n",
        "    loss.backward()\n",
        "    optimizer.step()\n",
        "    total_loss += float(loss.data.item())\n",
        "total_correct / n_sample, total_loss / len(trn_loader)"
      ]
    },
    {
      "cell_type": "code",
      "execution_count": null,
      "metadata": {},
      "outputs": [],
      "source": []
    },
    {
      "cell_type": "markdown",
      "metadata": {},
      "source": [
        "## Image Classification"
      ]
    },
    {
      "cell_type": "code",
      "execution_count": null,
      "metadata": {},
      "outputs": [],
      "source": [
        "# MNIST\n",
        "# FashionMNIST\n"
      ]
    },
    {
      "cell_type": "markdown",
      "metadata": {},
      "source": [
        "## openai gym\n",
        "- formerly openai gym, now gymnasium.farama.org\n",
        "- import gymnasium as gym"
      ]
    },
    {
      "cell_type": "code",
      "execution_count": 14,
      "metadata": {},
      "outputs": [
        {
          "data": {
            "text/plain": [
              "((4,), 2)"
            ]
          },
          "execution_count": 14,
          "metadata": {},
          "output_type": "execute_result"
        }
      ],
      "source": [
        "import random\n",
        "import gymnasium as gym\n",
        "\n",
        "env = gym.make('CartPole-v1')   # continuous state, discrete action\n",
        "state, _ = env.reset()\n",
        "\n",
        "env.observation_space.shape, env.action_space.n\n",
        "\n",
        "action = random.randrange(env.action_space.n)\n",
        "obs, reward, done, trunc, _ = env.step(action)"
      ]
    },
    {
      "cell_type": "code",
      "execution_count": 21,
      "metadata": {},
      "outputs": [
        {
          "data": {
            "text/plain": [
              "17.0"
            ]
          },
          "execution_count": 21,
          "metadata": {},
          "output_type": "execute_result"
        }
      ],
      "source": [
        "# random action, one episode\n",
        "import random\n",
        "\n",
        "n_action = env.action_space.n\n",
        "score = 0\n",
        "state, _ = env.reset()\n",
        "done = False\n",
        "while not done:\n",
        "    action = random.randrange(n_action)\n",
        "    obs, reward, done, trunc, _ = env.step(action)\n",
        "    score += reward\n",
        "    done = done or trunc\n",
        "    # state = obs\n",
        "score"
      ]
    },
    {
      "cell_type": "markdown",
      "metadata": {},
      "source": [
        "## Discrete MDP\n",
        "- Monte Carlo method\n",
        "- discrete Q-learning"
      ]
    },
    {
      "cell_type": "code",
      "execution_count": 66,
      "metadata": {},
      "outputs": [
        {
          "name": "stdout",
          "output_type": "stream",
          "text": [
            "(7, 5, 0) 0 1.0 True (7, 5, 0)\n"
          ]
        }
      ],
      "source": [
        "# Blackjack\n",
        "\n",
        "import random\n",
        "import gymnasium as gym\n",
        "\n",
        "env = gym.make('Blackjack-v1')\n",
        "state, _ = env.reset()\n",
        "done = False\n",
        "while not done:\n",
        "    action = random.randrange(2)\n",
        "    obs, reward, done, trunc, _ = env.step(action)\n",
        "    done = done or trunc\n",
        "    print(state, action, reward, done, obs)\n",
        "    state = obs"
      ]
    },
    {
      "cell_type": "markdown",
      "metadata": {},
      "source": [
        "### Monte Carlo"
      ]
    },
    {
      "cell_type": "code",
      "execution_count": 202,
      "metadata": {},
      "outputs": [
        {
          "name": "stderr",
          "output_type": "stream",
          "text": [
            "100%|██████████| 200000/200000 [00:09<00:00, 21339.28it/s]\n"
          ]
        },
        {
          "data": {
            "text/plain": [
              "(0.9994672711746165, -1.0)"
            ]
          },
          "execution_count": 202,
          "metadata": {},
          "output_type": "execute_result"
        },
        {
          "data": {
            "text/plain": [
              "(8141.0, 0.0)"
            ]
          },
          "execution_count": 202,
          "metadata": {},
          "output_type": "execute_result"
        }
      ],
      "source": [
        "from collections import namedtuple\n",
        "import numpy as np\n",
        "import gymnasium as gym\n",
        "from tqdm import tqdm\n",
        "\n",
        "gamma = .99\n",
        "env = gym.make('Blackjack-v1')\n",
        "\n",
        "Q = np.random.rand(32, 11, 2, 2) + 1e-5     # Q = np.zeros((32, 11, 2, 2))\n",
        "N = np.zeros((32, 11, 2, 2))\n",
        "Transition = namedtuple('Transition', 'state action reward done obs')\n",
        "\n",
        "def greedy_policy(state):\n",
        "    return Q[*state].argmax()\n",
        "\n",
        "for ep in tqdm(range(20_0000)):\n",
        "    state, _ = env.reset()\n",
        "    done = False\n",
        "    transitions = []\n",
        "    while not done:\n",
        "        action = greedy_policy(state)\n",
        "        obs, reward, done, trunc, _ = env.step(action)\n",
        "        done = done or trunc\n",
        "        # print(state, action, reward, done, obs)\n",
        "        transitions.append(Transition(state, action, reward, done, obs))\n",
        "        state = obs\n",
        "\n",
        "    G = 0\n",
        "    for state, action, reward, done, obs in transitions[::-1]:\n",
        "        G = reward + gamma * G\n",
        "        n = N[*state, action]\n",
        "        Q[*state, action] = (Q[*state, action] * n + G) / (n + 1)\n",
        "        N[*state, action] += 1\n",
        "    \n",
        "Q.max(), Q.min()\n",
        "N.max(), N.min()"
      ]
    },
    {
      "cell_type": "code",
      "execution_count": 203,
      "metadata": {},
      "outputs": [
        {
          "name": "stdout",
          "output_type": "stream",
          "text": [
            "(16, 8, 0) 0 -1.0 True (16, 8, 0)\n",
            "\n",
            "(12, 1, 0) 1 -1.0 True (22, 1, 0)\n",
            "\n",
            "(20, 10, 0) 0 1.0 True (20, 10, 0)\n",
            "\n",
            "(15, 10, 0) 1 0.0 False (17, 10, 0)\n",
            "(17, 10, 0) 0 -1.0 True (17, 10, 0)\n",
            "\n",
            "(13, 10, 0) 0 -1.0 True (13, 10, 0)\n",
            "\n",
            "(13, 5, 0) 0 -1.0 True (13, 5, 0)\n",
            "\n",
            "(16, 7, 1) 1 0.0 False (15, 7, 0)\n",
            "(15, 7, 0) 1 -1.0 True (25, 7, 0)\n",
            "\n",
            "(12, 2, 0) 1 -1.0 True (22, 2, 0)\n",
            "\n",
            "(20, 4, 0) 0 1.0 True (20, 4, 0)\n",
            "\n",
            "(14, 5, 0) 0 1.0 True (14, 5, 0)\n",
            "\n"
          ]
        },
        {
          "data": {
            "text/plain": [
              "0.3"
            ]
          },
          "execution_count": 203,
          "metadata": {},
          "output_type": "execute_result"
        }
      ],
      "source": [
        "# test\n",
        "\n",
        "def test(n_episode=10, verbose=False):\n",
        "    n_win = 0\n",
        "    for ep in range(n_episode):\n",
        "        state, _ = env.reset()\n",
        "        done = False\n",
        "        while not done:\n",
        "            action = greedy_policy(state)\n",
        "            obs, reward, done, trunc, _ = env.step(action)\n",
        "            done = done or trunc\n",
        "            if verbose:\n",
        "                print(state, action, reward, done, obs)\n",
        "            state = obs\n",
        "        n_win += reward > 0\n",
        "        if verbose:\n",
        "            print()\n",
        "    return n_win / n_episode\n",
        "\n",
        "test(10, True)\n"
      ]
    },
    {
      "cell_type": "code",
      "execution_count": 204,
      "metadata": {},
      "outputs": [
        {
          "data": {
            "text/plain": [
              "0.41207"
            ]
          },
          "execution_count": 204,
          "metadata": {},
          "output_type": "execute_result"
        }
      ],
      "source": [
        "test(10_0000)"
      ]
    },
    {
      "cell_type": "code",
      "execution_count": 205,
      "metadata": {},
      "outputs": [
        {
          "data": {
            "image/png": "[encoded data removed]",
            "text/plain": [
              "<Figure size 640x480 with 2 Axes>"
            ]
          },
          "metadata": {},
          "output_type": "display_data"
        }
      ],
      "source": [
        "from collections import defaultdict\n",
        "\n",
        "def plot_action_regions():\n",
        "    states = {}\n",
        "    for usable_ace in (1, 0):\n",
        "        states[usable_ace] = defaultdict(list)\n",
        "        for player in range(12, 22):\n",
        "            for dealer in range(1, 11):\n",
        "                state = player, dealer, usable_ace\n",
        "                # if not Q[*state].any():\n",
        "                #     continue\n",
        "                action = greedy_policy(state)\n",
        "                states[usable_ace][action].append((player, dealer))\n",
        "    \n",
        "    _, ax = plt.subplots(1, 2)\n",
        "    xs, ys = zip(*states[1][0])\n",
        "    ax[0].plot(ys, xs, 'bo', label='Stick')\n",
        "    xs, ys = zip(*states[1][1])\n",
        "    ax[0].plot(ys, xs, 'rx', label='Hit')\n",
        "    ax[0].set(xlabel='Dealer', ylabel='Player', title=f'usable_ace={True}')\n",
        "    ax[0].legend()\n",
        "\n",
        "    xs, ys = zip(*states[0][0])\n",
        "    ax[1].plot(ys, xs, 'bo', label='Stick')\n",
        "    xs, ys = zip(*states[0][1])\n",
        "    ax[1].plot(ys, xs, 'rx', label='Hit')\n",
        "    ax[1].set(xlabel='Dealer', title=f'usable_ace={False}')\n",
        "    ax[1].legend()\n",
        "    plt.show();\n",
        "\n",
        "\n",
        "plot_action_regions()"
      ]
    },
    {
      "cell_type": "code",
      "execution_count": 167,
      "metadata": {},
      "outputs": [
        {
          "data": {
            "image/png": "[encoded data removed]",
            "text/plain": [
              "<Figure size 640x480 with 1 Axes>"
            ]
          },
          "metadata": {},
          "output_type": "display_data"
        }
      ],
      "source": [
        "from collections import defaultdict\n",
        "\n",
        "def action_region(usable_ace=0):\n",
        "    states = defaultdict(list)\n",
        "    for player in range(Q.shape[0]):\n",
        "        for dealer in range(Q.shape[1]):\n",
        "            if not N[player, dealer, usable_ace].any():\n",
        "                continue\n",
        "            action = greedy_policy((player, dealer, usable_ace))\n",
        "            states[action].append((player, dealer))\n",
        "    \n",
        "    xs, ys = zip(*states[0])\n",
        "    plt.plot(xs, ys, 'bo', label='Action 0')\n",
        "    xs, ys = zip(*states[1])\n",
        "    plt.plot(xs, ys, 'rx', label='Action 1')\n",
        "    plt.title(f'usable_ace={usable_ace}')\n",
        "    plt.legend();\n",
        "    return states\n",
        "\n",
        "action_region();\n"
      ]
    },
    {
      "cell_type": "code",
      "execution_count": 168,
      "metadata": {},
      "outputs": [
        {
          "data": {
            "image/png": "[encoded data removed]",
            "text/plain": [
              "<Figure size 640x480 with 1 Axes>"
            ]
          },
          "metadata": {},
          "output_type": "display_data"
        }
      ],
      "source": [
        "action_region(1);"
      ]
    },
    {
      "cell_type": "code",
      "execution_count": 162,
      "metadata": {},
      "outputs": [
        {
          "data": {
            "text/plain": [
              "0.4005"
            ]
          },
          "execution_count": 162,
          "metadata": {},
          "output_type": "execute_result"
        }
      ],
      "source": [
        "test(10_0000, False)"
      ]
    },
    {
      "cell_type": "markdown",
      "metadata": {},
      "source": [
        "### q-learning"
      ]
    },
    {
      "cell_type": "code",
      "execution_count": 206,
      "metadata": {},
      "outputs": [
        {
          "name": "stderr",
          "output_type": "stream",
          "text": [
            "100%|██████████| 300000/300000 [00:14<00:00, 20351.32it/s]\n"
          ]
        },
        {
          "data": {
            "text/plain": [
              "(0.9999996013274375, -0.9999999999999865)"
            ]
          },
          "execution_count": 206,
          "metadata": {},
          "output_type": "execute_result"
        }
      ],
      "source": [
        "import random\n",
        "import numpy as np\n",
        "import gymnasium as gym\n",
        "from tqdm import tqdm\n",
        "\n",
        "alpha = .1\n",
        "gamma = .99\n",
        "env = gym.make('Blackjack-v1')\n",
        "\n",
        "Q = np.zeros((32, 11, 2, 2))        # Q = np.random.rand(32, 11, 2, 2)\n",
        "\n",
        "def greedy_policy(state):\n",
        "    return Q[*state].argmax()\n",
        "\n",
        "def eps_greedy_policy(state, eps=.1, n_action=2):\n",
        "    if random.random() < eps:\n",
        "        return random.randrange(n_action)\n",
        "    return greedy_policy(state)\n",
        "\n",
        "for ep in tqdm(range(30_0000)):\n",
        "    state, _ = env.reset()\n",
        "    done = False\n",
        "    while not done:\n",
        "        action = eps_greedy_policy(state)\n",
        "        obs, reward, done, trunc, _ = env.step(action)\n",
        "        done = done or trunc\n",
        "        # print(state, action, reward, done, obs)\n",
        "        q = Q[*state, action]\n",
        "        Q[*state, action] = q + alpha * (reward + (1 - done) * gamma * Q[*obs].max() - q)\n",
        "        state = obs\n",
        "Q.max(), Q.min()"
      ]
    },
    {
      "cell_type": "code",
      "execution_count": 207,
      "metadata": {},
      "outputs": [
        {
          "name": "stdout",
          "output_type": "stream",
          "text": [
            "(7, 7, 0) 1 0.0 False (16, 7, 0)\n",
            "(16, 7, 0) 0 -1.0 True (16, 7, 0)\n",
            "\n",
            "(12, 6, 0) 1 0.0 False (16, 6, 0)\n",
            "(16, 6, 0) 0 -1.0 True (16, 6, 0)\n",
            "\n",
            "(21, 1, 1) 0 1.0 True (21, 1, 1)\n",
            "\n",
            "(18, 6, 0) 0 0.0 True (18, 6, 0)\n",
            "\n",
            "(17, 4, 0) 0 1.0 True (17, 4, 0)\n",
            "\n",
            "(19, 8, 0) 0 1.0 True (19, 8, 0)\n",
            "\n",
            "(21, 10, 1) 0 1.0 True (21, 10, 1)\n",
            "\n",
            "(13, 10, 0) 1 -1.0 True (23, 10, 0)\n",
            "\n",
            "(13, 1, 0) 1 0.0 False (19, 1, 0)\n",
            "(19, 1, 0) 0 0.0 True (19, 1, 0)\n",
            "\n",
            "(12, 10, 0) 1 -1.0 True (22, 10, 0)\n",
            "\n"
          ]
        },
        {
          "data": {
            "text/plain": [
              "0.4"
            ]
          },
          "execution_count": 207,
          "metadata": {},
          "output_type": "execute_result"
        }
      ],
      "source": [
        "# test\n",
        "\n",
        "def test(n_episode=10, verbose=False):\n",
        "    n_win = 0\n",
        "    for ep in range(n_episode):\n",
        "        state, _ = env.reset()\n",
        "        done = False\n",
        "        while not done:\n",
        "            action = greedy_policy(state)\n",
        "            obs, reward, done, trunc, _ = env.step(action)\n",
        "            done = done or trunc\n",
        "            if verbose:\n",
        "                print(state, action, reward, done, obs)\n",
        "            state = obs\n",
        "        n_win += reward > 0\n",
        "        if verbose:\n",
        "            print()\n",
        "    return n_win / n_episode\n",
        "\n",
        "test(10, True)\n"
      ]
    },
    {
      "cell_type": "code",
      "execution_count": 208,
      "metadata": {},
      "outputs": [
        {
          "data": {
            "text/plain": [
              "0.42443"
            ]
          },
          "execution_count": 208,
          "metadata": {},
          "output_type": "execute_result"
        }
      ],
      "source": [
        "test(10_0000, False)"
      ]
    },
    {
      "cell_type": "code",
      "execution_count": 209,
      "metadata": {},
      "outputs": [
        {
          "data": {
            "image/png": "[encoded data removed]",
            "text/plain": [
              "<Figure size 640x480 with 2 Axes>"
            ]
          },
          "metadata": {},
          "output_type": "display_data"
        }
      ],
      "source": [
        "from collections import defaultdict\n",
        "\n",
        "def plot_action_regions():\n",
        "    states = {}\n",
        "    for usable_ace in (1, 0):\n",
        "        states[usable_ace] = defaultdict(list)\n",
        "        for player in range(12, 22):\n",
        "            for dealer in range(1, 11):\n",
        "                state = player, dealer, usable_ace\n",
        "                # if not Q[*state].any():\n",
        "                #     continue\n",
        "                action = greedy_policy(state)\n",
        "                states[usable_ace][action].append((player, dealer))\n",
        "    \n",
        "    _, ax = plt.subplots(1, 2)\n",
        "    xs, ys = zip(*states[1][0])\n",
        "    ax[0].plot(ys, xs, 'bo', label='Stick')\n",
        "    xs, ys = zip(*states[1][1])\n",
        "    ax[0].plot(ys, xs, 'rx', label='Hit')\n",
        "    ax[0].set(xlabel='Dealer', ylabel='Player', title=f'usable_ace={True}')\n",
        "    ax[0].legend()\n",
        "\n",
        "    xs, ys = zip(*states[0][0])\n",
        "    ax[1].plot(ys, xs, 'bo', label='Stick')\n",
        "    xs, ys = zip(*states[0][1])\n",
        "    ax[1].plot(ys, xs, 'rx', label='Hit')\n",
        "    ax[1].set(xlabel='Dealer', title=f'usable_ace={False}')\n",
        "    ax[1].legend()\n",
        "    plt.show();\n",
        "\n",
        "\n",
        "plot_action_regions()"
      ]
    },
    {
      "cell_type": "code",
      "execution_count": 155,
      "metadata": {},
      "outputs": [
        {
          "data": {
            "image/png": "[encoded data removed]",
            "text/plain": [
              "<Figure size 640x480 with 1 Axes>"
            ]
          },
          "metadata": {},
          "output_type": "display_data"
        }
      ],
      "source": [
        "from collections import defaultdict\n",
        "\n",
        "def action_region(usable_ace=0):\n",
        "    states = defaultdict(list)\n",
        "    for player in range(Q.shape[0]):\n",
        "        for dealer in range(Q.shape[1]):\n",
        "            state = player, dealer, usable_ace\n",
        "            if not Q[*state].any():\n",
        "                continue\n",
        "            action = greedy_policy(state)\n",
        "            states[action].append((player, dealer))\n",
        "    \n",
        "    xs, ys = zip(*states[0])\n",
        "    plt.plot(xs, ys, 'bo', label='Action 0')\n",
        "    xs, ys = zip(*states[1])\n",
        "    plt.plot(xs, ys, 'rx', label='Action 1')\n",
        "    plt.title(f'usable_ace={usable_ace}')\n",
        "    plt.legend();\n",
        "    return states\n",
        "\n",
        "action_region();\n"
      ]
    },
    {
      "cell_type": "code",
      "execution_count": 156,
      "metadata": {},
      "outputs": [
        {
          "data": {
            "image/png": "[encoded data removed]",
            "text/plain": [
              "<Figure size 640x480 with 1 Axes>"
            ]
          },
          "metadata": {},
          "output_type": "display_data"
        }
      ],
      "source": [
        "action_region(1);"
      ]
    },
    {
      "cell_type": "markdown",
      "metadata": {},
      "source": [
        "## DQN\n",
        "- Deep Q-Network with Experience Replay\n",
        "- => Double, Dueling, Prioritized Experience Replay"
      ]
    },
    {
      "cell_type": "code",
      "execution_count": null,
      "metadata": {},
      "outputs": [],
      "source": [
        "# CartPole"
      ]
    },
    {
      "cell_type": "markdown",
      "metadata": {},
      "source": [
        "## A2C\n",
        "- advantage actor-critic network\n",
        "- => A3C : asynchronous advantage actor-critic"
      ]
    },
    {
      "cell_type": "code",
      "execution_count": null,
      "metadata": {},
      "outputs": [],
      "source": [
        "# CartPole"
      ]
    },
    {
      "cell_type": "code",
      "execution_count": null,
      "metadata": {},
      "outputs": [],
      "source": []
    }
  ],
  "metadata": {
    "colab": {
      "provenance": [],
      "toc_visible": true
    },
    "kernelspec": {
      "display_name": "py311torch",
      "language": "python",
      "name": "python3"
    },
    "language_info": {
      "codemirror_mode": {
        "name": "ipython",
        "version": 3
      },
      "file_extension": ".py",
      "mimetype": "text/x-python",
      "name": "python",
      "nbconvert_exporter": "python",
      "pygments_lexer": "ipython3",
      "version": "3.11.9"
    }
  },
  "nbformat": 4,
  "nbformat_minor": 0
}
