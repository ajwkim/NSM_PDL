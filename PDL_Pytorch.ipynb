{
  "nbformat": 4,
  "nbformat_minor": 0,
  "metadata": {
    "colab": {
      "provenance": [],
      "toc_visible": true,
      "gpuType": "T4",
      "authorship_tag": "ABX9TyOAfDP8rMXxTJElSkwsaMtB",
      "include_colab_link": true
    },
    "kernelspec": {
      "name": "python3",
      "display_name": "Python 3"
    },
    "language_info": {
      "name": "python"
    }
  },
  "cells": [
    {
      "cell_type": "markdown",
      "metadata": {
        "id": "view-in-github",
        "colab_type": "text"
      },
      "source": [
        "<a href=\"https://colab.research.google.com/github/ajwkim/NSM_PDL/blob/main/PDL_Pytorch.ipynb\" target=\"_parent\"><img src=\"https://colab.research.google.com/assets/colab-badge.svg\" alt=\"Open In Colab\"/></a>"
      ]
    },
    {
      "cell_type": "markdown",
      "source": [
        "# Artificial Intelligence & Machine Learning\n",
        "- 특성 추출 from data: scikit-learn\n",
        "- kaggle.com"
      ],
      "metadata": {
        "id": "YP7ic-ctYclg"
      }
    },
    {
      "cell_type": "markdown",
      "source": [
        "## Deep Learning (DL)\n",
        "- 1989: neural networks (nn) and DL as a way of replacing any mathematical function in an approximate way(George Cybenko, Approximation by Superpositions of Sigmoidal Functions)\n",
        "- GPU for gaming : performance & affordability\n",
        "- 2009: training nn is based on performing lots of matrix operations and these GPUs can speed up training as well as make larger, deeper architectures(Rajat Raina et al., Large-Scale Deep Unsupervised Learning Using Graphics Processors)\n",
        "- 2010s: Dropout 등 DL technic 발전 -> TPU\n",
        "- 2012년까지 ImageNet competition (14 million+ pictures, manually labeled into 20000 categories) error rate 25% -> DL(AlexNet w/ MaxPool, Dropout, ReLU) 16%로 우승\n",
        "- 2015, ResNet(Microsoft) 3.6% (사람 평균 5%)"
      ],
      "metadata": {
        "id": "uFYRowajY0jd"
      }
    },
    {
      "cell_type": "markdown",
      "source": [
        "## Deep Reinforcement Learning (DRL)\n",
        "- dynamic programming (DP) and optimal control =>\n",
        "- Deep Reinforcement Learning\n",
        "- Markov Decision Process (MDP)\n",
        "- given state, take action, and observe next_state and reward => maximize total discounted reward"
      ],
      "metadata": {
        "id": "TGL3p57YY60c"
      }
    },
    {
      "cell_type": "markdown",
      "source": [
        "# pytorch\n",
        "- open source library released by formerly Facebook(now Meta) in 2017\n",
        "- rivaled by Keras/Tensorflow (Google)\n",
        "- 일관된/Pythonic 문법으로 연구용/논문 대다수에서 활용\n",
        "- 설치: pytorch.org"
      ],
      "metadata": {
        "id": "cPDFyUQUZCFd"
      }
    },
    {
      "cell_type": "code",
      "source": [
        "from IPython.core.interactiveshell import InteractiveShell\n",
        "InteractiveShell.ast_node_interactivity = 'all'             # 셀 내 모든 값 프린트, 기본은 'last_expr'"
      ],
      "metadata": {
        "id": "6K0G0RBEZcXe"
      },
      "execution_count": 2,
      "outputs": []
    },
    {
      "cell_type": "code",
      "source": [
        "import torch\n",
        "import numpy as np\n",
        "\n",
        "torch.__version__\n",
        "np.__version__"
      ],
      "metadata": {
        "colab": {
          "base_uri": "https://localhost:8080/",
          "height": 53
        },
        "id": "fDQJcJY2Y5ah",
        "outputId": "48733854-3a6d-490c-ca0e-94a53194ef4d"
      },
      "execution_count": 3,
      "outputs": [
        {
          "output_type": "execute_result",
          "data": {
            "text/plain": [
              "'2.6.0+cu124'"
            ],
            "application/vnd.google.colaboratory.intrinsic+json": {
              "type": "string"
            }
          },
          "metadata": {},
          "execution_count": 3
        },
        {
          "output_type": "execute_result",
          "data": {
            "text/plain": [
              "'2.0.2'"
            ],
            "application/vnd.google.colaboratory.intrinsic+json": {
              "type": "string"
            }
          },
          "metadata": {},
          "execution_count": 3
        }
      ]
    },
    {
      "cell_type": "markdown",
      "source": [
        "## tensor"
      ],
      "metadata": {
        "id": "p3vmD5LUZrA6"
      }
    },
    {
      "cell_type": "code",
      "execution_count": 4,
      "metadata": {
        "colab": {
          "base_uri": "https://localhost:8080/"
        },
        "id": "ASZcE_slYZpL",
        "outputId": "e261f62a-f30b-4b19-b746-dc2709b3cd58"
      },
      "outputs": [
        {
          "output_type": "execute_result",
          "data": {
            "text/plain": [
              "torch.Size([2, 2])"
            ]
          },
          "metadata": {},
          "execution_count": 4
        },
        {
          "output_type": "execute_result",
          "data": {
            "text/plain": [
              "torch.int64"
            ]
          },
          "metadata": {},
          "execution_count": 4
        },
        {
          "output_type": "execute_result",
          "data": {
            "text/plain": [
              "2"
            ]
          },
          "metadata": {},
          "execution_count": 4
        },
        {
          "output_type": "execute_result",
          "data": {
            "text/plain": [
              "device(type='cpu')"
            ]
          },
          "metadata": {},
          "execution_count": 4
        },
        {
          "output_type": "execute_result",
          "data": {
            "text/plain": [
              "False"
            ]
          },
          "metadata": {},
          "execution_count": 4
        }
      ],
      "source": [
        "# 텐서 생성 및 텐서의 속성\n",
        "\n",
        "data = [[1, 2], [3, 4]]\n",
        "a = np.array(data)\n",
        "\n",
        "t = torch.tensor(data)      # tensor creation from data\n",
        "\n",
        "t.shape         # t.size()\n",
        "t.dtype         # inferred dtype(int64)\n",
        "t.ndim          # t.dim()\n",
        "\n",
        "t.device\n",
        "t.requires_grad"
      ]
    },
    {
      "cell_type": "code",
      "source": [
        "t = torch.tensor([[1., 2], [3, 4]])\n",
        "\n",
        "t.dtype         # inferred dtype(float32)"
      ],
      "metadata": {
        "colab": {
          "base_uri": "https://localhost:8080/"
        },
        "id": "QfdxDH9faAft",
        "outputId": "eae61e42-fbd3-4aeb-db17-0203b79ab5c7"
      },
      "execution_count": 5,
      "outputs": [
        {
          "output_type": "execute_result",
          "data": {
            "text/plain": [
              "torch.float32"
            ]
          },
          "metadata": {},
          "execution_count": 5
        }
      ]
    },
    {
      "cell_type": "code",
      "source": [
        "# tensor creation from ndarray\n",
        "\n",
        "a = np.array(data)\n",
        "a\n",
        "a.dtype\n",
        "\n",
        "t = torch.from_numpy(a)     # torch.tensor(a)\n",
        "t\n",
        "t.dtype"
      ],
      "metadata": {
        "colab": {
          "base_uri": "https://localhost:8080/"
        },
        "id": "E4pWBnBfaL52",
        "outputId": "b52a5fa6-a7d4-414e-a5b5-4da2de9aed55"
      },
      "execution_count": 6,
      "outputs": [
        {
          "output_type": "execute_result",
          "data": {
            "text/plain": [
              "array([[1, 2],\n",
              "       [3, 4]])"
            ]
          },
          "metadata": {},
          "execution_count": 6
        },
        {
          "output_type": "execute_result",
          "data": {
            "text/plain": [
              "dtype('int64')"
            ]
          },
          "metadata": {},
          "execution_count": 6
        },
        {
          "output_type": "execute_result",
          "data": {
            "text/plain": [
              "tensor([[1, 2],\n",
              "        [3, 4]])"
            ]
          },
          "metadata": {},
          "execution_count": 6
        },
        {
          "output_type": "execute_result",
          "data": {
            "text/plain": [
              "torch.int64"
            ]
          },
          "metadata": {},
          "execution_count": 6
        }
      ]
    },
    {
      "cell_type": "code",
      "source": [
        "t.numpy()       # tensor -> ndarray\n",
        "t.tolist()      # tensor -> list"
      ],
      "metadata": {
        "colab": {
          "base_uri": "https://localhost:8080/"
        },
        "id": "VhydBVm3aYEu",
        "outputId": "fd000066-6457-4de3-fc7f-88605bff3dcb"
      },
      "execution_count": 7,
      "outputs": [
        {
          "output_type": "execute_result",
          "data": {
            "text/plain": [
              "array([[1, 2],\n",
              "       [3, 4]])"
            ]
          },
          "metadata": {},
          "execution_count": 7
        },
        {
          "output_type": "execute_result",
          "data": {
            "text/plain": [
              "[[1, 2], [3, 4]]"
            ]
          },
          "metadata": {},
          "execution_count": 7
        }
      ]
    },
    {
      "cell_type": "code",
      "source": [],
      "metadata": {
        "id": "AnoN6UoyaeJH"
      },
      "execution_count": null,
      "outputs": []
    },
    {
      "cell_type": "code",
      "source": [
        "# tensor creation : float32, Double, Long, ...\n",
        "\n",
        "t = torch.FloatTensor(data)     # float32\n",
        "t = torch.Tensor(data)\n",
        "# 텐서.float()\n",
        "\n",
        "t.dtype"
      ],
      "metadata": {
        "colab": {
          "base_uri": "https://localhost:8080/"
        },
        "id": "sUJBAkHZafn8",
        "outputId": "53bde4e1-8894-4d2e-a970-554cb74795df"
      },
      "execution_count": 8,
      "outputs": [
        {
          "output_type": "execute_result",
          "data": {
            "text/plain": [
              "torch.float32"
            ]
          },
          "metadata": {},
          "execution_count": 8
        }
      ]
    },
    {
      "cell_type": "code",
      "source": [
        "torch.FloatTensor(2, 3)         # *size\n",
        "torch.Tensor(2, 3)"
      ],
      "metadata": {
        "colab": {
          "base_uri": "https://localhost:8080/"
        },
        "id": "e1zinaTQa6Fn",
        "outputId": "ef141e28-9d4e-4e40-daa3-b7237b5a9fcd"
      },
      "execution_count": 9,
      "outputs": [
        {
          "output_type": "execute_result",
          "data": {
            "text/plain": [
              "tensor([[-8.8988e+18,  4.3161e-41, -8.8988e+18],\n",
              "        [ 4.3161e-41,  6.6380e-07,  1.0243e-11]])"
            ]
          },
          "metadata": {},
          "execution_count": 9
        },
        {
          "output_type": "execute_result",
          "data": {
            "text/plain": [
              "tensor([[-8.8987e+18,  4.3161e-41,  1.6462e+01],\n",
              "        [ 0.0000e+00,  4.4842e-44,  0.0000e+00]])"
            ]
          },
          "metadata": {},
          "execution_count": 9
        }
      ]
    },
    {
      "cell_type": "code",
      "source": [
        "torch.zeros(2, 3)               # *size, float32\n",
        "torch.zeros(2, 3).dtype"
      ],
      "metadata": {
        "colab": {
          "base_uri": "https://localhost:8080/"
        },
        "id": "DWr9mm7HbAd9",
        "outputId": "4d45120d-ad6a-4972-ebbd-3ba57ef81966"
      },
      "execution_count": 11,
      "outputs": [
        {
          "output_type": "execute_result",
          "data": {
            "text/plain": [
              "tensor([[0., 0., 0.],\n",
              "        [0., 0., 0.]])"
            ]
          },
          "metadata": {},
          "execution_count": 11
        },
        {
          "output_type": "execute_result",
          "data": {
            "text/plain": [
              "torch.float32"
            ]
          },
          "metadata": {},
          "execution_count": 11
        }
      ]
    },
    {
      "cell_type": "code",
      "source": [
        "torch.ones(2, 3)                # *size, float32\n",
        "torch.ones(2, 3).dtype"
      ],
      "metadata": {
        "colab": {
          "base_uri": "https://localhost:8080/"
        },
        "id": "sX0d9oK5bKei",
        "outputId": "03bb2b3d-3666-4fa7-eefb-61b9c03c2f16"
      },
      "execution_count": 12,
      "outputs": [
        {
          "output_type": "execute_result",
          "data": {
            "text/plain": [
              "tensor([[1., 1., 1.],\n",
              "        [1., 1., 1.]])"
            ]
          },
          "metadata": {},
          "execution_count": 12
        },
        {
          "output_type": "execute_result",
          "data": {
            "text/plain": [
              "torch.float32"
            ]
          },
          "metadata": {},
          "execution_count": 12
        }
      ]
    },
    {
      "cell_type": "code",
      "source": [],
      "metadata": {
        "id": "3s_kt7BqbQpn"
      },
      "execution_count": null,
      "outputs": []
    },
    {
      "cell_type": "code",
      "source": [
        "# torch.DoubleTensor        # float64\n",
        "\n",
        "# torch.LongTensor          # int64\n",
        "# t.long()\n",
        "\n",
        "# t.int()                   # int32\n",
        "\n",
        "# torch.ByteTensor          # uint8\n",
        "# t.byte()"
      ],
      "metadata": {
        "id": "w2jafqfybXYt"
      },
      "execution_count": null,
      "outputs": []
    },
    {
      "cell_type": "code",
      "source": [],
      "metadata": {
        "id": "H6qRrEDwbzux"
      },
      "execution_count": null,
      "outputs": []
    },
    {
      "cell_type": "code",
      "source": [],
      "metadata": {
        "id": "HSIFJsWUb0Sr"
      },
      "execution_count": null,
      "outputs": []
    }
  ]
}