{
  "nbformat": 4,
  "nbformat_minor": 0,
  "metadata": {
    "colab": {
      "provenance": [],
      "toc_visible": true,
      "gpuType": "T4",
      "mount_file_id": "https://github.com/ajwkim/NSM_PDL/blob/main/PDL_Pytorch.ipynb",
      "authorship_tag": "ABX9TyPxkFbZSoftlfKj+MfnTrUU",
      "include_colab_link": true
    },
    "kernelspec": {
      "name": "python3",
      "display_name": "Python 3"
    },
    "language_info": {
      "name": "python"
    },
    "accelerator": "GPU"
  },
  "cells": [
    {
      "cell_type": "markdown",
      "metadata": {
        "id": "view-in-github",
        "colab_type": "text"
      },
      "source": [
        "<a href=\"https://colab.research.google.com/github/ajwkim/NSM_PDL/blob/main/PDL_Pytorch.ipynb\" target=\"_parent\"><img src=\"https://colab.research.google.com/assets/colab-badge.svg\" alt=\"Open In Colab\"/></a>"
      ]
    },
    {
      "cell_type": "markdown",
      "source": [
        "# Artificial Intelligence & Machine Learning\n",
        "- 특성 추출 from data: scikit-learn\n",
        "- kaggle.com"
      ],
      "metadata": {
        "id": "YP7ic-ctYclg"
      }
    },
    {
      "cell_type": "markdown",
      "source": [
        "## Deep Learning (DL)\n",
        "- 1989: neural networks (nn) and DL as a way of replacing any mathematical function in an approximate way(George Cybenko, Approximation by Superpositions of Sigmoidal Functions)\n",
        "- GPU for gaming : performance & affordability\n",
        "- 2009: training nn is based on performing lots of matrix operations and these GPUs can speed up training as well as make larger, deeper architectures(Rajat Raina et al., Large-Scale Deep Unsupervised Learning Using Graphics Processors)\n",
        "- 2010s: Dropout 등 DL technic 발전 -> TPU\n",
        "- 2012년까지 ImageNet competition (14 million+ pictures, manually labeled into 20000 categories) error rate 25% -> DL(AlexNet w/ MaxPool, Dropout, ReLU) 16%로 우승\n",
        "- 2015, ResNet(Microsoft) 3.6% (사람 평균 5%)"
      ],
      "metadata": {
        "id": "uFYRowajY0jd"
      }
    },
    {
      "cell_type": "markdown",
      "source": [
        "## Deep Reinforcement Learning (DRL)\n",
        "- dynamic programming (DP) and optimal control =>\n",
        "- Deep Reinforcement Learning\n",
        "- Markov Decision Process (MDP)\n",
        "- given state, take action, and observe next_state and reward => maximize total discounted reward"
      ],
      "metadata": {
        "id": "TGL3p57YY60c"
      }
    },
    {
      "cell_type": "markdown",
      "source": [
        "# pytorch\n",
        "- open source library released by formerly Facebook(now Meta) in 2017\n",
        "- rivaled by Keras/Tensorflow (Google)\n",
        "- 일관된/Pythonic 문법으로 연구용/논문 대다수에서 활용\n",
        "- 설치: pytorch.org"
      ],
      "metadata": {
        "id": "cPDFyUQUZCFd"
      }
    },
    {
      "cell_type": "code",
      "source": [
        "from IPython.core.interactiveshell import InteractiveShell\n",
        "InteractiveShell.ast_node_interactivity = 'all'             # 셀 내 모든 값 프린트, 기본은 'last_expr'"
      ],
      "metadata": {
        "id": "6K0G0RBEZcXe"
      },
      "execution_count": null,
      "outputs": []
    },
    {
      "cell_type": "code",
      "source": [
        "import torch\n",
        "import numpy as np\n",
        "\n",
        "torch.__version__\n",
        "np.__version__"
      ],
      "metadata": {
        "colab": {
          "base_uri": "https://localhost:8080/",
          "height": 53
        },
        "id": "fDQJcJY2Y5ah",
        "outputId": "f5f25e92-c0d6-454a-c328-89695639809e"
      },
      "execution_count": null,
      "outputs": [
        {
          "output_type": "execute_result",
          "data": {
            "text/plain": [
              "'2.6.0+cu124'"
            ],
            "application/vnd.google.colaboratory.intrinsic+json": {
              "type": "string"
            }
          },
          "metadata": {},
          "execution_count": 2
        },
        {
          "output_type": "execute_result",
          "data": {
            "text/plain": [
              "'2.0.2'"
            ],
            "application/vnd.google.colaboratory.intrinsic+json": {
              "type": "string"
            }
          },
          "metadata": {},
          "execution_count": 2
        }
      ]
    },
    {
      "cell_type": "code",
      "source": [
        "torch.cuda.is_available()       # nvidia gpu (colab)\n",
        "\n",
        "device = 'cuda' if torch.cuda.is_available() else 'cpu'\n",
        "device"
      ],
      "metadata": {
        "colab": {
          "base_uri": "https://localhost:8080/",
          "height": 52
        },
        "id": "LcmeX4lmWip5",
        "outputId": "4a5bedc0-891e-448e-e001-628bc725e9f2"
      },
      "execution_count": null,
      "outputs": [
        {
          "output_type": "execute_result",
          "data": {
            "text/plain": [
              "True"
            ]
          },
          "metadata": {},
          "execution_count": 4
        },
        {
          "output_type": "execute_result",
          "data": {
            "text/plain": [
              "'cuda'"
            ],
            "application/vnd.google.colaboratory.intrinsic+json": {
              "type": "string"
            }
          },
          "metadata": {},
          "execution_count": 4
        }
      ]
    },
    {
      "cell_type": "markdown",
      "source": [
        "## tensor"
      ],
      "metadata": {
        "id": "p3vmD5LUZrA6"
      }
    },
    {
      "cell_type": "code",
      "execution_count": null,
      "metadata": {
        "colab": {
          "base_uri": "https://localhost:8080/"
        },
        "id": "ASZcE_slYZpL",
        "outputId": "bb6eb0d3-cfbd-470c-8bd9-2d12897f18cc"
      },
      "outputs": [
        {
          "output_type": "execute_result",
          "data": {
            "text/plain": [
              "torch.Size([2, 2])"
            ]
          },
          "metadata": {},
          "execution_count": 5
        },
        {
          "output_type": "execute_result",
          "data": {
            "text/plain": [
              "torch.int64"
            ]
          },
          "metadata": {},
          "execution_count": 5
        },
        {
          "output_type": "execute_result",
          "data": {
            "text/plain": [
              "2"
            ]
          },
          "metadata": {},
          "execution_count": 5
        },
        {
          "output_type": "execute_result",
          "data": {
            "text/plain": [
              "device(type='cpu')"
            ]
          },
          "metadata": {},
          "execution_count": 5
        },
        {
          "output_type": "execute_result",
          "data": {
            "text/plain": [
              "False"
            ]
          },
          "metadata": {},
          "execution_count": 5
        }
      ],
      "source": [
        "# 텐서 생성 및 텐서의 속성\n",
        "\n",
        "data = [[1, 2], [3, 4]]\n",
        "a = np.array(data)          # ndarray creation from data\n",
        "\n",
        "t = torch.tensor(data)      # tensor creation from data\n",
        "\n",
        "t.shape         # t.size()\n",
        "t.dtype         # inferred dtype(int64)\n",
        "t.ndim          # t.dim()\n",
        "\n",
        "t.device\n",
        "t.requires_grad"
      ]
    },
    {
      "cell_type": "code",
      "source": [
        "# cpu <-> gpu(cuda)\n",
        "\n",
        "t.cuda()\n",
        "\n",
        "device = 'cuda' if torch.cuda.is_available() else 'cpu'\n",
        "t_ = t.to(device)\n",
        "t_\n",
        "\n",
        "t_.cpu()\n",
        "t_.to('cpu')"
      ],
      "metadata": {
        "colab": {
          "base_uri": "https://localhost:8080/"
        },
        "id": "R5DjQam9XbOz",
        "outputId": "7ce2211f-621c-426c-db95-6203dd590df0"
      },
      "execution_count": null,
      "outputs": [
        {
          "output_type": "execute_result",
          "data": {
            "text/plain": [
              "tensor([[1, 2],\n",
              "        [3, 4]], device='cuda:0')"
            ]
          },
          "metadata": {},
          "execution_count": 8
        },
        {
          "output_type": "execute_result",
          "data": {
            "text/plain": [
              "tensor([[1, 2],\n",
              "        [3, 4]], device='cuda:0')"
            ]
          },
          "metadata": {},
          "execution_count": 8
        },
        {
          "output_type": "execute_result",
          "data": {
            "text/plain": [
              "tensor([[1, 2],\n",
              "        [3, 4]])"
            ]
          },
          "metadata": {},
          "execution_count": 8
        },
        {
          "output_type": "execute_result",
          "data": {
            "text/plain": [
              "tensor([[1, 2],\n",
              "        [3, 4]])"
            ]
          },
          "metadata": {},
          "execution_count": 8
        }
      ]
    },
    {
      "cell_type": "code",
      "source": [],
      "metadata": {
        "id": "cu5QHcxKXZK_"
      },
      "execution_count": null,
      "outputs": []
    },
    {
      "cell_type": "code",
      "source": [
        "t = torch.tensor([[1., 2], [3, 4]])\n",
        "\n",
        "t.dtype         # inferred dtype(float32)"
      ],
      "metadata": {
        "colab": {
          "base_uri": "https://localhost:8080/"
        },
        "id": "QfdxDH9faAft",
        "outputId": "eae61e42-fbd3-4aeb-db17-0203b79ab5c7"
      },
      "execution_count": null,
      "outputs": [
        {
          "output_type": "execute_result",
          "data": {
            "text/plain": [
              "torch.float32"
            ]
          },
          "metadata": {},
          "execution_count": 5
        }
      ]
    },
    {
      "cell_type": "code",
      "source": [
        "# tensor creation from ndarray\n",
        "\n",
        "a = np.array(data)\n",
        "a\n",
        "a.dtype\n",
        "\n",
        "t = torch.from_numpy(a)     # torch.tensor(a)\n",
        "t\n",
        "t.dtype"
      ],
      "metadata": {
        "colab": {
          "base_uri": "https://localhost:8080/"
        },
        "id": "E4pWBnBfaL52",
        "outputId": "b52a5fa6-a7d4-414e-a5b5-4da2de9aed55"
      },
      "execution_count": null,
      "outputs": [
        {
          "output_type": "execute_result",
          "data": {
            "text/plain": [
              "array([[1, 2],\n",
              "       [3, 4]])"
            ]
          },
          "metadata": {},
          "execution_count": 6
        },
        {
          "output_type": "execute_result",
          "data": {
            "text/plain": [
              "dtype('int64')"
            ]
          },
          "metadata": {},
          "execution_count": 6
        },
        {
          "output_type": "execute_result",
          "data": {
            "text/plain": [
              "tensor([[1, 2],\n",
              "        [3, 4]])"
            ]
          },
          "metadata": {},
          "execution_count": 6
        },
        {
          "output_type": "execute_result",
          "data": {
            "text/plain": [
              "torch.int64"
            ]
          },
          "metadata": {},
          "execution_count": 6
        }
      ]
    },
    {
      "cell_type": "code",
      "source": [
        "t.numpy()       # tensor -> ndarray\n",
        "t.tolist()      # tensor -> list"
      ],
      "metadata": {
        "colab": {
          "base_uri": "https://localhost:8080/"
        },
        "id": "VhydBVm3aYEu",
        "outputId": "fd000066-6457-4de3-fc7f-88605bff3dcb"
      },
      "execution_count": null,
      "outputs": [
        {
          "output_type": "execute_result",
          "data": {
            "text/plain": [
              "array([[1, 2],\n",
              "       [3, 4]])"
            ]
          },
          "metadata": {},
          "execution_count": 7
        },
        {
          "output_type": "execute_result",
          "data": {
            "text/plain": [
              "[[1, 2], [3, 4]]"
            ]
          },
          "metadata": {},
          "execution_count": 7
        }
      ]
    },
    {
      "cell_type": "code",
      "source": [],
      "metadata": {
        "id": "AnoN6UoyaeJH"
      },
      "execution_count": null,
      "outputs": []
    },
    {
      "cell_type": "code",
      "source": [
        "# tensor creation : float32, Double, Long, ...\n",
        "\n",
        "t = torch.FloatTensor(data)     # float32\n",
        "t = torch.Tensor(data)\n",
        "# 텐서.float()\n",
        "\n",
        "t.dtype"
      ],
      "metadata": {
        "colab": {
          "base_uri": "https://localhost:8080/"
        },
        "id": "sUJBAkHZafn8",
        "outputId": "53bde4e1-8894-4d2e-a970-554cb74795df"
      },
      "execution_count": null,
      "outputs": [
        {
          "output_type": "execute_result",
          "data": {
            "text/plain": [
              "torch.float32"
            ]
          },
          "metadata": {},
          "execution_count": 8
        }
      ]
    },
    {
      "cell_type": "code",
      "source": [
        "torch.FloatTensor(2, 3)         # *size\n",
        "torch.Tensor(2, 3)"
      ],
      "metadata": {
        "colab": {
          "base_uri": "https://localhost:8080/"
        },
        "id": "e1zinaTQa6Fn",
        "outputId": "ef141e28-9d4e-4e40-daa3-b7237b5a9fcd"
      },
      "execution_count": null,
      "outputs": [
        {
          "output_type": "execute_result",
          "data": {
            "text/plain": [
              "tensor([[-8.8988e+18,  4.3161e-41, -8.8988e+18],\n",
              "        [ 4.3161e-41,  6.6380e-07,  1.0243e-11]])"
            ]
          },
          "metadata": {},
          "execution_count": 9
        },
        {
          "output_type": "execute_result",
          "data": {
            "text/plain": [
              "tensor([[-8.8987e+18,  4.3161e-41,  1.6462e+01],\n",
              "        [ 0.0000e+00,  4.4842e-44,  0.0000e+00]])"
            ]
          },
          "metadata": {},
          "execution_count": 9
        }
      ]
    },
    {
      "cell_type": "code",
      "source": [
        "torch.zeros(2, 3)               # *size, float32\n",
        "torch.zeros(2, 3).dtype"
      ],
      "metadata": {
        "colab": {
          "base_uri": "https://localhost:8080/"
        },
        "id": "DWr9mm7HbAd9",
        "outputId": "4d45120d-ad6a-4972-ebbd-3ba57ef81966"
      },
      "execution_count": null,
      "outputs": [
        {
          "output_type": "execute_result",
          "data": {
            "text/plain": [
              "tensor([[0., 0., 0.],\n",
              "        [0., 0., 0.]])"
            ]
          },
          "metadata": {},
          "execution_count": 11
        },
        {
          "output_type": "execute_result",
          "data": {
            "text/plain": [
              "torch.float32"
            ]
          },
          "metadata": {},
          "execution_count": 11
        }
      ]
    },
    {
      "cell_type": "code",
      "source": [
        "torch.ones(2, 3)                # *size, float32\n",
        "torch.ones(2, 3).dtype"
      ],
      "metadata": {
        "colab": {
          "base_uri": "https://localhost:8080/"
        },
        "id": "sX0d9oK5bKei",
        "outputId": "03bb2b3d-3666-4fa7-eefb-61b9c03c2f16"
      },
      "execution_count": null,
      "outputs": [
        {
          "output_type": "execute_result",
          "data": {
            "text/plain": [
              "tensor([[1., 1., 1.],\n",
              "        [1., 1., 1.]])"
            ]
          },
          "metadata": {},
          "execution_count": 12
        },
        {
          "output_type": "execute_result",
          "data": {
            "text/plain": [
              "torch.float32"
            ]
          },
          "metadata": {},
          "execution_count": 12
        }
      ]
    },
    {
      "cell_type": "code",
      "source": [],
      "metadata": {
        "id": "3s_kt7BqbQpn"
      },
      "execution_count": null,
      "outputs": []
    },
    {
      "cell_type": "code",
      "source": [
        "# torch.DoubleTensor        # float64\n",
        "\n",
        "# torch.LongTensor          # int64\n",
        "# t.long()\n",
        "\n",
        "# t.int()                   # int32\n",
        "\n",
        "# torch.ByteTensor          # uint8\n",
        "# t.byte()"
      ],
      "metadata": {
        "id": "w2jafqfybXYt"
      },
      "execution_count": null,
      "outputs": []
    },
    {
      "cell_type": "code",
      "source": [],
      "metadata": {
        "id": "H6qRrEDwbzux"
      },
      "execution_count": null,
      "outputs": []
    },
    {
      "cell_type": "code",
      "source": [
        "torch.ones(2, 3)        # *size, float32\n",
        "torch.ones((2, 3))\n",
        "\n",
        "torch.zeros(2, 3)       # *size, float32\n",
        "torch.zeros((2, 3))"
      ],
      "metadata": {
        "id": "HSIFJsWUb0Sr",
        "colab": {
          "base_uri": "https://localhost:8080/"
        },
        "outputId": "44acf4e8-2111-450d-d4ee-304bfe93267f"
      },
      "execution_count": null,
      "outputs": [
        {
          "output_type": "execute_result",
          "data": {
            "text/plain": [
              "tensor([[1., 1., 1.],\n",
              "        [1., 1., 1.]])"
            ]
          },
          "metadata": {},
          "execution_count": 9
        },
        {
          "output_type": "execute_result",
          "data": {
            "text/plain": [
              "tensor([[1., 1., 1.],\n",
              "        [1., 1., 1.]])"
            ]
          },
          "metadata": {},
          "execution_count": 9
        },
        {
          "output_type": "execute_result",
          "data": {
            "text/plain": [
              "tensor([[0., 0., 0.],\n",
              "        [0., 0., 0.]])"
            ]
          },
          "metadata": {},
          "execution_count": 9
        },
        {
          "output_type": "execute_result",
          "data": {
            "text/plain": [
              "tensor([[0., 0., 0.],\n",
              "        [0., 0., 0.]])"
            ]
          },
          "metadata": {},
          "execution_count": 9
        }
      ]
    },
    {
      "cell_type": "code",
      "source": [
        "torch.rand(2, 3)        # *size, [0, 1)\n",
        "torch.rand((2, 3))"
      ],
      "metadata": {
        "colab": {
          "base_uri": "https://localhost:8080/"
        },
        "id": "RO8vXF4WYgoL",
        "outputId": "9100f0ba-3eb8-4637-d0a6-65b7a05289b1"
      },
      "execution_count": null,
      "outputs": [
        {
          "output_type": "execute_result",
          "data": {
            "text/plain": [
              "tensor([[0.2818, 0.6344, 0.1961],\n",
              "        [0.1462, 0.0573, 0.2825]])"
            ]
          },
          "metadata": {},
          "execution_count": 11
        },
        {
          "output_type": "execute_result",
          "data": {
            "text/plain": [
              "tensor([[0.3682, 0.9639, 0.3856],\n",
              "        [0.7756, 0.7282, 0.6511]])"
            ]
          },
          "metadata": {},
          "execution_count": 11
        }
      ]
    },
    {
      "cell_type": "code",
      "source": [
        "torch.randperm(10)      # dtype=torch.int64"
      ],
      "metadata": {
        "colab": {
          "base_uri": "https://localhost:8080/"
        },
        "id": "EIzrxveOYnUj",
        "outputId": "ac38ead9-0990-46b1-f165-6fac6c289f86"
      },
      "execution_count": null,
      "outputs": [
        {
          "output_type": "execute_result",
          "data": {
            "text/plain": [
              "tensor([3, 6, 5, 1, 9, 4, 7, 8, 0, 2])"
            ]
          },
          "metadata": {},
          "execution_count": 12
        }
      ]
    },
    {
      "cell_type": "code",
      "source": [],
      "metadata": {
        "id": "qDkx4WikYwT0"
      },
      "execution_count": null,
      "outputs": []
    },
    {
      "cell_type": "code",
      "source": [
        "# same dtype & shape\n",
        "\n",
        "# torch.ones_like(텐서)\n",
        "# torch.zeros_like(텐서)\n",
        "# torch.rand_like(텐서)"
      ],
      "metadata": {
        "id": "dtrN0AYdYyCd"
      },
      "execution_count": null,
      "outputs": []
    },
    {
      "cell_type": "code",
      "source": [],
      "metadata": {
        "id": "jih3T6LQY7Cj"
      },
      "execution_count": null,
      "outputs": []
    },
    {
      "cell_type": "code",
      "source": [
        "# scalar tensor -> scalar\n",
        "\n",
        "torch.tensor(1)\n",
        "torch.tensor(1).item()\n",
        "\n",
        "torch.tensor([0])\n",
        "torch.tensor([0]).item()\n",
        "\n",
        "torch.tensor([[0]])\n",
        "torch.tensor([[0]]).item()"
      ],
      "metadata": {
        "colab": {
          "base_uri": "https://localhost:8080/"
        },
        "id": "7A5no2vaY7X3",
        "outputId": "0aab1c2f-cd71-4122-be67-f8410e1fa7d1"
      },
      "execution_count": null,
      "outputs": [
        {
          "output_type": "execute_result",
          "data": {
            "text/plain": [
              "tensor(1)"
            ]
          },
          "metadata": {},
          "execution_count": 15
        },
        {
          "output_type": "execute_result",
          "data": {
            "text/plain": [
              "1"
            ]
          },
          "metadata": {},
          "execution_count": 15
        },
        {
          "output_type": "execute_result",
          "data": {
            "text/plain": [
              "tensor([0])"
            ]
          },
          "metadata": {},
          "execution_count": 15
        },
        {
          "output_type": "execute_result",
          "data": {
            "text/plain": [
              "0"
            ]
          },
          "metadata": {},
          "execution_count": 15
        },
        {
          "output_type": "execute_result",
          "data": {
            "text/plain": [
              "tensor([[0]])"
            ]
          },
          "metadata": {},
          "execution_count": 15
        },
        {
          "output_type": "execute_result",
          "data": {
            "text/plain": [
              "0"
            ]
          },
          "metadata": {},
          "execution_count": 15
        }
      ]
    },
    {
      "cell_type": "code",
      "source": [],
      "metadata": {
        "id": "sApn7881ZAJ2"
      },
      "execution_count": null,
      "outputs": []
    },
    {
      "cell_type": "code",
      "source": [
        "# 다차원 indexing & slicing : same as ndarray"
      ],
      "metadata": {
        "id": "MGFSb7OBZJ4V"
      },
      "execution_count": null,
      "outputs": []
    },
    {
      "cell_type": "code",
      "source": [],
      "metadata": {
        "id": "TTRtEwueZNoE"
      },
      "execution_count": null,
      "outputs": []
    },
    {
      "cell_type": "code",
      "source": [
        "# 텐서.reshape(*size)\n",
        "# 텐서.view(*size)          # for contiguous tensors only"
      ],
      "metadata": {
        "id": "oE6M3PacZOdC"
      },
      "execution_count": null,
      "outputs": []
    },
    {
      "cell_type": "code",
      "source": [
        "hwc = torch.rand(640, 480, 3)       # 일반적으로 (height, width, channel) 이미지\n",
        "chw = hwc.permute(2, 0, 1)          # PyTorch (channel, height, width) 이미지\n",
        "chw.shape"
      ],
      "metadata": {
        "colab": {
          "base_uri": "https://localhost:8080/"
        },
        "id": "sePvJn5pdAkN",
        "outputId": "46a44ed2-497c-49fb-80ed-78668ec2165a"
      },
      "execution_count": null,
      "outputs": [
        {
          "output_type": "execute_result",
          "data": {
            "text/plain": [
              "torch.Size([3, 640, 480])"
            ]
          },
          "metadata": {},
          "execution_count": 35
        }
      ]
    },
    {
      "cell_type": "code",
      "source": [
        "# 텐서.squeeze/unsqueeze\n",
        "\n",
        "t = torch.tensor(np.arange(1, 5).reshape(2, -1)).float()\n",
        "t = torch.Tensor(np.arange(1, 5)).reshape(2, -1)\n",
        "t = torch.arange(1, 5, dtype=torch.float32).reshape(2, -1)\n",
        "t\n",
        "t.shape\n",
        "\n",
        "t_ = t.unsqueeze(0)\n",
        "t_\n",
        "t_.shape"
      ],
      "metadata": {
        "colab": {
          "base_uri": "https://localhost:8080/"
        },
        "id": "FamHglUTZVF2",
        "outputId": "2e5c2b5e-3ed5-458c-a435-43451fa6451b"
      },
      "execution_count": null,
      "outputs": [
        {
          "output_type": "execute_result",
          "data": {
            "text/plain": [
              "tensor([[1., 2.],\n",
              "        [3., 4.]])"
            ]
          },
          "metadata": {},
          "execution_count": 21
        },
        {
          "output_type": "execute_result",
          "data": {
            "text/plain": [
              "torch.Size([2, 2])"
            ]
          },
          "metadata": {},
          "execution_count": 21
        },
        {
          "output_type": "execute_result",
          "data": {
            "text/plain": [
              "tensor([[[1., 2.],\n",
              "         [3., 4.]]])"
            ]
          },
          "metadata": {},
          "execution_count": 21
        },
        {
          "output_type": "execute_result",
          "data": {
            "text/plain": [
              "torch.Size([1, 2, 2])"
            ]
          },
          "metadata": {},
          "execution_count": 21
        }
      ]
    },
    {
      "cell_type": "code",
      "source": [
        "t.unsqueeze(1).shape\n",
        "t.unsqueeze(-1).shape"
      ],
      "metadata": {
        "colab": {
          "base_uri": "https://localhost:8080/"
        },
        "id": "j9bfMsOwZmyB",
        "outputId": "1a3beaf2-4ba5-476d-8de9-d2df7cd1cd80"
      },
      "execution_count": null,
      "outputs": [
        {
          "output_type": "execute_result",
          "data": {
            "text/plain": [
              "torch.Size([2, 1, 2])"
            ]
          },
          "metadata": {},
          "execution_count": 22
        },
        {
          "output_type": "execute_result",
          "data": {
            "text/plain": [
              "torch.Size([2, 2, 1])"
            ]
          },
          "metadata": {},
          "execution_count": 22
        }
      ]
    },
    {
      "cell_type": "code",
      "source": [
        "t_.squeeze()        # 차원의 크기가 1인 모든 차원을 없애줌\n",
        "t_.squeeze().shape"
      ],
      "metadata": {
        "colab": {
          "base_uri": "https://localhost:8080/"
        },
        "id": "4lsUcsQPZv6Q",
        "outputId": "6fde420b-4b35-461b-85c2-4f301353c603"
      },
      "execution_count": null,
      "outputs": [
        {
          "output_type": "execute_result",
          "data": {
            "text/plain": [
              "tensor([[1., 2.],\n",
              "        [3., 4.]])"
            ]
          },
          "metadata": {},
          "execution_count": 23
        },
        {
          "output_type": "execute_result",
          "data": {
            "text/plain": [
              "torch.Size([2, 2])"
            ]
          },
          "metadata": {},
          "execution_count": 23
        }
      ]
    },
    {
      "cell_type": "code",
      "source": [
        "t_ = t.reshape(-1, 2, 2)\n",
        "t_.shape\n",
        "\n",
        "t_.reshape(2, -1).shape"
      ],
      "metadata": {
        "colab": {
          "base_uri": "https://localhost:8080/"
        },
        "id": "n6VqB3EFZ5S8",
        "outputId": "bbb1fc32-a745-40cc-bf01-2015b5bdafd7"
      },
      "execution_count": null,
      "outputs": [
        {
          "output_type": "execute_result",
          "data": {
            "text/plain": [
              "torch.Size([1, 2, 2])"
            ]
          },
          "metadata": {},
          "execution_count": 24
        },
        {
          "output_type": "execute_result",
          "data": {
            "text/plain": [
              "torch.Size([2, 2])"
            ]
          },
          "metadata": {},
          "execution_count": 24
        }
      ]
    },
    {
      "cell_type": "code",
      "source": [],
      "metadata": {
        "id": "ffIdqZr0aSc5"
      },
      "execution_count": null,
      "outputs": []
    },
    {
      "cell_type": "code",
      "source": [
        "# 텐서.split/chunk\n",
        "\n",
        "t = torch.Tensor(10, 3)\n",
        "\n",
        "splits = t.split(4)         # 텐서.split(원하는size, dim=0)\n",
        "\n",
        "type(splits)\n",
        "for s in splits:\n",
        "    print(s)\n",
        "    print(s.shape)\n",
        "    print()"
      ],
      "metadata": {
        "colab": {
          "base_uri": "https://localhost:8080/"
        },
        "id": "Zjm6qiGtaVWm",
        "outputId": "163a8884-403e-4b86-895c-ba1669b175c0"
      },
      "execution_count": null,
      "outputs": [
        {
          "output_type": "execute_result",
          "data": {
            "text/plain": [
              "tuple"
            ]
          },
          "metadata": {},
          "execution_count": 25
        },
        {
          "output_type": "stream",
          "name": "stdout",
          "text": [
            "tensor([[7.4058e-37, 4.1410e-33, 2.3850e-42],\n",
            "        [2.3920e-42, 0.0000e+00, 3.0454e-33],\n",
            "        [1.7740e-41, 0.0000e+00, 0.0000e+00],\n",
            "        [1.0980e-32, 9.5008e-43, 9.5709e-43]])\n",
            "torch.Size([4, 3])\n",
            "\n",
            "tensor([[0.0000e+00, 9.1835e-41, 1.8458e-41],\n",
            "        [0.0000e+00, 0.0000e+00, 9.4756e-42],\n",
            "        [0.0000e+00, 1.8958e-34, 9.8343e-42],\n",
            "        [0.0000e+00, 3.0333e-33, 6.6265e-32]])\n",
            "torch.Size([4, 3])\n",
            "\n",
            "tensor([[1.3088e-42, 1.3158e-42, 0.0000e+00],\n",
            "        [1.2182e-32, 4.2254e-38, 7.9474e-34]])\n",
            "torch.Size([2, 3])\n",
            "\n"
          ]
        }
      ]
    },
    {
      "cell_type": "code",
      "source": [
        "chunks = t.chunk(3)         # 텐서.chunk(총 개수, dim=0)\n",
        "\n",
        "type(chunks)\n",
        "for c in chunks:\n",
        "    print(c)\n",
        "    print(c.shape)\n",
        "    print()"
      ],
      "metadata": {
        "colab": {
          "base_uri": "https://localhost:8080/"
        },
        "id": "yp37EPzQavR3",
        "outputId": "71c65b37-452e-4583-9b32-7ac8d8c9990f"
      },
      "execution_count": null,
      "outputs": [
        {
          "output_type": "execute_result",
          "data": {
            "text/plain": [
              "tuple"
            ]
          },
          "metadata": {},
          "execution_count": 26
        },
        {
          "output_type": "stream",
          "name": "stdout",
          "text": [
            "tensor([[7.4058e-37, 4.1410e-33, 2.3850e-42],\n",
            "        [2.3920e-42, 0.0000e+00, 3.0454e-33],\n",
            "        [1.7740e-41, 0.0000e+00, 0.0000e+00],\n",
            "        [1.0980e-32, 9.5008e-43, 9.5709e-43]])\n",
            "torch.Size([4, 3])\n",
            "\n",
            "tensor([[0.0000e+00, 9.1835e-41, 1.8458e-41],\n",
            "        [0.0000e+00, 0.0000e+00, 9.4756e-42],\n",
            "        [0.0000e+00, 1.8958e-34, 9.8343e-42],\n",
            "        [0.0000e+00, 3.0333e-33, 6.6265e-32]])\n",
            "torch.Size([4, 3])\n",
            "\n",
            "tensor([[1.3088e-42, 1.3158e-42, 0.0000e+00],\n",
            "        [1.2182e-32, 4.2254e-38, 7.9474e-34]])\n",
            "torch.Size([2, 3])\n",
            "\n"
          ]
        }
      ]
    },
    {
      "cell_type": "code",
      "source": [
        "# 텐서.index_select\n",
        "\n",
        "t = torch.Tensor([[[1, 1], [2, 2]],\n",
        "                  [[3, 3], [4, 4]],\n",
        "                  [[5, 5], [6, 6]]])\n",
        "t.shape\n",
        "\n",
        "ixs = torch.LongTensor([2, 1])\n",
        "t_ = t.index_select(dim=0, index=ixs)       # 텐서.index_select(dim, index)\n",
        "t_\n",
        "t_.shape"
      ],
      "metadata": {
        "colab": {
          "base_uri": "https://localhost:8080/"
        },
        "id": "5MTLxl43a-74",
        "outputId": "9480db99-4fa4-4c01-d88d-1b7ecebf7ff4"
      },
      "execution_count": null,
      "outputs": [
        {
          "output_type": "execute_result",
          "data": {
            "text/plain": [
              "torch.Size([3, 2, 2])"
            ]
          },
          "metadata": {},
          "execution_count": 28
        },
        {
          "output_type": "execute_result",
          "data": {
            "text/plain": [
              "tensor([[[5., 5.],\n",
              "         [6., 6.]],\n",
              "\n",
              "        [[3., 3.],\n",
              "         [4., 4.]]])"
            ]
          },
          "metadata": {},
          "execution_count": 28
        },
        {
          "output_type": "execute_result",
          "data": {
            "text/plain": [
              "torch.Size([2, 2, 2])"
            ]
          },
          "metadata": {},
          "execution_count": 28
        }
      ]
    },
    {
      "cell_type": "code",
      "source": [],
      "metadata": {
        "id": "MdA5eXrHbWSC"
      },
      "execution_count": null,
      "outputs": []
    },
    {
      "cell_type": "code",
      "source": [
        "# torch.cat([텐서1, 텐서2], dim=0)\n",
        "\n",
        "t1 = torch.Tensor([[1, 2, 3], [4, 5, 6]])\n",
        "t2 = torch.Tensor([[10, 11, 12], [13, 14, 15]])\n",
        "\n",
        "t3 = torch.cat([t1, t2])        # dim=0\n",
        "t3\n",
        "t3.shape\n",
        "\n",
        "t4 = torch.cat([t1, t2], dim=-1)\n",
        "t4\n",
        "t4.shape"
      ],
      "metadata": {
        "colab": {
          "base_uri": "https://localhost:8080/"
        },
        "id": "qHzcYdjKbgDz",
        "outputId": "ad354129-4a76-4f72-d9f8-e893a15fa6e3"
      },
      "execution_count": null,
      "outputs": [
        {
          "output_type": "execute_result",
          "data": {
            "text/plain": [
              "tensor([[ 1.,  2.,  3.],\n",
              "        [ 4.,  5.,  6.],\n",
              "        [10., 11., 12.],\n",
              "        [13., 14., 15.]])"
            ]
          },
          "metadata": {},
          "execution_count": 29
        },
        {
          "output_type": "execute_result",
          "data": {
            "text/plain": [
              "torch.Size([4, 3])"
            ]
          },
          "metadata": {},
          "execution_count": 29
        },
        {
          "output_type": "execute_result",
          "data": {
            "text/plain": [
              "tensor([[ 1.,  2.,  3., 10., 11., 12.],\n",
              "        [ 4.,  5.,  6., 13., 14., 15.]])"
            ]
          },
          "metadata": {},
          "execution_count": 29
        },
        {
          "output_type": "execute_result",
          "data": {
            "text/plain": [
              "torch.Size([2, 6])"
            ]
          },
          "metadata": {},
          "execution_count": 29
        }
      ]
    },
    {
      "cell_type": "code",
      "source": [
        "# torch.stack([텐서1, 텐서2], dim=0)\n",
        "\n",
        "t5 = torch.stack([t1, t2])\n",
        "t5\n",
        "t5.shape\n",
        "\n",
        "t6 = torch.stack([t1, t2], dim=-1)\n",
        "t6\n",
        "t6.shape"
      ],
      "metadata": {
        "colab": {
          "base_uri": "https://localhost:8080/"
        },
        "id": "NNhQnFMbbwpx",
        "outputId": "e034091e-49b1-4d8f-f3ce-f4454a5cb4fb"
      },
      "execution_count": null,
      "outputs": [
        {
          "output_type": "execute_result",
          "data": {
            "text/plain": [
              "tensor([[[ 1.,  2.,  3.],\n",
              "         [ 4.,  5.,  6.]],\n",
              "\n",
              "        [[10., 11., 12.],\n",
              "         [13., 14., 15.]]])"
            ]
          },
          "metadata": {},
          "execution_count": 30
        },
        {
          "output_type": "execute_result",
          "data": {
            "text/plain": [
              "torch.Size([2, 2, 3])"
            ]
          },
          "metadata": {},
          "execution_count": 30
        },
        {
          "output_type": "execute_result",
          "data": {
            "text/plain": [
              "tensor([[[ 1., 10.],\n",
              "         [ 2., 11.],\n",
              "         [ 3., 12.]],\n",
              "\n",
              "        [[ 4., 13.],\n",
              "         [ 5., 14.],\n",
              "         [ 6., 15.]]])"
            ]
          },
          "metadata": {},
          "execution_count": 30
        },
        {
          "output_type": "execute_result",
          "data": {
            "text/plain": [
              "torch.Size([2, 3, 2])"
            ]
          },
          "metadata": {},
          "execution_count": 30
        }
      ]
    },
    {
      "cell_type": "code",
      "source": [],
      "metadata": {
        "id": "7mNhYR1Sb61D"
      },
      "execution_count": null,
      "outputs": []
    },
    {
      "cell_type": "code",
      "source": [
        "t = torch.Tensor([[1, 2], [3, 4]])\n",
        "\n",
        "torch.sum(t)\n",
        "t.sum()\n",
        "t.sum().item()\n",
        "\n",
        "t.sum(dim=-1)\n",
        "t.sum(dim=-1, keepdim=True)"
      ],
      "metadata": {
        "colab": {
          "base_uri": "https://localhost:8080/"
        },
        "id": "8AKqk0snb-P6",
        "outputId": "39ea02b4-d041-49c9-eee3-5493675b2e57"
      },
      "execution_count": null,
      "outputs": [
        {
          "output_type": "execute_result",
          "data": {
            "text/plain": [
              "tensor(10.)"
            ]
          },
          "metadata": {},
          "execution_count": 34
        },
        {
          "output_type": "execute_result",
          "data": {
            "text/plain": [
              "tensor(10.)"
            ]
          },
          "metadata": {},
          "execution_count": 34
        },
        {
          "output_type": "execute_result",
          "data": {
            "text/plain": [
              "10.0"
            ]
          },
          "metadata": {},
          "execution_count": 34
        },
        {
          "output_type": "execute_result",
          "data": {
            "text/plain": [
              "tensor([3., 7.])"
            ]
          },
          "metadata": {},
          "execution_count": 34
        },
        {
          "output_type": "execute_result",
          "data": {
            "text/plain": [
              "tensor([[3.],\n",
              "        [7.]])"
            ]
          },
          "metadata": {},
          "execution_count": 34
        }
      ]
    },
    {
      "cell_type": "code",
      "source": [
        "t = torch.randperm(3**3).reshape(3, 3, -1)  # (3, 3, 3)\n",
        "t\n",
        "\n",
        "t.argmax(-1)                # (3, 3)\n",
        "t.argmax(-1, keepdim=True)  # (3, 3, 1)"
      ],
      "metadata": {
        "colab": {
          "base_uri": "https://localhost:8080/"
        },
        "id": "lzAPn4uxcCfg",
        "outputId": "0ed13720-b60c-48ed-d38e-547e79dd655c"
      },
      "execution_count": null,
      "outputs": [
        {
          "output_type": "execute_result",
          "data": {
            "text/plain": [
              "tensor([[[ 4,  3, 10],\n",
              "         [11,  9, 22],\n",
              "         [26, 25,  0]],\n",
              "\n",
              "        [[16, 13, 23],\n",
              "         [ 8, 21, 14],\n",
              "         [ 5, 12, 15]],\n",
              "\n",
              "        [[ 1,  2, 20],\n",
              "         [24, 19, 17],\n",
              "         [18,  6,  7]]])"
            ]
          },
          "metadata": {},
          "execution_count": 33
        },
        {
          "output_type": "execute_result",
          "data": {
            "text/plain": [
              "tensor([[2, 2, 0],\n",
              "        [2, 1, 2],\n",
              "        [2, 0, 0]])"
            ]
          },
          "metadata": {},
          "execution_count": 33
        },
        {
          "output_type": "execute_result",
          "data": {
            "text/plain": [
              "tensor([[[2],\n",
              "         [2],\n",
              "         [0]],\n",
              "\n",
              "        [[2],\n",
              "         [1],\n",
              "         [2]],\n",
              "\n",
              "        [[2],\n",
              "         [0],\n",
              "         [0]]])"
            ]
          },
          "metadata": {},
          "execution_count": 33
        }
      ]
    },
    {
      "cell_type": "code",
      "source": [],
      "metadata": {
        "id": "G73bpiWEcZ7I"
      },
      "execution_count": null,
      "outputs": []
    }
  ]
}