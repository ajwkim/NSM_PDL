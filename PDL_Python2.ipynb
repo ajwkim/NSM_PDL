{
 "cells": [
  {
   "cell_type": "markdown",
   "metadata": {
    "id": "nvuWL6cXkkaX"
   },
   "source": [
    "# Python 인공지능 연구 동호회"
   ]
  },
  {
   "cell_type": "code",
   "execution_count": 1,
   "metadata": {
    "id": "lYeo-cO3ztQU"
   },
   "outputs": [],
   "source": [
    "from IPython.core.interactiveshell import InteractiveShell\n",
    "InteractiveShell.ast_node_interactivity = 'all'             # 셀 내 모든 값 프린트, 기본은 'last_expr'"
   ]
  },
  {
   "cell_type": "markdown",
   "metadata": {},
   "source": [
    "# Year 2 : 실전 Python to Deep Learning\n",
    "\n",
    "- quiz, 기초 cell, 개별 풀이\n",
    "- code review\n",
    "- 개념과 technic 풀이"
   ]
  },
  {
   "cell_type": "markdown",
   "metadata": {},
   "source": [
    "## 1 ~ 10까지 더하기 : tuple/list/range, function/default"
   ]
  },
  {
   "cell_type": "code",
   "execution_count": null,
   "metadata": {},
   "outputs": [],
   "source": [
    "# a) 리스트, 튜플 등 시퀀스 또는 set으로 1, 2, ..., 10 전체를 메모리에 저장\n",
    "#    => worst: 한 원소씩 순회하며 더하기\n",
    "#    => algorithm: (첫 + 마지막 원소) * n / 2\n",
    "\n",
    "# b) 1, 2, ..., 10 전체를 메모리에 저장하지 않고 한 숫자씩 받아 더하기 (range, iterator)\n",
    "\n",
    "# c) 임의의 정수 a, b에 대해 [a + 1, a + 2, ..., b-1, b] 각 숫자를 모두 더하는 함수 작성\n",
    "\n",
    "# d) 임의의 정수 a, b에 대해 [a + step, a + 2 * step, ..., ] 각 숫자를 모두 더하는 함수 작성(step 디폴트값은 1)\n",
    "\n",
    "# e) d를 class로 작성\n",
    "\n",
    "# f) best answer?"
   ]
  },
  {
   "cell_type": "code",
   "execution_count": null,
   "metadata": {},
   "outputs": [
    {
     "data": {
      "text/plain": [
       "55"
      ]
     },
     "execution_count": 2,
     "metadata": {},
     "output_type": "execute_result"
    },
    {
     "data": {
      "text/plain": [
       "55"
      ]
     },
     "execution_count": 2,
     "metadata": {},
     "output_type": "execute_result"
    }
   ],
   "source": [
    "# a) tuple/list/set\n",
    "\n",
    "nums = (1, 2, 3, 4, 5, 6, 7, 8, 9, 10)      # all in memory : tuple/list/set/dict...\n",
    "nums = [1, 2, 3, 4, 5, 6, 7, 8, 9, 10]      # list: 원소 변경/삽입/추가/삭제 용이, more memory\n",
    "nums = {1, 2, 3, 4, 5, 6, 7, 8, 9, 10}      # set: 원소 중복 제거, 순서 보장 X\n",
    "nums = range(1, 11)                         # iterator\n",
    "\n",
    "sum(nums)\n",
    "\n",
    "# worse\n",
    "result = 0\n",
    "for n in nums:\n",
    "    result += n\n",
    "result"
   ]
  },
  {
   "cell_type": "code",
   "execution_count": null,
   "metadata": {},
   "outputs": [
    {
     "data": {
      "text/plain": [
       "55.0"
      ]
     },
     "execution_count": 6,
     "metadata": {},
     "output_type": "execute_result"
    }
   ],
   "source": [
    "# a) algorithm: (첫 + 마지막 원소) * n / 2     : best\n",
    "\n",
    "nums_ = sorted(nums)                # nums.sort()\n",
    "(nums_[0] + nums_[-1]) * len(nums_) / 2"
   ]
  },
  {
   "cell_type": "code",
   "execution_count": null,
   "metadata": {},
   "outputs": [],
   "source": [
    "# b) range\n",
    "\n",
    "nums = range(1, 11)         # range(11)\n",
    "\n",
    "\n",
    "sum(nums)\n",
    "\n",
    "# worse\n",
    "result = 0\n",
    "for n in nums:\n",
    "    result += n\n",
    "result"
   ]
  },
  {
   "cell_type": "code",
   "execution_count": null,
   "metadata": {},
   "outputs": [],
   "source": [
    "# c, d) function/default\n",
    "\n",
    "\n",
    "def sum_func(a, b):\n",
    "    if a > b:\n",
    "        a, b = b, a\n",
    "    return sum(range(a, b + 1))\n",
    "\n",
    "\n",
    "def sum_func2(a, b, step=1):\n",
    "    if a > b:\n",
    "        a, b = b, a\n",
    "    return sum(range(a, b + 1, step))"
   ]
  },
  {
   "cell_type": "code",
   "execution_count": 7,
   "metadata": {},
   "outputs": [
    {
     "data": {
      "text/plain": [
       "25"
      ]
     },
     "execution_count": 7,
     "metadata": {},
     "output_type": "execute_result"
    }
   ],
   "source": [
    "sum_func2(10, 1, 2)"
   ]
  },
  {
   "cell_type": "code",
   "execution_count": 8,
   "metadata": {},
   "outputs": [
    {
     "data": {
      "text/plain": [
       "25"
      ]
     },
     "execution_count": 8,
     "metadata": {},
     "output_type": "execute_result"
    }
   ],
   "source": [
    "# e) class\n",
    "\n",
    "\n",
    "class AddClass:\n",
    "    \n",
    "    def __init__(self, a, b, step=1):\n",
    "        if a > b:\n",
    "            a, b = b, a\n",
    "        self.a = a\n",
    "        self.b = b\n",
    "        self.step = step\n",
    "\n",
    "    def sum_all(self):\n",
    "        return sum(range(self.a, self.b + 1, self.step))\n",
    "    \n",
    "    \n",
    "sample = AddClass(1, 10, 2)\n",
    "sample.sum_all()"
   ]
  },
  {
   "cell_type": "code",
   "execution_count": null,
   "metadata": {},
   "outputs": [],
   "source": [
    "# f) best : algorithm + function"
   ]
  },
  {
   "cell_type": "markdown",
   "metadata": {},
   "source": [
    "## 4자리수 단위로 숫자 구분하기"
   ]
  },
  {
   "cell_type": "code",
   "execution_count": 2,
   "metadata": {},
   "outputs": [],
   "source": [
    "# 임의의 숫자에 대해 만단위, 억단위 등 4자리수 단위로 '_'를 넣어 구분하기\n",
    "\n",
    "numbers = [200, 10000, 2220000, 33331111, 555556666]\n",
    "\n",
    "# => '200', '1_0000', '222_0000', '3333_1111', '5_5555_6666'"
   ]
  },
  {
   "cell_type": "code",
   "execution_count": 3,
   "metadata": {},
   "outputs": [
    {
     "data": {
      "text/plain": [
       "555556666"
      ]
     },
     "execution_count": 3,
     "metadata": {},
     "output_type": "execute_result"
    },
    {
     "data": {
      "text/plain": [
       "'555556666'"
      ]
     },
     "execution_count": 3,
     "metadata": {},
     "output_type": "execute_result"
    },
    {
     "data": {
      "text/plain": [
       "'555,556,666'"
      ]
     },
     "execution_count": 3,
     "metadata": {},
     "output_type": "execute_result"
    }
   ],
   "source": [
    "# 10_0000 = 10만\n",
    "# 100,000 = 100 thousand\n",
    "\n",
    "n = 5_5555_6666             # int/float에서 _\n",
    "\n",
    "n\n",
    "str(n)\n",
    "\n",
    "f\"{n:,}\"                    # f-string foramt specifier"
   ]
  },
  {
   "cell_type": "code",
   "execution_count": 4,
   "metadata": {},
   "outputs": [
    {
     "data": {
      "text/plain": [
       "('abc', 'def')"
      ]
     },
     "execution_count": 4,
     "metadata": {},
     "output_type": "execute_result"
    },
    {
     "data": {
      "text/plain": [
       "('abc', 'def')"
      ]
     },
     "execution_count": 4,
     "metadata": {},
     "output_type": "execute_result"
    },
    {
     "data": {
      "text/plain": [
       "('abcdef', '')"
      ]
     },
     "execution_count": 4,
     "metadata": {},
     "output_type": "execute_result"
    },
    {
     "data": {
      "text/plain": [
       "('', 'abcdef')"
      ]
     },
     "execution_count": 4,
     "metadata": {},
     "output_type": "execute_result"
    }
   ],
   "source": [
    "# slicing: indexing과 다르게, 인덱스 범위를 벗어나도 ok!!!\n",
    "\n",
    "s = 'abcdef'\n",
    "\n",
    "def str_slice(ix):\n",
    "    return s[:ix], s[ix:]\n",
    "\n",
    "str_slice(3)\n",
    "str_slice(-3)\n",
    "\n",
    "str_slice(10)\n",
    "str_slice(-10)"
   ]
  },
  {
   "cell_type": "code",
   "execution_count": 5,
   "metadata": {},
   "outputs": [
    {
     "data": {
      "text/plain": [
       "['5', '5555', '6666']"
      ]
     },
     "execution_count": 5,
     "metadata": {},
     "output_type": "execute_result"
    },
    {
     "data": {
      "text/plain": [
       "'5_5555_6666'"
      ]
     },
     "execution_count": 5,
     "metadata": {},
     "output_type": "execute_result"
    }
   ],
   "source": [
    "# 문자열 뒤에서 4자리씩 가져오기(slicing)\n",
    "\n",
    "n = 5_5555_6666\n",
    "\n",
    "ns = str(n)\n",
    "rs = []\n",
    "while ns:\n",
    "    rs.append(ns[-4:])\n",
    "    ns = ns[:-4]\n",
    "\n",
    "rs[::-1]\n",
    "'_'.join(rs[::-1])"
   ]
  },
  {
   "cell_type": "code",
   "execution_count": 9,
   "metadata": {},
   "outputs": [
    {
     "data": {
      "text/plain": [
       "['200', '1_0000', '222_0000', '3333_1111', '5_5555_6666']"
      ]
     },
     "execution_count": 9,
     "metadata": {},
     "output_type": "execute_result"
    },
    {
     "data": {
      "text/plain": [
       "['200', '1,000', '222,000', '333,111', '5,555,666']"
      ]
     },
     "execution_count": 9,
     "metadata": {},
     "output_type": "execute_result"
    },
    {
     "data": {
      "text/plain": [
       "['200', '1.000', '222.000', '333.111', '5.555.666']"
      ]
     },
     "execution_count": 9,
     "metadata": {},
     "output_type": "execute_result"
    },
    {
     "data": {
      "text/plain": [
       "['200', '1/10000', '222/20000', '3333/31111', '5/55555/56666']"
      ]
     },
     "execution_count": 9,
     "metadata": {},
     "output_type": "execute_result"
    }
   ],
   "source": [
    "def num_format(num, k=4, mark='_'):\n",
    "    rs = []\n",
    "    ns = str(num)\n",
    "    while ns:\n",
    "        rs.append(ns[-k:])\n",
    "        ns = ns[:-4]\n",
    "    return mark.join(rs[::-1])\n",
    "\n",
    "\n",
    "[num_format(x) for x in numbers]\n",
    "[num_format(x, 3, ',') for x in numbers]\n",
    "[num_format(x, 3, '.') for x in numbers]        # Europe\n",
    "[num_format(x, 5, '/') for x in numbers]"
   ]
  },
  {
   "cell_type": "code",
   "execution_count": 10,
   "metadata": {},
   "outputs": [
    {
     "data": {
      "text/plain": [
       "'5_5555_6666'"
      ]
     },
     "execution_count": 10,
     "metadata": {},
     "output_type": "execute_result"
    }
   ],
   "source": [
    "# 문자열 뒤집어서 0, 4, 8, ... 인덱스로 slicing\n",
    "\n",
    "ns = str(n)[::-1]\n",
    "rs = [ns[i:i+4] for i in range(0, len(ns), 4)]\n",
    "rs = [r[::-1] for r in rs][::-1]\n",
    "'_'.join(rs)"
   ]
  },
  {
   "cell_type": "code",
   "execution_count": null,
   "metadata": {},
   "outputs": [],
   "source": []
  },
  {
   "cell_type": "code",
   "execution_count": 11,
   "metadata": {},
   "outputs": [
    {
     "data": {
      "text/plain": [
       "555556666"
      ]
     },
     "execution_count": 11,
     "metadata": {},
     "output_type": "execute_result"
    },
    {
     "data": {
      "text/plain": [
       "555556666"
      ]
     },
     "execution_count": 11,
     "metadata": {},
     "output_type": "execute_result"
    },
    {
     "data": {
      "text/plain": [
       "555556666"
      ]
     },
     "execution_count": 11,
     "metadata": {},
     "output_type": "execute_result"
    }
   ],
   "source": [
    "# 4자리수 단위마다 '_'로 구분된 정수 str을 int형으로 바꿔보기\n",
    "\n",
    "ns = '5_5555_6666'\n",
    "\n",
    "int(\n",
    "    ''.join(ns.split('_'))      # str.split & str.join(iterable)\n",
    ")\n",
    "\n",
    "int(\n",
    "    ns.replace('_', '')         # str.replace\n",
    ")\n",
    "\n",
    "int(ns)                     # int/float에서 _"
   ]
  },
  {
   "cell_type": "code",
   "execution_count": null,
   "metadata": {},
   "outputs": [],
   "source": []
  },
  {
   "cell_type": "code",
   "execution_count": null,
   "metadata": {},
   "outputs": [],
   "source": [
    "# 임의의 숫자에 대해 3자리수 단위마다 ','로 구분하기\n",
    "\n",
    "# => '200', '10,000', '2,220,000', '33,331,111', '555,556,666'"
   ]
  },
  {
   "cell_type": "code",
   "execution_count": 12,
   "metadata": {},
   "outputs": [
    {
     "data": {
      "text/plain": [
       "'555,556,666'"
      ]
     },
     "execution_count": 12,
     "metadata": {},
     "output_type": "execute_result"
    }
   ],
   "source": [
    "n = 5_5555_6666\n",
    "\n",
    "f\"{n:,}\"            # f\"{n:_}\""
   ]
  },
  {
   "cell_type": "markdown",
   "metadata": {},
   "source": [
    "## 로또 6/45"
   ]
  },
  {
   "cell_type": "code",
   "execution_count": null,
   "metadata": {},
   "outputs": [],
   "source": [
    "# 1 ~ 45가 적혀진 각 공에 대해 총 6개를 뽑는 simulation을 구하시오\n",
    "\n",
    "# 예) [4, 10, 23, 40, 41, 44]"
   ]
  },
  {
   "cell_type": "code",
   "execution_count": 13,
   "metadata": {},
   "outputs": [
    {
     "data": {
      "text/plain": [
       "[5, 7, 11, 12, 35, 45]"
      ]
     },
     "execution_count": 13,
     "metadata": {},
     "output_type": "execute_result"
    }
   ],
   "source": [
    "import random\n",
    "\n",
    "# random.sample(range(1, 46), 6)            # random.sample(시퀀스/range, k: int)\n",
    "\n",
    "\n",
    "def draw():\n",
    "    return sorted(\n",
    "        random.sample(range(1, 46), 6))\n",
    "\n",
    "\n",
    "draw = lambda: sorted(random.sample(range(1, 46), 6))\n",
    "\n",
    "\n",
    "draw()"
   ]
  },
  {
   "cell_type": "code",
   "execution_count": null,
   "metadata": {},
   "outputs": [],
   "source": []
  },
  {
   "cell_type": "code",
   "execution_count": null,
   "metadata": {},
   "outputs": [],
   "source": [
    "# 한 회차에 각 숫자(1~45)가 출현할 확률은 얼마입니까?"
   ]
  },
  {
   "cell_type": "code",
   "execution_count": 14,
   "metadata": {},
   "outputs": [
    {
     "data": {
      "text/plain": [
       "0.13333333333333333"
      ]
     },
     "execution_count": 14,
     "metadata": {},
     "output_type": "execute_result"
    }
   ],
   "source": [
    "# 각 숫자가 출현할 확률: (44C5 / 45C6)\n",
    "# nCr = n! / r! / (n-r)!\n",
    "\n",
    "import math\n",
    "\n",
    "fac = lambda n: math.factorial(n)\n",
    "\n",
    "# fac(44) / fac(5) / fac(39) / (fac(45) / fac(6) / fac(39))\n",
    "# fac(44) / fac(5) / (fac(45) / fac(6))\n",
    "6 / 45"
   ]
  },
  {
   "cell_type": "code",
   "execution_count": null,
   "metadata": {},
   "outputs": [],
   "source": []
  },
  {
   "cell_type": "code",
   "execution_count": null,
   "metadata": {},
   "outputs": [],
   "source": [
    "# 각 회차의 결과 6개 숫자(list)들에 대해, 모든 회차의 결과가 주어졌을때 각 숫자의 총 출현 횟수 구하기"
   ]
  },
  {
   "cell_type": "code",
   "execution_count": 15,
   "metadata": {},
   "outputs": [
    {
     "data": {
      "text/plain": [
       "defaultdict(int, {3: 1, 6: 1, 11: 1, 22: 1, 35: 1, 44: 1})"
      ]
     },
     "execution_count": 15,
     "metadata": {},
     "output_type": "execute_result"
    }
   ],
   "source": [
    "from collections import defaultdict\n",
    "\n",
    "result = defaultdict(int)\n",
    "\n",
    "def accumulate(a_draw):\n",
    "    for n in a_draw:\n",
    "        result[n] += 1\n",
    "    return result\n",
    "\n",
    "r = accumulate(draw())\n",
    "r"
   ]
  },
  {
   "cell_type": "code",
   "execution_count": 16,
   "metadata": {},
   "outputs": [
    {
     "data": {
      "text/plain": [
       "[3, 6, 11, 22, 35, 44]"
      ]
     },
     "execution_count": 16,
     "metadata": {},
     "output_type": "execute_result"
    }
   ],
   "source": [
    "sorted(r)"
   ]
  },
  {
   "cell_type": "code",
   "execution_count": 17,
   "metadata": {},
   "outputs": [
    {
     "data": {
      "text/plain": [
       "defaultdict(int,\n",
       "            {3: 1,\n",
       "             6: 1,\n",
       "             11: 1,\n",
       "             22: 1,\n",
       "             35: 1,\n",
       "             44: 2,\n",
       "             25: 1,\n",
       "             30: 1,\n",
       "             33: 1,\n",
       "             36: 1,\n",
       "             40: 1})"
      ]
     },
     "execution_count": 17,
     "metadata": {},
     "output_type": "execute_result"
    }
   ],
   "source": [
    "accumulate(draw())"
   ]
  },
  {
   "cell_type": "code",
   "execution_count": 18,
   "metadata": {},
   "outputs": [
    {
     "name": "stdout",
     "output_type": "stream",
     "text": [
      " 1\t1310\n",
      " 2\t1374\n",
      " 3\t1345\n",
      " 4\t1384\n",
      " 5\t1270\n",
      " 6\t1322\n",
      " 7\t1334\n",
      " 8\t1325\n",
      " 9\t1302\n",
      "10\t1338\n",
      "11\t1343\n",
      "12\t1361\n",
      "13\t1334\n",
      "14\t1385\n",
      "15\t1378\n",
      "16\t1350\n",
      "17\t1347\n",
      "18\t1371\n",
      "19\t1323\n",
      "20\t1341\n",
      "21\t1351\n",
      "22\t1352\n",
      "23\t1316\n",
      "24\t1278\n",
      "25\t1350\n",
      "26\t1344\n",
      "27\t1311\n",
      "28\t1299\n",
      "29\t1292\n",
      "30\t1385\n",
      "31\t1287\n",
      "32\t1320\n",
      "33\t1412\n",
      "34\t1283\n",
      "35\t1270\n",
      "36\t1280\n",
      "37\t1362\n",
      "38\t1351\n",
      "39\t1362\n",
      "40\t1297\n",
      "41\t1322\n",
      "42\t1314\n",
      "43\t1369\n",
      "44\t1306\n",
      "45\t1350\n"
     ]
    }
   ],
   "source": [
    "# 대수의 법칙: law of large numbers: 표본 평균 -> population 평균 수렴\n",
    "# 총 10000회차\n",
    "\n",
    "from collections import defaultdict\n",
    "\n",
    "result = defaultdict(int)\n",
    "\n",
    "def accumulate_(n):\n",
    "    for _ in range(n):\n",
    "        for n in draw():\n",
    "            result[n] += 1\n",
    "\n",
    "def print_dict(result):\n",
    "    for k in sorted(result):    # keys = sorted(result.keys())\n",
    "        # print(k, result[k])\n",
    "        print(f\"{k:2}\\t{result[k]}\")\n",
    "\n",
    "\n",
    "accumulate_(10000)          # 1333.3...회\n",
    "print_dict(result)"
   ]
  },
  {
   "cell_type": "code",
   "execution_count": 19,
   "metadata": {},
   "outputs": [
    {
     "data": {
      "text/plain": [
       "{1270: [5, 35],\n",
       " 1278: [24],\n",
       " 1280: [36],\n",
       " 1283: [34],\n",
       " 1287: [31],\n",
       " 1292: [29],\n",
       " 1297: [40],\n",
       " 1299: [28],\n",
       " 1302: [9],\n",
       " 1306: [44],\n",
       " 1310: [1],\n",
       " 1311: [27],\n",
       " 1314: [42],\n",
       " 1316: [23],\n",
       " 1320: [32],\n",
       " 1322: [41, 6],\n",
       " 1323: [19],\n",
       " 1325: [8],\n",
       " 1334: [7, 13],\n",
       " 1338: [10],\n",
       " 1341: [20],\n",
       " 1343: [11],\n",
       " 1344: [26],\n",
       " 1345: [3],\n",
       " 1347: [17],\n",
       " 1350: [25, 45, 16],\n",
       " 1351: [38, 21],\n",
       " 1352: [22],\n",
       " 1361: [12],\n",
       " 1362: [37, 39],\n",
       " 1369: [43],\n",
       " 1371: [18],\n",
       " 1374: [2],\n",
       " 1378: [15],\n",
       " 1384: [4],\n",
       " 1385: [30, 14],\n",
       " 1412: [33]}"
      ]
     },
     "execution_count": 19,
     "metadata": {},
     "output_type": "execute_result"
    }
   ],
   "source": [
    "def sort_values(result):\n",
    "    result_ = defaultdict(list)\n",
    "    for k, v in result.items():\n",
    "        result_[v].append(k)\n",
    "    result__ = {k: result_[k] for k in sorted(result_)}\n",
    "    return result__\n",
    "\n",
    "sort_values(result)"
   ]
  },
  {
   "cell_type": "code",
   "execution_count": null,
   "metadata": {},
   "outputs": [],
   "source": []
  }
 ],
 "metadata": {
  "colab": {
   "provenance": [],
   "toc_visible": true
  },
  "kernelspec": {
   "display_name": "py311",
   "language": "python",
   "name": "python3"
  },
  "language_info": {
   "codemirror_mode": {
    "name": "ipython",
    "version": 3
   },
   "file_extension": ".py",
   "mimetype": "text/x-python",
   "name": "python",
   "nbconvert_exporter": "python",
   "pygments_lexer": "ipython3",
   "version": "3.11.11"
  }
 },
 "nbformat": 4,
 "nbformat_minor": 0
}
