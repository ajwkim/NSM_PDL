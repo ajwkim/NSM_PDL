{
 "cells": [
  {
   "cell_type": "markdown",
   "metadata": {
    "id": "nvuWL6cXkkaX"
   },
   "source": [
    "# Python 인공지능 연구 동호회"
   ]
  },
  {
   "cell_type": "code",
   "execution_count": 1,
   "metadata": {
    "id": "lYeo-cO3ztQU"
   },
   "outputs": [],
   "source": [
    "from IPython.core.interactiveshell import InteractiveShell\n",
    "InteractiveShell.ast_node_interactivity = 'all'             # 셀 내 모든 값 프린트, 기본은 'last_expr'"
   ]
  },
  {
   "cell_type": "markdown",
   "metadata": {},
   "source": [
    "# Year 2 : 실전 Python to Deep Learning\n",
    "\n",
    "- quiz, 기초 cell, 개별 풀이\n",
    "- code review\n",
    "- 개념과 technic 풀이"
   ]
  },
  {
   "cell_type": "markdown",
   "metadata": {},
   "source": [
    "## 1 ~ 10까지 더하기 : tuple/list/range, function/default"
   ]
  },
  {
   "cell_type": "code",
   "execution_count": null,
   "metadata": {},
   "outputs": [],
   "source": [
    "# a) 리스트, 튜플 등 시퀀스 또는 set으로 1, 2, ..., 10 전체를 메모리에 저장\n",
    "#    => worst: 한 원소씩 순회하며 더하기\n",
    "#    => algorithm: (첫 + 마지막 원소) * n / 2\n",
    "\n",
    "# b) 1, 2, ..., 10 전체를 메모리에 저장하지 않고 한 숫자씩 받아 더하기 (range, iterator)\n",
    "\n",
    "# c) 임의의 정수 a, b에 대해 [a + 1, a + 2, ..., b-1, b] 각 숫자를 모두 더하는 함수 작성\n",
    "\n",
    "# d) 임의의 정수 a, b에 대해 [a + step, a + 2 * step, ..., ] 각 숫자를 모두 더하는 함수 작성(step 디폴트값은 1)\n",
    "\n",
    "# e) d를 class로 작성\n",
    "\n",
    "# f) best answer?"
   ]
  },
  {
   "cell_type": "code",
   "execution_count": 2,
   "metadata": {},
   "outputs": [
    {
     "data": {
      "text/plain": [
       "55"
      ]
     },
     "execution_count": 2,
     "metadata": {},
     "output_type": "execute_result"
    },
    {
     "data": {
      "text/plain": [
       "55"
      ]
     },
     "execution_count": 2,
     "metadata": {},
     "output_type": "execute_result"
    }
   ],
   "source": [
    "# a) tuple/list/set\n",
    "\n",
    "nums = (1, 2, 3, 4, 5, 6, 7, 8, 9, 10)      # all in memory : tuple/list/set/dict...\n",
    "nums = [1, 2, 3, 4, 5, 6, 7, 8, 9, 10]      # list: 원소 변경/삽입/추가/삭제 용이, more memory\n",
    "nums = {1, 2, 3, 4, 5, 6, 7, 8, 9, 10}      # set: 원소 중복 제거, 순서 보장 X\n",
    "nums = range(1, 11)                         # iterator\n",
    "\n",
    "sum(nums)\n",
    "\n",
    "# or\n",
    "result = 0\n",
    "for n in nums:\n",
    "    result += n                 # worst\n",
    "result"
   ]
  },
  {
   "cell_type": "code",
   "execution_count": null,
   "metadata": {},
   "outputs": [
    {
     "data": {
      "text/plain": [
       "55.0"
      ]
     },
     "execution_count": 6,
     "metadata": {},
     "output_type": "execute_result"
    }
   ],
   "source": [
    "# a) algorithm: (첫 + 마지막 원소) * n / 2     : best\n",
    "\n",
    "nums_ = sorted(nums)                # nums.sort()\n",
    "(nums_[0] + nums_[-1]) * len(nums_) / 2"
   ]
  },
  {
   "cell_type": "code",
   "execution_count": null,
   "metadata": {},
   "outputs": [],
   "source": [
    "# b) range\n",
    "\n",
    "nums = range(1, 11)         # range(11)\n",
    "\n",
    "\n",
    "sum(nums)\n",
    "\n",
    "# or\n",
    "result = 0\n",
    "for n in nums:\n",
    "    result += n\n",
    "result"
   ]
  },
  {
   "cell_type": "code",
   "execution_count": 6,
   "metadata": {},
   "outputs": [],
   "source": [
    "# a, b, step\n",
    "# c, d) function/default\n",
    "\n",
    "\n",
    "def sum_func(a, b):\n",
    "    if a > b:\n",
    "        a, b = b, a\n",
    "    return sum(range(a, b + 1))\n",
    "\n",
    "\n",
    "def sum_func2(a, b, step=1):\n",
    "    if a > b:\n",
    "        a, b = b, a\n",
    "    return sum(range(a, b + 1, step))"
   ]
  },
  {
   "cell_type": "code",
   "execution_count": 7,
   "metadata": {},
   "outputs": [
    {
     "data": {
      "text/plain": [
       "25"
      ]
     },
     "execution_count": 7,
     "metadata": {},
     "output_type": "execute_result"
    }
   ],
   "source": [
    "sum_func2(10, 1, 2)"
   ]
  },
  {
   "cell_type": "code",
   "execution_count": 8,
   "metadata": {},
   "outputs": [
    {
     "data": {
      "text/plain": [
       "25"
      ]
     },
     "execution_count": 8,
     "metadata": {},
     "output_type": "execute_result"
    }
   ],
   "source": [
    "# e) class\n",
    "\n",
    "\n",
    "class AddClass:\n",
    "    \n",
    "    def __init__(self, a, b, step=1):\n",
    "        if a > b:\n",
    "            a, b = b, a\n",
    "        self.a = a\n",
    "        self.b = b\n",
    "        self.step = step\n",
    "\n",
    "    def sum_all(self):\n",
    "        return sum(range(self.a, self.b + 1, self.step))\n",
    "    \n",
    "    \n",
    "sample = AddClass(1, 10, 2)\n",
    "sample.sum_all()"
   ]
  },
  {
   "cell_type": "code",
   "execution_count": null,
   "metadata": {},
   "outputs": [],
   "source": [
    "# f) best : algorithm + function"
   ]
  },
  {
   "cell_type": "markdown",
   "metadata": {},
   "source": [
    "## 4자리수 단위로 숫자 구분하기"
   ]
  },
  {
   "cell_type": "code",
   "execution_count": null,
   "metadata": {},
   "outputs": [],
   "source": [
    "# 임의의 숫자에 대해 만단위, 억단위 등 4자리수 단위로 '_'를 넣어 구분하기\n",
    "\n",
    "numbers = [200, 10000, 2220000, 33331111, 555556666]\n",
    "\n",
    "# => '200', '1_0000', '222_0000', '3333_1111', '5_5555_6666'"
   ]
  },
  {
   "cell_type": "code",
   "execution_count": null,
   "metadata": {},
   "outputs": [],
   "source": [
    "# 4자리수 단위마다 '_'로 구분된 정수 str을 int형으로 바꿔보기"
   ]
  },
  {
   "cell_type": "code",
   "execution_count": null,
   "metadata": {},
   "outputs": [],
   "source": [
    "# 임의의 숫자에 대해 3자리수 단위마다 ','로 구분하기\n",
    "\n",
    "# => '200', '10,000', '2,220,000', '33,331,111', '555,556,666'"
   ]
  },
  {
   "cell_type": "code",
   "execution_count": null,
   "metadata": {},
   "outputs": [],
   "source": []
  },
  {
   "cell_type": "markdown",
   "metadata": {},
   "source": [
    "## 로또 6/45"
   ]
  },
  {
   "cell_type": "code",
   "execution_count": null,
   "metadata": {},
   "outputs": [],
   "source": [
    "# 1 ~ 45가 적혀진 각 공에 대해 총 6개를 뽑는 simulation을 구하시오\n",
    "\n",
    "# 예) [4, 10, 23, 40, 41, 44]"
   ]
  },
  {
   "cell_type": "code",
   "execution_count": null,
   "metadata": {},
   "outputs": [],
   "source": [
    "# 한 회차에 각 숫자(1~45)가 출현할 확률은 얼마입니까?"
   ]
  },
  {
   "cell_type": "code",
   "execution_count": null,
   "metadata": {},
   "outputs": [],
   "source": [
    "# 각 회차의 결과 6개 숫자(list)들에 대해, 모든 회차의 결과가 주어졌을때 각 숫자의 총 출현 횟수 구하기"
   ]
  }
 ],
 "metadata": {
  "colab": {
   "provenance": [],
   "toc_visible": true
  },
  "kernelspec": {
   "display_name": "py311",
   "language": "python",
   "name": "python3"
  },
  "language_info": {
   "codemirror_mode": {
    "name": "ipython",
    "version": 3
   },
   "file_extension": ".py",
   "mimetype": "text/x-python",
   "name": "python",
   "nbconvert_exporter": "python",
   "pygments_lexer": "ipython3",
   "version": "3.11.11"
  }
 },
 "nbformat": 4,
 "nbformat_minor": 0
}
