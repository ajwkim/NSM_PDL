{
 "cells": [
  {
   "cell_type": "markdown",
   "metadata": {
    "id": "nvuWL6cXkkaX"
   },
   "source": [
    "# Python 인공지능 연구 동호회"
   ]
  },
  {
   "cell_type": "code",
   "execution_count": 20,
   "metadata": {
    "id": "lYeo-cO3ztQU"
   },
   "outputs": [],
   "source": [
    "from IPython.core.interactiveshell import InteractiveShell\n",
    "InteractiveShell.ast_node_interactivity = 'all'             # 셀 내 모든 값 프린트, 기본은 'last_expr'"
   ]
  },
  {
   "cell_type": "markdown",
   "metadata": {},
   "source": [
    "# Year 2 : 실전 Python to Deep Learning\n",
    "\n",
    "- quiz, 기초 cell, 개별 풀이\n",
    "- code review\n",
    "- 개념과 technic 풀이"
   ]
  },
  {
   "cell_type": "markdown",
   "metadata": {},
   "source": [
    "## 1 ~ 10까지 더하기 : tuple/list/range, function/default"
   ]
  },
  {
   "cell_type": "code",
   "execution_count": null,
   "metadata": {},
   "outputs": [],
   "source": [
    "# a) 리스트, 튜플 등 시퀀스 또는 set으로 1, 2, ..., 10 전체를 메모리에 저장\n",
    "#    => worst: 한 원소씩 순회하며 더하기\n",
    "#    => algorithm: (첫 + 마지막 원소) * n / 2\n",
    "\n",
    "# b) 1, 2, ..., 10 전체를 메모리에 저장하지 않고 한 숫자씩 받아 더하기 (range, iterator)\n",
    "\n",
    "# c) 임의의 정수 a, b에 대해 [a + 1, a + 2, ..., b-1, b] 각 숫자를 모두 더하는 함수 작성\n",
    "\n",
    "# d) 임의의 정수 a, b에 대해 [a + step, a + 2 * step, ..., ] 각 숫자를 모두 더하는 함수 작성(step 디폴트값은 1)\n",
    "\n",
    "# e) d를 class로 작성\n",
    "\n",
    "# f) best answer?"
   ]
  },
  {
   "cell_type": "code",
   "execution_count": null,
   "metadata": {},
   "outputs": [
    {
     "data": {
      "text/plain": [
       "55"
      ]
     },
     "execution_count": 2,
     "metadata": {},
     "output_type": "execute_result"
    },
    {
     "data": {
      "text/plain": [
       "55"
      ]
     },
     "execution_count": 2,
     "metadata": {},
     "output_type": "execute_result"
    }
   ],
   "source": [
    "# a) tuple/list/set\n",
    "\n",
    "nums = (1, 2, 3, 4, 5, 6, 7, 8, 9, 10)      # all in memory : tuple/list/set/dict...\n",
    "nums = [1, 2, 3, 4, 5, 6, 7, 8, 9, 10]      # list: 원소 변경/삽입/추가/삭제 용이, more memory\n",
    "nums = {1, 2, 3, 4, 5, 6, 7, 8, 9, 10}      # set: 원소 중복 제거, 순서 보장 X\n",
    "nums = range(1, 11)                         # iterator\n",
    "\n",
    "sum(nums)\n",
    "\n",
    "# worse\n",
    "result = 0\n",
    "for n in nums:\n",
    "    result += n\n",
    "result"
   ]
  },
  {
   "cell_type": "code",
   "execution_count": null,
   "metadata": {},
   "outputs": [
    {
     "data": {
      "text/plain": [
       "55.0"
      ]
     },
     "execution_count": 6,
     "metadata": {},
     "output_type": "execute_result"
    }
   ],
   "source": [
    "# a) algorithm: (첫 + 마지막 원소) * n / 2     : best\n",
    "\n",
    "nums_ = sorted(nums)                # nums.sort()\n",
    "(nums_[0] + nums_[-1]) * len(nums_) / 2"
   ]
  },
  {
   "cell_type": "code",
   "execution_count": null,
   "metadata": {},
   "outputs": [],
   "source": [
    "# b) range\n",
    "\n",
    "nums = range(1, 11)         # range(11)\n",
    "\n",
    "\n",
    "sum(nums)\n",
    "\n",
    "# worse\n",
    "result = 0\n",
    "for n in nums:\n",
    "    result += n\n",
    "result"
   ]
  },
  {
   "cell_type": "code",
   "execution_count": null,
   "metadata": {},
   "outputs": [],
   "source": [
    "# c, d) function/default\n",
    "\n",
    "\n",
    "def sum_func(a, b):\n",
    "    if a > b:\n",
    "        a, b = b, a\n",
    "    return sum(range(a, b + 1))\n",
    "\n",
    "\n",
    "def sum_func2(a, b, step=1):\n",
    "    if a > b:\n",
    "        a, b = b, a\n",
    "    return sum(range(a, b + 1, step))"
   ]
  },
  {
   "cell_type": "code",
   "execution_count": 7,
   "metadata": {},
   "outputs": [
    {
     "data": {
      "text/plain": [
       "25"
      ]
     },
     "execution_count": 7,
     "metadata": {},
     "output_type": "execute_result"
    }
   ],
   "source": [
    "sum_func2(10, 1, 2)"
   ]
  },
  {
   "cell_type": "code",
   "execution_count": 8,
   "metadata": {},
   "outputs": [
    {
     "data": {
      "text/plain": [
       "25"
      ]
     },
     "execution_count": 8,
     "metadata": {},
     "output_type": "execute_result"
    }
   ],
   "source": [
    "# e) class\n",
    "\n",
    "\n",
    "class AddClass:\n",
    "    \n",
    "    def __init__(self, a, b, step=1):\n",
    "        if a > b:\n",
    "            a, b = b, a\n",
    "        self.a = a\n",
    "        self.b = b\n",
    "        self.step = step\n",
    "\n",
    "    def sum_all(self):\n",
    "        return sum(range(self.a, self.b + 1, self.step))\n",
    "    \n",
    "    \n",
    "sample = AddClass(1, 10, 2)\n",
    "sample.sum_all()"
   ]
  },
  {
   "cell_type": "code",
   "execution_count": null,
   "metadata": {},
   "outputs": [],
   "source": [
    "# f) best : algorithm + function"
   ]
  },
  {
   "cell_type": "markdown",
   "metadata": {},
   "source": [
    "## 4자리수 단위로 숫자 구분하기"
   ]
  },
  {
   "cell_type": "code",
   "execution_count": 2,
   "metadata": {},
   "outputs": [],
   "source": [
    "# 임의의 숫자에 대해 만단위, 억단위 등 4자리수 단위로 '_'를 넣어 구분하기\n",
    "\n",
    "numbers = [200, 10000, 2220000, 33331111, 555556666]\n",
    "\n",
    "# => '200', '1_0000', '222_0000', '3333_1111', '5_5555_6666'"
   ]
  },
  {
   "cell_type": "code",
   "execution_count": null,
   "metadata": {},
   "outputs": [
    {
     "data": {
      "text/plain": [
       "555556666"
      ]
     },
     "execution_count": 25,
     "metadata": {},
     "output_type": "execute_result"
    },
    {
     "data": {
      "text/plain": [
       "'555556666'"
      ]
     },
     "execution_count": 25,
     "metadata": {},
     "output_type": "execute_result"
    }
   ],
   "source": [
    "# 10_0000 = 10만/억/경\n",
    "# 100,000 = 100 thousand / million\n",
    "\n",
    "n = 5_55_55_6666     # int/float에서 _\n",
    "\n",
    "n\n",
    "str(n)"
   ]
  },
  {
   "cell_type": "code",
   "execution_count": 31,
   "metadata": {},
   "outputs": [
    {
     "data": {
      "text/plain": [
       "('abc', 'defg')"
      ]
     },
     "execution_count": 31,
     "metadata": {},
     "output_type": "execute_result"
    },
    {
     "data": {
      "text/plain": [
       "('abcd', 'efg')"
      ]
     },
     "execution_count": 31,
     "metadata": {},
     "output_type": "execute_result"
    },
    {
     "data": {
      "text/plain": [
       "('abcdefg', '')"
      ]
     },
     "execution_count": 31,
     "metadata": {},
     "output_type": "execute_result"
    },
    {
     "data": {
      "text/plain": [
       "('', 'abcdefg')"
      ]
     },
     "execution_count": 31,
     "metadata": {},
     "output_type": "execute_result"
    }
   ],
   "source": [
    "# slicing: indexing과 다르게, 인덱스 범위를 벗어나도 ok!!!\n",
    "\n",
    "s = 'abcdefg'\n",
    "\n",
    "# s[0], s[6], s[7]\n",
    "\n",
    "def str_slice(ix):\n",
    "    return s[:ix], s[ix:]\n",
    "\n",
    "str_slice(3)\n",
    "str_slice(-3)\n",
    "str_slice(10)\n",
    "str_slice(-10)"
   ]
  },
  {
   "cell_type": "code",
   "execution_count": 78,
   "metadata": {},
   "outputs": [
    {
     "data": {
      "text/plain": [
       "'5_5555_6666'"
      ]
     },
     "execution_count": 78,
     "metadata": {},
     "output_type": "execute_result"
    }
   ],
   "source": [
    "# 문자열 뒤에서 4자리씩 가져오기\n",
    "\n",
    "n = 5_5555_6666\n",
    "\n",
    "rs = []\n",
    "ns = str(n)\n",
    "\n",
    "while ns:                       # while len(ns) != 0:\n",
    "    rs.append(ns[-4:])\n",
    "    ns = ns[:-4]\n",
    "'_'.join(rs[::-1])"
   ]
  },
  {
   "cell_type": "code",
   "execution_count": 39,
   "metadata": {},
   "outputs": [
    {
     "data": {
      "text/plain": [
       "'5_5555_6666'"
      ]
     },
     "execution_count": 39,
     "metadata": {},
     "output_type": "execute_result"
    },
    {
     "data": {
      "text/plain": [
       "'555_556_666'"
      ]
     },
     "execution_count": 39,
     "metadata": {},
     "output_type": "execute_result"
    },
    {
     "data": {
      "text/plain": [
       "'555,556,666'"
      ]
     },
     "execution_count": 39,
     "metadata": {},
     "output_type": "execute_result"
    }
   ],
   "source": [
    "def num_format(num, k=4, mark='_'):\n",
    "    rs = []\n",
    "    ns = str(num)\n",
    "\n",
    "    while ns:                       # while len(ns) != 0:\n",
    "        rs.append(ns[-k:])\n",
    "        ns = ns[:-k]\n",
    "    return mark.join(rs[::-1])\n",
    "\n",
    "num_format(555556666)\n",
    "num_format(555556666, 3)\n",
    "num_format(555556666, 3, ',')"
   ]
  },
  {
   "cell_type": "code",
   "execution_count": null,
   "metadata": {},
   "outputs": [],
   "source": []
  },
  {
   "cell_type": "code",
   "execution_count": null,
   "metadata": {},
   "outputs": [
    {
     "data": {
      "text/plain": [
       "555556666"
      ]
     },
     "execution_count": 44,
     "metadata": {},
     "output_type": "execute_result"
    },
    {
     "data": {
      "text/plain": [
       "'555556666'"
      ]
     },
     "execution_count": 44,
     "metadata": {},
     "output_type": "execute_result"
    },
    {
     "data": {
      "text/plain": [
       "555556666"
      ]
     },
     "execution_count": 44,
     "metadata": {},
     "output_type": "execute_result"
    }
   ],
   "source": [
    "# 4자리수 단위마다 '_'로 구분된 정수 str을 int형으로 바꿔보기\n",
    "\n",
    "ns = '5_5555_6666'\n",
    "\n",
    "int(\n",
    "    ''.join(ns.split('_'))          # str.split, str.join\n",
    ")\n",
    "\n",
    "ns.replace('_', '')                 # str.replace(old, new)\n",
    "\n",
    "int(ns)                 # 5_5555_6666"
   ]
  },
  {
   "cell_type": "code",
   "execution_count": null,
   "metadata": {},
   "outputs": [],
   "source": []
  },
  {
   "cell_type": "code",
   "execution_count": null,
   "metadata": {},
   "outputs": [],
   "source": [
    "# 임의의 숫자에 대해 3자리수 단위마다 ','로 구분하기\n",
    "\n",
    "# => '200', '10,000', '2,220,000', '33,331,111', '555,556,666'"
   ]
  },
  {
   "cell_type": "code",
   "execution_count": 47,
   "metadata": {},
   "outputs": [
    {
     "data": {
      "text/plain": [
       "'555,556,666'"
      ]
     },
     "execution_count": 47,
     "metadata": {},
     "output_type": "execute_result"
    },
    {
     "data": {
      "text/plain": [
       "' 555556666'"
      ]
     },
     "execution_count": 47,
     "metadata": {},
     "output_type": "execute_result"
    }
   ],
   "source": [
    "n = 5_5555_6666\n",
    "\n",
    "# f-string : format specifier\n",
    "f\"{n:,}\"            # f\"{n:_}\"\n",
    "\n",
    "f\"{n:10}\""
   ]
  },
  {
   "cell_type": "code",
   "execution_count": 51,
   "metadata": {},
   "outputs": [
    {
     "data": {
      "text/plain": [
       "'       abc'"
      ]
     },
     "execution_count": 51,
     "metadata": {},
     "output_type": "execute_result"
    }
   ],
   "source": [
    "s = 'abc'\n",
    "\n",
    "f\"{s:>10}\""
   ]
  },
  {
   "cell_type": "code",
   "execution_count": 49,
   "metadata": {},
   "outputs": [
    {
     "data": {
      "text/plain": [
       "'123.4567'"
      ]
     },
     "execution_count": 49,
     "metadata": {},
     "output_type": "execute_result"
    },
    {
     "data": {
      "text/plain": [
       "'   123.457'"
      ]
     },
     "execution_count": 49,
     "metadata": {},
     "output_type": "execute_result"
    }
   ],
   "source": [
    "n = 123.4567\n",
    "f\"{n}\"\n",
    "f\"{n:10.3f}\""
   ]
  },
  {
   "cell_type": "markdown",
   "metadata": {},
   "source": [
    "## 로또 6/45"
   ]
  },
  {
   "cell_type": "code",
   "execution_count": null,
   "metadata": {},
   "outputs": [],
   "source": [
    "# 1 ~ 45가 적혀진 각 공에 대해 총 6개를 뽑는 simulation을 구하시오\n",
    "\n",
    "# 예) [4, 10, 23, 40, 41, 44]"
   ]
  },
  {
   "cell_type": "code",
   "execution_count": 57,
   "metadata": {},
   "outputs": [
    {
     "data": {
      "text/plain": [
       "[6, 14, 28, 32, 34, 39]"
      ]
     },
     "execution_count": 57,
     "metadata": {},
     "output_type": "execute_result"
    }
   ],
   "source": [
    "import random\n",
    "\n",
    "# random.sample(range(1, 46), 6)            # random.sample(시퀀스/range, k: int)\n",
    "\n",
    "def draw():\n",
    "    return sorted(\n",
    "        random.sample(range(1, 46), 6)\n",
    "    )\n",
    "\n",
    "draw = lambda: sorted(random.sample(range(1, 46), 6))\n",
    "\n",
    "draw()"
   ]
  },
  {
   "cell_type": "code",
   "execution_count": null,
   "metadata": {},
   "outputs": [],
   "source": []
  },
  {
   "cell_type": "code",
   "execution_count": null,
   "metadata": {},
   "outputs": [],
   "source": [
    "# 한 회차에 각 숫자(1~45)가 출현할 확률은 얼마입니까?"
   ]
  },
  {
   "cell_type": "code",
   "execution_count": 58,
   "metadata": {},
   "outputs": [
    {
     "data": {
      "text/plain": [
       "0.13333333333333333"
      ]
     },
     "execution_count": 58,
     "metadata": {},
     "output_type": "execute_result"
    }
   ],
   "source": [
    "# 각 숫자가 출현할 확률: (44C5 / 45C6)\n",
    "# nCr = n! / r! / (n-r)!\n",
    "\n",
    "import math\n",
    "\n",
    "fac = lambda n: math.factorial(n)\n",
    "\n",
    "# fac(44) / fac(5) / fac(39) / (fac(45) / fac(6) / fac(39))\n",
    "# fac(44) / fac(5) / (fac(45) / fac(6))\n",
    "6 / 45"
   ]
  },
  {
   "cell_type": "code",
   "execution_count": null,
   "metadata": {},
   "outputs": [],
   "source": []
  },
  {
   "cell_type": "code",
   "execution_count": null,
   "metadata": {},
   "outputs": [],
   "source": [
    "# 각 회차의 결과 6개 숫자(list)들에 대해, 모든 회차의 결과가 주어졌을때 각 숫자의 총 출현 횟수 구하기"
   ]
  },
  {
   "cell_type": "code",
   "execution_count": 62,
   "metadata": {},
   "outputs": [
    {
     "data": {
      "text/plain": [
       "[7, 15, 21, 31, 37, 45]"
      ]
     },
     "execution_count": 62,
     "metadata": {},
     "output_type": "execute_result"
    },
    {
     "data": {
      "text/plain": [
       "defaultdict(int, {7: 1, 15: 1, 21: 1, 31: 1, 37: 1, 45: 1})"
      ]
     },
     "execution_count": 62,
     "metadata": {},
     "output_type": "execute_result"
    }
   ],
   "source": [
    "from collections import defaultdict\n",
    "\n",
    "result = defaultdict(int)\n",
    "\n",
    "a_draw = draw()\n",
    "for d in a_draw:\n",
    "    result[d] += 1\n",
    "a_draw\n",
    "result"
   ]
  },
  {
   "cell_type": "code",
   "execution_count": 63,
   "metadata": {},
   "outputs": [
    {
     "data": {
      "text/plain": [
       "defaultdict(int, {7: 1, 9: 1, 10: 1, 26: 1, 27: 1, 36: 1})"
      ]
     },
     "execution_count": 63,
     "metadata": {},
     "output_type": "execute_result"
    }
   ],
   "source": [
    "result = defaultdict(int)\n",
    "\n",
    "def accumulate():\n",
    "    for d in draw():\n",
    "        result[d] += 1\n",
    "\n",
    "accumulate()\n",
    "result"
   ]
  },
  {
   "cell_type": "code",
   "execution_count": 64,
   "metadata": {},
   "outputs": [
    {
     "data": {
      "text/plain": [
       "defaultdict(int,\n",
       "            {7: 1,\n",
       "             9: 1,\n",
       "             10: 2,\n",
       "             26: 1,\n",
       "             27: 1,\n",
       "             36: 1,\n",
       "             1: 1,\n",
       "             15: 1,\n",
       "             30: 1,\n",
       "             33: 1,\n",
       "             34: 1})"
      ]
     },
     "execution_count": 64,
     "metadata": {},
     "output_type": "execute_result"
    }
   ],
   "source": [
    "accumulate()\n",
    "result"
   ]
  },
  {
   "cell_type": "code",
   "execution_count": null,
   "metadata": {},
   "outputs": [
    {
     "data": {
      "text/plain": [
       "defaultdict(int,\n",
       "            {3: 1321,\n",
       "             19: 1362,\n",
       "             22: 1316,\n",
       "             23: 1310,\n",
       "             42: 1338,\n",
       "             43: 1326,\n",
       "             7: 1298,\n",
       "             16: 1335,\n",
       "             21: 1403,\n",
       "             29: 1339,\n",
       "             6: 1392,\n",
       "             9: 1324,\n",
       "             14: 1301,\n",
       "             18: 1325,\n",
       "             30: 1396,\n",
       "             2: 1351,\n",
       "             25: 1334,\n",
       "             37: 1343,\n",
       "             41: 1309,\n",
       "             11: 1312,\n",
       "             26: 1382,\n",
       "             32: 1307,\n",
       "             33: 1363,\n",
       "             10: 1312,\n",
       "             15: 1285,\n",
       "             27: 1306,\n",
       "             39: 1339,\n",
       "             4: 1336,\n",
       "             34: 1372,\n",
       "             5: 1359,\n",
       "             38: 1393,\n",
       "             24: 1353,\n",
       "             35: 1358,\n",
       "             40: 1309,\n",
       "             17: 1319,\n",
       "             45: 1375,\n",
       "             8: 1331,\n",
       "             1: 1270,\n",
       "             44: 1287,\n",
       "             28: 1333,\n",
       "             12: 1351,\n",
       "             36: 1281,\n",
       "             13: 1311,\n",
       "             20: 1326,\n",
       "             31: 1307})"
      ]
     },
     "execution_count": 65,
     "metadata": {},
     "output_type": "execute_result"
    }
   ],
   "source": [
    "result = defaultdict(int)\n",
    "\n",
    "for _ in range(10000):          # 10000회 simulation\n",
    "    accumulate()\n",
    "\n",
    "result"
   ]
  },
  {
   "cell_type": "code",
   "execution_count": null,
   "metadata": {},
   "outputs": [
    {
     "name": "stdout",
     "output_type": "stream",
     "text": [
      " 1\t1270\n",
      " 2\t1351\n",
      " 3\t1321\n",
      " 4\t1336\n",
      " 5\t1359\n",
      " 6\t1392\n",
      " 7\t1298\n",
      " 8\t1331\n",
      " 9\t1324\n",
      "10\t1312\n",
      "11\t1312\n",
      "12\t1351\n",
      "13\t1311\n",
      "14\t1301\n",
      "15\t1285\n",
      "16\t1335\n",
      "17\t1319\n",
      "18\t1325\n",
      "19\t1362\n",
      "20\t1326\n",
      "21\t1403\n",
      "22\t1316\n",
      "23\t1310\n",
      "24\t1353\n",
      "25\t1334\n",
      "26\t1382\n",
      "27\t1306\n",
      "28\t1333\n",
      "29\t1339\n",
      "30\t1396\n",
      "31\t1307\n",
      "32\t1307\n",
      "33\t1363\n",
      "34\t1372\n",
      "35\t1358\n",
      "36\t1281\n",
      "37\t1343\n",
      "38\t1393\n",
      "39\t1339\n",
      "40\t1309\n",
      "41\t1309\n",
      "42\t1338\n",
      "43\t1326\n",
      "44\t1287\n",
      "45\t1375\n"
     ]
    }
   ],
   "source": [
    "for k in sorted(result):\n",
    "    print(f\"{k:2}\\t{result[k]}\")"
   ]
  },
  {
   "cell_type": "code",
   "execution_count": null,
   "metadata": {},
   "outputs": [
    {
     "name": "stdout",
     "output_type": "stream",
     "text": [
      "1270\t[1]\n",
      "1281\t[36]\n",
      "1285\t[15]\n",
      "1287\t[44]\n",
      "1298\t[7]\n",
      "1301\t[14]\n",
      "1306\t[27]\n",
      "1307\t[32, 31]\n",
      "1309\t[41, 40]\n",
      "1310\t[23]\n",
      "1311\t[13]\n",
      "1312\t[11, 10]\n",
      "1316\t[22]\n",
      "1319\t[17]\n",
      "1321\t[3]\n",
      "1324\t[9]\n",
      "1325\t[18]\n",
      "1326\t[43, 20]\n",
      "1331\t[8]\n",
      "1333\t[28]\n",
      "1334\t[25]\n",
      "1335\t[16]\n",
      "1336\t[4]\n",
      "1338\t[42]\n",
      "1339\t[29, 39]\n",
      "1343\t[37]\n",
      "1351\t[2, 12]\n",
      "1353\t[24]\n",
      "1358\t[35]\n",
      "1359\t[5]\n",
      "1362\t[19]\n",
      "1363\t[33]\n",
      "1372\t[34]\n",
      "1375\t[45]\n",
      "1382\t[26]\n",
      "1392\t[6]\n",
      "1393\t[38]\n",
      "1396\t[30]\n",
      "1403\t[21]\n"
     ]
    }
   ],
   "source": [
    "# 대수의 법칙: law of large numbers: 모집단(population) ~ 표본(sample) 평균값\n",
    "\n",
    "result_ = defaultdict(list)\n",
    "\n",
    "for k, v in result.items():\n",
    "    result_[v].append(k)\n",
    "\n",
    "for k in sorted(result_):\n",
    "    print(f\"{k}\\t{result_[k]}\")"
   ]
  },
  {
   "cell_type": "markdown",
   "metadata": {},
   "source": [
    "# up & down 숫자맞추기"
   ]
  },
  {
   "cell_type": "code",
   "execution_count": 73,
   "metadata": {},
   "outputs": [
    {
     "data": {
      "text/plain": [
       "55555"
      ]
     },
     "execution_count": 73,
     "metadata": {},
     "output_type": "execute_result"
    }
   ],
   "source": [
    "# 컴퓨터가 1~100 자연수 중 하나를 랜덤으로 정하고, 사용자가 이 숫자를 추측으로 맞추는 게임 작성\n",
    "# 사용자 추측이 정답보다 작으면 'up', 높으면 'down', 맞추면 '정답'을 출력하세요\n",
    "\n",
    "int(input('숫자를 입력하세요'))"
   ]
  },
  {
   "cell_type": "code",
   "execution_count": 76,
   "metadata": {},
   "outputs": [
    {
     "name": "stdout",
     "output_type": "stream",
     "text": [
      "up\n",
      "down\n",
      "down\n",
      "up\n",
      "up\n",
      "정답\n"
     ]
    }
   ],
   "source": [
    "import random\n",
    "\n",
    "num = random.randrange(1, 101)\n",
    "\n",
    "while True:\n",
    "    guess = int(input('숫자를 입력하세요'))\n",
    "    if guess < num:\n",
    "        print('up')\n",
    "    elif guess > num:\n",
    "        print('down')\n",
    "    else:\n",
    "        print('정답')\n",
    "        break"
   ]
  },
  {
   "cell_type": "code",
   "execution_count": null,
   "metadata": {},
   "outputs": [],
   "source": [
    "num = random.randrange(1, 101)\n",
    "\n",
    "while (guess := int(input('숫자 입력:'))) != num:               # walrus operator\n",
    "    print('up' if guess < num else 'down')\n",
    "\n",
    "print('정답', num)"
   ]
  },
  {
   "cell_type": "code",
   "execution_count": null,
   "metadata": {},
   "outputs": [],
   "source": []
  },
  {
   "cell_type": "markdown",
   "metadata": {},
   "source": [
    "# Fibonacci 수열 구하기: 재귀함수"
   ]
  },
  {
   "cell_type": "code",
   "execution_count": null,
   "metadata": {},
   "outputs": [],
   "source": [
    "# 처음은 0, 1로 시작하고, i번째 값은 직전 두 개(i-1, i-2)의 합으로 이루어진 수열을 구하시오.\n",
    "# 0, 1, 1, 2, 3, 5, ...\n",
    "# f(0) = 0, f(1) = 1, f(i) = f(i-1) + f(i-2)\n",
    "\n",
    "# key: 재귀함수, memoization"
   ]
  },
  {
   "cell_type": "code",
   "execution_count": null,
   "metadata": {},
   "outputs": [],
   "source": []
  },
  {
   "cell_type": "markdown",
   "metadata": {},
   "source": [
    "# factorial 구하기"
   ]
  },
  {
   "cell_type": "code",
   "execution_count": null,
   "metadata": {},
   "outputs": [],
   "source": [
    "# n! = n * (n-1) * (n-2) * ... * 2 * 1 을 구하는 함수를 작성하시오\n",
    "\n",
    "# math 라이브러리\n",
    "# 재귀함수\n",
    "# 함수\n",
    "# memoization"
   ]
  },
  {
   "cell_type": "code",
   "execution_count": null,
   "metadata": {},
   "outputs": [],
   "source": []
  },
  {
   "cell_type": "markdown",
   "metadata": {},
   "source": [
    "# 문자열 압축하기"
   ]
  },
  {
   "cell_type": "code",
   "execution_count": null,
   "metadata": {},
   "outputs": [],
   "source": [
    "# 문자열을 입력받아 같은 문자가 연속적으로 반복되는 경우 그 반복 횟수를 표시하여 압축하기\n",
    "# 예) aaabbcccccca -> a3b2c6a1"
   ]
  },
  {
   "cell_type": "code",
   "execution_count": null,
   "metadata": {},
   "outputs": [],
   "source": []
  },
  {
   "cell_type": "markdown",
   "metadata": {},
   "source": [
    "# spiral array"
   ]
  },
  {
   "cell_type": "code",
   "execution_count": null,
   "metadata": {},
   "outputs": [],
   "source": [
    "# 자연수 n에 대해 n by n 매트릭스에 나선형으로 회전하며 0부터 하나씩 증가하는 숫자를 출력하시오\n",
    "\n",
    "'''\n",
    "  0   1   2   3   4   5\n",
    " 19  20  21  22  23   6\n",
    " 18  31  32  33  24   7\n",
    " 17  30  35  34  25   8\n",
    " 16  29  28  27  26   9\n",
    " 15  14  13  12  11  10\n",
    "'''"
   ]
  },
  {
   "cell_type": "code",
   "execution_count": null,
   "metadata": {},
   "outputs": [],
   "source": []
  }
 ],
 "metadata": {
  "colab": {
   "provenance": [],
   "toc_visible": true
  },
  "kernelspec": {
   "display_name": "py311",
   "language": "python",
   "name": "python3"
  },
  "language_info": {
   "codemirror_mode": {
    "name": "ipython",
    "version": 3
   },
   "file_extension": ".py",
   "mimetype": "text/x-python",
   "name": "python",
   "nbconvert_exporter": "python",
   "pygments_lexer": "ipython3",
   "version": "3.11.11"
  }
 },
 "nbformat": 4,
 "nbformat_minor": 0
}
