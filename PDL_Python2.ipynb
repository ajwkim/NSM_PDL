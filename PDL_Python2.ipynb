{
 "cells": [
  {
   "cell_type": "markdown",
   "metadata": {
    "id": "nvuWL6cXkkaX"
   },
   "source": [
    "# Python 인공지능 연구 동호회"
   ]
  },
  {
   "cell_type": "code",
   "execution_count": 4,
   "metadata": {
    "id": "lYeo-cO3ztQU"
   },
   "outputs": [],
   "source": [
    "from IPython.core.interactiveshell import InteractiveShell\n",
    "InteractiveShell.ast_node_interactivity = 'all'             # 셀 내 모든 값 프린트, 기본은 'last_expr'"
   ]
  },
  {
   "cell_type": "markdown",
   "metadata": {},
   "source": [
    "# Year 2 : 실전 Python to Deep Learning\n",
    "\n",
    "- quiz, 기초 cell, 개별 풀이\n",
    "- code review\n",
    "- 개념과 technic 풀이"
   ]
  },
  {
   "cell_type": "markdown",
   "metadata": {},
   "source": [
    "## 1 ~ 10까지 더하기 : tuple/list/range, function/default"
   ]
  },
  {
   "cell_type": "code",
   "execution_count": null,
   "metadata": {},
   "outputs": [],
   "source": [
    "# a) 리스트, 튜플 등 시퀀스 또는 set으로 1, 2, ..., 10 전체를 메모리에 저장\n",
    "#    => worst: 한 원소씩 순회하며 더하기\n",
    "#    => algorithm: (첫 + 마지막 원소) * n / 2\n",
    "\n",
    "# b) 1, 2, ..., 10 전체를 메모리에 저장하지 않고 한 숫자씩 받아 더하기 (range, iterator)\n",
    "\n",
    "# c) 임의의 정수 a, b에 대해 [a + 1, a + 2, ..., b-1, b] 각 숫자를 모두 더하는 함수 작성\n",
    "\n",
    "# d) 임의의 정수 a, b에 대해 [a + step, a + 2 * step, ..., ] 각 숫자를 모두 더하는 함수 작성(step 디폴트값은 1)\n",
    "\n",
    "# e) d를 class로 작성\n",
    "\n",
    "# f) best answer?"
   ]
  },
  {
   "cell_type": "code",
   "execution_count": null,
   "metadata": {},
   "outputs": [
    {
     "data": {
      "text/plain": [
       "55"
      ]
     },
     "execution_count": 5,
     "metadata": {},
     "output_type": "execute_result"
    },
    {
     "data": {
      "text/plain": [
       "55"
      ]
     },
     "execution_count": 5,
     "metadata": {},
     "output_type": "execute_result"
    }
   ],
   "source": [
    "# a) tuple/list/set\n",
    "\n",
    "nums = (1, 2, 3, 4, 5, 6, 7, 8, 9, 10)      # all in memory : tuple/list/set/dict...\n",
    "nums = [1, 2, 3, 4, 5, 6, 7, 8, 9, 10]      # list: 원소 변경/삽입/추가/삭제 용이, more memory\n",
    "nums = {1, 2, 3, 4, 5, 6, 7, 8, 9, 10}      # set: 원소 중복 제거, 순서 보장 X\n",
    "\n",
    "\n",
    "sum(nums)\n",
    "\n",
    "# or\n",
    "result = 0\n",
    "for n in nums:\n",
    "    result += n                 # worst\n",
    "result"
   ]
  },
  {
   "cell_type": "code",
   "execution_count": null,
   "metadata": {},
   "outputs": [
    {
     "data": {
      "text/plain": [
       "55.0"
      ]
     },
     "execution_count": 6,
     "metadata": {},
     "output_type": "execute_result"
    }
   ],
   "source": [
    "# a) algorithm: (첫 + 마지막 원소) * n / 2     : best\n",
    "\n",
    "nums_ = sorted(nums)                # nums.sort()\n",
    "(nums_[0] + nums_[-1]) * len(nums_) / 2"
   ]
  },
  {
   "cell_type": "code",
   "execution_count": null,
   "metadata": {},
   "outputs": [],
   "source": [
    "# b) range\n",
    "\n",
    "nums = range(1, 11)         # range(11)\n",
    "\n",
    "\n",
    "sum(nums)\n",
    "\n",
    "# or\n",
    "result = 0\n",
    "for n in nums:\n",
    "    result += n\n",
    "result"
   ]
  },
  {
   "cell_type": "code",
   "execution_count": null,
   "metadata": {},
   "outputs": [],
   "source": [
    "# c, d) function/default\n",
    "\n",
    "\n",
    "def sum_func(a, b):\n",
    "    if a > b:\n",
    "        a, b = b, a\n",
    "    return sum(range(a, b + 1))\n",
    "\n",
    "\n",
    "def sum_func2(a, b, step=1):\n",
    "    if a > b:\n",
    "        a, b = b, a\n",
    "    return sum(range(a, b + 1, step))"
   ]
  },
  {
   "cell_type": "code",
   "execution_count": null,
   "metadata": {},
   "outputs": [
    {
     "data": {
      "text/plain": [
       "25"
      ]
     },
     "execution_count": 7,
     "metadata": {},
     "output_type": "execute_result"
    }
   ],
   "source": [
    "# e) class\n",
    "\n",
    "\n",
    "class AddClass:\n",
    "    \n",
    "    def __init__(self, a, b, step=1):\n",
    "        if a > b:\n",
    "            a, b = b, a\n",
    "        self.a = a\n",
    "        self.b = b\n",
    "        self.step = step\n",
    "\n",
    "    def sum_all(self):\n",
    "        return sum(range(self.a, self.b + 1, self.step))\n",
    "    \n",
    "    \n",
    "sample = AddClass(1, 10, 2)\n",
    "sample.sum_all()"
   ]
  },
  {
   "cell_type": "code",
   "execution_count": null,
   "metadata": {},
   "outputs": [],
   "source": [
    "# f) best : algorithm + function"
   ]
  }
 ],
 "metadata": {
  "colab": {
   "provenance": [],
   "toc_visible": true
  },
  "kernelspec": {
   "display_name": "py311torch",
   "language": "python",
   "name": "python3"
  },
  "language_info": {
   "codemirror_mode": {
    "name": "ipython",
    "version": 3
   },
   "file_extension": ".py",
   "mimetype": "text/x-python",
   "name": "python",
   "nbconvert_exporter": "python",
   "pygments_lexer": "ipython3",
   "version": "3.11.9"
  }
 },
 "nbformat": 4,
 "nbformat_minor": 0
}
