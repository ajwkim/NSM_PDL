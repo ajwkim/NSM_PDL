{
 "cells": [
  {
   "cell_type": "markdown",
   "metadata": {
    "id": "nvuWL6cXkkaX"
   },
   "source": [
    "# Python 인공지능 연구 동호회"
   ]
  },
  {
   "cell_type": "code",
   "execution_count": 1,
   "metadata": {
    "id": "lYeo-cO3ztQU"
   },
   "outputs": [],
   "source": [
    "from IPython.core.interactiveshell import InteractiveShell\n",
    "InteractiveShell.ast_node_interactivity = 'all'             # 셀 내 모든 값 프린트, 기본은 'last_expr'"
   ]
  },
  {
   "cell_type": "markdown",
   "metadata": {},
   "source": [
    "# Year 2 : 실전 Python to Deep Learning\n",
    "\n",
    "- quiz, 기초 cell, 개별 풀이\n",
    "- code review\n",
    "- 개념과 technic 풀이"
   ]
  },
  {
   "cell_type": "markdown",
   "metadata": {},
   "source": [
    "## 1 ~ 10까지 더하기 : tuple/list/range, function/default"
   ]
  },
  {
   "cell_type": "code",
   "execution_count": null,
   "metadata": {},
   "outputs": [],
   "source": [
    "# a) 리스트, 튜플 등 시퀀스 또는 set으로 1, 2, ..., 10 전체를 메모리에 저장\n",
    "#    => worst: 한 원소씩 순회하며 더하기\n",
    "#    => algorithm: (첫 + 마지막 원소) * n / 2\n",
    "\n",
    "# b) 1, 2, ..., 10 전체를 메모리에 저장하지 않고 한 숫자씩 받아 더하기 (range, iterator)\n",
    "\n",
    "# c) 임의의 정수 a, b에 대해 [a + 1, a + 2, ..., b-1, b] 각 숫자를 모두 더하는 함수 작성\n",
    "\n",
    "# d) 임의의 정수 a, b에 대해 [a + step, a + 2 * step, ..., ] 각 숫자를 모두 더하는 함수 작성(step 디폴트값은 1)\n",
    "\n",
    "# e) d를 class로 작성\n",
    "\n",
    "# f) best answer?"
   ]
  },
  {
   "cell_type": "code",
   "execution_count": null,
   "metadata": {},
   "outputs": [
    {
     "data": {
      "text/plain": [
       "55"
      ]
     },
     "execution_count": 2,
     "metadata": {},
     "output_type": "execute_result"
    },
    {
     "data": {
      "text/plain": [
       "55"
      ]
     },
     "execution_count": 2,
     "metadata": {},
     "output_type": "execute_result"
    }
   ],
   "source": [
    "# a) tuple/list/set\n",
    "\n",
    "nums = (1, 2, 3, 4, 5, 6, 7, 8, 9, 10)      # all in memory : tuple/list/set/dict...\n",
    "nums = [1, 2, 3, 4, 5, 6, 7, 8, 9, 10]      # list: 원소 변경/삽입/추가/삭제 용이, more memory\n",
    "nums = {1, 2, 3, 4, 5, 6, 7, 8, 9, 10}      # set: 원소 중복 제거, 순서 보장 X\n",
    "nums = range(1, 11)                         # iterator\n",
    "\n",
    "sum(nums)\n",
    "\n",
    "\n",
    "# worse\n",
    "result = 0\n",
    "for n in nums:\n",
    "    result += n\n",
    "result"
   ]
  },
  {
   "cell_type": "code",
   "execution_count": null,
   "metadata": {},
   "outputs": [
    {
     "data": {
      "text/plain": [
       "55.0"
      ]
     },
     "execution_count": 6,
     "metadata": {},
     "output_type": "execute_result"
    }
   ],
   "source": [
    "# algorithm: (첫 + 마지막 원소) * n / 2     : best\n",
    "\n",
    "nums_ = sorted(nums)                # nums.sort()\n",
    "(nums_[0] + nums_[-1]) * len(nums_) / 2"
   ]
  },
  {
   "cell_type": "code",
   "execution_count": null,
   "metadata": {},
   "outputs": [],
   "source": [
    "# b) range\n",
    "\n",
    "nums = range(1, 11)         # range(11)\n",
    "\n",
    "\n",
    "sum(nums)\n",
    "\n",
    "\n",
    "# worse\n",
    "result = 0\n",
    "for n in nums:\n",
    "    result += n\n",
    "result"
   ]
  },
  {
   "cell_type": "code",
   "execution_count": null,
   "metadata": {},
   "outputs": [],
   "source": [
    "# c, d) function/default\n",
    "\n",
    "\n",
    "def sum_func(a, b):\n",
    "    if a > b:\n",
    "        a, b = b, a\n",
    "    return sum(range(a, b + 1))\n",
    "\n",
    "\n",
    "def sum_func2(a, b, step=1):\n",
    "    if a > b:\n",
    "        a, b = b, a\n",
    "    return sum(range(a, b + 1, step))"
   ]
  },
  {
   "cell_type": "code",
   "execution_count": 7,
   "metadata": {},
   "outputs": [
    {
     "data": {
      "text/plain": [
       "25"
      ]
     },
     "execution_count": 7,
     "metadata": {},
     "output_type": "execute_result"
    }
   ],
   "source": [
    "sum_func2(10, 1, 2)"
   ]
  },
  {
   "cell_type": "code",
   "execution_count": 8,
   "metadata": {},
   "outputs": [
    {
     "data": {
      "text/plain": [
       "25"
      ]
     },
     "execution_count": 8,
     "metadata": {},
     "output_type": "execute_result"
    }
   ],
   "source": [
    "# e) class\n",
    "\n",
    "\n",
    "class AddClass:\n",
    "    \n",
    "    def __init__(self, a, b, step=1):\n",
    "        if a > b:\n",
    "            a, b = b, a\n",
    "        self.a = a\n",
    "        self.b = b\n",
    "        self.step = step\n",
    "\n",
    "    def sum_all(self):\n",
    "        return sum(range(self.a, self.b + 1, self.step))\n",
    "    \n",
    "    \n",
    "sample = AddClass(1, 10, 2)\n",
    "sample.sum_all()"
   ]
  },
  {
   "cell_type": "code",
   "execution_count": null,
   "metadata": {},
   "outputs": [],
   "source": [
    "# f) best : algorithm + function"
   ]
  },
  {
   "cell_type": "markdown",
   "metadata": {},
   "source": [
    "## 4자리수 단위로 숫자 구분하기"
   ]
  },
  {
   "cell_type": "code",
   "execution_count": 2,
   "metadata": {},
   "outputs": [],
   "source": [
    "# 임의의 숫자에 대해 만단위, 억단위 등 4자리수 단위로 '_'를 넣어 구분하기\n",
    "\n",
    "numbers = [200, 10000, 2220000, 33331111, 555556666]\n",
    "\n",
    "# => '200', '1_0000', '222_0000', '3333_1111', '5_5555_6666'"
   ]
  },
  {
   "cell_type": "code",
   "execution_count": null,
   "metadata": {},
   "outputs": [
    {
     "data": {
      "text/plain": [
       "555556666"
      ]
     },
     "execution_count": 25,
     "metadata": {},
     "output_type": "execute_result"
    },
    {
     "data": {
      "text/plain": [
       "'555556666'"
      ]
     },
     "execution_count": 25,
     "metadata": {},
     "output_type": "execute_result"
    }
   ],
   "source": [
    "# 10_0000 = 10만             # 만/억/경 등 10^4 단위\n",
    "# 100,000 = 100 thousand    # thousand/million/billion 등 10^3 단위\n",
    "\n",
    "n = 5_55_55_6666    # int/float에서 _는 그냥 visual aid, 실질적 의미 없음\n",
    "# n = 5,5555,6666     # ,는 tuple (5, 5555, 6666)\n",
    "\n",
    "n\n",
    "str(n)"
   ]
  },
  {
   "cell_type": "code",
   "execution_count": null,
   "metadata": {},
   "outputs": [
    {
     "data": {
      "text/plain": [
       "('abc', 'defg')"
      ]
     },
     "execution_count": 31,
     "metadata": {},
     "output_type": "execute_result"
    },
    {
     "data": {
      "text/plain": [
       "('abcd', 'efg')"
      ]
     },
     "execution_count": 31,
     "metadata": {},
     "output_type": "execute_result"
    },
    {
     "data": {
      "text/plain": [
       "('abcdefg', '')"
      ]
     },
     "execution_count": 31,
     "metadata": {},
     "output_type": "execute_result"
    },
    {
     "data": {
      "text/plain": [
       "('', 'abcdefg')"
      ]
     },
     "execution_count": 31,
     "metadata": {},
     "output_type": "execute_result"
    }
   ],
   "source": [
    "# slicing: indexing과 다르게, 인덱스 범위를 벗어나도 ok!!!\n",
    "\n",
    "s = 'abcdefg'\n",
    "\n",
    "# s[0], s[6], s[7]            # s[7] raises IndexError\n",
    "\n",
    "def str_slice(ix):\n",
    "    return s[:ix], s[ix:]       # 인덱스 ix 기준으로 시퀀스 s를 정확히 이등분\n",
    "\n",
    "str_slice(3)\n",
    "str_slice(-3)\n",
    "str_slice(10)\n",
    "str_slice(-10)"
   ]
  },
  {
   "cell_type": "code",
   "execution_count": null,
   "metadata": {},
   "outputs": [
    {
     "data": {
      "text/plain": [
       "'5_5555_6666'"
      ]
     },
     "execution_count": 78,
     "metadata": {},
     "output_type": "execute_result"
    }
   ],
   "source": [
    "# 문자열 뒤에서 4자리씩 가져오기\n",
    "\n",
    "n = 5_5555_6666\n",
    "\n",
    "rs = []\n",
    "ns = str(n)\n",
    "\n",
    "while ns:                       # while len(ns) != 0:\n",
    "    rs.append(ns[-4:])\n",
    "    ns = ns[:-4]\n",
    "    \n",
    "'_'.join(rs[::-1])"
   ]
  },
  {
   "cell_type": "code",
   "execution_count": null,
   "metadata": {},
   "outputs": [
    {
     "data": {
      "text/plain": [
       "'5_5555_6666'"
      ]
     },
     "execution_count": 39,
     "metadata": {},
     "output_type": "execute_result"
    },
    {
     "data": {
      "text/plain": [
       "'555_556_666'"
      ]
     },
     "execution_count": 39,
     "metadata": {},
     "output_type": "execute_result"
    },
    {
     "data": {
      "text/plain": [
       "'555,556,666'"
      ]
     },
     "execution_count": 39,
     "metadata": {},
     "output_type": "execute_result"
    }
   ],
   "source": [
    "def num_format(num, k=4, mark='_'):\n",
    "    rs = []\n",
    "    ns = str(num)\n",
    "\n",
    "    while ns:                       # while len(ns) != 0:\n",
    "        rs.append(ns[-k:])\n",
    "        ns = ns[:-k]\n",
    "    return mark.join(rs[::-1])\n",
    "\n",
    "\n",
    "num_format(555556666)\n",
    "num_format(555556666, 3)\n",
    "num_format(555556666, 3, ',')"
   ]
  },
  {
   "cell_type": "code",
   "execution_count": null,
   "metadata": {},
   "outputs": [],
   "source": []
  },
  {
   "cell_type": "code",
   "execution_count": null,
   "metadata": {},
   "outputs": [
    {
     "data": {
      "text/plain": [
       "555556666"
      ]
     },
     "execution_count": 44,
     "metadata": {},
     "output_type": "execute_result"
    },
    {
     "data": {
      "text/plain": [
       "'555556666'"
      ]
     },
     "execution_count": 44,
     "metadata": {},
     "output_type": "execute_result"
    },
    {
     "data": {
      "text/plain": [
       "555556666"
      ]
     },
     "execution_count": 44,
     "metadata": {},
     "output_type": "execute_result"
    }
   ],
   "source": [
    "# 4자리수 단위마다 '_'로 구분된 정수 str을 int형으로 바꿔보기\n",
    "\n",
    "ns = '5_5555_6666'\n",
    "\n",
    "int(\n",
    "    ''.join(ns.split('_'))          # str.split, str.join(iterable)\n",
    ")\n",
    "\n",
    "ns.replace('_', '')                 # str.replace(old, new)\n",
    "\n",
    "int(ns)                 # 5_5555_6666"
   ]
  },
  {
   "cell_type": "code",
   "execution_count": null,
   "metadata": {},
   "outputs": [],
   "source": []
  },
  {
   "cell_type": "code",
   "execution_count": null,
   "metadata": {},
   "outputs": [],
   "source": [
    "# 임의의 숫자에 대해 3자리수 단위마다 ','로 구분하기\n",
    "\n",
    "# => '200', '10,000', '2,220,000', '33,331,111', '555,556,666'"
   ]
  },
  {
   "cell_type": "code",
   "execution_count": null,
   "metadata": {},
   "outputs": [
    {
     "data": {
      "text/plain": [
       "'555,556,666'"
      ]
     },
     "execution_count": 47,
     "metadata": {},
     "output_type": "execute_result"
    },
    {
     "data": {
      "text/plain": [
       "' 555556666'"
      ]
     },
     "execution_count": 47,
     "metadata": {},
     "output_type": "execute_result"
    }
   ],
   "source": [
    "n = 5_5555_6666\n",
    "\n",
    "# f-string : format specifier\n",
    "f\"{n:,}\"            # f\"{n:_}\"\n",
    "\n",
    "f\"{n:10}\"           # 총 글자수 지정"
   ]
  },
  {
   "cell_type": "code",
   "execution_count": null,
   "metadata": {},
   "outputs": [
    {
     "data": {
      "text/plain": [
       "'       abc'"
      ]
     },
     "execution_count": 51,
     "metadata": {},
     "output_type": "execute_result"
    }
   ],
   "source": [
    "s = 'abc'\n",
    "\n",
    "f\"{s:>10}\"          # > 오른쪽 정렬"
   ]
  },
  {
   "cell_type": "code",
   "execution_count": null,
   "metadata": {},
   "outputs": [
    {
     "data": {
      "text/plain": [
       "'123.4567'"
      ]
     },
     "execution_count": 49,
     "metadata": {},
     "output_type": "execute_result"
    },
    {
     "data": {
      "text/plain": [
       "'   123.457'"
      ]
     },
     "execution_count": 49,
     "metadata": {},
     "output_type": "execute_result"
    }
   ],
   "source": [
    "n = 123.4567\n",
    "f\"{n}\"\n",
    "f\"{n:10.3f}\"        # .3f 소수점 3자리로 반올림"
   ]
  },
  {
   "cell_type": "markdown",
   "metadata": {},
   "source": [
    "## 로또 6/45"
   ]
  },
  {
   "cell_type": "code",
   "execution_count": null,
   "metadata": {},
   "outputs": [],
   "source": [
    "# 1 ~ 45가 적혀진 각 공에 대해 총 6개를 뽑는 simulation을 구하시오\n",
    "\n",
    "# 예) [4, 10, 23, 40, 41, 44]"
   ]
  },
  {
   "cell_type": "code",
   "execution_count": 7,
   "metadata": {},
   "outputs": [
    {
     "data": {
      "text/plain": [
       "[2, 17, 19, 29, 38, 41]"
      ]
     },
     "execution_count": 7,
     "metadata": {},
     "output_type": "execute_result"
    }
   ],
   "source": [
    "import random\n",
    "\n",
    "# random.sample(range(1, 46), 6)            # random.sample(시퀀스/range, k: int)\n",
    "\n",
    "def draw():\n",
    "    return sorted(\n",
    "        random.sample(range(1, 46), 6)\n",
    "    )\n",
    "\n",
    "draw = lambda: sorted(random.sample(range(1, 46), 6))\n",
    "\n",
    "draw()"
   ]
  },
  {
   "cell_type": "code",
   "execution_count": null,
   "metadata": {},
   "outputs": [],
   "source": []
  },
  {
   "cell_type": "code",
   "execution_count": null,
   "metadata": {},
   "outputs": [],
   "source": [
    "# 한 회차에 각 숫자(1~45)가 출현할 확률은 얼마입니까?"
   ]
  },
  {
   "cell_type": "code",
   "execution_count": 58,
   "metadata": {},
   "outputs": [
    {
     "data": {
      "text/plain": [
       "0.13333333333333333"
      ]
     },
     "execution_count": 58,
     "metadata": {},
     "output_type": "execute_result"
    }
   ],
   "source": [
    "# 각 숫자가 출현할 확률: (44C5 / 45C6)\n",
    "# nCr = n! / r! / (n-r)!\n",
    "\n",
    "import math\n",
    "\n",
    "fac = lambda n: math.factorial(n)\n",
    "\n",
    "# fac(44) / fac(5) / fac(39) / (fac(45) / fac(6) / fac(39))\n",
    "# fac(44) / fac(5) / (fac(45) / fac(6))\n",
    "6 / 45"
   ]
  },
  {
   "cell_type": "code",
   "execution_count": null,
   "metadata": {},
   "outputs": [],
   "source": []
  },
  {
   "cell_type": "code",
   "execution_count": null,
   "metadata": {},
   "outputs": [],
   "source": [
    "# 각 회차의 결과 6개 숫자(list)들에 대해, 모든 회차의 결과가 주어졌을때 각 숫자의 총 출현 횟수 구하기"
   ]
  },
  {
   "cell_type": "code",
   "execution_count": 8,
   "metadata": {},
   "outputs": [
    {
     "data": {
      "text/plain": [
       "[3, 10, 16, 21, 27, 44]"
      ]
     },
     "execution_count": 8,
     "metadata": {},
     "output_type": "execute_result"
    },
    {
     "data": {
      "text/plain": [
       "defaultdict(int, {3: 1, 10: 1, 16: 1, 21: 1, 27: 1, 44: 1})"
      ]
     },
     "execution_count": 8,
     "metadata": {},
     "output_type": "execute_result"
    }
   ],
   "source": [
    "from collections import defaultdict\n",
    "\n",
    "result = defaultdict(int)\n",
    "\n",
    "a_draw = draw()\n",
    "for d in a_draw:\n",
    "    result[d] += 1\n",
    "\n",
    "a_draw\n",
    "result"
   ]
  },
  {
   "cell_type": "code",
   "execution_count": null,
   "metadata": {},
   "outputs": [
    {
     "data": {
      "text/plain": [
       "defaultdict(int, {7: 1, 9: 1, 10: 1, 26: 1, 27: 1, 36: 1})"
      ]
     },
     "execution_count": 63,
     "metadata": {},
     "output_type": "execute_result"
    }
   ],
   "source": [
    "result = defaultdict(int)\n",
    "\n",
    "def accumulate():\n",
    "    for d in draw():            # 함수 실행 시마다 draw() 실행: ok!\n",
    "        result[d] += 1\n",
    "\n",
    "\n",
    "accumulate()\n",
    "result"
   ]
  },
  {
   "cell_type": "code",
   "execution_count": null,
   "metadata": {},
   "outputs": [
    {
     "data": {
      "text/plain": [
       "defaultdict(int, {6: 1, 7: 1, 9: 1, 20: 1, 24: 1, 27: 1})"
      ]
     },
     "execution_count": 12,
     "metadata": {},
     "output_type": "execute_result"
    },
    {
     "data": {
      "text/plain": [
       "defaultdict(int, {6: 2, 7: 2, 9: 2, 20: 2, 24: 2, 27: 2})"
      ]
     },
     "execution_count": 12,
     "metadata": {},
     "output_type": "execute_result"
    },
    {
     "data": {
      "text/plain": [
       "defaultdict(int, {6: 3, 7: 3, 9: 3, 20: 3, 24: 3, 27: 3})"
      ]
     },
     "execution_count": 12,
     "metadata": {},
     "output_type": "execute_result"
    }
   ],
   "source": [
    "# accumulate 함수에 a_draw 값을 인수로 받거나, default 값으로 draw() 실행해서 받기\n",
    "\n",
    "result = defaultdict(int)\n",
    "\n",
    "                                      # Never: dynamic default values\n",
    "def accumulate(a_draw=draw()):        # a_draw=draw()하면 dynamic하게 값을 받아올 수 없음\n",
    "    for d in a_draw:                  # default 값은 함수 정의 시(loading시) evaluated\n",
    "        result[d] += 1\n",
    "\n",
    "\n",
    "accumulate()\n",
    "result\n",
    "\n",
    "accumulate()\n",
    "result\n",
    "\n",
    "accumulate()\n",
    "result"
   ]
  },
  {
   "cell_type": "code",
   "execution_count": 13,
   "metadata": {},
   "outputs": [
    {
     "data": {
      "text/plain": [
       "defaultdict(int, {2: 1, 4: 1, 6: 1, 7: 1, 32: 1, 41: 1})"
      ]
     },
     "execution_count": 13,
     "metadata": {},
     "output_type": "execute_result"
    }
   ],
   "source": [
    "result = defaultdict(int)\n",
    "\n",
    "def accumulate(a_draw=None):        # a_draw=draw()하면 dynamic하게 값을 받아올 수 없음\n",
    "    if a_draw is None:              # default 값으로 None을 주고\n",
    "        a_draw = draw()             # None이면 dynamic하게 값을 받아옴: ok!\n",
    "    for d in a_draw:\n",
    "        result[d] += 1\n",
    "\n",
    "\n",
    "accumulate()\n",
    "result"
   ]
  },
  {
   "cell_type": "code",
   "execution_count": 14,
   "metadata": {},
   "outputs": [
    {
     "data": {
      "text/plain": [
       "defaultdict(int,\n",
       "            {2: 1,\n",
       "             4: 1,\n",
       "             6: 1,\n",
       "             7: 1,\n",
       "             32: 2,\n",
       "             41: 1,\n",
       "             3: 1,\n",
       "             8: 1,\n",
       "             11: 1,\n",
       "             19: 1,\n",
       "             39: 1})"
      ]
     },
     "execution_count": 14,
     "metadata": {},
     "output_type": "execute_result"
    }
   ],
   "source": [
    "accumulate()\n",
    "result"
   ]
  },
  {
   "cell_type": "code",
   "execution_count": null,
   "metadata": {},
   "outputs": [
    {
     "data": {
      "text/plain": [
       "defaultdict(int,\n",
       "            {3: 1321,\n",
       "             19: 1362,\n",
       "             22: 1316,\n",
       "             23: 1310,\n",
       "             42: 1338,\n",
       "             43: 1326,\n",
       "             7: 1298,\n",
       "             16: 1335,\n",
       "             21: 1403,\n",
       "             29: 1339,\n",
       "             6: 1392,\n",
       "             9: 1324,\n",
       "             14: 1301,\n",
       "             18: 1325,\n",
       "             30: 1396,\n",
       "             2: 1351,\n",
       "             25: 1334,\n",
       "             37: 1343,\n",
       "             41: 1309,\n",
       "             11: 1312,\n",
       "             26: 1382,\n",
       "             32: 1307,\n",
       "             33: 1363,\n",
       "             10: 1312,\n",
       "             15: 1285,\n",
       "             27: 1306,\n",
       "             39: 1339,\n",
       "             4: 1336,\n",
       "             34: 1372,\n",
       "             5: 1359,\n",
       "             38: 1393,\n",
       "             24: 1353,\n",
       "             35: 1358,\n",
       "             40: 1309,\n",
       "             17: 1319,\n",
       "             45: 1375,\n",
       "             8: 1331,\n",
       "             1: 1270,\n",
       "             44: 1287,\n",
       "             28: 1333,\n",
       "             12: 1351,\n",
       "             36: 1281,\n",
       "             13: 1311,\n",
       "             20: 1326,\n",
       "             31: 1307})"
      ]
     },
     "execution_count": 65,
     "metadata": {},
     "output_type": "execute_result"
    }
   ],
   "source": [
    "result = defaultdict(int)\n",
    "\n",
    "for _ in range(10000):          # 10000회 simulation\n",
    "    accumulate()\n",
    "\n",
    "result"
   ]
  },
  {
   "cell_type": "code",
   "execution_count": null,
   "metadata": {},
   "outputs": [
    {
     "name": "stdout",
     "output_type": "stream",
     "text": [
      " 1\t1270\n",
      " 2\t1351\n",
      " 3\t1321\n",
      " 4\t1336\n",
      " 5\t1359\n",
      " 6\t1392\n",
      " 7\t1298\n",
      " 8\t1331\n",
      " 9\t1324\n",
      "10\t1312\n",
      "11\t1312\n",
      "12\t1351\n",
      "13\t1311\n",
      "14\t1301\n",
      "15\t1285\n",
      "16\t1335\n",
      "17\t1319\n",
      "18\t1325\n",
      "19\t1362\n",
      "20\t1326\n",
      "21\t1403\n",
      "22\t1316\n",
      "23\t1310\n",
      "24\t1353\n",
      "25\t1334\n",
      "26\t1382\n",
      "27\t1306\n",
      "28\t1333\n",
      "29\t1339\n",
      "30\t1396\n",
      "31\t1307\n",
      "32\t1307\n",
      "33\t1363\n",
      "34\t1372\n",
      "35\t1358\n",
      "36\t1281\n",
      "37\t1343\n",
      "38\t1393\n",
      "39\t1339\n",
      "40\t1309\n",
      "41\t1309\n",
      "42\t1338\n",
      "43\t1326\n",
      "44\t1287\n",
      "45\t1375\n"
     ]
    }
   ],
   "source": [
    "for k in sorted(result):                # sorted(dict) -> list of sorted keys\n",
    "    print(f\"{k:2}\\t{result[k]}\")"
   ]
  },
  {
   "cell_type": "code",
   "execution_count": null,
   "metadata": {},
   "outputs": [
    {
     "name": "stdout",
     "output_type": "stream",
     "text": [
      "1270\t[1]\n",
      "1281\t[36]\n",
      "1285\t[15]\n",
      "1287\t[44]\n",
      "1298\t[7]\n",
      "1301\t[14]\n",
      "1306\t[27]\n",
      "1307\t[32, 31]\n",
      "1309\t[41, 40]\n",
      "1310\t[23]\n",
      "1311\t[13]\n",
      "1312\t[11, 10]\n",
      "1316\t[22]\n",
      "1319\t[17]\n",
      "1321\t[3]\n",
      "1324\t[9]\n",
      "1325\t[18]\n",
      "1326\t[43, 20]\n",
      "1331\t[8]\n",
      "1333\t[28]\n",
      "1334\t[25]\n",
      "1335\t[16]\n",
      "1336\t[4]\n",
      "1338\t[42]\n",
      "1339\t[29, 39]\n",
      "1343\t[37]\n",
      "1351\t[2, 12]\n",
      "1353\t[24]\n",
      "1358\t[35]\n",
      "1359\t[5]\n",
      "1362\t[19]\n",
      "1363\t[33]\n",
      "1372\t[34]\n",
      "1375\t[45]\n",
      "1382\t[26]\n",
      "1392\t[6]\n",
      "1393\t[38]\n",
      "1396\t[30]\n",
      "1403\t[21]\n"
     ]
    }
   ],
   "source": [
    "# 대수의 법칙: law of large numbers\n",
    "# 표본(sample) 평균값 ~ 모집단(population) 평균값 as sample size increases\n",
    "\n",
    "result_ = defaultdict(list)\n",
    "\n",
    "for k, v in result.items():\n",
    "    result_[v].append(k)\n",
    "\n",
    "for k in sorted(result_):\n",
    "    print(f\"{k}\\t{result_[k]}\")"
   ]
  },
  {
   "cell_type": "markdown",
   "metadata": {},
   "source": [
    "## up & down 숫자맞추기"
   ]
  },
  {
   "cell_type": "code",
   "execution_count": 73,
   "metadata": {},
   "outputs": [
    {
     "data": {
      "text/plain": [
       "55555"
      ]
     },
     "execution_count": 73,
     "metadata": {},
     "output_type": "execute_result"
    }
   ],
   "source": [
    "# 컴퓨터가 1~100 자연수 중 하나를 랜덤으로 정하고, 사용자가 이 숫자를 추측으로 맞추는 게임 작성\n",
    "# 사용자 추측이 정답보다 작으면 'up', 높으면 'down', 맞추면 '정답'을 출력하세요\n",
    "\n",
    "int(input('숫자를 입력하세요'))"
   ]
  },
  {
   "cell_type": "code",
   "execution_count": 2,
   "metadata": {},
   "outputs": [
    {
     "data": {
      "text/plain": [
       "17"
      ]
     },
     "execution_count": 2,
     "metadata": {},
     "output_type": "execute_result"
    },
    {
     "data": {
      "text/plain": [
       "62"
      ]
     },
     "execution_count": 2,
     "metadata": {},
     "output_type": "execute_result"
    },
    {
     "data": {
      "text/plain": [
       "77"
      ]
     },
     "execution_count": 2,
     "metadata": {},
     "output_type": "execute_result"
    }
   ],
   "source": [
    "import random\n",
    "\n",
    "random.randint(1, 100)              # [1, 100]\n",
    "random.randrange(1, 101)            # [1, 101) == [1, 100]\n",
    "random.randrange(100) + 1           # [0, 99] + 1"
   ]
  },
  {
   "cell_type": "code",
   "execution_count": null,
   "metadata": {},
   "outputs": [
    {
     "name": "stdout",
     "output_type": "stream",
     "text": [
      "up\n",
      "down\n",
      "down\n",
      "up\n",
      "up\n",
      "정답\n"
     ]
    }
   ],
   "source": [
    "import random\n",
    "\n",
    "num = random.randrange(100) + 1\n",
    "\n",
    "while True:\n",
    "    guess = int(input('숫자를 입력하세요'))\n",
    "    if guess < num:\n",
    "        print('up')\n",
    "    elif guess > num:\n",
    "        print('down')\n",
    "    else:\n",
    "        print('정답')\n",
    "        break"
   ]
  },
  {
   "cell_type": "code",
   "execution_count": null,
   "metadata": {},
   "outputs": [],
   "source": [
    "num = random.randrange(100) + 1\n",
    "\n",
    "while (guess := int(input('숫자 입력...'))) != num:         # walrus operator\n",
    "    print('up' if guess < num else 'down')\n",
    "\n",
    "print('정답', num)"
   ]
  },
  {
   "cell_type": "code",
   "execution_count": null,
   "metadata": {},
   "outputs": [],
   "source": []
  },
  {
   "cell_type": "markdown",
   "metadata": {},
   "source": [
    "## Fibonacci 수열 구하기: 재귀함수"
   ]
  },
  {
   "cell_type": "code",
   "execution_count": null,
   "metadata": {},
   "outputs": [],
   "source": [
    "# 처음은 0, 1로 시작하고, i번째 값은 직전 두 개(i-1, i-2)의 합으로 이루어진 수열을 구하시오.\n",
    "# 0, 1, 1, 2, 3, 5, ...\n",
    "# f(0) = 0, f(1) = 1, f(i) = f(i-1) + f(i-2)\n",
    "\n",
    "# 핵심 개념: 재귀함수, memoization"
   ]
  },
  {
   "cell_type": "code",
   "execution_count": 18,
   "metadata": {},
   "outputs": [
    {
     "data": {
      "text/plain": [
       "(0, 1, 1, 2, 3)"
      ]
     },
     "execution_count": 18,
     "metadata": {},
     "output_type": "execute_result"
    },
    {
     "name": "stdout",
     "output_type": "stream",
     "text": [
      "CPU times: user 1.52 s, sys: 16.7 ms, total: 1.53 s\n",
      "Wall time: 1.54 s\n"
     ]
    },
    {
     "data": {
      "text/plain": [
       "9227465"
      ]
     },
     "execution_count": 18,
     "metadata": {},
     "output_type": "execute_result"
    }
   ],
   "source": [
    "def f(i):\n",
    "    assert i >= 0 and isinstance(i, int)\n",
    "    \n",
    "    if i <= 1:              # if i in (0, 1):       # 중단 조건(초기 조건)\n",
    "        return i\n",
    "    return f(i-1) + f(i-2)                          # 점화식\n",
    "\n",
    "\n",
    "f(0), f(1), f(2), f(3), f(4)\n",
    "%time f(35)                             # 소요시간 기하 급수적 증가"
   ]
  },
  {
   "cell_type": "code",
   "execution_count": 19,
   "metadata": {},
   "outputs": [
    {
     "name": "stdout",
     "output_type": "stream",
     "text": [
      "1.52 s ± 8.57 ms per loop (mean ± std. dev. of 7 runs, 1 loop each)\n"
     ]
    }
   ],
   "source": [
    "%timeit f(35)"
   ]
  },
  {
   "cell_type": "code",
   "execution_count": 20,
   "metadata": {},
   "outputs": [
    {
     "name": "stdout",
     "output_type": "stream",
     "text": [
      "running f(4)...\n",
      "running f(3)...\n",
      "running f(2)...\n",
      "running f(1)...\n",
      "running f(0)...\n",
      "running f(1)...\n",
      "running f(2)...\n",
      "running f(1)...\n",
      "running f(0)...\n"
     ]
    },
    {
     "data": {
      "text/plain": [
       "3"
      ]
     },
     "execution_count": 20,
     "metadata": {},
     "output_type": "execute_result"
    }
   ],
   "source": [
    "def f(i):\n",
    "    # assert i >= 0 and isinstance(i, int)\n",
    "    print(f\"running f({i})...\")\n",
    "    \n",
    "    if i <= 1:\n",
    "        return i\n",
    "    return f(i-1) + f(i-2)\n",
    "\n",
    "\n",
    "f(4)                        # f(2) : 같은 함수를 두 번 실행"
   ]
  },
  {
   "cell_type": "code",
   "execution_count": 21,
   "metadata": {},
   "outputs": [
    {
     "data": {
      "text/plain": [
       "(0, 1, 1, 2, 3)"
      ]
     },
     "execution_count": 21,
     "metadata": {},
     "output_type": "execute_result"
    },
    {
     "name": "stdout",
     "output_type": "stream",
     "text": [
      "CPU times: user 16 μs, sys: 9 μs, total: 25 μs\n",
      "Wall time: 35 μs\n"
     ]
    },
    {
     "data": {
      "text/plain": [
       "9227465"
      ]
     },
     "execution_count": 21,
     "metadata": {},
     "output_type": "execute_result"
    }
   ],
   "source": [
    "# memoization\n",
    "\n",
    "fib_dict = {0: 0, 1: 1}                 # global cache\n",
    "\n",
    "\n",
    "def fib(i):\n",
    "    if i in fib_dict:\n",
    "        return fib_dict[i]\n",
    "    fib_dict[i] = fib(i-1) + fib(i-2)\n",
    "    return fib_dict[i]\n",
    "\n",
    "\n",
    "fib(0), fib(1), fib(2), fib(3), fib(4)\n",
    "%time fib(35)                             # faster!"
   ]
  },
  {
   "cell_type": "code",
   "execution_count": 22,
   "metadata": {},
   "outputs": [
    {
     "name": "stdout",
     "output_type": "stream",
     "text": [
      "41.4 ns ± 0.939 ns per loop (mean ± std. dev. of 7 runs, 10,000,000 loops each)\n"
     ]
    }
   ],
   "source": [
    "%timeit fib(35)                         # %time fib(35)와 시간차이나는 이유?"
   ]
  },
  {
   "cell_type": "code",
   "execution_count": 17,
   "metadata": {},
   "outputs": [
    {
     "data": {
      "text/plain": [
       "{0: 0,\n",
       " 1: 1,\n",
       " 2: 1,\n",
       " 3: 2,\n",
       " 4: 3,\n",
       " 5: 5,\n",
       " 6: 8,\n",
       " 7: 13,\n",
       " 8: 21,\n",
       " 9: 34,\n",
       " 10: 55,\n",
       " 11: 89,\n",
       " 12: 144,\n",
       " 13: 233,\n",
       " 14: 377,\n",
       " 15: 610,\n",
       " 16: 987,\n",
       " 17: 1597,\n",
       " 18: 2584,\n",
       " 19: 4181,\n",
       " 20: 6765,\n",
       " 21: 10946,\n",
       " 22: 17711,\n",
       " 23: 28657,\n",
       " 24: 46368,\n",
       " 25: 75025,\n",
       " 26: 121393,\n",
       " 27: 196418,\n",
       " 28: 317811,\n",
       " 29: 514229,\n",
       " 30: 832040,\n",
       " 31: 1346269,\n",
       " 32: 2178309,\n",
       " 33: 3524578,\n",
       " 34: 5702887,\n",
       " 35: 9227465}"
      ]
     },
     "execution_count": 17,
     "metadata": {},
     "output_type": "execute_result"
    }
   ],
   "source": [
    "fib_dict"
   ]
  },
  {
   "cell_type": "code",
   "execution_count": 23,
   "metadata": {},
   "outputs": [
    {
     "name": "stdout",
     "output_type": "stream",
     "text": [
      "running f(4)...\n",
      "running f(3)...\n",
      "running f(2)...\n",
      "running f(1)...\n",
      "running f(0)...\n",
      "running f(1)...\n",
      "running f(2)...\n"
     ]
    },
    {
     "data": {
      "text/plain": [
       "3"
      ]
     },
     "execution_count": 23,
     "metadata": {},
     "output_type": "execute_result"
    }
   ],
   "source": [
    "fib_dict = {0: 0, 1: 1}                 # global cache\n",
    "\n",
    "\n",
    "def fib(i):\n",
    "    print(f\"running f({i})...\")\n",
    "    if i in fib_dict:\n",
    "        return fib_dict[i]\n",
    "    fib_dict[i] = fib(i-1) + fib(i-2)\n",
    "    return fib_dict[i]\n",
    "\n",
    "fib(4)          # f(2) 한 번은 실행, 다음부터 딕트 참조"
   ]
  },
  {
   "cell_type": "code",
   "execution_count": null,
   "metadata": {},
   "outputs": [],
   "source": []
  },
  {
   "cell_type": "code",
   "execution_count": null,
   "metadata": {},
   "outputs": [
    {
     "data": {
      "text/plain": [
       "(0, 1, 1, 2, 3)"
      ]
     },
     "execution_count": 2,
     "metadata": {},
     "output_type": "execute_result"
    },
    {
     "name": "stdout",
     "output_type": "stream",
     "text": [
      "CPU times: user 3 μs, sys: 0 ns, total: 3 μs\n",
      "Wall time: 3.81 μs\n"
     ]
    },
    {
     "data": {
      "text/plain": [
       "9227465"
      ]
     },
     "execution_count": 2,
     "metadata": {},
     "output_type": "execute_result"
    }
   ],
   "source": [
    "# iterative fct\n",
    "\n",
    "def fib(i):\n",
    "    x, y = 0, 1\n",
    "    for _ in range(i):\n",
    "        x, y = y, x + y     # i=0 실행되지 않음; i=1 1번실행됨; i번 실행됨\n",
    "    return x\n",
    "\n",
    "fib(0), fib(1), fib(2), fib(3), fib(4)\n",
    "%time fib(35)                             # faster than memoization !"
   ]
  },
  {
   "cell_type": "code",
   "execution_count": 3,
   "metadata": {},
   "outputs": [
    {
     "name": "stdout",
     "output_type": "stream",
     "text": [
      "633 ns ± 3.47 ns per loop (mean ± std. dev. of 7 runs, 1,000,000 loops each)\n"
     ]
    }
   ],
   "source": [
    "%timeit fib(35)"
   ]
  },
  {
   "cell_type": "markdown",
   "metadata": {},
   "source": [
    "## factorial 구하기"
   ]
  },
  {
   "cell_type": "code",
   "execution_count": null,
   "metadata": {},
   "outputs": [],
   "source": [
    "# n! = n * (n-1) * (n-2) * ... * 2 * 1 을 구하는 함수를 작성하시오\n",
    "\n",
    "# 재귀함수\n",
    "# memoization\n",
    "# 함수\n",
    "# math 라이브러리"
   ]
  },
  {
   "cell_type": "code",
   "execution_count": 39,
   "metadata": {},
   "outputs": [
    {
     "name": "stdout",
     "output_type": "stream",
     "text": [
      "CPU times: user 8 μs, sys: 0 ns, total: 8 μs\n",
      "Wall time: 11 μs\n"
     ]
    },
    {
     "data": {
      "text/plain": [
       "2432902008176640000"
      ]
     },
     "execution_count": 39,
     "metadata": {},
     "output_type": "execute_result"
    }
   ],
   "source": [
    "def fac(n):\n",
    "    assert n >= 0 and isinstance(n, int)\n",
    "    if n <= 1:\n",
    "        return 1\n",
    "    return n * fac(n-1)             # 재귀함수: slow\n",
    "\n",
    "%time fac(20)"
   ]
  },
  {
   "cell_type": "code",
   "execution_count": 16,
   "metadata": {},
   "outputs": [
    {
     "name": "stdout",
     "output_type": "stream",
     "text": [
      "CPU times: user 8 μs, sys: 0 ns, total: 8 μs\n",
      "Wall time: 8.82 μs\n"
     ]
    },
    {
     "data": {
      "text/plain": [
       "2432902008176640000"
      ]
     },
     "execution_count": 16,
     "metadata": {},
     "output_type": "execute_result"
    }
   ],
   "source": [
    "fac_dict = {0: 1, 1: 1}               # memoization\n",
    "\n",
    "def fac(n):\n",
    "    if n in fac_dict:\n",
    "        return fac_dict[n]\n",
    "    fac_dict[n] = n * fac(n-1)\n",
    "    return fac_dict[n]\n",
    "\n",
    "\n",
    "# def fac(n):\n",
    "#     if n not in fac_dict:\n",
    "#         fac_dict[n] = n * fac(n-1)\n",
    "#     return fac_dict[n]\n",
    "\n",
    "%time fac(20)"
   ]
  },
  {
   "cell_type": "code",
   "execution_count": 42,
   "metadata": {},
   "outputs": [
    {
     "name": "stdout",
     "output_type": "stream",
     "text": [
      "458 ns ± 1.21 ns per loop (mean ± std. dev. of 7 runs, 1,000,000 loops each)\n"
     ]
    }
   ],
   "source": [
    "def fac(n):\n",
    "    result = 1\n",
    "    for i in range(1, n+1):         # 직접 loop\n",
    "        result *= i\n",
    "    return result\n",
    "\n",
    "%timeit fac(20)"
   ]
  },
  {
   "cell_type": "code",
   "execution_count": null,
   "metadata": {},
   "outputs": [
    {
     "name": "stdout",
     "output_type": "stream",
     "text": [
      "200 ns ± 1.95 ns per loop (mean ± std. dev. of 7 runs, 1,000,000 loops each)\n"
     ]
    }
   ],
   "source": [
    "import math\n",
    "\n",
    "def fac(n):\n",
    "    return math.prod(range(1, n+1))     # math.prod(iterable)\n",
    "\n",
    "%timeit fac(20)"
   ]
  },
  {
   "cell_type": "code",
   "execution_count": null,
   "metadata": {},
   "outputs": [
    {
     "name": "stdout",
     "output_type": "stream",
     "text": [
      "41.5 ns ± 0.248 ns per loop (mean ± std. dev. of 7 runs, 10,000,000 loops each)\n"
     ]
    }
   ],
   "source": [
    "import math\n",
    "\n",
    "# math.factorial\n",
    "\n",
    "fac = lambda n: math.factorial(n)\n",
    "\n",
    "%timeit fac(20)"
   ]
  },
  {
   "cell_type": "markdown",
   "metadata": {},
   "source": [
    "## 문자열 압축하기"
   ]
  },
  {
   "cell_type": "code",
   "execution_count": null,
   "metadata": {},
   "outputs": [],
   "source": [
    "# 문자열을 입력받아 같은 문자가 연속적으로 반복되는 경우 그 반복 횟수를 표시하여 압축하기\n",
    "# 예) aaabbcccccca -> a3b2c6a1"
   ]
  },
  {
   "cell_type": "code",
   "execution_count": 24,
   "metadata": {},
   "outputs": [
    {
     "name": "stdout",
     "output_type": "stream",
     "text": [
      "a 3 bbcccccca\n"
     ]
    }
   ],
   "source": [
    "# 문자열의 첫 문자와 같은 문자가 몇 개 연속되는지 알아내기\n",
    "\n",
    "s = 'aaabbcccccca'\n",
    "\n",
    "assert len(s) > 0           # assert s\n",
    "for i in range(1, len(s)):\n",
    "    if s[i] != s[0]:\n",
    "        print(s[0], i, s[i:])\n",
    "        break"
   ]
  },
  {
   "cell_type": "code",
   "execution_count": 3,
   "metadata": {},
   "outputs": [
    {
     "data": {
      "text/plain": [
       "('a3', 'bbcccccca')"
      ]
     },
     "execution_count": 3,
     "metadata": {},
     "output_type": "execute_result"
    },
    {
     "data": {
      "text/plain": [
       "('a1', 'bbcccccca')"
      ]
     },
     "execution_count": 3,
     "metadata": {},
     "output_type": "execute_result"
    }
   ],
   "source": [
    "def str_split(s):\n",
    "    assert s            # len(s) != 0\n",
    "    \n",
    "    for i in range(1, len(s)):\n",
    "        if s[i] != s[0]:\n",
    "            return s[0] + str(i), s[i:]\n",
    "    \n",
    "    return s[0] + str(len(s)), ''\n",
    "\n",
    "\n",
    "str_split('aaabbcccccca')\n",
    "str_split('abbcccccca')"
   ]
  },
  {
   "cell_type": "code",
   "execution_count": 30,
   "metadata": {},
   "outputs": [
    {
     "data": {
      "text/plain": [
       "['a3', 'b2', 'c6', 'a1']"
      ]
     },
     "execution_count": 30,
     "metadata": {},
     "output_type": "execute_result"
    },
    {
     "data": {
      "text/plain": [
       "'a3b2c6a1'"
      ]
     },
     "execution_count": 30,
     "metadata": {},
     "output_type": "execute_result"
    }
   ],
   "source": [
    "s = 'aaabbcccccca'\n",
    "\n",
    "rs = []\n",
    "while s:\n",
    "    a, s = str_split(s)\n",
    "    rs.append(a)\n",
    "rs\n",
    "''.join(rs)"
   ]
  },
  {
   "cell_type": "code",
   "execution_count": 3,
   "metadata": {},
   "outputs": [
    {
     "data": {
      "text/plain": [
       "<zip at 0x1127c3c00>"
      ]
     },
     "execution_count": 3,
     "metadata": {},
     "output_type": "execute_result"
    },
    {
     "name": "stdout",
     "output_type": "stream",
     "text": [
      "('1', '2')\n",
      "('2', '3')\n",
      "('3', '4')\n",
      "('4', '5')\n",
      "('5', '6')\n",
      "('6', '7')\n",
      "('7', '8')\n",
      "('8', '9')\n"
     ]
    }
   ],
   "source": [
    "# zip 이용\n",
    "\n",
    "s = '123456789'\n",
    "zip(s, s[1:])           # generator\n",
    "\n",
    "for x in zip(s, s[1:]):\n",
    "    print(x)"
   ]
  },
  {
   "cell_type": "code",
   "execution_count": null,
   "metadata": {},
   "outputs": [
    {
     "data": {
      "text/plain": [
       "[('a', 'a'),\n",
       " ('a', 'a'),\n",
       " ('a', 'b'),\n",
       " ('b', 'b'),\n",
       " ('b', 'c'),\n",
       " ('c', 'c'),\n",
       " ('c', 'c'),\n",
       " ('c', 'c'),\n",
       " ('c', 'c'),\n",
       " ('c', 'c'),\n",
       " ('c', 'a')]"
      ]
     },
     "execution_count": 19,
     "metadata": {},
     "output_type": "execute_result"
    }
   ],
   "source": [
    "s =    'aaabbcccccca'\n",
    "#s[1:] 'aabbcccccca'\n",
    "list(zip(s, s[1:]))"
   ]
  },
  {
   "cell_type": "code",
   "execution_count": null,
   "metadata": {},
   "outputs": [
    {
     "data": {
      "text/plain": [
       "[('a', 'b'), ('b', 'c'), ('c', 'a')]"
      ]
     },
     "execution_count": 25,
     "metadata": {},
     "output_type": "execute_result"
    }
   ],
   "source": [
    "[(x,y) for x, y in zip(s, s[1:]) if x != y]"
   ]
  },
  {
   "cell_type": "code",
   "execution_count": 20,
   "metadata": {},
   "outputs": [
    {
     "data": {
      "text/plain": [
       "[(2, 'a'), (4, 'b'), (10, 'c')]"
      ]
     },
     "execution_count": 20,
     "metadata": {},
     "output_type": "execute_result"
    }
   ],
   "source": [
    "[(i, x) for i, (x, y) in enumerate(zip(s, s[1:])) if x != y]"
   ]
  },
  {
   "cell_type": "code",
   "execution_count": 21,
   "metadata": {},
   "outputs": [
    {
     "data": {
      "text/plain": [
       "[(2, 'a'), (4, 'b'), (10, 'c'), (11, 'a')]"
      ]
     },
     "execution_count": 21,
     "metadata": {},
     "output_type": "execute_result"
    }
   ],
   "source": [
    "from itertools import zip_longest\n",
    "\n",
    "[(i, x) for i, (x, y) in enumerate(zip_longest(s, s[1:])) if x != y]"
   ]
  },
  {
   "cell_type": "code",
   "execution_count": null,
   "metadata": {},
   "outputs": [
    {
     "data": {
      "text/plain": [
       "[(-1, ''), (2, 'a'), (4, 'b'), (10, 'c'), (11, 'a')]"
      ]
     },
     "execution_count": 23,
     "metadata": {},
     "output_type": "execute_result"
    },
    {
     "name": "stdout",
     "output_type": "stream",
     "text": [
      "a 3\n",
      "b 2\n",
      "c 6\n",
      "a 1\n"
     ]
    }
   ],
   "source": [
    "ss = [(i, x) for i, (x, y) in enumerate(zip_longest(s, s[1:])) if x != y]\n",
    "ss.insert(0, (-1, ''))\n",
    "ss\n",
    "\n",
    "for xx, yy in zip(ss, ss[1:]):\n",
    "    print(yy[1], yy[0]-xx[0])"
   ]
  },
  {
   "cell_type": "code",
   "execution_count": 24,
   "metadata": {},
   "outputs": [
    {
     "data": {
      "text/plain": [
       "'a3b2c6a1'"
      ]
     },
     "execution_count": 24,
     "metadata": {},
     "output_type": "execute_result"
    }
   ],
   "source": [
    "def str_compress(s):\n",
    "    ss = [(-1, '')] + [\n",
    "        (i, x) for i, (x, y) in enumerate(zip_longest(s, s[1:])) if x != y]\n",
    "    ss = [y[1] + str(y[0] - x[0]) for x, y in zip(ss, ss[1:])]\n",
    "    return ''.join(ss)\n",
    "\n",
    "str_compress(s)"
   ]
  },
  {
   "cell_type": "markdown",
   "metadata": {},
   "source": [
    "## spiral array"
   ]
  },
  {
   "cell_type": "code",
   "execution_count": null,
   "metadata": {},
   "outputs": [],
   "source": [
    "# 자연수 n에 대해 n by n 매트릭스에 나선형으로 회전하며 0부터 하나씩 증가하는 숫자를 출력하시오\n",
    "\n",
    "'''\n",
    "  0   1   2   3   4   5\n",
    " 19  20  21  22  23   6\n",
    " 18  31  32  33  24   7\n",
    " 17  30  35  34  25   8\n",
    " 16  29  28  27  26   9\n",
    " 15  14  13  12  11  10\n",
    "'''"
   ]
  },
  {
   "cell_type": "code",
   "execution_count": 29,
   "metadata": {},
   "outputs": [
    {
     "data": {
      "text/plain": [
       "[[-1, -1, -1, -1, -1, -1],\n",
       " [-1, -1, -1, -1, -1, -1],\n",
       " [-1, -1, -1, -1, -1, -1],\n",
       " [-1, -1, -1, -1, -1, -1],\n",
       " [-1, -1, -1, -1, -1, -1],\n",
       " [-1, -1, -1, -1, -1, -1]]"
      ]
     },
     "execution_count": 29,
     "metadata": {},
     "output_type": "execute_result"
    },
    {
     "data": {
      "text/plain": [
       "[[-1, -1, 0, -1, -1, -1],\n",
       " [-1, -1, 0, -1, -1, -1],\n",
       " [-1, -1, 0, -1, -1, -1],\n",
       " [-1, -1, 0, -1, -1, -1],\n",
       " [-1, -1, 0, -1, -1, -1],\n",
       " [-1, -1, 0, -1, -1, -1]]"
      ]
     },
     "execution_count": 29,
     "metadata": {},
     "output_type": "execute_result"
    }
   ],
   "source": [
    "n = 6\n",
    "\n",
    "mat = [[-1] * n] * n\n",
    "mat\n",
    "\n",
    "mat[2][2] = 0\n",
    "mat"
   ]
  },
  {
   "cell_type": "code",
   "execution_count": 32,
   "metadata": {},
   "outputs": [
    {
     "data": {
      "text/plain": [
       "[[-1, -1, -1, -1, -1, -1],\n",
       " [-1, -1, -1, -1, -1, -1],\n",
       " [-1, -1, -1, -1, -1, -1],\n",
       " [-1, -1, -1, -1, -1, -1],\n",
       " [-1, -1, -1, -1, -1, -1],\n",
       " [-1, -1, -1, -1, -1, -1]]"
      ]
     },
     "execution_count": 32,
     "metadata": {},
     "output_type": "execute_result"
    },
    {
     "data": {
      "text/plain": [
       "[[0, -1, -1, -1, -1, -1],\n",
       " [-1, -1, -1, -1, -1, -1],\n",
       " [-1, -1, -1, -1, -1, -1],\n",
       " [-1, -1, -1, -1, -1, -1],\n",
       " [-1, -1, -1, -1, -1, -1],\n",
       " [-1, -1, -1, -1, -1, -1]]"
      ]
     },
     "execution_count": 32,
     "metadata": {},
     "output_type": "execute_result"
    }
   ],
   "source": [
    "n = 6\n",
    "mat = [[-1 for _ in range(n)] for _ in range(n)]\n",
    "mat\n",
    "\n",
    "mat[0][0] = 0\n",
    "mat"
   ]
  },
  {
   "cell_type": "code",
   "execution_count": 25,
   "metadata": {},
   "outputs": [
    {
     "data": {
      "text/plain": [
       "[[-1, -1, -1, -1, -1, -1],\n",
       " [-1, -1, -1, -1, -1, -1],\n",
       " [-1, -1, -1, -1, -1, -1],\n",
       " [-1, -1, -1, -1, -1, -1],\n",
       " [-1, -1, -1, -1, -1, -1],\n",
       " [-1, -1, -1, -1, -1, -1]]"
      ]
     },
     "execution_count": 25,
     "metadata": {},
     "output_type": "execute_result"
    },
    {
     "data": {
      "text/plain": [
       "[[0, -1, -1, -1, -1, -1],\n",
       " [-1, -1, -1, -1, -1, -1],\n",
       " [-1, -1, -1, -1, -1, -1],\n",
       " [-1, -1, -1, -1, -1, -1],\n",
       " [-1, -1, -1, -1, -1, -1],\n",
       " [-1, -1, -1, -1, -1, -1]]"
      ]
     },
     "execution_count": 25,
     "metadata": {},
     "output_type": "execute_result"
    }
   ],
   "source": [
    "n = 6\n",
    "mat = [[-1] * n for _ in range(n)]\n",
    "mat\n",
    "\n",
    "mat[0][0] = 0\n",
    "mat"
   ]
  },
  {
   "cell_type": "code",
   "execution_count": null,
   "metadata": {},
   "outputs": [
    {
     "data": {
      "text/plain": [
       "[[0, 1, 2, 3, 4, 5],\n",
       " [19, 20, 21, 22, 23, 6],\n",
       " [18, 31, 32, 33, 24, 7],\n",
       " [17, 30, 35, 34, 25, 8],\n",
       " [16, 29, 28, 27, 26, 9],\n",
       " [15, 14, 13, 12, 11, 10]]"
      ]
     },
     "execution_count": 26,
     "metadata": {},
     "output_type": "execute_result"
    }
   ],
   "source": [
    "n = 6\n",
    "mat = [[-1] * n for _ in range(n)]\n",
    "\n",
    "r, c, k = 0, 0, 0\n",
    "dr, dc = 0, 1\n",
    "\n",
    "while k < n * n:\n",
    "    mat[r][c] = k\n",
    "    k += 1\n",
    "\n",
    "    if not (0 <= r + dr < n) or not (0 <= c + dc < n) or mat[r+dr][c+dc] != -1:\n",
    "        if dc:\n",
    "            dc, dr = 0, dc\n",
    "        else:                       # if dr:\n",
    "            dr, dc = 0, -dr\n",
    "    r += dr\n",
    "    c += dc\n",
    "mat"
   ]
  },
  {
   "cell_type": "code",
   "execution_count": 2,
   "metadata": {},
   "outputs": [
    {
     "data": {
      "text/plain": [
       "[[0, 1, 2, 3, 4],\n",
       " [15, 16, 17, 18, 5],\n",
       " [14, 23, 24, 19, 6],\n",
       " [13, 22, 21, 20, 7],\n",
       " [12, 11, 10, 9, 8]]"
      ]
     },
     "execution_count": 2,
     "metadata": {},
     "output_type": "execute_result"
    }
   ],
   "source": [
    "def spiral_mat(n):\n",
    "    mat = [[-1] * n for _ in range(n)]\n",
    "\n",
    "    r, c, k = 0, 0, 0\n",
    "    dr, dc = 0, 1\n",
    "\n",
    "    while k < n * n:\n",
    "        mat[r][c] = k\n",
    "        k += 1\n",
    "\n",
    "        if not (0 <= r + dr < n) or not (0 <= c + dc < n) or mat[r+dr][c+dc] != -1:\n",
    "            if dc:\n",
    "                dc, dr = 0, dc\n",
    "            else:                   # if dr\n",
    "                dr, dc = 0, -dr\n",
    "        r += dr\n",
    "        c += dc\n",
    "    return mat\n",
    "\n",
    "\n",
    "spiral_mat(5)"
   ]
  },
  {
   "cell_type": "code",
   "execution_count": 34,
   "metadata": {},
   "outputs": [
    {
     "name": "stdout",
     "output_type": "stream",
     "text": [
      "  0   1   2   3   4   5   6   7   8   9  10  11  12  13  14  15  16  17  18  19 \n",
      " 75  76  77  78  79  80  81  82  83  84  85  86  87  88  89  90  91  92  93  20 \n",
      " 74 143 144 145 146 147 148 149 150 151 152 153 154 155 156 157 158 159  94  21 \n",
      " 73 142 203 204 205 206 207 208 209 210 211 212 213 214 215 216 217 160  95  22 \n",
      " 72 141 202 255 256 257 258 259 260 261 262 263 264 265 266 267 218 161  96  23 \n",
      " 71 140 201 254 299 300 301 302 303 304 305 306 307 308 309 268 219 162  97  24 \n",
      " 70 139 200 253 298 335 336 337 338 339 340 341 342 343 310 269 220 163  98  25 \n",
      " 69 138 199 252 297 334 363 364 365 366 367 368 369 344 311 270 221 164  99  26 \n",
      " 68 137 198 251 296 333 362 383 384 385 386 387 370 345 312 271 222 165 100  27 \n",
      " 67 136 197 250 295 332 361 382 395 396 397 388 371 346 313 272 223 166 101  28 \n",
      " 66 135 196 249 294 331 360 381 394 399 398 389 372 347 314 273 224 167 102  29 \n",
      " 65 134 195 248 293 330 359 380 393 392 391 390 373 348 315 274 225 168 103  30 \n",
      " 64 133 194 247 292 329 358 379 378 377 376 375 374 349 316 275 226 169 104  31 \n",
      " 63 132 193 246 291 328 357 356 355 354 353 352 351 350 317 276 227 170 105  32 \n",
      " 62 131 192 245 290 327 326 325 324 323 322 321 320 319 318 277 228 171 106  33 \n",
      " 61 130 191 244 289 288 287 286 285 284 283 282 281 280 279 278 229 172 107  34 \n",
      " 60 129 190 243 242 241 240 239 238 237 236 235 234 233 232 231 230 173 108  35 \n",
      " 59 128 189 188 187 186 185 184 183 182 181 180 179 178 177 176 175 174 109  36 \n",
      " 58 127 126 125 124 123 122 121 120 119 118 117 116 115 114 113 112 111 110  37 \n",
      " 57  56  55  54  53  52  51  50  49  48  47  46  45  44  43  42  41  40  39  38 \n"
     ]
    }
   ],
   "source": [
    "def print_mat(mat):\n",
    "    # maxnum = -1\n",
    "    # for row in mat:\n",
    "    #     tmp = max(row)\n",
    "    #     if tmp > maxnum:      # maxnum = max(tmp, maxnum)\n",
    "    #         maxnum = tmp\n",
    "\n",
    "    maxnum = max(max(row) for row in mat)       # max(iterable)\n",
    "    l = len(str(maxnum))\n",
    "\n",
    "    for row in mat:\n",
    "        for m in row:\n",
    "            print(f\"{m:{l}}\", end=' ')          # 변수 l in format specifier\n",
    "        print()\n",
    "\n",
    "\n",
    "mat = spiral_mat(20)\n",
    "print_mat(mat)"
   ]
  },
  {
   "cell_type": "code",
   "execution_count": null,
   "metadata": {},
   "outputs": [
    {
     "data": {
      "text/plain": [
       "{1, 2, 3}"
      ]
     },
     "execution_count": 13,
     "metadata": {},
     "output_type": "execute_result"
    },
    {
     "data": {
      "text/plain": [
       "3"
      ]
     },
     "execution_count": 13,
     "metadata": {},
     "output_type": "execute_result"
    }
   ],
   "source": [
    "## 자리수 max를 구하기 위해 꼭 최대값을 구할 필요는 없음\n",
    "\n",
    "ls = {len(str(m)) for row in mat for m in row}      # set-comprehension\n",
    "# ls = {max(map(len, map(str, row))) for row in mat}  # map(callable, iterable)\n",
    "\n",
    "ls\n",
    "max(ls)"
   ]
  },
  {
   "cell_type": "code",
   "execution_count": 8,
   "metadata": {},
   "outputs": [
    {
     "name": "stdout",
     "output_type": "stream",
     "text": [
      "  0   1   2   3   4   5   6   7   8   9  10  11  12  13  14  15  16  17  18  19 \n",
      " 55  56  57  58  59  60  61  62  63  64  65  66  67  68  69  70  71  72  73  20 \n",
      " 54 103 104 105 106 107 108 109 110 111 112 113 114 115 116 117 118 119  74  21 \n",
      " 53 102 143 144 145 146 147 148 149 150 151 152 153 154 155 156 157 120  75  22 \n",
      " 52 101 142 175 176 177 178 179 180 181 182 183 184 185 186 187 158 121  76  23 \n",
      " 51 100 141 174 199 198 197 196 195 194 193 192 191 190 189 188 159 122  77  24 \n",
      " 50  99 140 173 172 171 170 169 168 167 166 165 164 163 162 161 160 123  78  25 \n",
      " 49  98 139 138 137 136 135 134 133 132 131 130 129 128 127 126 125 124  79  26 \n",
      " 48  97  96  95  94  93  92  91  90  89  88  87  86  85  84  83  82  81  80  27 \n",
      " 47  46  45  44  43  42  41  40  39  38  37  36  35  34  33  32  31  30  29  28 \n"
     ]
    }
   ],
   "source": [
    "def spiral_mat(m, n=None):      # m행, n열\n",
    "    if n is None:\n",
    "        n = m\n",
    "    mat = [[-1] * n for _ in range(m)]\n",
    "\n",
    "    r, c, k = 0, 0, 0\n",
    "    dr, dc = 0, 1\n",
    "\n",
    "    while k < n * m:\n",
    "        mat[r][c] = k\n",
    "        k += 1\n",
    "\n",
    "        if not (0 <= r + dr < m) or not (0 <= c + dc < n) or mat[r+dr][c+dc] != -1:\n",
    "            if dc:\n",
    "                dc, dr = 0, dc\n",
    "            else:                   # if dr\n",
    "                dr, dc = 0, -dr\n",
    "        r += dr\n",
    "        c += dc\n",
    "    return mat\n",
    "\n",
    "\n",
    "def print_spiral_mat(m, n=None):\n",
    "    if n is None:\n",
    "        n = m\n",
    "    mat = spiral_mat(m, n)\n",
    "    l = len(str(m * n - 1))\n",
    "    for row in mat:\n",
    "        for k in row:\n",
    "            print(f\"{k:{l}}\", end=' ')          # 변수 l in format specifier\n",
    "        print()\n",
    "\n",
    "\n",
    "print_spiral_mat(10, 20)"
   ]
  },
  {
   "cell_type": "markdown",
   "metadata": {},
   "source": [
    "## 지뢰찾기"
   ]
  },
  {
   "cell_type": "code",
   "execution_count": null,
   "metadata": {},
   "outputs": [],
   "source": [
    "# 행 수 r, 열 수 c가 주어지면 r * c 매트릭스 내 지뢰를 랜덤하게 배치/생성하고 인접 cell(최대 8개)의 지뢰 개수를 표시해보세요.\n",
    "# 지뢰 생성 확율은 임의(예: 0.2)\n",
    "\n",
    "'''\n",
    "예) 3, 5\n",
    "**...\n",
    ".....\n",
    ".*...\n",
    "\n",
    "**100\n",
    "33200\n",
    "1*100\n",
    "'''"
   ]
  },
  {
   "cell_type": "code",
   "execution_count": null,
   "metadata": {},
   "outputs": [
    {
     "name": "stdout",
     "output_type": "stream",
     "text": [
      "\n",
      "*.......*...\n",
      "....*.......\n",
      "*........*..\n",
      "*.......*..*\n",
      "...*..*...*.\n"
     ]
    },
    {
     "data": {
      "text/plain": [
       "[['*', '.', '.', '.', '.', '.', '.', '.', '*', '.', '.', '.'],\n",
       " ['.', '.', '.', '.', '*', '.', '.', '.', '.', '.', '.', '.'],\n",
       " ['*', '.', '.', '.', '.', '.', '.', '.', '.', '*', '.', '.'],\n",
       " ['*', '.', '.', '.', '.', '.', '.', '.', '*', '.', '.', '*'],\n",
       " ['.', '.', '.', '*', '.', '.', '*', '.', '.', '.', '*', '.']]"
      ]
     },
     "execution_count": 12,
     "metadata": {},
     "output_type": "execute_result"
    }
   ],
   "source": [
    "import random\n",
    "\n",
    "\n",
    "def print_mat(mat):\n",
    "    print()\n",
    "    rows = (''.join(row) for row in mat)\n",
    "    print('\\n'.join(rows))\n",
    "\n",
    "\n",
    "def gen_mine(r, c, prob=.2):\n",
    "    assert r >= 1 and c >= 1 and isinstance(r, int) and isinstance(c, int)\n",
    "    mat = [['*' if random.random() < prob else '.' for _ in range(c)] \n",
    "           for _ in range(r)]\n",
    "    print_mat(mat)\n",
    "    return mat\n",
    "\n",
    "gen_mine(5, 12)"
   ]
  },
  {
   "cell_type": "code",
   "execution_count": null,
   "metadata": {},
   "outputs": [
    {
     "name": "stdout",
     "output_type": "stream",
     "text": [
      "\n",
      "..*..*....*.\n",
      ".*..........\n",
      ".*......*...\n",
      "**.*.*...**.\n",
      "....*.*....*\n",
      "\n",
      "12*11*1001*1\n",
      "2*3111111211\n",
      "4*412111*321\n",
      "**3*3*222**2\n",
      "2222*3*1123*\n"
     ]
    }
   ],
   "source": [
    "def solve_mine(mat):                        # '.' 나올때마다 주변 cell의 '*'개수 세기 \n",
    "    r = len(mat)\n",
    "    c = len(mat[0])\n",
    "    result = [['*'] * c for _ in range(r)]\n",
    "    for r0, row in enumerate(mat):\n",
    "        for c0, cell in enumerate(row):\n",
    "            if cell == '*':\n",
    "                continue\n",
    "            nbrs = [\n",
    "                mat[r0+dr][c0+dc] for dr in (-1,0,1) for dc in (-1,0,1)\n",
    "                if 0<=r0+dr<r and 0<=c0+dc<c                            # and (dr,dc) != (0,0)\n",
    "            ]\n",
    "            cnt = nbrs.count('*')       # nbrs = [mat[r0+dr][c0+dc] == '*'...]; cnt=sum(nbrs)\n",
    "            result[r0][c0] = str(cnt)\n",
    "    print_mat(result)\n",
    "\n",
    "\n",
    "mat = gen_mine(5, 12)\n",
    "solve_mine(mat)"
   ]
  },
  {
   "cell_type": "code",
   "execution_count": 15,
   "metadata": {},
   "outputs": [
    {
     "name": "stdout",
     "output_type": "stream",
     "text": [
      "\n",
      "....**......\n",
      "*..*..*...*.\n",
      "**..........\n",
      "....*..*...*\n",
      "*....*....*.\n",
      "\n",
      "1112**210111\n",
      "*32*33*101*1\n",
      "**2222221122\n",
      "3311*22*112*\n",
      "*1012*2111*2\n",
      "\n",
      "1112**210111\n",
      "*32*33*101*1\n",
      "**2222221122\n",
      "3311*22*112*\n",
      "*1012*2111*2\n"
     ]
    }
   ],
   "source": [
    "def solve_mine2(mat):                   # '*' 나올때마다 주변 cell에 카운트 하나씩 증가\n",
    "    r = len(mat)\n",
    "    c = len(mat[0])\n",
    "    result = [[0] * c for _ in range(r)]\n",
    "    for r0, row in enumerate(mat):\n",
    "        for c0, cell in enumerate(row):\n",
    "            if cell != '*':\n",
    "                continue\n",
    "            result[r0][c0] = '*'\n",
    "            for dr in (-1,0,1):\n",
    "                for dc in (-1,0,1):\n",
    "                    if 0<=r0+dr<r and 0<=c0+dc<c and mat[r0+dr][c0+dc]!='*':\n",
    "                        result[r0+dr][c0+dc] += 1\n",
    "    \n",
    "    # result2 = (map(str, row) for row in result)\n",
    "    result2 = [[cell if cell == '*' else str(cell) for cell in row] for row in result]\n",
    "    print_mat(result2)\n",
    "\n",
    "\n",
    "mat = gen_mine(5, 12)\n",
    "solve_mine(mat)\n",
    "solve_mine2(mat)"
   ]
  },
  {
   "cell_type": "code",
   "execution_count": null,
   "metadata": {},
   "outputs": [],
   "source": []
  }
 ],
 "metadata": {
  "colab": {
   "provenance": [],
   "toc_visible": true
  },
  "kernelspec": {
   "display_name": "py311",
   "language": "python",
   "name": "python3"
  },
  "language_info": {
   "codemirror_mode": {
    "name": "ipython",
    "version": 3
   },
   "file_extension": ".py",
   "mimetype": "text/x-python",
   "name": "python",
   "nbconvert_exporter": "python",
   "pygments_lexer": "ipython3",
   "version": "3.11.11"
  }
 },
 "nbformat": 4,
 "nbformat_minor": 0
}
